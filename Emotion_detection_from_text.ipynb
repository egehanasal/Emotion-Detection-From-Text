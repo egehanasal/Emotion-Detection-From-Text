{
  "nbformat": 4,
  "nbformat_minor": 0,
  "metadata": {
    "colab": {
      "name": "Emotion_detection_from_text.ipynb",
      "provenance": [],
      "collapsed_sections": []
    },
    "kernelspec": {
      "name": "python3",
      "display_name": "Python 3"
    },
    "language_info": {
      "name": "python"
    },
    "accelerator": "GPU",
    "widgets": {
      "application/vnd.jupyter.widget-state+json": {
        "6ed6a5449fbc4a07963b82c881f49b12": {
          "model_module": "@jupyter-widgets/controls",
          "model_name": "HBoxModel",
          "model_module_version": "1.5.0",
          "state": {
            "_view_name": "HBoxView",
            "_dom_classes": [],
            "_model_name": "HBoxModel",
            "_view_module": "@jupyter-widgets/controls",
            "_model_module_version": "1.5.0",
            "_view_count": null,
            "_view_module_version": "1.5.0",
            "box_style": "",
            "layout": "IPY_MODEL_0ba9e11c450a4275bda6b466703d8267",
            "_model_module": "@jupyter-widgets/controls",
            "children": [
              "IPY_MODEL_0e0ee1386852416b926dd6a19d203984",
              "IPY_MODEL_f606b12a23fc4edab0fac82620faae06",
              "IPY_MODEL_5c7353ee9914498abb2de75fa0b1d5ef"
            ]
          }
        },
        "0ba9e11c450a4275bda6b466703d8267": {
          "model_module": "@jupyter-widgets/base",
          "model_name": "LayoutModel",
          "model_module_version": "1.2.0",
          "state": {
            "_view_name": "LayoutView",
            "grid_template_rows": null,
            "right": null,
            "justify_content": null,
            "_view_module": "@jupyter-widgets/base",
            "overflow": null,
            "_model_module_version": "1.2.0",
            "_view_count": null,
            "flex_flow": null,
            "width": null,
            "min_width": null,
            "border": null,
            "align_items": null,
            "bottom": null,
            "_model_module": "@jupyter-widgets/base",
            "top": null,
            "grid_column": null,
            "overflow_y": null,
            "overflow_x": null,
            "grid_auto_flow": null,
            "grid_area": null,
            "grid_template_columns": null,
            "flex": null,
            "_model_name": "LayoutModel",
            "justify_items": null,
            "grid_row": null,
            "max_height": null,
            "align_content": null,
            "visibility": null,
            "align_self": null,
            "height": null,
            "min_height": null,
            "padding": null,
            "grid_auto_rows": null,
            "grid_gap": null,
            "max_width": null,
            "order": null,
            "_view_module_version": "1.2.0",
            "grid_template_areas": null,
            "object_position": null,
            "object_fit": null,
            "grid_auto_columns": null,
            "margin": null,
            "display": null,
            "left": null
          }
        },
        "0e0ee1386852416b926dd6a19d203984": {
          "model_module": "@jupyter-widgets/controls",
          "model_name": "HTMLModel",
          "model_module_version": "1.5.0",
          "state": {
            "_view_name": "HTMLView",
            "style": "IPY_MODEL_7d5ba5533c904d32b57eeabeadb12f6b",
            "_dom_classes": [],
            "description": "",
            "_model_name": "HTMLModel",
            "placeholder": "​",
            "_view_module": "@jupyter-widgets/controls",
            "_model_module_version": "1.5.0",
            "value": "Downloading: ",
            "_view_count": null,
            "_view_module_version": "1.5.0",
            "description_tooltip": null,
            "_model_module": "@jupyter-widgets/controls",
            "layout": "IPY_MODEL_8d59fe06ed944bf5b224b4b8442dcc92"
          }
        },
        "f606b12a23fc4edab0fac82620faae06": {
          "model_module": "@jupyter-widgets/controls",
          "model_name": "FloatProgressModel",
          "model_module_version": "1.5.0",
          "state": {
            "_view_name": "ProgressView",
            "style": "IPY_MODEL_600fabd2561a45cdbd696b5dd22aa49a",
            "_dom_classes": [],
            "description": "",
            "_model_name": "FloatProgressModel",
            "bar_style": "success",
            "max": 1655,
            "_view_module": "@jupyter-widgets/controls",
            "_model_module_version": "1.5.0",
            "value": 1655,
            "_view_count": null,
            "_view_module_version": "1.5.0",
            "orientation": "horizontal",
            "min": 0,
            "description_tooltip": null,
            "_model_module": "@jupyter-widgets/controls",
            "layout": "IPY_MODEL_283a97830663436a868aa64c1e7df2bc"
          }
        },
        "5c7353ee9914498abb2de75fa0b1d5ef": {
          "model_module": "@jupyter-widgets/controls",
          "model_name": "HTMLModel",
          "model_module_version": "1.5.0",
          "state": {
            "_view_name": "HTMLView",
            "style": "IPY_MODEL_b30e9c7b07a3437b8369547326d50c64",
            "_dom_classes": [],
            "description": "",
            "_model_name": "HTMLModel",
            "placeholder": "​",
            "_view_module": "@jupyter-widgets/controls",
            "_model_module_version": "1.5.0",
            "value": " 3.62k/? [00:00&lt;00:00, 65.1kB/s]",
            "_view_count": null,
            "_view_module_version": "1.5.0",
            "description_tooltip": null,
            "_model_module": "@jupyter-widgets/controls",
            "layout": "IPY_MODEL_bd3dff6d099046a58cf7025d712dfb4f"
          }
        },
        "7d5ba5533c904d32b57eeabeadb12f6b": {
          "model_module": "@jupyter-widgets/controls",
          "model_name": "DescriptionStyleModel",
          "model_module_version": "1.5.0",
          "state": {
            "_view_name": "StyleView",
            "_model_name": "DescriptionStyleModel",
            "description_width": "",
            "_view_module": "@jupyter-widgets/base",
            "_model_module_version": "1.5.0",
            "_view_count": null,
            "_view_module_version": "1.2.0",
            "_model_module": "@jupyter-widgets/controls"
          }
        },
        "8d59fe06ed944bf5b224b4b8442dcc92": {
          "model_module": "@jupyter-widgets/base",
          "model_name": "LayoutModel",
          "model_module_version": "1.2.0",
          "state": {
            "_view_name": "LayoutView",
            "grid_template_rows": null,
            "right": null,
            "justify_content": null,
            "_view_module": "@jupyter-widgets/base",
            "overflow": null,
            "_model_module_version": "1.2.0",
            "_view_count": null,
            "flex_flow": null,
            "width": null,
            "min_width": null,
            "border": null,
            "align_items": null,
            "bottom": null,
            "_model_module": "@jupyter-widgets/base",
            "top": null,
            "grid_column": null,
            "overflow_y": null,
            "overflow_x": null,
            "grid_auto_flow": null,
            "grid_area": null,
            "grid_template_columns": null,
            "flex": null,
            "_model_name": "LayoutModel",
            "justify_items": null,
            "grid_row": null,
            "max_height": null,
            "align_content": null,
            "visibility": null,
            "align_self": null,
            "height": null,
            "min_height": null,
            "padding": null,
            "grid_auto_rows": null,
            "grid_gap": null,
            "max_width": null,
            "order": null,
            "_view_module_version": "1.2.0",
            "grid_template_areas": null,
            "object_position": null,
            "object_fit": null,
            "grid_auto_columns": null,
            "margin": null,
            "display": null,
            "left": null
          }
        },
        "600fabd2561a45cdbd696b5dd22aa49a": {
          "model_module": "@jupyter-widgets/controls",
          "model_name": "ProgressStyleModel",
          "model_module_version": "1.5.0",
          "state": {
            "_view_name": "StyleView",
            "_model_name": "ProgressStyleModel",
            "description_width": "",
            "_view_module": "@jupyter-widgets/base",
            "_model_module_version": "1.5.0",
            "_view_count": null,
            "_view_module_version": "1.2.0",
            "bar_color": null,
            "_model_module": "@jupyter-widgets/controls"
          }
        },
        "283a97830663436a868aa64c1e7df2bc": {
          "model_module": "@jupyter-widgets/base",
          "model_name": "LayoutModel",
          "model_module_version": "1.2.0",
          "state": {
            "_view_name": "LayoutView",
            "grid_template_rows": null,
            "right": null,
            "justify_content": null,
            "_view_module": "@jupyter-widgets/base",
            "overflow": null,
            "_model_module_version": "1.2.0",
            "_view_count": null,
            "flex_flow": null,
            "width": null,
            "min_width": null,
            "border": null,
            "align_items": null,
            "bottom": null,
            "_model_module": "@jupyter-widgets/base",
            "top": null,
            "grid_column": null,
            "overflow_y": null,
            "overflow_x": null,
            "grid_auto_flow": null,
            "grid_area": null,
            "grid_template_columns": null,
            "flex": null,
            "_model_name": "LayoutModel",
            "justify_items": null,
            "grid_row": null,
            "max_height": null,
            "align_content": null,
            "visibility": null,
            "align_self": null,
            "height": null,
            "min_height": null,
            "padding": null,
            "grid_auto_rows": null,
            "grid_gap": null,
            "max_width": null,
            "order": null,
            "_view_module_version": "1.2.0",
            "grid_template_areas": null,
            "object_position": null,
            "object_fit": null,
            "grid_auto_columns": null,
            "margin": null,
            "display": null,
            "left": null
          }
        },
        "b30e9c7b07a3437b8369547326d50c64": {
          "model_module": "@jupyter-widgets/controls",
          "model_name": "DescriptionStyleModel",
          "model_module_version": "1.5.0",
          "state": {
            "_view_name": "StyleView",
            "_model_name": "DescriptionStyleModel",
            "description_width": "",
            "_view_module": "@jupyter-widgets/base",
            "_model_module_version": "1.5.0",
            "_view_count": null,
            "_view_module_version": "1.2.0",
            "_model_module": "@jupyter-widgets/controls"
          }
        },
        "bd3dff6d099046a58cf7025d712dfb4f": {
          "model_module": "@jupyter-widgets/base",
          "model_name": "LayoutModel",
          "model_module_version": "1.2.0",
          "state": {
            "_view_name": "LayoutView",
            "grid_template_rows": null,
            "right": null,
            "justify_content": null,
            "_view_module": "@jupyter-widgets/base",
            "overflow": null,
            "_model_module_version": "1.2.0",
            "_view_count": null,
            "flex_flow": null,
            "width": null,
            "min_width": null,
            "border": null,
            "align_items": null,
            "bottom": null,
            "_model_module": "@jupyter-widgets/base",
            "top": null,
            "grid_column": null,
            "overflow_y": null,
            "overflow_x": null,
            "grid_auto_flow": null,
            "grid_area": null,
            "grid_template_columns": null,
            "flex": null,
            "_model_name": "LayoutModel",
            "justify_items": null,
            "grid_row": null,
            "max_height": null,
            "align_content": null,
            "visibility": null,
            "align_self": null,
            "height": null,
            "min_height": null,
            "padding": null,
            "grid_auto_rows": null,
            "grid_gap": null,
            "max_width": null,
            "order": null,
            "_view_module_version": "1.2.0",
            "grid_template_areas": null,
            "object_position": null,
            "object_fit": null,
            "grid_auto_columns": null,
            "margin": null,
            "display": null,
            "left": null
          }
        },
        "9d172d9eb947485c9b8a50d837fe283d": {
          "model_module": "@jupyter-widgets/controls",
          "model_name": "HBoxModel",
          "model_module_version": "1.5.0",
          "state": {
            "_view_name": "HBoxView",
            "_dom_classes": [],
            "_model_name": "HBoxModel",
            "_view_module": "@jupyter-widgets/controls",
            "_model_module_version": "1.5.0",
            "_view_count": null,
            "_view_module_version": "1.5.0",
            "box_style": "",
            "layout": "IPY_MODEL_790f22f8407f4c64a08f5d361bea2ac0",
            "_model_module": "@jupyter-widgets/controls",
            "children": [
              "IPY_MODEL_8edf4f5d6a8f4a748fab3cf123a728cc",
              "IPY_MODEL_4fef56a8ba8a4149a79b9509295848d7",
              "IPY_MODEL_950a96d5b72e42048490f4a94ad0a7c6"
            ]
          }
        },
        "790f22f8407f4c64a08f5d361bea2ac0": {
          "model_module": "@jupyter-widgets/base",
          "model_name": "LayoutModel",
          "model_module_version": "1.2.0",
          "state": {
            "_view_name": "LayoutView",
            "grid_template_rows": null,
            "right": null,
            "justify_content": null,
            "_view_module": "@jupyter-widgets/base",
            "overflow": null,
            "_model_module_version": "1.2.0",
            "_view_count": null,
            "flex_flow": null,
            "width": null,
            "min_width": null,
            "border": null,
            "align_items": null,
            "bottom": null,
            "_model_module": "@jupyter-widgets/base",
            "top": null,
            "grid_column": null,
            "overflow_y": null,
            "overflow_x": null,
            "grid_auto_flow": null,
            "grid_area": null,
            "grid_template_columns": null,
            "flex": null,
            "_model_name": "LayoutModel",
            "justify_items": null,
            "grid_row": null,
            "max_height": null,
            "align_content": null,
            "visibility": null,
            "align_self": null,
            "height": null,
            "min_height": null,
            "padding": null,
            "grid_auto_rows": null,
            "grid_gap": null,
            "max_width": null,
            "order": null,
            "_view_module_version": "1.2.0",
            "grid_template_areas": null,
            "object_position": null,
            "object_fit": null,
            "grid_auto_columns": null,
            "margin": null,
            "display": null,
            "left": null
          }
        },
        "8edf4f5d6a8f4a748fab3cf123a728cc": {
          "model_module": "@jupyter-widgets/controls",
          "model_name": "HTMLModel",
          "model_module_version": "1.5.0",
          "state": {
            "_view_name": "HTMLView",
            "style": "IPY_MODEL_8a80d18d945b497ea3b88b69d125d4dd",
            "_dom_classes": [],
            "description": "",
            "_model_name": "HTMLModel",
            "placeholder": "​",
            "_view_module": "@jupyter-widgets/controls",
            "_model_module_version": "1.5.0",
            "value": "Downloading: ",
            "_view_count": null,
            "_view_module_version": "1.5.0",
            "description_tooltip": null,
            "_model_module": "@jupyter-widgets/controls",
            "layout": "IPY_MODEL_0c81ad13f47445fe94c67db4e0da9dd9"
          }
        },
        "4fef56a8ba8a4149a79b9509295848d7": {
          "model_module": "@jupyter-widgets/controls",
          "model_name": "FloatProgressModel",
          "model_module_version": "1.5.0",
          "state": {
            "_view_name": "ProgressView",
            "style": "IPY_MODEL_bbfe73a6e65b41b8933864031ade149e",
            "_dom_classes": [],
            "description": "",
            "_model_name": "FloatProgressModel",
            "bar_style": "success",
            "max": 1611,
            "_view_module": "@jupyter-widgets/controls",
            "_model_module_version": "1.5.0",
            "value": 1611,
            "_view_count": null,
            "_view_module_version": "1.5.0",
            "orientation": "horizontal",
            "min": 0,
            "description_tooltip": null,
            "_model_module": "@jupyter-widgets/controls",
            "layout": "IPY_MODEL_1fa3fe2e8c5f48afa747bc3e78a6085c"
          }
        },
        "950a96d5b72e42048490f4a94ad0a7c6": {
          "model_module": "@jupyter-widgets/controls",
          "model_name": "HTMLModel",
          "model_module_version": "1.5.0",
          "state": {
            "_view_name": "HTMLView",
            "style": "IPY_MODEL_7c030b6a39724414883235c13798455a",
            "_dom_classes": [],
            "description": "",
            "_model_name": "HTMLModel",
            "placeholder": "​",
            "_view_module": "@jupyter-widgets/controls",
            "_model_module_version": "1.5.0",
            "value": " 3.28k/? [00:00&lt;00:00, 92.3kB/s]",
            "_view_count": null,
            "_view_module_version": "1.5.0",
            "description_tooltip": null,
            "_model_module": "@jupyter-widgets/controls",
            "layout": "IPY_MODEL_ba73e6246be54dbb868814ee96ec41c8"
          }
        },
        "8a80d18d945b497ea3b88b69d125d4dd": {
          "model_module": "@jupyter-widgets/controls",
          "model_name": "DescriptionStyleModel",
          "model_module_version": "1.5.0",
          "state": {
            "_view_name": "StyleView",
            "_model_name": "DescriptionStyleModel",
            "description_width": "",
            "_view_module": "@jupyter-widgets/base",
            "_model_module_version": "1.5.0",
            "_view_count": null,
            "_view_module_version": "1.2.0",
            "_model_module": "@jupyter-widgets/controls"
          }
        },
        "0c81ad13f47445fe94c67db4e0da9dd9": {
          "model_module": "@jupyter-widgets/base",
          "model_name": "LayoutModel",
          "model_module_version": "1.2.0",
          "state": {
            "_view_name": "LayoutView",
            "grid_template_rows": null,
            "right": null,
            "justify_content": null,
            "_view_module": "@jupyter-widgets/base",
            "overflow": null,
            "_model_module_version": "1.2.0",
            "_view_count": null,
            "flex_flow": null,
            "width": null,
            "min_width": null,
            "border": null,
            "align_items": null,
            "bottom": null,
            "_model_module": "@jupyter-widgets/base",
            "top": null,
            "grid_column": null,
            "overflow_y": null,
            "overflow_x": null,
            "grid_auto_flow": null,
            "grid_area": null,
            "grid_template_columns": null,
            "flex": null,
            "_model_name": "LayoutModel",
            "justify_items": null,
            "grid_row": null,
            "max_height": null,
            "align_content": null,
            "visibility": null,
            "align_self": null,
            "height": null,
            "min_height": null,
            "padding": null,
            "grid_auto_rows": null,
            "grid_gap": null,
            "max_width": null,
            "order": null,
            "_view_module_version": "1.2.0",
            "grid_template_areas": null,
            "object_position": null,
            "object_fit": null,
            "grid_auto_columns": null,
            "margin": null,
            "display": null,
            "left": null
          }
        },
        "bbfe73a6e65b41b8933864031ade149e": {
          "model_module": "@jupyter-widgets/controls",
          "model_name": "ProgressStyleModel",
          "model_module_version": "1.5.0",
          "state": {
            "_view_name": "StyleView",
            "_model_name": "ProgressStyleModel",
            "description_width": "",
            "_view_module": "@jupyter-widgets/base",
            "_model_module_version": "1.5.0",
            "_view_count": null,
            "_view_module_version": "1.2.0",
            "bar_color": null,
            "_model_module": "@jupyter-widgets/controls"
          }
        },
        "1fa3fe2e8c5f48afa747bc3e78a6085c": {
          "model_module": "@jupyter-widgets/base",
          "model_name": "LayoutModel",
          "model_module_version": "1.2.0",
          "state": {
            "_view_name": "LayoutView",
            "grid_template_rows": null,
            "right": null,
            "justify_content": null,
            "_view_module": "@jupyter-widgets/base",
            "overflow": null,
            "_model_module_version": "1.2.0",
            "_view_count": null,
            "flex_flow": null,
            "width": null,
            "min_width": null,
            "border": null,
            "align_items": null,
            "bottom": null,
            "_model_module": "@jupyter-widgets/base",
            "top": null,
            "grid_column": null,
            "overflow_y": null,
            "overflow_x": null,
            "grid_auto_flow": null,
            "grid_area": null,
            "grid_template_columns": null,
            "flex": null,
            "_model_name": "LayoutModel",
            "justify_items": null,
            "grid_row": null,
            "max_height": null,
            "align_content": null,
            "visibility": null,
            "align_self": null,
            "height": null,
            "min_height": null,
            "padding": null,
            "grid_auto_rows": null,
            "grid_gap": null,
            "max_width": null,
            "order": null,
            "_view_module_version": "1.2.0",
            "grid_template_areas": null,
            "object_position": null,
            "object_fit": null,
            "grid_auto_columns": null,
            "margin": null,
            "display": null,
            "left": null
          }
        },
        "7c030b6a39724414883235c13798455a": {
          "model_module": "@jupyter-widgets/controls",
          "model_name": "DescriptionStyleModel",
          "model_module_version": "1.5.0",
          "state": {
            "_view_name": "StyleView",
            "_model_name": "DescriptionStyleModel",
            "description_width": "",
            "_view_module": "@jupyter-widgets/base",
            "_model_module_version": "1.5.0",
            "_view_count": null,
            "_view_module_version": "1.2.0",
            "_model_module": "@jupyter-widgets/controls"
          }
        },
        "ba73e6246be54dbb868814ee96ec41c8": {
          "model_module": "@jupyter-widgets/base",
          "model_name": "LayoutModel",
          "model_module_version": "1.2.0",
          "state": {
            "_view_name": "LayoutView",
            "grid_template_rows": null,
            "right": null,
            "justify_content": null,
            "_view_module": "@jupyter-widgets/base",
            "overflow": null,
            "_model_module_version": "1.2.0",
            "_view_count": null,
            "flex_flow": null,
            "width": null,
            "min_width": null,
            "border": null,
            "align_items": null,
            "bottom": null,
            "_model_module": "@jupyter-widgets/base",
            "top": null,
            "grid_column": null,
            "overflow_y": null,
            "overflow_x": null,
            "grid_auto_flow": null,
            "grid_area": null,
            "grid_template_columns": null,
            "flex": null,
            "_model_name": "LayoutModel",
            "justify_items": null,
            "grid_row": null,
            "max_height": null,
            "align_content": null,
            "visibility": null,
            "align_self": null,
            "height": null,
            "min_height": null,
            "padding": null,
            "grid_auto_rows": null,
            "grid_gap": null,
            "max_width": null,
            "order": null,
            "_view_module_version": "1.2.0",
            "grid_template_areas": null,
            "object_position": null,
            "object_fit": null,
            "grid_auto_columns": null,
            "margin": null,
            "display": null,
            "left": null
          }
        },
        "03332e28fc884075a273463dba67d903": {
          "model_module": "@jupyter-widgets/controls",
          "model_name": "HBoxModel",
          "model_module_version": "1.5.0",
          "state": {
            "_view_name": "HBoxView",
            "_dom_classes": [],
            "_model_name": "HBoxModel",
            "_view_module": "@jupyter-widgets/controls",
            "_model_module_version": "1.5.0",
            "_view_count": null,
            "_view_module_version": "1.5.0",
            "box_style": "",
            "layout": "IPY_MODEL_e250f829d356406bbe52372bc06079d2",
            "_model_module": "@jupyter-widgets/controls",
            "children": [
              "IPY_MODEL_765a1969ca5d4226b8c5e1ab1793696e",
              "IPY_MODEL_e91c213ca7384f409ecf8e4f286e3dd1",
              "IPY_MODEL_48d4ce61747749749c8abe95f70739d5"
            ]
          }
        },
        "e250f829d356406bbe52372bc06079d2": {
          "model_module": "@jupyter-widgets/base",
          "model_name": "LayoutModel",
          "model_module_version": "1.2.0",
          "state": {
            "_view_name": "LayoutView",
            "grid_template_rows": null,
            "right": null,
            "justify_content": null,
            "_view_module": "@jupyter-widgets/base",
            "overflow": null,
            "_model_module_version": "1.2.0",
            "_view_count": null,
            "flex_flow": null,
            "width": null,
            "min_width": null,
            "border": null,
            "align_items": null,
            "bottom": null,
            "_model_module": "@jupyter-widgets/base",
            "top": null,
            "grid_column": null,
            "overflow_y": null,
            "overflow_x": null,
            "grid_auto_flow": null,
            "grid_area": null,
            "grid_template_columns": null,
            "flex": null,
            "_model_name": "LayoutModel",
            "justify_items": null,
            "grid_row": null,
            "max_height": null,
            "align_content": null,
            "visibility": null,
            "align_self": null,
            "height": null,
            "min_height": null,
            "padding": null,
            "grid_auto_rows": null,
            "grid_gap": null,
            "max_width": null,
            "order": null,
            "_view_module_version": "1.2.0",
            "grid_template_areas": null,
            "object_position": null,
            "object_fit": null,
            "grid_auto_columns": null,
            "margin": null,
            "display": null,
            "left": null
          }
        },
        "765a1969ca5d4226b8c5e1ab1793696e": {
          "model_module": "@jupyter-widgets/controls",
          "model_name": "HTMLModel",
          "model_module_version": "1.5.0",
          "state": {
            "_view_name": "HTMLView",
            "style": "IPY_MODEL_96b92b9fc7304510a10b59fa0d56934b",
            "_dom_classes": [],
            "description": "",
            "_model_name": "HTMLModel",
            "placeholder": "​",
            "_view_module": "@jupyter-widgets/controls",
            "_model_module_version": "1.5.0",
            "value": "Downloading: 100%",
            "_view_count": null,
            "_view_module_version": "1.5.0",
            "description_tooltip": null,
            "_model_module": "@jupyter-widgets/controls",
            "layout": "IPY_MODEL_eb6dee2e79f3484bad33cc2e22fc7e32"
          }
        },
        "e91c213ca7384f409ecf8e4f286e3dd1": {
          "model_module": "@jupyter-widgets/controls",
          "model_name": "FloatProgressModel",
          "model_module_version": "1.5.0",
          "state": {
            "_view_name": "ProgressView",
            "style": "IPY_MODEL_089ddadf5b1549da8fa1b5d4921647b2",
            "_dom_classes": [],
            "description": "",
            "_model_name": "FloatProgressModel",
            "bar_style": "success",
            "max": 1658616,
            "_view_module": "@jupyter-widgets/controls",
            "_model_module_version": "1.5.0",
            "value": 1658616,
            "_view_count": null,
            "_view_module_version": "1.5.0",
            "orientation": "horizontal",
            "min": 0,
            "description_tooltip": null,
            "_model_module": "@jupyter-widgets/controls",
            "layout": "IPY_MODEL_851d77404c7c47ef9f5b186d85dfd974"
          }
        },
        "48d4ce61747749749c8abe95f70739d5": {
          "model_module": "@jupyter-widgets/controls",
          "model_name": "HTMLModel",
          "model_module_version": "1.5.0",
          "state": {
            "_view_name": "HTMLView",
            "style": "IPY_MODEL_37e5b19e50a14fc194375a6274d028a0",
            "_dom_classes": [],
            "description": "",
            "_model_name": "HTMLModel",
            "placeholder": "​",
            "_view_module": "@jupyter-widgets/controls",
            "_model_module_version": "1.5.0",
            "value": " 1.66M/1.66M [00:00&lt;00:00, 2.23MB/s]",
            "_view_count": null,
            "_view_module_version": "1.5.0",
            "description_tooltip": null,
            "_model_module": "@jupyter-widgets/controls",
            "layout": "IPY_MODEL_3e95ef4ca3da40478f6ad89dde566047"
          }
        },
        "96b92b9fc7304510a10b59fa0d56934b": {
          "model_module": "@jupyter-widgets/controls",
          "model_name": "DescriptionStyleModel",
          "model_module_version": "1.5.0",
          "state": {
            "_view_name": "StyleView",
            "_model_name": "DescriptionStyleModel",
            "description_width": "",
            "_view_module": "@jupyter-widgets/base",
            "_model_module_version": "1.5.0",
            "_view_count": null,
            "_view_module_version": "1.2.0",
            "_model_module": "@jupyter-widgets/controls"
          }
        },
        "eb6dee2e79f3484bad33cc2e22fc7e32": {
          "model_module": "@jupyter-widgets/base",
          "model_name": "LayoutModel",
          "model_module_version": "1.2.0",
          "state": {
            "_view_name": "LayoutView",
            "grid_template_rows": null,
            "right": null,
            "justify_content": null,
            "_view_module": "@jupyter-widgets/base",
            "overflow": null,
            "_model_module_version": "1.2.0",
            "_view_count": null,
            "flex_flow": null,
            "width": null,
            "min_width": null,
            "border": null,
            "align_items": null,
            "bottom": null,
            "_model_module": "@jupyter-widgets/base",
            "top": null,
            "grid_column": null,
            "overflow_y": null,
            "overflow_x": null,
            "grid_auto_flow": null,
            "grid_area": null,
            "grid_template_columns": null,
            "flex": null,
            "_model_name": "LayoutModel",
            "justify_items": null,
            "grid_row": null,
            "max_height": null,
            "align_content": null,
            "visibility": null,
            "align_self": null,
            "height": null,
            "min_height": null,
            "padding": null,
            "grid_auto_rows": null,
            "grid_gap": null,
            "max_width": null,
            "order": null,
            "_view_module_version": "1.2.0",
            "grid_template_areas": null,
            "object_position": null,
            "object_fit": null,
            "grid_auto_columns": null,
            "margin": null,
            "display": null,
            "left": null
          }
        },
        "089ddadf5b1549da8fa1b5d4921647b2": {
          "model_module": "@jupyter-widgets/controls",
          "model_name": "ProgressStyleModel",
          "model_module_version": "1.5.0",
          "state": {
            "_view_name": "StyleView",
            "_model_name": "ProgressStyleModel",
            "description_width": "",
            "_view_module": "@jupyter-widgets/base",
            "_model_module_version": "1.5.0",
            "_view_count": null,
            "_view_module_version": "1.2.0",
            "bar_color": null,
            "_model_module": "@jupyter-widgets/controls"
          }
        },
        "851d77404c7c47ef9f5b186d85dfd974": {
          "model_module": "@jupyter-widgets/base",
          "model_name": "LayoutModel",
          "model_module_version": "1.2.0",
          "state": {
            "_view_name": "LayoutView",
            "grid_template_rows": null,
            "right": null,
            "justify_content": null,
            "_view_module": "@jupyter-widgets/base",
            "overflow": null,
            "_model_module_version": "1.2.0",
            "_view_count": null,
            "flex_flow": null,
            "width": null,
            "min_width": null,
            "border": null,
            "align_items": null,
            "bottom": null,
            "_model_module": "@jupyter-widgets/base",
            "top": null,
            "grid_column": null,
            "overflow_y": null,
            "overflow_x": null,
            "grid_auto_flow": null,
            "grid_area": null,
            "grid_template_columns": null,
            "flex": null,
            "_model_name": "LayoutModel",
            "justify_items": null,
            "grid_row": null,
            "max_height": null,
            "align_content": null,
            "visibility": null,
            "align_self": null,
            "height": null,
            "min_height": null,
            "padding": null,
            "grid_auto_rows": null,
            "grid_gap": null,
            "max_width": null,
            "order": null,
            "_view_module_version": "1.2.0",
            "grid_template_areas": null,
            "object_position": null,
            "object_fit": null,
            "grid_auto_columns": null,
            "margin": null,
            "display": null,
            "left": null
          }
        },
        "37e5b19e50a14fc194375a6274d028a0": {
          "model_module": "@jupyter-widgets/controls",
          "model_name": "DescriptionStyleModel",
          "model_module_version": "1.5.0",
          "state": {
            "_view_name": "StyleView",
            "_model_name": "DescriptionStyleModel",
            "description_width": "",
            "_view_module": "@jupyter-widgets/base",
            "_model_module_version": "1.5.0",
            "_view_count": null,
            "_view_module_version": "1.2.0",
            "_model_module": "@jupyter-widgets/controls"
          }
        },
        "3e95ef4ca3da40478f6ad89dde566047": {
          "model_module": "@jupyter-widgets/base",
          "model_name": "LayoutModel",
          "model_module_version": "1.2.0",
          "state": {
            "_view_name": "LayoutView",
            "grid_template_rows": null,
            "right": null,
            "justify_content": null,
            "_view_module": "@jupyter-widgets/base",
            "overflow": null,
            "_model_module_version": "1.2.0",
            "_view_count": null,
            "flex_flow": null,
            "width": null,
            "min_width": null,
            "border": null,
            "align_items": null,
            "bottom": null,
            "_model_module": "@jupyter-widgets/base",
            "top": null,
            "grid_column": null,
            "overflow_y": null,
            "overflow_x": null,
            "grid_auto_flow": null,
            "grid_area": null,
            "grid_template_columns": null,
            "flex": null,
            "_model_name": "LayoutModel",
            "justify_items": null,
            "grid_row": null,
            "max_height": null,
            "align_content": null,
            "visibility": null,
            "align_self": null,
            "height": null,
            "min_height": null,
            "padding": null,
            "grid_auto_rows": null,
            "grid_gap": null,
            "max_width": null,
            "order": null,
            "_view_module_version": "1.2.0",
            "grid_template_areas": null,
            "object_position": null,
            "object_fit": null,
            "grid_auto_columns": null,
            "margin": null,
            "display": null,
            "left": null
          }
        },
        "0e89281db05d4cb4bb79bcdd3d3ba0fe": {
          "model_module": "@jupyter-widgets/controls",
          "model_name": "HBoxModel",
          "model_module_version": "1.5.0",
          "state": {
            "_view_name": "HBoxView",
            "_dom_classes": [],
            "_model_name": "HBoxModel",
            "_view_module": "@jupyter-widgets/controls",
            "_model_module_version": "1.5.0",
            "_view_count": null,
            "_view_module_version": "1.5.0",
            "box_style": "",
            "layout": "IPY_MODEL_b37a46bc2a84462588840596d6b0c09b",
            "_model_module": "@jupyter-widgets/controls",
            "children": [
              "IPY_MODEL_7db37b49d6d54d7f8a87b92cb03274ea",
              "IPY_MODEL_87d95aba5c0e48a1817fb1071c290809",
              "IPY_MODEL_a88d6e122ffb4fbbb98281f60f89f964"
            ]
          }
        },
        "b37a46bc2a84462588840596d6b0c09b": {
          "model_module": "@jupyter-widgets/base",
          "model_name": "LayoutModel",
          "model_module_version": "1.2.0",
          "state": {
            "_view_name": "LayoutView",
            "grid_template_rows": null,
            "right": null,
            "justify_content": null,
            "_view_module": "@jupyter-widgets/base",
            "overflow": null,
            "_model_module_version": "1.2.0",
            "_view_count": null,
            "flex_flow": null,
            "width": null,
            "min_width": null,
            "border": null,
            "align_items": null,
            "bottom": null,
            "_model_module": "@jupyter-widgets/base",
            "top": null,
            "grid_column": null,
            "overflow_y": null,
            "overflow_x": null,
            "grid_auto_flow": null,
            "grid_area": null,
            "grid_template_columns": null,
            "flex": null,
            "_model_name": "LayoutModel",
            "justify_items": null,
            "grid_row": null,
            "max_height": null,
            "align_content": null,
            "visibility": null,
            "align_self": null,
            "height": null,
            "min_height": null,
            "padding": null,
            "grid_auto_rows": null,
            "grid_gap": null,
            "max_width": null,
            "order": null,
            "_view_module_version": "1.2.0",
            "grid_template_areas": null,
            "object_position": null,
            "object_fit": null,
            "grid_auto_columns": null,
            "margin": null,
            "display": null,
            "left": null
          }
        },
        "7db37b49d6d54d7f8a87b92cb03274ea": {
          "model_module": "@jupyter-widgets/controls",
          "model_name": "HTMLModel",
          "model_module_version": "1.5.0",
          "state": {
            "_view_name": "HTMLView",
            "style": "IPY_MODEL_f4d4356b70bc4c178a4bef60a6b05966",
            "_dom_classes": [],
            "description": "",
            "_model_name": "HTMLModel",
            "placeholder": "​",
            "_view_module": "@jupyter-widgets/controls",
            "_model_module_version": "1.5.0",
            "value": "Downloading: 100%",
            "_view_count": null,
            "_view_module_version": "1.5.0",
            "description_tooltip": null,
            "_model_module": "@jupyter-widgets/controls",
            "layout": "IPY_MODEL_254c380b556a4187b97b43423f31d5d6"
          }
        },
        "87d95aba5c0e48a1817fb1071c290809": {
          "model_module": "@jupyter-widgets/controls",
          "model_name": "FloatProgressModel",
          "model_module_version": "1.5.0",
          "state": {
            "_view_name": "ProgressView",
            "style": "IPY_MODEL_e8b5c4532415401fa8aee0f32a2f1fee",
            "_dom_classes": [],
            "description": "",
            "_model_name": "FloatProgressModel",
            "bar_style": "success",
            "max": 204240,
            "_view_module": "@jupyter-widgets/controls",
            "_model_module_version": "1.5.0",
            "value": 204240,
            "_view_count": null,
            "_view_module_version": "1.5.0",
            "orientation": "horizontal",
            "min": 0,
            "description_tooltip": null,
            "_model_module": "@jupyter-widgets/controls",
            "layout": "IPY_MODEL_6e8af9f9fc984048b30245169bd188d4"
          }
        },
        "a88d6e122ffb4fbbb98281f60f89f964": {
          "model_module": "@jupyter-widgets/controls",
          "model_name": "HTMLModel",
          "model_module_version": "1.5.0",
          "state": {
            "_view_name": "HTMLView",
            "style": "IPY_MODEL_4d3a4dc022ed4e749bcf1421aca02f5c",
            "_dom_classes": [],
            "description": "",
            "_model_name": "HTMLModel",
            "placeholder": "​",
            "_view_module": "@jupyter-widgets/controls",
            "_model_module_version": "1.5.0",
            "value": " 204k/204k [00:00&lt;00:00, 258kB/s]",
            "_view_count": null,
            "_view_module_version": "1.5.0",
            "description_tooltip": null,
            "_model_module": "@jupyter-widgets/controls",
            "layout": "IPY_MODEL_bb934f42cb1c4cc1913ac6de28300f2a"
          }
        },
        "f4d4356b70bc4c178a4bef60a6b05966": {
          "model_module": "@jupyter-widgets/controls",
          "model_name": "DescriptionStyleModel",
          "model_module_version": "1.5.0",
          "state": {
            "_view_name": "StyleView",
            "_model_name": "DescriptionStyleModel",
            "description_width": "",
            "_view_module": "@jupyter-widgets/base",
            "_model_module_version": "1.5.0",
            "_view_count": null,
            "_view_module_version": "1.2.0",
            "_model_module": "@jupyter-widgets/controls"
          }
        },
        "254c380b556a4187b97b43423f31d5d6": {
          "model_module": "@jupyter-widgets/base",
          "model_name": "LayoutModel",
          "model_module_version": "1.2.0",
          "state": {
            "_view_name": "LayoutView",
            "grid_template_rows": null,
            "right": null,
            "justify_content": null,
            "_view_module": "@jupyter-widgets/base",
            "overflow": null,
            "_model_module_version": "1.2.0",
            "_view_count": null,
            "flex_flow": null,
            "width": null,
            "min_width": null,
            "border": null,
            "align_items": null,
            "bottom": null,
            "_model_module": "@jupyter-widgets/base",
            "top": null,
            "grid_column": null,
            "overflow_y": null,
            "overflow_x": null,
            "grid_auto_flow": null,
            "grid_area": null,
            "grid_template_columns": null,
            "flex": null,
            "_model_name": "LayoutModel",
            "justify_items": null,
            "grid_row": null,
            "max_height": null,
            "align_content": null,
            "visibility": null,
            "align_self": null,
            "height": null,
            "min_height": null,
            "padding": null,
            "grid_auto_rows": null,
            "grid_gap": null,
            "max_width": null,
            "order": null,
            "_view_module_version": "1.2.0",
            "grid_template_areas": null,
            "object_position": null,
            "object_fit": null,
            "grid_auto_columns": null,
            "margin": null,
            "display": null,
            "left": null
          }
        },
        "e8b5c4532415401fa8aee0f32a2f1fee": {
          "model_module": "@jupyter-widgets/controls",
          "model_name": "ProgressStyleModel",
          "model_module_version": "1.5.0",
          "state": {
            "_view_name": "StyleView",
            "_model_name": "ProgressStyleModel",
            "description_width": "",
            "_view_module": "@jupyter-widgets/base",
            "_model_module_version": "1.5.0",
            "_view_count": null,
            "_view_module_version": "1.2.0",
            "bar_color": null,
            "_model_module": "@jupyter-widgets/controls"
          }
        },
        "6e8af9f9fc984048b30245169bd188d4": {
          "model_module": "@jupyter-widgets/base",
          "model_name": "LayoutModel",
          "model_module_version": "1.2.0",
          "state": {
            "_view_name": "LayoutView",
            "grid_template_rows": null,
            "right": null,
            "justify_content": null,
            "_view_module": "@jupyter-widgets/base",
            "overflow": null,
            "_model_module_version": "1.2.0",
            "_view_count": null,
            "flex_flow": null,
            "width": null,
            "min_width": null,
            "border": null,
            "align_items": null,
            "bottom": null,
            "_model_module": "@jupyter-widgets/base",
            "top": null,
            "grid_column": null,
            "overflow_y": null,
            "overflow_x": null,
            "grid_auto_flow": null,
            "grid_area": null,
            "grid_template_columns": null,
            "flex": null,
            "_model_name": "LayoutModel",
            "justify_items": null,
            "grid_row": null,
            "max_height": null,
            "align_content": null,
            "visibility": null,
            "align_self": null,
            "height": null,
            "min_height": null,
            "padding": null,
            "grid_auto_rows": null,
            "grid_gap": null,
            "max_width": null,
            "order": null,
            "_view_module_version": "1.2.0",
            "grid_template_areas": null,
            "object_position": null,
            "object_fit": null,
            "grid_auto_columns": null,
            "margin": null,
            "display": null,
            "left": null
          }
        },
        "4d3a4dc022ed4e749bcf1421aca02f5c": {
          "model_module": "@jupyter-widgets/controls",
          "model_name": "DescriptionStyleModel",
          "model_module_version": "1.5.0",
          "state": {
            "_view_name": "StyleView",
            "_model_name": "DescriptionStyleModel",
            "description_width": "",
            "_view_module": "@jupyter-widgets/base",
            "_model_module_version": "1.5.0",
            "_view_count": null,
            "_view_module_version": "1.2.0",
            "_model_module": "@jupyter-widgets/controls"
          }
        },
        "bb934f42cb1c4cc1913ac6de28300f2a": {
          "model_module": "@jupyter-widgets/base",
          "model_name": "LayoutModel",
          "model_module_version": "1.2.0",
          "state": {
            "_view_name": "LayoutView",
            "grid_template_rows": null,
            "right": null,
            "justify_content": null,
            "_view_module": "@jupyter-widgets/base",
            "overflow": null,
            "_model_module_version": "1.2.0",
            "_view_count": null,
            "flex_flow": null,
            "width": null,
            "min_width": null,
            "border": null,
            "align_items": null,
            "bottom": null,
            "_model_module": "@jupyter-widgets/base",
            "top": null,
            "grid_column": null,
            "overflow_y": null,
            "overflow_x": null,
            "grid_auto_flow": null,
            "grid_area": null,
            "grid_template_columns": null,
            "flex": null,
            "_model_name": "LayoutModel",
            "justify_items": null,
            "grid_row": null,
            "max_height": null,
            "align_content": null,
            "visibility": null,
            "align_self": null,
            "height": null,
            "min_height": null,
            "padding": null,
            "grid_auto_rows": null,
            "grid_gap": null,
            "max_width": null,
            "order": null,
            "_view_module_version": "1.2.0",
            "grid_template_areas": null,
            "object_position": null,
            "object_fit": null,
            "grid_auto_columns": null,
            "margin": null,
            "display": null,
            "left": null
          }
        },
        "e7db33b97a614b77820f7096392f7721": {
          "model_module": "@jupyter-widgets/controls",
          "model_name": "HBoxModel",
          "model_module_version": "1.5.0",
          "state": {
            "_view_name": "HBoxView",
            "_dom_classes": [],
            "_model_name": "HBoxModel",
            "_view_module": "@jupyter-widgets/controls",
            "_model_module_version": "1.5.0",
            "_view_count": null,
            "_view_module_version": "1.5.0",
            "box_style": "",
            "layout": "IPY_MODEL_e1f53fdc7e874fe686df348c602946db",
            "_model_module": "@jupyter-widgets/controls",
            "children": [
              "IPY_MODEL_53e9af43635a4a9ea3a01af0039f37c7",
              "IPY_MODEL_8f442f42cb2943c09156f9a51194ad27",
              "IPY_MODEL_6c6d7bb9555046f899e672e3d43749ea"
            ]
          }
        },
        "e1f53fdc7e874fe686df348c602946db": {
          "model_module": "@jupyter-widgets/base",
          "model_name": "LayoutModel",
          "model_module_version": "1.2.0",
          "state": {
            "_view_name": "LayoutView",
            "grid_template_rows": null,
            "right": null,
            "justify_content": null,
            "_view_module": "@jupyter-widgets/base",
            "overflow": null,
            "_model_module_version": "1.2.0",
            "_view_count": null,
            "flex_flow": null,
            "width": null,
            "min_width": null,
            "border": null,
            "align_items": null,
            "bottom": null,
            "_model_module": "@jupyter-widgets/base",
            "top": null,
            "grid_column": null,
            "overflow_y": null,
            "overflow_x": null,
            "grid_auto_flow": null,
            "grid_area": null,
            "grid_template_columns": null,
            "flex": null,
            "_model_name": "LayoutModel",
            "justify_items": null,
            "grid_row": null,
            "max_height": null,
            "align_content": null,
            "visibility": null,
            "align_self": null,
            "height": null,
            "min_height": null,
            "padding": null,
            "grid_auto_rows": null,
            "grid_gap": null,
            "max_width": null,
            "order": null,
            "_view_module_version": "1.2.0",
            "grid_template_areas": null,
            "object_position": null,
            "object_fit": null,
            "grid_auto_columns": null,
            "margin": null,
            "display": null,
            "left": null
          }
        },
        "53e9af43635a4a9ea3a01af0039f37c7": {
          "model_module": "@jupyter-widgets/controls",
          "model_name": "HTMLModel",
          "model_module_version": "1.5.0",
          "state": {
            "_view_name": "HTMLView",
            "style": "IPY_MODEL_dc01d152254441b39fbaccb6b4892af0",
            "_dom_classes": [],
            "description": "",
            "_model_name": "HTMLModel",
            "placeholder": "​",
            "_view_module": "@jupyter-widgets/controls",
            "_model_module_version": "1.5.0",
            "value": "Downloading: 100%",
            "_view_count": null,
            "_view_module_version": "1.5.0",
            "description_tooltip": null,
            "_model_module": "@jupyter-widgets/controls",
            "layout": "IPY_MODEL_54074006c02940f79fdec0bd484a6a24"
          }
        },
        "8f442f42cb2943c09156f9a51194ad27": {
          "model_module": "@jupyter-widgets/controls",
          "model_name": "FloatProgressModel",
          "model_module_version": "1.5.0",
          "state": {
            "_view_name": "ProgressView",
            "style": "IPY_MODEL_b2f11acccbbd41b5883abef853fcc2d7",
            "_dom_classes": [],
            "description": "",
            "_model_name": "FloatProgressModel",
            "bar_style": "success",
            "max": 206760,
            "_view_module": "@jupyter-widgets/controls",
            "_model_module_version": "1.5.0",
            "value": 206760,
            "_view_count": null,
            "_view_module_version": "1.5.0",
            "orientation": "horizontal",
            "min": 0,
            "description_tooltip": null,
            "_model_module": "@jupyter-widgets/controls",
            "layout": "IPY_MODEL_de4018f1bad74acdbaee870b9e97ef5c"
          }
        },
        "6c6d7bb9555046f899e672e3d43749ea": {
          "model_module": "@jupyter-widgets/controls",
          "model_name": "HTMLModel",
          "model_module_version": "1.5.0",
          "state": {
            "_view_name": "HTMLView",
            "style": "IPY_MODEL_c8e8967624c44274a78312970cb79047",
            "_dom_classes": [],
            "description": "",
            "_model_name": "HTMLModel",
            "placeholder": "​",
            "_view_module": "@jupyter-widgets/controls",
            "_model_module_version": "1.5.0",
            "value": " 207k/207k [00:00&lt;00:00, 411kB/s]",
            "_view_count": null,
            "_view_module_version": "1.5.0",
            "description_tooltip": null,
            "_model_module": "@jupyter-widgets/controls",
            "layout": "IPY_MODEL_f95e7a4f5db9424cbb63edba67fa98d7"
          }
        },
        "dc01d152254441b39fbaccb6b4892af0": {
          "model_module": "@jupyter-widgets/controls",
          "model_name": "DescriptionStyleModel",
          "model_module_version": "1.5.0",
          "state": {
            "_view_name": "StyleView",
            "_model_name": "DescriptionStyleModel",
            "description_width": "",
            "_view_module": "@jupyter-widgets/base",
            "_model_module_version": "1.5.0",
            "_view_count": null,
            "_view_module_version": "1.2.0",
            "_model_module": "@jupyter-widgets/controls"
          }
        },
        "54074006c02940f79fdec0bd484a6a24": {
          "model_module": "@jupyter-widgets/base",
          "model_name": "LayoutModel",
          "model_module_version": "1.2.0",
          "state": {
            "_view_name": "LayoutView",
            "grid_template_rows": null,
            "right": null,
            "justify_content": null,
            "_view_module": "@jupyter-widgets/base",
            "overflow": null,
            "_model_module_version": "1.2.0",
            "_view_count": null,
            "flex_flow": null,
            "width": null,
            "min_width": null,
            "border": null,
            "align_items": null,
            "bottom": null,
            "_model_module": "@jupyter-widgets/base",
            "top": null,
            "grid_column": null,
            "overflow_y": null,
            "overflow_x": null,
            "grid_auto_flow": null,
            "grid_area": null,
            "grid_template_columns": null,
            "flex": null,
            "_model_name": "LayoutModel",
            "justify_items": null,
            "grid_row": null,
            "max_height": null,
            "align_content": null,
            "visibility": null,
            "align_self": null,
            "height": null,
            "min_height": null,
            "padding": null,
            "grid_auto_rows": null,
            "grid_gap": null,
            "max_width": null,
            "order": null,
            "_view_module_version": "1.2.0",
            "grid_template_areas": null,
            "object_position": null,
            "object_fit": null,
            "grid_auto_columns": null,
            "margin": null,
            "display": null,
            "left": null
          }
        },
        "b2f11acccbbd41b5883abef853fcc2d7": {
          "model_module": "@jupyter-widgets/controls",
          "model_name": "ProgressStyleModel",
          "model_module_version": "1.5.0",
          "state": {
            "_view_name": "StyleView",
            "_model_name": "ProgressStyleModel",
            "description_width": "",
            "_view_module": "@jupyter-widgets/base",
            "_model_module_version": "1.5.0",
            "_view_count": null,
            "_view_module_version": "1.2.0",
            "bar_color": null,
            "_model_module": "@jupyter-widgets/controls"
          }
        },
        "de4018f1bad74acdbaee870b9e97ef5c": {
          "model_module": "@jupyter-widgets/base",
          "model_name": "LayoutModel",
          "model_module_version": "1.2.0",
          "state": {
            "_view_name": "LayoutView",
            "grid_template_rows": null,
            "right": null,
            "justify_content": null,
            "_view_module": "@jupyter-widgets/base",
            "overflow": null,
            "_model_module_version": "1.2.0",
            "_view_count": null,
            "flex_flow": null,
            "width": null,
            "min_width": null,
            "border": null,
            "align_items": null,
            "bottom": null,
            "_model_module": "@jupyter-widgets/base",
            "top": null,
            "grid_column": null,
            "overflow_y": null,
            "overflow_x": null,
            "grid_auto_flow": null,
            "grid_area": null,
            "grid_template_columns": null,
            "flex": null,
            "_model_name": "LayoutModel",
            "justify_items": null,
            "grid_row": null,
            "max_height": null,
            "align_content": null,
            "visibility": null,
            "align_self": null,
            "height": null,
            "min_height": null,
            "padding": null,
            "grid_auto_rows": null,
            "grid_gap": null,
            "max_width": null,
            "order": null,
            "_view_module_version": "1.2.0",
            "grid_template_areas": null,
            "object_position": null,
            "object_fit": null,
            "grid_auto_columns": null,
            "margin": null,
            "display": null,
            "left": null
          }
        },
        "c8e8967624c44274a78312970cb79047": {
          "model_module": "@jupyter-widgets/controls",
          "model_name": "DescriptionStyleModel",
          "model_module_version": "1.5.0",
          "state": {
            "_view_name": "StyleView",
            "_model_name": "DescriptionStyleModel",
            "description_width": "",
            "_view_module": "@jupyter-widgets/base",
            "_model_module_version": "1.5.0",
            "_view_count": null,
            "_view_module_version": "1.2.0",
            "_model_module": "@jupyter-widgets/controls"
          }
        },
        "f95e7a4f5db9424cbb63edba67fa98d7": {
          "model_module": "@jupyter-widgets/base",
          "model_name": "LayoutModel",
          "model_module_version": "1.2.0",
          "state": {
            "_view_name": "LayoutView",
            "grid_template_rows": null,
            "right": null,
            "justify_content": null,
            "_view_module": "@jupyter-widgets/base",
            "overflow": null,
            "_model_module_version": "1.2.0",
            "_view_count": null,
            "flex_flow": null,
            "width": null,
            "min_width": null,
            "border": null,
            "align_items": null,
            "bottom": null,
            "_model_module": "@jupyter-widgets/base",
            "top": null,
            "grid_column": null,
            "overflow_y": null,
            "overflow_x": null,
            "grid_auto_flow": null,
            "grid_area": null,
            "grid_template_columns": null,
            "flex": null,
            "_model_name": "LayoutModel",
            "justify_items": null,
            "grid_row": null,
            "max_height": null,
            "align_content": null,
            "visibility": null,
            "align_self": null,
            "height": null,
            "min_height": null,
            "padding": null,
            "grid_auto_rows": null,
            "grid_gap": null,
            "max_width": null,
            "order": null,
            "_view_module_version": "1.2.0",
            "grid_template_areas": null,
            "object_position": null,
            "object_fit": null,
            "grid_auto_columns": null,
            "margin": null,
            "display": null,
            "left": null
          }
        },
        "62c97edb1c2a44938735b4712f3b7607": {
          "model_module": "@jupyter-widgets/controls",
          "model_name": "HBoxModel",
          "model_module_version": "1.5.0",
          "state": {
            "_view_name": "HBoxView",
            "_dom_classes": [],
            "_model_name": "HBoxModel",
            "_view_module": "@jupyter-widgets/controls",
            "_model_module_version": "1.5.0",
            "_view_count": null,
            "_view_module_version": "1.5.0",
            "box_style": "",
            "layout": "IPY_MODEL_5d1af9c9073640cfbafad5f0590ea44d",
            "_model_module": "@jupyter-widgets/controls",
            "children": [
              "IPY_MODEL_af069d0066e24ee89099034b017db149",
              "IPY_MODEL_6ff015c0431748dd8e4115d7afcdf1bf",
              "IPY_MODEL_55822703a77644a88d77eef2ad967b86"
            ]
          }
        },
        "5d1af9c9073640cfbafad5f0590ea44d": {
          "model_module": "@jupyter-widgets/base",
          "model_name": "LayoutModel",
          "model_module_version": "1.2.0",
          "state": {
            "_view_name": "LayoutView",
            "grid_template_rows": null,
            "right": null,
            "justify_content": null,
            "_view_module": "@jupyter-widgets/base",
            "overflow": null,
            "_model_module_version": "1.2.0",
            "_view_count": null,
            "flex_flow": null,
            "width": null,
            "min_width": null,
            "border": null,
            "align_items": null,
            "bottom": null,
            "_model_module": "@jupyter-widgets/base",
            "top": null,
            "grid_column": null,
            "overflow_y": null,
            "overflow_x": null,
            "grid_auto_flow": null,
            "grid_area": null,
            "grid_template_columns": null,
            "flex": null,
            "_model_name": "LayoutModel",
            "justify_items": null,
            "grid_row": null,
            "max_height": null,
            "align_content": null,
            "visibility": null,
            "align_self": null,
            "height": null,
            "min_height": null,
            "padding": null,
            "grid_auto_rows": null,
            "grid_gap": null,
            "max_width": null,
            "order": null,
            "_view_module_version": "1.2.0",
            "grid_template_areas": null,
            "object_position": null,
            "object_fit": null,
            "grid_auto_columns": null,
            "margin": null,
            "display": null,
            "left": null
          }
        },
        "af069d0066e24ee89099034b017db149": {
          "model_module": "@jupyter-widgets/controls",
          "model_name": "HTMLModel",
          "model_module_version": "1.5.0",
          "state": {
            "_view_name": "HTMLView",
            "style": "IPY_MODEL_90fbc556cba340fb8bbdfba6a9d9c53b",
            "_dom_classes": [],
            "description": "",
            "_model_name": "HTMLModel",
            "placeholder": "​",
            "_view_module": "@jupyter-widgets/controls",
            "_model_module_version": "1.5.0",
            "value": "",
            "_view_count": null,
            "_view_module_version": "1.5.0",
            "description_tooltip": null,
            "_model_module": "@jupyter-widgets/controls",
            "layout": "IPY_MODEL_ebf947ac78a146e5801bbfa5e104ee54"
          }
        },
        "6ff015c0431748dd8e4115d7afcdf1bf": {
          "model_module": "@jupyter-widgets/controls",
          "model_name": "FloatProgressModel",
          "model_module_version": "1.5.0",
          "state": {
            "_view_name": "ProgressView",
            "style": "IPY_MODEL_655db01495ac48b4954756d678ada486",
            "_dom_classes": [],
            "description": "",
            "_model_name": "FloatProgressModel",
            "bar_style": "info",
            "max": 1,
            "_view_module": "@jupyter-widgets/controls",
            "_model_module_version": "1.5.0",
            "value": 1,
            "_view_count": null,
            "_view_module_version": "1.5.0",
            "orientation": "horizontal",
            "min": 0,
            "description_tooltip": null,
            "_model_module": "@jupyter-widgets/controls",
            "layout": "IPY_MODEL_94bd7c4a811548c29303dfe94fbb1b23"
          }
        },
        "55822703a77644a88d77eef2ad967b86": {
          "model_module": "@jupyter-widgets/controls",
          "model_name": "HTMLModel",
          "model_module_version": "1.5.0",
          "state": {
            "_view_name": "HTMLView",
            "style": "IPY_MODEL_885b548c215c40eaafc76dd7fc8966ab",
            "_dom_classes": [],
            "description": "",
            "_model_name": "HTMLModel",
            "placeholder": "​",
            "_view_module": "@jupyter-widgets/controls",
            "_model_module_version": "1.5.0",
            "value": " 12765/0 [00:00&lt;00:00, 28086.73 examples/s]",
            "_view_count": null,
            "_view_module_version": "1.5.0",
            "description_tooltip": null,
            "_model_module": "@jupyter-widgets/controls",
            "layout": "IPY_MODEL_898d0b62c3e940359bcbaf77bb1b94b9"
          }
        },
        "90fbc556cba340fb8bbdfba6a9d9c53b": {
          "model_module": "@jupyter-widgets/controls",
          "model_name": "DescriptionStyleModel",
          "model_module_version": "1.5.0",
          "state": {
            "_view_name": "StyleView",
            "_model_name": "DescriptionStyleModel",
            "description_width": "",
            "_view_module": "@jupyter-widgets/base",
            "_model_module_version": "1.5.0",
            "_view_count": null,
            "_view_module_version": "1.2.0",
            "_model_module": "@jupyter-widgets/controls"
          }
        },
        "ebf947ac78a146e5801bbfa5e104ee54": {
          "model_module": "@jupyter-widgets/base",
          "model_name": "LayoutModel",
          "model_module_version": "1.2.0",
          "state": {
            "_view_name": "LayoutView",
            "grid_template_rows": null,
            "right": null,
            "justify_content": null,
            "_view_module": "@jupyter-widgets/base",
            "overflow": null,
            "_model_module_version": "1.2.0",
            "_view_count": null,
            "flex_flow": null,
            "width": null,
            "min_width": null,
            "border": null,
            "align_items": null,
            "bottom": null,
            "_model_module": "@jupyter-widgets/base",
            "top": null,
            "grid_column": null,
            "overflow_y": null,
            "overflow_x": null,
            "grid_auto_flow": null,
            "grid_area": null,
            "grid_template_columns": null,
            "flex": null,
            "_model_name": "LayoutModel",
            "justify_items": null,
            "grid_row": null,
            "max_height": null,
            "align_content": null,
            "visibility": null,
            "align_self": null,
            "height": null,
            "min_height": null,
            "padding": null,
            "grid_auto_rows": null,
            "grid_gap": null,
            "max_width": null,
            "order": null,
            "_view_module_version": "1.2.0",
            "grid_template_areas": null,
            "object_position": null,
            "object_fit": null,
            "grid_auto_columns": null,
            "margin": null,
            "display": null,
            "left": null
          }
        },
        "655db01495ac48b4954756d678ada486": {
          "model_module": "@jupyter-widgets/controls",
          "model_name": "ProgressStyleModel",
          "model_module_version": "1.5.0",
          "state": {
            "_view_name": "StyleView",
            "_model_name": "ProgressStyleModel",
            "description_width": "",
            "_view_module": "@jupyter-widgets/base",
            "_model_module_version": "1.5.0",
            "_view_count": null,
            "_view_module_version": "1.2.0",
            "bar_color": null,
            "_model_module": "@jupyter-widgets/controls"
          }
        },
        "94bd7c4a811548c29303dfe94fbb1b23": {
          "model_module": "@jupyter-widgets/base",
          "model_name": "LayoutModel",
          "model_module_version": "1.2.0",
          "state": {
            "_view_name": "LayoutView",
            "grid_template_rows": null,
            "right": null,
            "justify_content": null,
            "_view_module": "@jupyter-widgets/base",
            "overflow": null,
            "_model_module_version": "1.2.0",
            "_view_count": null,
            "flex_flow": null,
            "width": "20px",
            "min_width": null,
            "border": null,
            "align_items": null,
            "bottom": null,
            "_model_module": "@jupyter-widgets/base",
            "top": null,
            "grid_column": null,
            "overflow_y": null,
            "overflow_x": null,
            "grid_auto_flow": null,
            "grid_area": null,
            "grid_template_columns": null,
            "flex": null,
            "_model_name": "LayoutModel",
            "justify_items": null,
            "grid_row": null,
            "max_height": null,
            "align_content": null,
            "visibility": null,
            "align_self": null,
            "height": null,
            "min_height": null,
            "padding": null,
            "grid_auto_rows": null,
            "grid_gap": null,
            "max_width": null,
            "order": null,
            "_view_module_version": "1.2.0",
            "grid_template_areas": null,
            "object_position": null,
            "object_fit": null,
            "grid_auto_columns": null,
            "margin": null,
            "display": null,
            "left": null
          }
        },
        "885b548c215c40eaafc76dd7fc8966ab": {
          "model_module": "@jupyter-widgets/controls",
          "model_name": "DescriptionStyleModel",
          "model_module_version": "1.5.0",
          "state": {
            "_view_name": "StyleView",
            "_model_name": "DescriptionStyleModel",
            "description_width": "",
            "_view_module": "@jupyter-widgets/base",
            "_model_module_version": "1.5.0",
            "_view_count": null,
            "_view_module_version": "1.2.0",
            "_model_module": "@jupyter-widgets/controls"
          }
        },
        "898d0b62c3e940359bcbaf77bb1b94b9": {
          "model_module": "@jupyter-widgets/base",
          "model_name": "LayoutModel",
          "model_module_version": "1.2.0",
          "state": {
            "_view_name": "LayoutView",
            "grid_template_rows": null,
            "right": null,
            "justify_content": null,
            "_view_module": "@jupyter-widgets/base",
            "overflow": null,
            "_model_module_version": "1.2.0",
            "_view_count": null,
            "flex_flow": null,
            "width": null,
            "min_width": null,
            "border": null,
            "align_items": null,
            "bottom": null,
            "_model_module": "@jupyter-widgets/base",
            "top": null,
            "grid_column": null,
            "overflow_y": null,
            "overflow_x": null,
            "grid_auto_flow": null,
            "grid_area": null,
            "grid_template_columns": null,
            "flex": null,
            "_model_name": "LayoutModel",
            "justify_items": null,
            "grid_row": null,
            "max_height": null,
            "align_content": null,
            "visibility": null,
            "align_self": null,
            "height": null,
            "min_height": null,
            "padding": null,
            "grid_auto_rows": null,
            "grid_gap": null,
            "max_width": null,
            "order": null,
            "_view_module_version": "1.2.0",
            "grid_template_areas": null,
            "object_position": null,
            "object_fit": null,
            "grid_auto_columns": null,
            "margin": null,
            "display": null,
            "left": null
          }
        },
        "e808f3aa4aad4730a6be8c1fe594bb42": {
          "model_module": "@jupyter-widgets/controls",
          "model_name": "HBoxModel",
          "model_module_version": "1.5.0",
          "state": {
            "_view_name": "HBoxView",
            "_dom_classes": [],
            "_model_name": "HBoxModel",
            "_view_module": "@jupyter-widgets/controls",
            "_model_module_version": "1.5.0",
            "_view_count": null,
            "_view_module_version": "1.5.0",
            "box_style": "",
            "layout": "IPY_MODEL_f7aa448f0e4b4140aabd1598af7fc2bd",
            "_model_module": "@jupyter-widgets/controls",
            "children": [
              "IPY_MODEL_5251a6924b634dfe93fc7e8cf36eb2cb",
              "IPY_MODEL_72cee0d65e1842b9974bc98d572d4dbc",
              "IPY_MODEL_4411b7c576db49d5bec1c55c06f8297c"
            ]
          }
        },
        "f7aa448f0e4b4140aabd1598af7fc2bd": {
          "model_module": "@jupyter-widgets/base",
          "model_name": "LayoutModel",
          "model_module_version": "1.2.0",
          "state": {
            "_view_name": "LayoutView",
            "grid_template_rows": null,
            "right": null,
            "justify_content": null,
            "_view_module": "@jupyter-widgets/base",
            "overflow": null,
            "_model_module_version": "1.2.0",
            "_view_count": null,
            "flex_flow": null,
            "width": null,
            "min_width": null,
            "border": null,
            "align_items": null,
            "bottom": null,
            "_model_module": "@jupyter-widgets/base",
            "top": null,
            "grid_column": null,
            "overflow_y": null,
            "overflow_x": null,
            "grid_auto_flow": null,
            "grid_area": null,
            "grid_template_columns": null,
            "flex": null,
            "_model_name": "LayoutModel",
            "justify_items": null,
            "grid_row": null,
            "max_height": null,
            "align_content": null,
            "visibility": null,
            "align_self": null,
            "height": null,
            "min_height": null,
            "padding": null,
            "grid_auto_rows": null,
            "grid_gap": null,
            "max_width": null,
            "order": null,
            "_view_module_version": "1.2.0",
            "grid_template_areas": null,
            "object_position": null,
            "object_fit": null,
            "grid_auto_columns": null,
            "margin": null,
            "display": null,
            "left": null
          }
        },
        "5251a6924b634dfe93fc7e8cf36eb2cb": {
          "model_module": "@jupyter-widgets/controls",
          "model_name": "HTMLModel",
          "model_module_version": "1.5.0",
          "state": {
            "_view_name": "HTMLView",
            "style": "IPY_MODEL_a95c64404fc44ee091e9c3a33a1c6ed6",
            "_dom_classes": [],
            "description": "",
            "_model_name": "HTMLModel",
            "placeholder": "​",
            "_view_module": "@jupyter-widgets/controls",
            "_model_module_version": "1.5.0",
            "value": "",
            "_view_count": null,
            "_view_module_version": "1.5.0",
            "description_tooltip": null,
            "_model_module": "@jupyter-widgets/controls",
            "layout": "IPY_MODEL_be2db3d35b9f4ec9a8f96626d8d834d9"
          }
        },
        "72cee0d65e1842b9974bc98d572d4dbc": {
          "model_module": "@jupyter-widgets/controls",
          "model_name": "FloatProgressModel",
          "model_module_version": "1.5.0",
          "state": {
            "_view_name": "ProgressView",
            "style": "IPY_MODEL_1c34fff5af58499ca39341b79e5c6884",
            "_dom_classes": [],
            "description": "",
            "_model_name": "FloatProgressModel",
            "bar_style": "info",
            "max": 1,
            "_view_module": "@jupyter-widgets/controls",
            "_model_module_version": "1.5.0",
            "value": 1,
            "_view_count": null,
            "_view_module_version": "1.5.0",
            "orientation": "horizontal",
            "min": 0,
            "description_tooltip": null,
            "_model_module": "@jupyter-widgets/controls",
            "layout": "IPY_MODEL_2a4a910ed8dd4741bc149cbfc110ad33"
          }
        },
        "4411b7c576db49d5bec1c55c06f8297c": {
          "model_module": "@jupyter-widgets/controls",
          "model_name": "HTMLModel",
          "model_module_version": "1.5.0",
          "state": {
            "_view_name": "HTMLView",
            "style": "IPY_MODEL_cd9709b2a11c473ea4a8c0108dd51aae",
            "_dom_classes": [],
            "description": "",
            "_model_name": "HTMLModel",
            "placeholder": "​",
            "_view_module": "@jupyter-widgets/controls",
            "_model_module_version": "1.5.0",
            "value": " 758/0 [00:00&lt;00:00, 7576.16 examples/s]",
            "_view_count": null,
            "_view_module_version": "1.5.0",
            "description_tooltip": null,
            "_model_module": "@jupyter-widgets/controls",
            "layout": "IPY_MODEL_551e6430d30943d2bc91219a9f159d33"
          }
        },
        "a95c64404fc44ee091e9c3a33a1c6ed6": {
          "model_module": "@jupyter-widgets/controls",
          "model_name": "DescriptionStyleModel",
          "model_module_version": "1.5.0",
          "state": {
            "_view_name": "StyleView",
            "_model_name": "DescriptionStyleModel",
            "description_width": "",
            "_view_module": "@jupyter-widgets/base",
            "_model_module_version": "1.5.0",
            "_view_count": null,
            "_view_module_version": "1.2.0",
            "_model_module": "@jupyter-widgets/controls"
          }
        },
        "be2db3d35b9f4ec9a8f96626d8d834d9": {
          "model_module": "@jupyter-widgets/base",
          "model_name": "LayoutModel",
          "model_module_version": "1.2.0",
          "state": {
            "_view_name": "LayoutView",
            "grid_template_rows": null,
            "right": null,
            "justify_content": null,
            "_view_module": "@jupyter-widgets/base",
            "overflow": null,
            "_model_module_version": "1.2.0",
            "_view_count": null,
            "flex_flow": null,
            "width": null,
            "min_width": null,
            "border": null,
            "align_items": null,
            "bottom": null,
            "_model_module": "@jupyter-widgets/base",
            "top": null,
            "grid_column": null,
            "overflow_y": null,
            "overflow_x": null,
            "grid_auto_flow": null,
            "grid_area": null,
            "grid_template_columns": null,
            "flex": null,
            "_model_name": "LayoutModel",
            "justify_items": null,
            "grid_row": null,
            "max_height": null,
            "align_content": null,
            "visibility": null,
            "align_self": null,
            "height": null,
            "min_height": null,
            "padding": null,
            "grid_auto_rows": null,
            "grid_gap": null,
            "max_width": null,
            "order": null,
            "_view_module_version": "1.2.0",
            "grid_template_areas": null,
            "object_position": null,
            "object_fit": null,
            "grid_auto_columns": null,
            "margin": null,
            "display": null,
            "left": null
          }
        },
        "1c34fff5af58499ca39341b79e5c6884": {
          "model_module": "@jupyter-widgets/controls",
          "model_name": "ProgressStyleModel",
          "model_module_version": "1.5.0",
          "state": {
            "_view_name": "StyleView",
            "_model_name": "ProgressStyleModel",
            "description_width": "",
            "_view_module": "@jupyter-widgets/base",
            "_model_module_version": "1.5.0",
            "_view_count": null,
            "_view_module_version": "1.2.0",
            "bar_color": null,
            "_model_module": "@jupyter-widgets/controls"
          }
        },
        "2a4a910ed8dd4741bc149cbfc110ad33": {
          "model_module": "@jupyter-widgets/base",
          "model_name": "LayoutModel",
          "model_module_version": "1.2.0",
          "state": {
            "_view_name": "LayoutView",
            "grid_template_rows": null,
            "right": null,
            "justify_content": null,
            "_view_module": "@jupyter-widgets/base",
            "overflow": null,
            "_model_module_version": "1.2.0",
            "_view_count": null,
            "flex_flow": null,
            "width": "20px",
            "min_width": null,
            "border": null,
            "align_items": null,
            "bottom": null,
            "_model_module": "@jupyter-widgets/base",
            "top": null,
            "grid_column": null,
            "overflow_y": null,
            "overflow_x": null,
            "grid_auto_flow": null,
            "grid_area": null,
            "grid_template_columns": null,
            "flex": null,
            "_model_name": "LayoutModel",
            "justify_items": null,
            "grid_row": null,
            "max_height": null,
            "align_content": null,
            "visibility": null,
            "align_self": null,
            "height": null,
            "min_height": null,
            "padding": null,
            "grid_auto_rows": null,
            "grid_gap": null,
            "max_width": null,
            "order": null,
            "_view_module_version": "1.2.0",
            "grid_template_areas": null,
            "object_position": null,
            "object_fit": null,
            "grid_auto_columns": null,
            "margin": null,
            "display": null,
            "left": null
          }
        },
        "cd9709b2a11c473ea4a8c0108dd51aae": {
          "model_module": "@jupyter-widgets/controls",
          "model_name": "DescriptionStyleModel",
          "model_module_version": "1.5.0",
          "state": {
            "_view_name": "StyleView",
            "_model_name": "DescriptionStyleModel",
            "description_width": "",
            "_view_module": "@jupyter-widgets/base",
            "_model_module_version": "1.5.0",
            "_view_count": null,
            "_view_module_version": "1.2.0",
            "_model_module": "@jupyter-widgets/controls"
          }
        },
        "551e6430d30943d2bc91219a9f159d33": {
          "model_module": "@jupyter-widgets/base",
          "model_name": "LayoutModel",
          "model_module_version": "1.2.0",
          "state": {
            "_view_name": "LayoutView",
            "grid_template_rows": null,
            "right": null,
            "justify_content": null,
            "_view_module": "@jupyter-widgets/base",
            "overflow": null,
            "_model_module_version": "1.2.0",
            "_view_count": null,
            "flex_flow": null,
            "width": null,
            "min_width": null,
            "border": null,
            "align_items": null,
            "bottom": null,
            "_model_module": "@jupyter-widgets/base",
            "top": null,
            "grid_column": null,
            "overflow_y": null,
            "overflow_x": null,
            "grid_auto_flow": null,
            "grid_area": null,
            "grid_template_columns": null,
            "flex": null,
            "_model_name": "LayoutModel",
            "justify_items": null,
            "grid_row": null,
            "max_height": null,
            "align_content": null,
            "visibility": null,
            "align_self": null,
            "height": null,
            "min_height": null,
            "padding": null,
            "grid_auto_rows": null,
            "grid_gap": null,
            "max_width": null,
            "order": null,
            "_view_module_version": "1.2.0",
            "grid_template_areas": null,
            "object_position": null,
            "object_fit": null,
            "grid_auto_columns": null,
            "margin": null,
            "display": null,
            "left": null
          }
        },
        "c0953253027b45a3a2339050ea71fd35": {
          "model_module": "@jupyter-widgets/controls",
          "model_name": "HBoxModel",
          "model_module_version": "1.5.0",
          "state": {
            "_view_name": "HBoxView",
            "_dom_classes": [],
            "_model_name": "HBoxModel",
            "_view_module": "@jupyter-widgets/controls",
            "_model_module_version": "1.5.0",
            "_view_count": null,
            "_view_module_version": "1.5.0",
            "box_style": "",
            "layout": "IPY_MODEL_c736f01809664ca38a24f1a39cb3cdba",
            "_model_module": "@jupyter-widgets/controls",
            "children": [
              "IPY_MODEL_1e0ae125fe6f471c9e9db5ab7602b769",
              "IPY_MODEL_4edad6e459d54f5aa00e6aca5836db7d",
              "IPY_MODEL_2d496e5235a14331a47feccfcd27ad05"
            ]
          }
        },
        "c736f01809664ca38a24f1a39cb3cdba": {
          "model_module": "@jupyter-widgets/base",
          "model_name": "LayoutModel",
          "model_module_version": "1.2.0",
          "state": {
            "_view_name": "LayoutView",
            "grid_template_rows": null,
            "right": null,
            "justify_content": null,
            "_view_module": "@jupyter-widgets/base",
            "overflow": null,
            "_model_module_version": "1.2.0",
            "_view_count": null,
            "flex_flow": null,
            "width": null,
            "min_width": null,
            "border": null,
            "align_items": null,
            "bottom": null,
            "_model_module": "@jupyter-widgets/base",
            "top": null,
            "grid_column": null,
            "overflow_y": null,
            "overflow_x": null,
            "grid_auto_flow": null,
            "grid_area": null,
            "grid_template_columns": null,
            "flex": null,
            "_model_name": "LayoutModel",
            "justify_items": null,
            "grid_row": null,
            "max_height": null,
            "align_content": null,
            "visibility": null,
            "align_self": null,
            "height": null,
            "min_height": null,
            "padding": null,
            "grid_auto_rows": null,
            "grid_gap": null,
            "max_width": null,
            "order": null,
            "_view_module_version": "1.2.0",
            "grid_template_areas": null,
            "object_position": null,
            "object_fit": null,
            "grid_auto_columns": null,
            "margin": null,
            "display": null,
            "left": null
          }
        },
        "1e0ae125fe6f471c9e9db5ab7602b769": {
          "model_module": "@jupyter-widgets/controls",
          "model_name": "HTMLModel",
          "model_module_version": "1.5.0",
          "state": {
            "_view_name": "HTMLView",
            "style": "IPY_MODEL_22ebee6ba1724203bdbb380153b3a282",
            "_dom_classes": [],
            "description": "",
            "_model_name": "HTMLModel",
            "placeholder": "​",
            "_view_module": "@jupyter-widgets/controls",
            "_model_module_version": "1.5.0",
            "value": "",
            "_view_count": null,
            "_view_module_version": "1.5.0",
            "description_tooltip": null,
            "_model_module": "@jupyter-widgets/controls",
            "layout": "IPY_MODEL_7e33b558a5fe468bbb910703a03b031b"
          }
        },
        "4edad6e459d54f5aa00e6aca5836db7d": {
          "model_module": "@jupyter-widgets/controls",
          "model_name": "FloatProgressModel",
          "model_module_version": "1.5.0",
          "state": {
            "_view_name": "ProgressView",
            "style": "IPY_MODEL_a6c09ff7de0545d882df683e803cb09a",
            "_dom_classes": [],
            "description": "",
            "_model_name": "FloatProgressModel",
            "bar_style": "info",
            "max": 1,
            "_view_module": "@jupyter-widgets/controls",
            "_model_module_version": "1.5.0",
            "value": 1,
            "_view_count": null,
            "_view_module_version": "1.5.0",
            "orientation": "horizontal",
            "min": 0,
            "description_tooltip": null,
            "_model_module": "@jupyter-widgets/controls",
            "layout": "IPY_MODEL_6c5c0424322049cbb89f896d571d6b01"
          }
        },
        "2d496e5235a14331a47feccfcd27ad05": {
          "model_module": "@jupyter-widgets/controls",
          "model_name": "HTMLModel",
          "model_module_version": "1.5.0",
          "state": {
            "_view_name": "HTMLView",
            "style": "IPY_MODEL_de3ed9b24e884d6c852036c857439ddf",
            "_dom_classes": [],
            "description": "",
            "_model_name": "HTMLModel",
            "placeholder": "​",
            "_view_module": "@jupyter-widgets/controls",
            "_model_module_version": "1.5.0",
            "value": " 707/0 [00:00&lt;00:00, 7065.42 examples/s]",
            "_view_count": null,
            "_view_module_version": "1.5.0",
            "description_tooltip": null,
            "_model_module": "@jupyter-widgets/controls",
            "layout": "IPY_MODEL_7b922bb9765c4215b1b2cda49351afbd"
          }
        },
        "22ebee6ba1724203bdbb380153b3a282": {
          "model_module": "@jupyter-widgets/controls",
          "model_name": "DescriptionStyleModel",
          "model_module_version": "1.5.0",
          "state": {
            "_view_name": "StyleView",
            "_model_name": "DescriptionStyleModel",
            "description_width": "",
            "_view_module": "@jupyter-widgets/base",
            "_model_module_version": "1.5.0",
            "_view_count": null,
            "_view_module_version": "1.2.0",
            "_model_module": "@jupyter-widgets/controls"
          }
        },
        "7e33b558a5fe468bbb910703a03b031b": {
          "model_module": "@jupyter-widgets/base",
          "model_name": "LayoutModel",
          "model_module_version": "1.2.0",
          "state": {
            "_view_name": "LayoutView",
            "grid_template_rows": null,
            "right": null,
            "justify_content": null,
            "_view_module": "@jupyter-widgets/base",
            "overflow": null,
            "_model_module_version": "1.2.0",
            "_view_count": null,
            "flex_flow": null,
            "width": null,
            "min_width": null,
            "border": null,
            "align_items": null,
            "bottom": null,
            "_model_module": "@jupyter-widgets/base",
            "top": null,
            "grid_column": null,
            "overflow_y": null,
            "overflow_x": null,
            "grid_auto_flow": null,
            "grid_area": null,
            "grid_template_columns": null,
            "flex": null,
            "_model_name": "LayoutModel",
            "justify_items": null,
            "grid_row": null,
            "max_height": null,
            "align_content": null,
            "visibility": null,
            "align_self": null,
            "height": null,
            "min_height": null,
            "padding": null,
            "grid_auto_rows": null,
            "grid_gap": null,
            "max_width": null,
            "order": null,
            "_view_module_version": "1.2.0",
            "grid_template_areas": null,
            "object_position": null,
            "object_fit": null,
            "grid_auto_columns": null,
            "margin": null,
            "display": null,
            "left": null
          }
        },
        "a6c09ff7de0545d882df683e803cb09a": {
          "model_module": "@jupyter-widgets/controls",
          "model_name": "ProgressStyleModel",
          "model_module_version": "1.5.0",
          "state": {
            "_view_name": "StyleView",
            "_model_name": "ProgressStyleModel",
            "description_width": "",
            "_view_module": "@jupyter-widgets/base",
            "_model_module_version": "1.5.0",
            "_view_count": null,
            "_view_module_version": "1.2.0",
            "bar_color": null,
            "_model_module": "@jupyter-widgets/controls"
          }
        },
        "6c5c0424322049cbb89f896d571d6b01": {
          "model_module": "@jupyter-widgets/base",
          "model_name": "LayoutModel",
          "model_module_version": "1.2.0",
          "state": {
            "_view_name": "LayoutView",
            "grid_template_rows": null,
            "right": null,
            "justify_content": null,
            "_view_module": "@jupyter-widgets/base",
            "overflow": null,
            "_model_module_version": "1.2.0",
            "_view_count": null,
            "flex_flow": null,
            "width": "20px",
            "min_width": null,
            "border": null,
            "align_items": null,
            "bottom": null,
            "_model_module": "@jupyter-widgets/base",
            "top": null,
            "grid_column": null,
            "overflow_y": null,
            "overflow_x": null,
            "grid_auto_flow": null,
            "grid_area": null,
            "grid_template_columns": null,
            "flex": null,
            "_model_name": "LayoutModel",
            "justify_items": null,
            "grid_row": null,
            "max_height": null,
            "align_content": null,
            "visibility": null,
            "align_self": null,
            "height": null,
            "min_height": null,
            "padding": null,
            "grid_auto_rows": null,
            "grid_gap": null,
            "max_width": null,
            "order": null,
            "_view_module_version": "1.2.0",
            "grid_template_areas": null,
            "object_position": null,
            "object_fit": null,
            "grid_auto_columns": null,
            "margin": null,
            "display": null,
            "left": null
          }
        },
        "de3ed9b24e884d6c852036c857439ddf": {
          "model_module": "@jupyter-widgets/controls",
          "model_name": "DescriptionStyleModel",
          "model_module_version": "1.5.0",
          "state": {
            "_view_name": "StyleView",
            "_model_name": "DescriptionStyleModel",
            "description_width": "",
            "_view_module": "@jupyter-widgets/base",
            "_model_module_version": "1.5.0",
            "_view_count": null,
            "_view_module_version": "1.2.0",
            "_model_module": "@jupyter-widgets/controls"
          }
        },
        "7b922bb9765c4215b1b2cda49351afbd": {
          "model_module": "@jupyter-widgets/base",
          "model_name": "LayoutModel",
          "model_module_version": "1.2.0",
          "state": {
            "_view_name": "LayoutView",
            "grid_template_rows": null,
            "right": null,
            "justify_content": null,
            "_view_module": "@jupyter-widgets/base",
            "overflow": null,
            "_model_module_version": "1.2.0",
            "_view_count": null,
            "flex_flow": null,
            "width": null,
            "min_width": null,
            "border": null,
            "align_items": null,
            "bottom": null,
            "_model_module": "@jupyter-widgets/base",
            "top": null,
            "grid_column": null,
            "overflow_y": null,
            "overflow_x": null,
            "grid_auto_flow": null,
            "grid_area": null,
            "grid_template_columns": null,
            "flex": null,
            "_model_name": "LayoutModel",
            "justify_items": null,
            "grid_row": null,
            "max_height": null,
            "align_content": null,
            "visibility": null,
            "align_self": null,
            "height": null,
            "min_height": null,
            "padding": null,
            "grid_auto_rows": null,
            "grid_gap": null,
            "max_width": null,
            "order": null,
            "_view_module_version": "1.2.0",
            "grid_template_areas": null,
            "object_position": null,
            "object_fit": null,
            "grid_auto_columns": null,
            "margin": null,
            "display": null,
            "left": null
          }
        },
        "812f123cbc234f1986b2fc4feafc4492": {
          "model_module": "@jupyter-widgets/controls",
          "model_name": "HBoxModel",
          "model_module_version": "1.5.0",
          "state": {
            "_view_name": "HBoxView",
            "_dom_classes": [],
            "_model_name": "HBoxModel",
            "_view_module": "@jupyter-widgets/controls",
            "_model_module_version": "1.5.0",
            "_view_count": null,
            "_view_module_version": "1.5.0",
            "box_style": "",
            "layout": "IPY_MODEL_2857738224e54b28a1e39ed4f5123053",
            "_model_module": "@jupyter-widgets/controls",
            "children": [
              "IPY_MODEL_0c562b60d04c486ebf9b1a0754d9c84a",
              "IPY_MODEL_abf8dd0d38bd4d949058b4085b4ac240",
              "IPY_MODEL_f6090109b1a4466292bcb1a2601b9067"
            ]
          }
        },
        "2857738224e54b28a1e39ed4f5123053": {
          "model_module": "@jupyter-widgets/base",
          "model_name": "LayoutModel",
          "model_module_version": "1.2.0",
          "state": {
            "_view_name": "LayoutView",
            "grid_template_rows": null,
            "right": null,
            "justify_content": null,
            "_view_module": "@jupyter-widgets/base",
            "overflow": null,
            "_model_module_version": "1.2.0",
            "_view_count": null,
            "flex_flow": null,
            "width": null,
            "min_width": null,
            "border": null,
            "align_items": null,
            "bottom": null,
            "_model_module": "@jupyter-widgets/base",
            "top": null,
            "grid_column": null,
            "overflow_y": null,
            "overflow_x": null,
            "grid_auto_flow": null,
            "grid_area": null,
            "grid_template_columns": null,
            "flex": null,
            "_model_name": "LayoutModel",
            "justify_items": null,
            "grid_row": null,
            "max_height": null,
            "align_content": null,
            "visibility": null,
            "align_self": null,
            "height": null,
            "min_height": null,
            "padding": null,
            "grid_auto_rows": null,
            "grid_gap": null,
            "max_width": null,
            "order": null,
            "_view_module_version": "1.2.0",
            "grid_template_areas": null,
            "object_position": null,
            "object_fit": null,
            "grid_auto_columns": null,
            "margin": null,
            "display": null,
            "left": null
          }
        },
        "0c562b60d04c486ebf9b1a0754d9c84a": {
          "model_module": "@jupyter-widgets/controls",
          "model_name": "HTMLModel",
          "model_module_version": "1.5.0",
          "state": {
            "_view_name": "HTMLView",
            "style": "IPY_MODEL_f7d8f97d86ab4c71982a07b1a6fd3791",
            "_dom_classes": [],
            "description": "",
            "_model_name": "HTMLModel",
            "placeholder": "​",
            "_view_module": "@jupyter-widgets/controls",
            "_model_module_version": "1.5.0",
            "value": "100%",
            "_view_count": null,
            "_view_module_version": "1.5.0",
            "description_tooltip": null,
            "_model_module": "@jupyter-widgets/controls",
            "layout": "IPY_MODEL_4c5010ca222b4f23b2f095e02986ca28"
          }
        },
        "abf8dd0d38bd4d949058b4085b4ac240": {
          "model_module": "@jupyter-widgets/controls",
          "model_name": "FloatProgressModel",
          "model_module_version": "1.5.0",
          "state": {
            "_view_name": "ProgressView",
            "style": "IPY_MODEL_8eb87df1aafa46c99f5f073fc6ea05d6",
            "_dom_classes": [],
            "description": "",
            "_model_name": "FloatProgressModel",
            "bar_style": "success",
            "max": 3,
            "_view_module": "@jupyter-widgets/controls",
            "_model_module_version": "1.5.0",
            "value": 3,
            "_view_count": null,
            "_view_module_version": "1.5.0",
            "orientation": "horizontal",
            "min": 0,
            "description_tooltip": null,
            "_model_module": "@jupyter-widgets/controls",
            "layout": "IPY_MODEL_8d1b173bc6bd435ba10363d5c69f3043"
          }
        },
        "f6090109b1a4466292bcb1a2601b9067": {
          "model_module": "@jupyter-widgets/controls",
          "model_name": "HTMLModel",
          "model_module_version": "1.5.0",
          "state": {
            "_view_name": "HTMLView",
            "style": "IPY_MODEL_89f412e64fbb4580ae838034ce22b4fe",
            "_dom_classes": [],
            "description": "",
            "_model_name": "HTMLModel",
            "placeholder": "​",
            "_view_module": "@jupyter-widgets/controls",
            "_model_module_version": "1.5.0",
            "value": " 3/3 [00:00&lt;00:00, 50.27it/s]",
            "_view_count": null,
            "_view_module_version": "1.5.0",
            "description_tooltip": null,
            "_model_module": "@jupyter-widgets/controls",
            "layout": "IPY_MODEL_c49e3d74cb2b4e75a5afb722c637c582"
          }
        },
        "f7d8f97d86ab4c71982a07b1a6fd3791": {
          "model_module": "@jupyter-widgets/controls",
          "model_name": "DescriptionStyleModel",
          "model_module_version": "1.5.0",
          "state": {
            "_view_name": "StyleView",
            "_model_name": "DescriptionStyleModel",
            "description_width": "",
            "_view_module": "@jupyter-widgets/base",
            "_model_module_version": "1.5.0",
            "_view_count": null,
            "_view_module_version": "1.2.0",
            "_model_module": "@jupyter-widgets/controls"
          }
        },
        "4c5010ca222b4f23b2f095e02986ca28": {
          "model_module": "@jupyter-widgets/base",
          "model_name": "LayoutModel",
          "model_module_version": "1.2.0",
          "state": {
            "_view_name": "LayoutView",
            "grid_template_rows": null,
            "right": null,
            "justify_content": null,
            "_view_module": "@jupyter-widgets/base",
            "overflow": null,
            "_model_module_version": "1.2.0",
            "_view_count": null,
            "flex_flow": null,
            "width": null,
            "min_width": null,
            "border": null,
            "align_items": null,
            "bottom": null,
            "_model_module": "@jupyter-widgets/base",
            "top": null,
            "grid_column": null,
            "overflow_y": null,
            "overflow_x": null,
            "grid_auto_flow": null,
            "grid_area": null,
            "grid_template_columns": null,
            "flex": null,
            "_model_name": "LayoutModel",
            "justify_items": null,
            "grid_row": null,
            "max_height": null,
            "align_content": null,
            "visibility": null,
            "align_self": null,
            "height": null,
            "min_height": null,
            "padding": null,
            "grid_auto_rows": null,
            "grid_gap": null,
            "max_width": null,
            "order": null,
            "_view_module_version": "1.2.0",
            "grid_template_areas": null,
            "object_position": null,
            "object_fit": null,
            "grid_auto_columns": null,
            "margin": null,
            "display": null,
            "left": null
          }
        },
        "8eb87df1aafa46c99f5f073fc6ea05d6": {
          "model_module": "@jupyter-widgets/controls",
          "model_name": "ProgressStyleModel",
          "model_module_version": "1.5.0",
          "state": {
            "_view_name": "StyleView",
            "_model_name": "ProgressStyleModel",
            "description_width": "",
            "_view_module": "@jupyter-widgets/base",
            "_model_module_version": "1.5.0",
            "_view_count": null,
            "_view_module_version": "1.2.0",
            "bar_color": null,
            "_model_module": "@jupyter-widgets/controls"
          }
        },
        "8d1b173bc6bd435ba10363d5c69f3043": {
          "model_module": "@jupyter-widgets/base",
          "model_name": "LayoutModel",
          "model_module_version": "1.2.0",
          "state": {
            "_view_name": "LayoutView",
            "grid_template_rows": null,
            "right": null,
            "justify_content": null,
            "_view_module": "@jupyter-widgets/base",
            "overflow": null,
            "_model_module_version": "1.2.0",
            "_view_count": null,
            "flex_flow": null,
            "width": null,
            "min_width": null,
            "border": null,
            "align_items": null,
            "bottom": null,
            "_model_module": "@jupyter-widgets/base",
            "top": null,
            "grid_column": null,
            "overflow_y": null,
            "overflow_x": null,
            "grid_auto_flow": null,
            "grid_area": null,
            "grid_template_columns": null,
            "flex": null,
            "_model_name": "LayoutModel",
            "justify_items": null,
            "grid_row": null,
            "max_height": null,
            "align_content": null,
            "visibility": null,
            "align_self": null,
            "height": null,
            "min_height": null,
            "padding": null,
            "grid_auto_rows": null,
            "grid_gap": null,
            "max_width": null,
            "order": null,
            "_view_module_version": "1.2.0",
            "grid_template_areas": null,
            "object_position": null,
            "object_fit": null,
            "grid_auto_columns": null,
            "margin": null,
            "display": null,
            "left": null
          }
        },
        "89f412e64fbb4580ae838034ce22b4fe": {
          "model_module": "@jupyter-widgets/controls",
          "model_name": "DescriptionStyleModel",
          "model_module_version": "1.5.0",
          "state": {
            "_view_name": "StyleView",
            "_model_name": "DescriptionStyleModel",
            "description_width": "",
            "_view_module": "@jupyter-widgets/base",
            "_model_module_version": "1.5.0",
            "_view_count": null,
            "_view_module_version": "1.2.0",
            "_model_module": "@jupyter-widgets/controls"
          }
        },
        "c49e3d74cb2b4e75a5afb722c637c582": {
          "model_module": "@jupyter-widgets/base",
          "model_name": "LayoutModel",
          "model_module_version": "1.2.0",
          "state": {
            "_view_name": "LayoutView",
            "grid_template_rows": null,
            "right": null,
            "justify_content": null,
            "_view_module": "@jupyter-widgets/base",
            "overflow": null,
            "_model_module_version": "1.2.0",
            "_view_count": null,
            "flex_flow": null,
            "width": null,
            "min_width": null,
            "border": null,
            "align_items": null,
            "bottom": null,
            "_model_module": "@jupyter-widgets/base",
            "top": null,
            "grid_column": null,
            "overflow_y": null,
            "overflow_x": null,
            "grid_auto_flow": null,
            "grid_area": null,
            "grid_template_columns": null,
            "flex": null,
            "_model_name": "LayoutModel",
            "justify_items": null,
            "grid_row": null,
            "max_height": null,
            "align_content": null,
            "visibility": null,
            "align_self": null,
            "height": null,
            "min_height": null,
            "padding": null,
            "grid_auto_rows": null,
            "grid_gap": null,
            "max_width": null,
            "order": null,
            "_view_module_version": "1.2.0",
            "grid_template_areas": null,
            "object_position": null,
            "object_fit": null,
            "grid_auto_columns": null,
            "margin": null,
            "display": null,
            "left": null
          }
        }
      }
    }
  },
  "cells": [
    {
      "cell_type": "markdown",
      "metadata": {
        "id": "CubYcwcQTSoP"
      },
      "source": [
        "#EmDet\n",
        "\n",
        "Purpose of this project is to build an NLP model to predict the emotion"
      ]
    },
    {
      "cell_type": "markdown",
      "metadata": {
        "id": "hhUAH37gecUX"
      },
      "source": [
        "## Get Data"
      ]
    },
    {
      "cell_type": "code",
      "metadata": {
        "colab": {
          "base_uri": "https://localhost:8080/",
          "height": 1000,
          "referenced_widgets": [
            "6ed6a5449fbc4a07963b82c881f49b12",
            "0ba9e11c450a4275bda6b466703d8267",
            "0e0ee1386852416b926dd6a19d203984",
            "f606b12a23fc4edab0fac82620faae06",
            "5c7353ee9914498abb2de75fa0b1d5ef",
            "7d5ba5533c904d32b57eeabeadb12f6b",
            "8d59fe06ed944bf5b224b4b8442dcc92",
            "600fabd2561a45cdbd696b5dd22aa49a",
            "283a97830663436a868aa64c1e7df2bc",
            "b30e9c7b07a3437b8369547326d50c64",
            "bd3dff6d099046a58cf7025d712dfb4f",
            "9d172d9eb947485c9b8a50d837fe283d",
            "790f22f8407f4c64a08f5d361bea2ac0",
            "8edf4f5d6a8f4a748fab3cf123a728cc",
            "4fef56a8ba8a4149a79b9509295848d7",
            "950a96d5b72e42048490f4a94ad0a7c6",
            "8a80d18d945b497ea3b88b69d125d4dd",
            "0c81ad13f47445fe94c67db4e0da9dd9",
            "bbfe73a6e65b41b8933864031ade149e",
            "1fa3fe2e8c5f48afa747bc3e78a6085c",
            "7c030b6a39724414883235c13798455a",
            "ba73e6246be54dbb868814ee96ec41c8",
            "03332e28fc884075a273463dba67d903",
            "e250f829d356406bbe52372bc06079d2",
            "765a1969ca5d4226b8c5e1ab1793696e",
            "e91c213ca7384f409ecf8e4f286e3dd1",
            "48d4ce61747749749c8abe95f70739d5",
            "96b92b9fc7304510a10b59fa0d56934b",
            "eb6dee2e79f3484bad33cc2e22fc7e32",
            "089ddadf5b1549da8fa1b5d4921647b2",
            "851d77404c7c47ef9f5b186d85dfd974",
            "37e5b19e50a14fc194375a6274d028a0",
            "3e95ef4ca3da40478f6ad89dde566047",
            "0e89281db05d4cb4bb79bcdd3d3ba0fe",
            "b37a46bc2a84462588840596d6b0c09b",
            "7db37b49d6d54d7f8a87b92cb03274ea",
            "87d95aba5c0e48a1817fb1071c290809",
            "a88d6e122ffb4fbbb98281f60f89f964",
            "f4d4356b70bc4c178a4bef60a6b05966",
            "254c380b556a4187b97b43423f31d5d6",
            "e8b5c4532415401fa8aee0f32a2f1fee",
            "6e8af9f9fc984048b30245169bd188d4",
            "4d3a4dc022ed4e749bcf1421aca02f5c",
            "bb934f42cb1c4cc1913ac6de28300f2a",
            "e7db33b97a614b77820f7096392f7721",
            "e1f53fdc7e874fe686df348c602946db",
            "53e9af43635a4a9ea3a01af0039f37c7",
            "8f442f42cb2943c09156f9a51194ad27",
            "6c6d7bb9555046f899e672e3d43749ea",
            "dc01d152254441b39fbaccb6b4892af0",
            "54074006c02940f79fdec0bd484a6a24",
            "b2f11acccbbd41b5883abef853fcc2d7",
            "de4018f1bad74acdbaee870b9e97ef5c",
            "c8e8967624c44274a78312970cb79047",
            "f95e7a4f5db9424cbb63edba67fa98d7",
            "62c97edb1c2a44938735b4712f3b7607",
            "5d1af9c9073640cfbafad5f0590ea44d",
            "af069d0066e24ee89099034b017db149",
            "6ff015c0431748dd8e4115d7afcdf1bf",
            "55822703a77644a88d77eef2ad967b86",
            "90fbc556cba340fb8bbdfba6a9d9c53b",
            "ebf947ac78a146e5801bbfa5e104ee54",
            "655db01495ac48b4954756d678ada486",
            "94bd7c4a811548c29303dfe94fbb1b23",
            "885b548c215c40eaafc76dd7fc8966ab",
            "898d0b62c3e940359bcbaf77bb1b94b9",
            "e808f3aa4aad4730a6be8c1fe594bb42",
            "f7aa448f0e4b4140aabd1598af7fc2bd",
            "5251a6924b634dfe93fc7e8cf36eb2cb",
            "72cee0d65e1842b9974bc98d572d4dbc",
            "4411b7c576db49d5bec1c55c06f8297c",
            "a95c64404fc44ee091e9c3a33a1c6ed6",
            "be2db3d35b9f4ec9a8f96626d8d834d9",
            "1c34fff5af58499ca39341b79e5c6884",
            "2a4a910ed8dd4741bc149cbfc110ad33",
            "cd9709b2a11c473ea4a8c0108dd51aae",
            "551e6430d30943d2bc91219a9f159d33",
            "c0953253027b45a3a2339050ea71fd35",
            "c736f01809664ca38a24f1a39cb3cdba",
            "1e0ae125fe6f471c9e9db5ab7602b769",
            "4edad6e459d54f5aa00e6aca5836db7d",
            "2d496e5235a14331a47feccfcd27ad05",
            "22ebee6ba1724203bdbb380153b3a282",
            "7e33b558a5fe468bbb910703a03b031b",
            "a6c09ff7de0545d882df683e803cb09a",
            "6c5c0424322049cbb89f896d571d6b01",
            "de3ed9b24e884d6c852036c857439ddf",
            "7b922bb9765c4215b1b2cda49351afbd",
            "812f123cbc234f1986b2fc4feafc4492",
            "2857738224e54b28a1e39ed4f5123053",
            "0c562b60d04c486ebf9b1a0754d9c84a",
            "abf8dd0d38bd4d949058b4085b4ac240",
            "f6090109b1a4466292bcb1a2601b9067",
            "f7d8f97d86ab4c71982a07b1a6fd3791",
            "4c5010ca222b4f23b2f095e02986ca28",
            "8eb87df1aafa46c99f5f073fc6ea05d6",
            "8d1b173bc6bd435ba10363d5c69f3043",
            "89f412e64fbb4580ae838034ce22b4fe",
            "c49e3d74cb2b4e75a5afb722c637c582"
          ]
        },
        "id": "yAgekM0Kyuzj",
        "outputId": "3ac44549-32d0-4afb-8c98-f1d9baa62f85"
      },
      "source": [
        "!pip install datasets\n",
        "\n",
        "from datasets import load_dataset\n",
        "\n",
        "dataset = load_dataset(\"emotion\")"
      ],
      "execution_count": 1,
      "outputs": [
        {
          "output_type": "stream",
          "name": "stdout",
          "text": [
            "Collecting datasets\n",
            "  Downloading datasets-1.14.0-py3-none-any.whl (290 kB)\n",
            "\u001b[K     |████████████████████████████████| 290 kB 4.3 MB/s \n",
            "\u001b[?25hCollecting xxhash\n",
            "  Downloading xxhash-2.0.2-cp37-cp37m-manylinux2010_x86_64.whl (243 kB)\n",
            "\u001b[K     |████████████████████████████████| 243 kB 37.2 MB/s \n",
            "\u001b[?25hRequirement already satisfied: tqdm>=4.62.1 in /usr/local/lib/python3.7/dist-packages (from datasets) (4.62.3)\n",
            "Requirement already satisfied: dill in /usr/local/lib/python3.7/dist-packages (from datasets) (0.3.4)\n",
            "Requirement already satisfied: requests>=2.19.0 in /usr/local/lib/python3.7/dist-packages (from datasets) (2.23.0)\n",
            "Collecting fsspec[http]>=2021.05.0\n",
            "  Downloading fsspec-2021.10.1-py3-none-any.whl (125 kB)\n",
            "\u001b[K     |████████████████████████████████| 125 kB 53.2 MB/s \n",
            "\u001b[?25hRequirement already satisfied: numpy>=1.17 in /usr/local/lib/python3.7/dist-packages (from datasets) (1.19.5)\n",
            "Collecting aiohttp\n",
            "  Downloading aiohttp-3.7.4.post0-cp37-cp37m-manylinux2014_x86_64.whl (1.3 MB)\n",
            "\u001b[K     |████████████████████████████████| 1.3 MB 40.6 MB/s \n",
            "\u001b[?25hRequirement already satisfied: pyarrow!=4.0.0,>=1.0.0 in /usr/local/lib/python3.7/dist-packages (from datasets) (3.0.0)\n",
            "Requirement already satisfied: pandas in /usr/local/lib/python3.7/dist-packages (from datasets) (1.1.5)\n",
            "Requirement already satisfied: importlib-metadata in /usr/local/lib/python3.7/dist-packages (from datasets) (4.8.1)\n",
            "Collecting huggingface-hub<0.1.0,>=0.0.19\n",
            "  Downloading huggingface_hub-0.0.19-py3-none-any.whl (56 kB)\n",
            "\u001b[K     |████████████████████████████████| 56 kB 4.6 MB/s \n",
            "\u001b[?25hRequirement already satisfied: packaging in /usr/local/lib/python3.7/dist-packages (from datasets) (21.0)\n",
            "Requirement already satisfied: multiprocess in /usr/local/lib/python3.7/dist-packages (from datasets) (0.70.12.2)\n",
            "Requirement already satisfied: filelock in /usr/local/lib/python3.7/dist-packages (from huggingface-hub<0.1.0,>=0.0.19->datasets) (3.3.0)\n",
            "Requirement already satisfied: typing-extensions in /usr/local/lib/python3.7/dist-packages (from huggingface-hub<0.1.0,>=0.0.19->datasets) (3.7.4.3)\n",
            "Requirement already satisfied: pyyaml in /usr/local/lib/python3.7/dist-packages (from huggingface-hub<0.1.0,>=0.0.19->datasets) (3.13)\n",
            "Requirement already satisfied: pyparsing>=2.0.2 in /usr/local/lib/python3.7/dist-packages (from packaging->datasets) (2.4.7)\n",
            "Requirement already satisfied: urllib3!=1.25.0,!=1.25.1,<1.26,>=1.21.1 in /usr/local/lib/python3.7/dist-packages (from requests>=2.19.0->datasets) (1.24.3)\n",
            "Requirement already satisfied: idna<3,>=2.5 in /usr/local/lib/python3.7/dist-packages (from requests>=2.19.0->datasets) (2.10)\n",
            "Requirement already satisfied: chardet<4,>=3.0.2 in /usr/local/lib/python3.7/dist-packages (from requests>=2.19.0->datasets) (3.0.4)\n",
            "Requirement already satisfied: certifi>=2017.4.17 in /usr/local/lib/python3.7/dist-packages (from requests>=2.19.0->datasets) (2021.5.30)\n",
            "Collecting multidict<7.0,>=4.5\n",
            "  Downloading multidict-5.2.0-cp37-cp37m-manylinux_2_5_x86_64.manylinux1_x86_64.manylinux_2_12_x86_64.manylinux2010_x86_64.whl (160 kB)\n",
            "\u001b[K     |████████████████████████████████| 160 kB 50.1 MB/s \n",
            "\u001b[?25hCollecting yarl<2.0,>=1.0\n",
            "  Downloading yarl-1.7.0-cp37-cp37m-manylinux_2_5_x86_64.manylinux1_x86_64.manylinux_2_12_x86_64.manylinux2010_x86_64.whl (271 kB)\n",
            "\u001b[K     |████████████████████████████████| 271 kB 44.3 MB/s \n",
            "\u001b[?25hRequirement already satisfied: attrs>=17.3.0 in /usr/local/lib/python3.7/dist-packages (from aiohttp->datasets) (21.2.0)\n",
            "Collecting async-timeout<4.0,>=3.0\n",
            "  Downloading async_timeout-3.0.1-py3-none-any.whl (8.2 kB)\n",
            "Requirement already satisfied: zipp>=0.5 in /usr/local/lib/python3.7/dist-packages (from importlib-metadata->datasets) (3.6.0)\n",
            "Requirement already satisfied: pytz>=2017.2 in /usr/local/lib/python3.7/dist-packages (from pandas->datasets) (2018.9)\n",
            "Requirement already satisfied: python-dateutil>=2.7.3 in /usr/local/lib/python3.7/dist-packages (from pandas->datasets) (2.8.2)\n",
            "Requirement already satisfied: six>=1.5 in /usr/local/lib/python3.7/dist-packages (from python-dateutil>=2.7.3->pandas->datasets) (1.15.0)\n",
            "Installing collected packages: multidict, yarl, async-timeout, fsspec, aiohttp, xxhash, huggingface-hub, datasets\n",
            "Successfully installed aiohttp-3.7.4.post0 async-timeout-3.0.1 datasets-1.14.0 fsspec-2021.10.1 huggingface-hub-0.0.19 multidict-5.2.0 xxhash-2.0.2 yarl-1.7.0\n"
          ]
        },
        {
          "output_type": "display_data",
          "data": {
            "application/vnd.jupyter.widget-view+json": {
              "model_id": "6ed6a5449fbc4a07963b82c881f49b12",
              "version_minor": 0,
              "version_major": 2
            },
            "text/plain": [
              "Downloading:   0%|          | 0.00/1.66k [00:00<?, ?B/s]"
            ]
          },
          "metadata": {}
        },
        {
          "output_type": "display_data",
          "data": {
            "application/vnd.jupyter.widget-view+json": {
              "model_id": "9d172d9eb947485c9b8a50d837fe283d",
              "version_minor": 0,
              "version_major": 2
            },
            "text/plain": [
              "Downloading:   0%|          | 0.00/1.61k [00:00<?, ?B/s]"
            ]
          },
          "metadata": {}
        },
        {
          "output_type": "stream",
          "name": "stderr",
          "text": [
            "Using custom data configuration default\n"
          ]
        },
        {
          "output_type": "stream",
          "name": "stdout",
          "text": [
            "Downloading and preparing dataset emotion/default (download: 1.97 MiB, generated: 2.07 MiB, post-processed: Unknown size, total: 4.05 MiB) to /root/.cache/huggingface/datasets/emotion/default/0.0.0/348f63ca8e27b3713b6c04d723efe6d824a56fb3d1449794716c0f0296072705...\n"
          ]
        },
        {
          "output_type": "display_data",
          "data": {
            "application/vnd.jupyter.widget-view+json": {
              "model_id": "03332e28fc884075a273463dba67d903",
              "version_minor": 0,
              "version_major": 2
            },
            "text/plain": [
              "Downloading:   0%|          | 0.00/1.66M [00:00<?, ?B/s]"
            ]
          },
          "metadata": {}
        },
        {
          "output_type": "display_data",
          "data": {
            "application/vnd.jupyter.widget-view+json": {
              "model_id": "0e89281db05d4cb4bb79bcdd3d3ba0fe",
              "version_minor": 0,
              "version_major": 2
            },
            "text/plain": [
              "Downloading:   0%|          | 0.00/204k [00:00<?, ?B/s]"
            ]
          },
          "metadata": {}
        },
        {
          "output_type": "display_data",
          "data": {
            "application/vnd.jupyter.widget-view+json": {
              "model_id": "e7db33b97a614b77820f7096392f7721",
              "version_minor": 0,
              "version_major": 2
            },
            "text/plain": [
              "Downloading:   0%|          | 0.00/207k [00:00<?, ?B/s]"
            ]
          },
          "metadata": {}
        },
        {
          "output_type": "display_data",
          "data": {
            "application/vnd.jupyter.widget-view+json": {
              "model_id": "62c97edb1c2a44938735b4712f3b7607",
              "version_minor": 0,
              "version_major": 2
            },
            "text/plain": [
              "0 examples [00:00, ? examples/s]"
            ]
          },
          "metadata": {}
        },
        {
          "output_type": "display_data",
          "data": {
            "application/vnd.jupyter.widget-view+json": {
              "model_id": "e808f3aa4aad4730a6be8c1fe594bb42",
              "version_minor": 0,
              "version_major": 2
            },
            "text/plain": [
              "0 examples [00:00, ? examples/s]"
            ]
          },
          "metadata": {}
        },
        {
          "output_type": "display_data",
          "data": {
            "application/vnd.jupyter.widget-view+json": {
              "model_id": "c0953253027b45a3a2339050ea71fd35",
              "version_minor": 0,
              "version_major": 2
            },
            "text/plain": [
              "0 examples [00:00, ? examples/s]"
            ]
          },
          "metadata": {}
        },
        {
          "output_type": "stream",
          "name": "stdout",
          "text": [
            "Dataset emotion downloaded and prepared to /root/.cache/huggingface/datasets/emotion/default/0.0.0/348f63ca8e27b3713b6c04d723efe6d824a56fb3d1449794716c0f0296072705. Subsequent calls will reuse this data.\n"
          ]
        },
        {
          "output_type": "display_data",
          "data": {
            "application/vnd.jupyter.widget-view+json": {
              "model_id": "812f123cbc234f1986b2fc4feafc4492",
              "version_minor": 0,
              "version_major": 2
            },
            "text/plain": [
              "  0%|          | 0/3 [00:00<?, ?it/s]"
            ]
          },
          "metadata": {}
        }
      ]
    },
    {
      "cell_type": "code",
      "metadata": {
        "colab": {
          "base_uri": "https://localhost:8080/"
        },
        "id": "UMqwGpygyuve",
        "outputId": "0296af63-4d63-4154-f702-4682be3e6d11"
      },
      "source": [
        "# Check the imported dataset\n",
        "dataset"
      ],
      "execution_count": 2,
      "outputs": [
        {
          "output_type": "execute_result",
          "data": {
            "text/plain": [
              "DatasetDict({\n",
              "    train: Dataset({\n",
              "        features: ['text', 'label'],\n",
              "        num_rows: 16000\n",
              "    })\n",
              "    validation: Dataset({\n",
              "        features: ['text', 'label'],\n",
              "        num_rows: 2000\n",
              "    })\n",
              "    test: Dataset({\n",
              "        features: ['text', 'label'],\n",
              "        num_rows: 2000\n",
              "    })\n",
              "})"
            ]
          },
          "metadata": {},
          "execution_count": 2
        }
      ]
    },
    {
      "cell_type": "markdown",
      "metadata": {
        "id": "Du7MpdPpkZe2"
      },
      "source": [
        "## Preprocess data"
      ]
    },
    {
      "cell_type": "code",
      "metadata": {
        "id": "BQg7yAi7yuoH"
      },
      "source": [
        "# Split the dataset into training, validation and test datasets\n",
        "train_data = dataset[\"train\"]\n",
        "val_data = dataset[\"validation\"]\n",
        "test_data = dataset[\"test\"]"
      ],
      "execution_count": 3,
      "outputs": []
    },
    {
      "cell_type": "code",
      "metadata": {
        "colab": {
          "base_uri": "https://localhost:8080/"
        },
        "id": "wH0dqYwI0g4i",
        "outputId": "6f60c8dc-983b-4411-c040-819a871a24a7"
      },
      "source": [
        "print(train_data[0])\n",
        "print(train_data.column_names)\n",
        "print(train_data.features)"
      ],
      "execution_count": 4,
      "outputs": [
        {
          "output_type": "stream",
          "name": "stdout",
          "text": [
            "{'text': 'i didnt feel humiliated', 'label': 0}\n",
            "['text', 'label']\n",
            "{'text': Value(dtype='string', id=None), 'label': ClassLabel(num_classes=6, names=['sadness', 'joy', 'love', 'anger', 'fear', 'surprise'], names_file=None, id=None)}\n"
          ]
        }
      ]
    },
    {
      "cell_type": "code",
      "metadata": {
        "colab": {
          "base_uri": "https://localhost:8080/",
          "height": 203
        },
        "id": "tDHmCQi30Gs2",
        "outputId": "5f15822f-bb48-4cbc-8df2-a2ab5acfac50"
      },
      "source": [
        "# Turn all the datasets into pd.DataFrame's\n",
        "import pandas as pd\n",
        "train_df = pd.DataFrame(train_data)\n",
        "val_df = pd.DataFrame(val_data)\n",
        "test_df = pd.DataFrame(test_data)\n",
        "train_df.head()"
      ],
      "execution_count": 5,
      "outputs": [
        {
          "output_type": "execute_result",
          "data": {
            "text/html": [
              "<div>\n",
              "<style scoped>\n",
              "    .dataframe tbody tr th:only-of-type {\n",
              "        vertical-align: middle;\n",
              "    }\n",
              "\n",
              "    .dataframe tbody tr th {\n",
              "        vertical-align: top;\n",
              "    }\n",
              "\n",
              "    .dataframe thead th {\n",
              "        text-align: right;\n",
              "    }\n",
              "</style>\n",
              "<table border=\"1\" class=\"dataframe\">\n",
              "  <thead>\n",
              "    <tr style=\"text-align: right;\">\n",
              "      <th></th>\n",
              "      <th>text</th>\n",
              "      <th>label</th>\n",
              "    </tr>\n",
              "  </thead>\n",
              "  <tbody>\n",
              "    <tr>\n",
              "      <th>0</th>\n",
              "      <td>i didnt feel humiliated</td>\n",
              "      <td>0</td>\n",
              "    </tr>\n",
              "    <tr>\n",
              "      <th>1</th>\n",
              "      <td>i can go from feeling so hopeless to so damned...</td>\n",
              "      <td>0</td>\n",
              "    </tr>\n",
              "    <tr>\n",
              "      <th>2</th>\n",
              "      <td>im grabbing a minute to post i feel greedy wrong</td>\n",
              "      <td>3</td>\n",
              "    </tr>\n",
              "    <tr>\n",
              "      <th>3</th>\n",
              "      <td>i am ever feeling nostalgic about the fireplac...</td>\n",
              "      <td>2</td>\n",
              "    </tr>\n",
              "    <tr>\n",
              "      <th>4</th>\n",
              "      <td>i am feeling grouchy</td>\n",
              "      <td>3</td>\n",
              "    </tr>\n",
              "  </tbody>\n",
              "</table>\n",
              "</div>"
            ],
            "text/plain": [
              "                                                text  label\n",
              "0                            i didnt feel humiliated      0\n",
              "1  i can go from feeling so hopeless to so damned...      0\n",
              "2   im grabbing a minute to post i feel greedy wrong      3\n",
              "3  i am ever feeling nostalgic about the fireplac...      2\n",
              "4                               i am feeling grouchy      3"
            ]
          },
          "metadata": {},
          "execution_count": 5
        }
      ]
    },
    {
      "cell_type": "code",
      "metadata": {
        "colab": {
          "base_uri": "https://localhost:8080/",
          "height": 203
        },
        "id": "dgkNASF21hXt",
        "outputId": "a8cdff70-9287-4bdd-b8ca-067a26067503"
      },
      "source": [
        "# Add a description column\n",
        "labels_dict = {0:'sadness', 1:'joy', 2:'love', 3:'anger', 4:'fear', 5:'surprise'}\n",
        "train_df['description'] = train_df['label'].map(labels_dict )\n",
        "val_df['description'] = val_df['label'].map(labels_dict )\n",
        "test_df['description'] = test_df['label'].map(labels_dict )\n",
        "train_df.head()"
      ],
      "execution_count": 6,
      "outputs": [
        {
          "output_type": "execute_result",
          "data": {
            "text/html": [
              "<div>\n",
              "<style scoped>\n",
              "    .dataframe tbody tr th:only-of-type {\n",
              "        vertical-align: middle;\n",
              "    }\n",
              "\n",
              "    .dataframe tbody tr th {\n",
              "        vertical-align: top;\n",
              "    }\n",
              "\n",
              "    .dataframe thead th {\n",
              "        text-align: right;\n",
              "    }\n",
              "</style>\n",
              "<table border=\"1\" class=\"dataframe\">\n",
              "  <thead>\n",
              "    <tr style=\"text-align: right;\">\n",
              "      <th></th>\n",
              "      <th>text</th>\n",
              "      <th>label</th>\n",
              "      <th>description</th>\n",
              "    </tr>\n",
              "  </thead>\n",
              "  <tbody>\n",
              "    <tr>\n",
              "      <th>0</th>\n",
              "      <td>i didnt feel humiliated</td>\n",
              "      <td>0</td>\n",
              "      <td>sadness</td>\n",
              "    </tr>\n",
              "    <tr>\n",
              "      <th>1</th>\n",
              "      <td>i can go from feeling so hopeless to so damned...</td>\n",
              "      <td>0</td>\n",
              "      <td>sadness</td>\n",
              "    </tr>\n",
              "    <tr>\n",
              "      <th>2</th>\n",
              "      <td>im grabbing a minute to post i feel greedy wrong</td>\n",
              "      <td>3</td>\n",
              "      <td>anger</td>\n",
              "    </tr>\n",
              "    <tr>\n",
              "      <th>3</th>\n",
              "      <td>i am ever feeling nostalgic about the fireplac...</td>\n",
              "      <td>2</td>\n",
              "      <td>love</td>\n",
              "    </tr>\n",
              "    <tr>\n",
              "      <th>4</th>\n",
              "      <td>i am feeling grouchy</td>\n",
              "      <td>3</td>\n",
              "      <td>anger</td>\n",
              "    </tr>\n",
              "  </tbody>\n",
              "</table>\n",
              "</div>"
            ],
            "text/plain": [
              "                                                text  label description\n",
              "0                            i didnt feel humiliated      0     sadness\n",
              "1  i can go from feeling so hopeless to so damned...      0     sadness\n",
              "2   im grabbing a minute to post i feel greedy wrong      3       anger\n",
              "3  i am ever feeling nostalgic about the fireplac...      2        love\n",
              "4                               i am feeling grouchy      3       anger"
            ]
          },
          "metadata": {},
          "execution_count": 6
        }
      ]
    },
    {
      "cell_type": "code",
      "metadata": {
        "colab": {
          "base_uri": "https://localhost:8080/",
          "height": 203
        },
        "id": "TIeYfMPu15EC",
        "outputId": "63210396-85dd-4fb4-e553-75c2b7fdc75c"
      },
      "source": [
        "# Drop the label column\n",
        "train_df.drop([\"label\"], axis=1, inplace=True)\n",
        "val_df.drop([\"label\"], axis=1, inplace=True)\n",
        "test_df.drop([\"label\"], axis=1, inplace=True)\n",
        "train_df.head()"
      ],
      "execution_count": 7,
      "outputs": [
        {
          "output_type": "execute_result",
          "data": {
            "text/html": [
              "<div>\n",
              "<style scoped>\n",
              "    .dataframe tbody tr th:only-of-type {\n",
              "        vertical-align: middle;\n",
              "    }\n",
              "\n",
              "    .dataframe tbody tr th {\n",
              "        vertical-align: top;\n",
              "    }\n",
              "\n",
              "    .dataframe thead th {\n",
              "        text-align: right;\n",
              "    }\n",
              "</style>\n",
              "<table border=\"1\" class=\"dataframe\">\n",
              "  <thead>\n",
              "    <tr style=\"text-align: right;\">\n",
              "      <th></th>\n",
              "      <th>text</th>\n",
              "      <th>description</th>\n",
              "    </tr>\n",
              "  </thead>\n",
              "  <tbody>\n",
              "    <tr>\n",
              "      <th>0</th>\n",
              "      <td>i didnt feel humiliated</td>\n",
              "      <td>sadness</td>\n",
              "    </tr>\n",
              "    <tr>\n",
              "      <th>1</th>\n",
              "      <td>i can go from feeling so hopeless to so damned...</td>\n",
              "      <td>sadness</td>\n",
              "    </tr>\n",
              "    <tr>\n",
              "      <th>2</th>\n",
              "      <td>im grabbing a minute to post i feel greedy wrong</td>\n",
              "      <td>anger</td>\n",
              "    </tr>\n",
              "    <tr>\n",
              "      <th>3</th>\n",
              "      <td>i am ever feeling nostalgic about the fireplac...</td>\n",
              "      <td>love</td>\n",
              "    </tr>\n",
              "    <tr>\n",
              "      <th>4</th>\n",
              "      <td>i am feeling grouchy</td>\n",
              "      <td>anger</td>\n",
              "    </tr>\n",
              "  </tbody>\n",
              "</table>\n",
              "</div>"
            ],
            "text/plain": [
              "                                                text description\n",
              "0                            i didnt feel humiliated     sadness\n",
              "1  i can go from feeling so hopeless to so damned...     sadness\n",
              "2   im grabbing a minute to post i feel greedy wrong       anger\n",
              "3  i am ever feeling nostalgic about the fireplac...        love\n",
              "4                               i am feeling grouchy       anger"
            ]
          },
          "metadata": {},
          "execution_count": 7
        }
      ]
    },
    {
      "cell_type": "code",
      "metadata": {
        "colab": {
          "base_uri": "https://localhost:8080/"
        },
        "id": "gWUJXgbz2Aq6",
        "outputId": "6ad7c2b2-a286-414e-b93e-6774f32a0a9c"
      },
      "source": [
        "train_df.info()"
      ],
      "execution_count": 8,
      "outputs": [
        {
          "output_type": "stream",
          "name": "stdout",
          "text": [
            "<class 'pandas.core.frame.DataFrame'>\n",
            "RangeIndex: 16000 entries, 0 to 15999\n",
            "Data columns (total 2 columns):\n",
            " #   Column       Non-Null Count  Dtype \n",
            "---  ------       --------------  ----- \n",
            " 0   text         16000 non-null  object\n",
            " 1   description  16000 non-null  object\n",
            "dtypes: object(2)\n",
            "memory usage: 250.1+ KB\n"
          ]
        }
      ]
    },
    {
      "cell_type": "code",
      "metadata": {
        "id": "kAWZllPv2JwM"
      },
      "source": [
        "# Convert abstract text lines into numpy arrays\n",
        "train_sentences = train_df[\"text\"].to_numpy()\n",
        "train_labels = train_df[\"description\"].to_numpy()\n",
        "\n",
        "val_sentences = val_df[\"text\"].to_numpy()\n",
        "val_labels = val_df[\"description\"].to_numpy()\n",
        "\n",
        "test_sentences = test_df[\"text\"].to_numpy()\n",
        "test_labels = test_df[\"description\"].to_numpy()"
      ],
      "execution_count": 9,
      "outputs": []
    },
    {
      "cell_type": "code",
      "metadata": {
        "colab": {
          "base_uri": "https://localhost:8080/"
        },
        "id": "y534R70T8wDz",
        "outputId": "fecf4ed8-9b4c-40d4-a229-74f2c5c4eb66"
      },
      "source": [
        "# View first 10 lines of training sentences and their labels\n",
        "train_sentences[:10], train_labels[:10]"
      ],
      "execution_count": 10,
      "outputs": [
        {
          "output_type": "execute_result",
          "data": {
            "text/plain": [
              "(array(['i didnt feel humiliated',\n",
              "        'i can go from feeling so hopeless to so damned hopeful just from being around someone who cares and is awake',\n",
              "        'im grabbing a minute to post i feel greedy wrong',\n",
              "        'i am ever feeling nostalgic about the fireplace i will know that it is still on the property',\n",
              "        'i am feeling grouchy',\n",
              "        'ive been feeling a little burdened lately wasnt sure why that was',\n",
              "        'ive been taking or milligrams or times recommended amount and ive fallen asleep a lot faster but i also feel like so funny',\n",
              "        'i feel as confused about life as a teenager or as jaded as a year old man',\n",
              "        'i have been with petronas for years i feel that petronas has performed well and made a huge profit',\n",
              "        'i feel romantic too'], dtype=object),\n",
              " array(['sadness', 'sadness', 'anger', 'love', 'anger', 'sadness',\n",
              "        'surprise', 'fear', 'joy', 'love'], dtype=object))"
            ]
          },
          "metadata": {},
          "execution_count": 10
        }
      ]
    },
    {
      "cell_type": "markdown",
      "metadata": {
        "id": "-jaSgqhA8W9_"
      },
      "source": [
        "## Make numeric labels\n",
        "\n",
        "We're going to create one hot and label encoded labels.\n",
        "\n",
        "We could get away with just making label encoded labels, however, TensorFlow's CategoricalCrossentropy loss function likes to have one hot encoded labels \n",
        "\n",
        "To numerically encode labels we'll use Scikit-Learn's [`OneHotEncoder`](https://scikit-learn.org/stable/modules/generated/sklearn.preprocessing.OneHotEncoder.html) and [`LabelEncoder`](http://scikit-learn.org/stable/modules/generated/sklearn.preprocessing.LabelEncoder.html) classes.\n",
        "\n"
      ]
    },
    {
      "cell_type": "markdown",
      "metadata": {
        "id": "rKxsCOxFRECT"
      },
      "source": [
        "### One hot encode labels"
      ]
    },
    {
      "cell_type": "code",
      "metadata": {
        "id": "D_V4Sobi8ZtV"
      },
      "source": [
        "from sklearn.preprocessing import OneHotEncoder\n",
        "one_hot_encoder = OneHotEncoder(sparse=False)\n",
        "train_labels_one_hot = one_hot_encoder.fit_transform(train_labels.reshape(-1,1))\n",
        "val_labels_one_hot = one_hot_encoder.transform(val_labels.reshape(-1,1))\n",
        "test_labels_one_hot = one_hot_encoder.transform(test_labels.reshape(-1,1))"
      ],
      "execution_count": 11,
      "outputs": []
    },
    {
      "cell_type": "code",
      "metadata": {
        "id": "u52Pm0GF8W1e",
        "colab": {
          "base_uri": "https://localhost:8080/"
        },
        "outputId": "0ccf97ee-7bb5-4e3b-a341-d13b5fe08a10"
      },
      "source": [
        "train_labels_one_hot, train_labels_one_hot.shape"
      ],
      "execution_count": 12,
      "outputs": [
        {
          "output_type": "execute_result",
          "data": {
            "text/plain": [
              "(array([[0., 0., 0., 0., 1., 0.],\n",
              "        [0., 0., 0., 0., 1., 0.],\n",
              "        [1., 0., 0., 0., 0., 0.],\n",
              "        ...,\n",
              "        [0., 0., 1., 0., 0., 0.],\n",
              "        [1., 0., 0., 0., 0., 0.],\n",
              "        [0., 0., 0., 0., 1., 0.]]), (16000, 6))"
            ]
          },
          "metadata": {},
          "execution_count": 12
        }
      ]
    },
    {
      "cell_type": "markdown",
      "metadata": {
        "id": "3A3rFuEd8WzX"
      },
      "source": [
        "### Label encode labels"
      ]
    },
    {
      "cell_type": "code",
      "metadata": {
        "id": "7v45G8F88Ww_"
      },
      "source": [
        "from sklearn.preprocessing import LabelEncoder\n",
        "label_encoder = LabelEncoder()\n",
        "train_labels_encoded = label_encoder.fit_transform(train_labels)\n",
        "val_labels_encoded = label_encoder.transform(val_labels)\n",
        "test_labels_encoded = label_encoder.transform(test_labels)"
      ],
      "execution_count": 13,
      "outputs": []
    },
    {
      "cell_type": "code",
      "metadata": {
        "id": "ABKK4hCu8Wuy",
        "colab": {
          "base_uri": "https://localhost:8080/"
        },
        "outputId": "fdd71ae5-b8ba-4e06-e0ff-9a699a21cc1e"
      },
      "source": [
        "val_labels_encoded, val_labels_encoded.shape"
      ],
      "execution_count": 14,
      "outputs": [
        {
          "output_type": "execute_result",
          "data": {
            "text/plain": [
              "(array([4, 4, 3, ..., 2, 2, 2]), (2000,))"
            ]
          },
          "metadata": {},
          "execution_count": 14
        }
      ]
    },
    {
      "cell_type": "code",
      "metadata": {
        "id": "BGl0621R8WsX",
        "colab": {
          "base_uri": "https://localhost:8080/"
        },
        "outputId": "f3f43caf-b845-42d3-b753-a416d91aa827"
      },
      "source": [
        "# Get class names and number of classes from LabelEncoder instance\n",
        "num_classes = len(label_encoder.classes_)\n",
        "class_names = label_encoder.classes_\n",
        "num_classes, class_names"
      ],
      "execution_count": 15,
      "outputs": [
        {
          "output_type": "execute_result",
          "data": {
            "text/plain": [
              "(6, array(['anger', 'fear', 'joy', 'love', 'sadness', 'surprise'],\n",
              "       dtype=object))"
            ]
          },
          "metadata": {},
          "execution_count": 15
        }
      ]
    },
    {
      "cell_type": "markdown",
      "metadata": {
        "id": "gW2pj-CHS2v2"
      },
      "source": [
        "## Starting a Series of Modelling Experiments\n",
        "\n",
        "We've proprocessed our data so now, in true machine learning fashion, it's time to setup a series of modelling experiments."
      ]
    },
    {
      "cell_type": "markdown",
      "metadata": {
        "id": "xUcmO6_6UQxX"
      },
      "source": [
        "## Model 0: Getting a baseline\n",
        "\n",
        "Our first model will be a TF-IDF Multinomial Naive Bayes as recommended by [Scikit-Learn's machine learning map](https://scikit-learn.org/stable/tutorial/machine_learning_map/index.html).\n",
        "\n",
        "To build it, we'll create a Scikit-Learn `Pipeline` which uses the [`TfidfVectorizer`](https://scikit-learn.org/stable/modules/generated/sklearn.feature_extraction.text.TfidfVectorizer.html) class to convert our abstract sentences to numbers using the TF-IDF (term frequency-inverse document frequecy) algorithm and then learns to classify our sentences using the [`MultinomialNB`](https://scikit-learn.org/stable/modules/generated/sklearn.naive_bayes.MultinomialNB.html) aglorithm."
      ]
    },
    {
      "cell_type": "code",
      "metadata": {
        "id": "GmDn3lDh8Wpx",
        "colab": {
          "base_uri": "https://localhost:8080/"
        },
        "outputId": "b01634a2-fef2-4a59-f70e-a9bdd2fccc13"
      },
      "source": [
        "from sklearn.feature_extraction.text import TfidfVectorizer\n",
        "from sklearn.naive_bayes import MultinomialNB\n",
        "from sklearn.pipeline import Pipeline\n",
        "\n",
        "# Create a pipeline\n",
        "model_0 = Pipeline([\n",
        "  (\"tf_idf\", TfidfVectorizer()),\n",
        "  (\"clf\", MultinomialNB())\n",
        "])\n",
        "\n",
        "# Fit the pipeline to the training data\n",
        "model_0.fit(X=train_sentences,\n",
        "            y=train_labels_encoded)"
      ],
      "execution_count": 16,
      "outputs": [
        {
          "output_type": "execute_result",
          "data": {
            "text/plain": [
              "Pipeline(memory=None,\n",
              "         steps=[('tf_idf',\n",
              "                 TfidfVectorizer(analyzer='word', binary=False,\n",
              "                                 decode_error='strict',\n",
              "                                 dtype=<class 'numpy.float64'>,\n",
              "                                 encoding='utf-8', input='content',\n",
              "                                 lowercase=True, max_df=1.0, max_features=None,\n",
              "                                 min_df=1, ngram_range=(1, 1), norm='l2',\n",
              "                                 preprocessor=None, smooth_idf=True,\n",
              "                                 stop_words=None, strip_accents=None,\n",
              "                                 sublinear_tf=False,\n",
              "                                 token_pattern='(?u)\\\\b\\\\w\\\\w+\\\\b',\n",
              "                                 tokenizer=None, use_idf=True,\n",
              "                                 vocabulary=None)),\n",
              "                ('clf',\n",
              "                 MultinomialNB(alpha=1.0, class_prior=None, fit_prior=True))],\n",
              "         verbose=False)"
            ]
          },
          "metadata": {},
          "execution_count": 16
        }
      ]
    },
    {
      "cell_type": "code",
      "metadata": {
        "id": "LtIo3-6Q8Wnd",
        "colab": {
          "base_uri": "https://localhost:8080/"
        },
        "outputId": "c823ab5f-f60d-46a5-e204-d972e871a476"
      },
      "source": [
        "# Evaluate baseline model on validation dataset\n",
        "model_0.score(X=val_sentences,\n",
        "              y=val_labels_encoded)"
      ],
      "execution_count": 17,
      "outputs": [
        {
          "output_type": "execute_result",
          "data": {
            "text/plain": [
              "0.641"
            ]
          },
          "metadata": {},
          "execution_count": 17
        }
      ]
    },
    {
      "cell_type": "code",
      "metadata": {
        "colab": {
          "base_uri": "https://localhost:8080/"
        },
        "id": "wspxGK_4X2_3",
        "outputId": "88e280fe-f8cc-49c9-b3c0-1fb9a5960ceb"
      },
      "source": [
        "# Make predictions using our baseline model\n",
        "baseline_preds = model_0.predict(test_sentences)\n",
        "baseline_preds"
      ],
      "execution_count": 18,
      "outputs": [
        {
          "output_type": "execute_result",
          "data": {
            "text/plain": [
              "array([4, 4, 4, ..., 2, 2, 2])"
            ]
          },
          "metadata": {},
          "execution_count": 18
        }
      ]
    },
    {
      "cell_type": "markdown",
      "metadata": {
        "id": "Ar9Y6tzGXkmL"
      },
      "source": [
        "### Download helper function script"
      ]
    },
    {
      "cell_type": "code",
      "metadata": {
        "colab": {
          "base_uri": "https://localhost:8080/"
        },
        "id": "XBi2zDElS2UN",
        "outputId": "07b81cd9-abba-4184-e39c-a2fdeba32057"
      },
      "source": [
        "!wget https://raw.githubusercontent.com/mrdbourke/tensorflow-deep-learning/main/extras/helper_functions.py"
      ],
      "execution_count": 19,
      "outputs": [
        {
          "output_type": "stream",
          "name": "stdout",
          "text": [
            "--2021-10-29 22:52:47--  https://raw.githubusercontent.com/mrdbourke/tensorflow-deep-learning/main/extras/helper_functions.py\n",
            "Resolving raw.githubusercontent.com (raw.githubusercontent.com)... 185.199.110.133, 185.199.111.133, 185.199.109.133, ...\n",
            "Connecting to raw.githubusercontent.com (raw.githubusercontent.com)|185.199.110.133|:443... connected.\n",
            "HTTP request sent, awaiting response... 200 OK\n",
            "Length: 10246 (10K) [text/plain]\n",
            "Saving to: ‘helper_functions.py’\n",
            "\n",
            "helper_functions.py 100%[===================>]  10.01K  --.-KB/s    in 0s      \n",
            "\n",
            "2021-10-29 22:52:47 (77.0 MB/s) - ‘helper_functions.py’ saved [10246/10246]\n",
            "\n"
          ]
        }
      ]
    },
    {
      "cell_type": "code",
      "metadata": {
        "id": "oU6zfkUKS2RW"
      },
      "source": [
        "from helper_functions import calculate_results"
      ],
      "execution_count": 20,
      "outputs": []
    },
    {
      "cell_type": "code",
      "metadata": {
        "colab": {
          "base_uri": "https://localhost:8080/"
        },
        "id": "IcDYNlmeS2Ot",
        "outputId": "4b536ad9-44ad-4095-af43-93428431698c"
      },
      "source": [
        "# Calculate baseline results\n",
        "baseline_results = calculate_results(y_true=val_labels_encoded,\n",
        "                                     y_pred=baseline_preds)\n",
        "baseline_results"
      ],
      "execution_count": 21,
      "outputs": [
        {
          "output_type": "stream",
          "name": "stderr",
          "text": [
            "/usr/local/lib/python3.7/dist-packages/sklearn/metrics/_classification.py:1272: UndefinedMetricWarning: Precision and F-score are ill-defined and being set to 0.0 in labels with no predicted samples. Use `zero_division` parameter to control this behavior.\n",
            "  _warn_prf(average, modifier, msg_start, len(result))\n"
          ]
        },
        {
          "output_type": "execute_result",
          "data": {
            "text/plain": [
              "{'accuracy': 33.15,\n",
              " 'f1': 0.2666592569476614,\n",
              " 'precision': 0.24374814300538186,\n",
              " 'recall': 0.3315}"
            ]
          },
          "metadata": {},
          "execution_count": 21
        }
      ]
    },
    {
      "cell_type": "markdown",
      "metadata": {
        "id": "CxDp0s50Z_-B"
      },
      "source": [
        "## Preparing the data for deep sequence models"
      ]
    },
    {
      "cell_type": "code",
      "metadata": {
        "id": "Xe0DtvtSZ_y3"
      },
      "source": [
        "import numpy as np\n",
        "import tensorflow as tf\n",
        "from tensorflow.keras import layers"
      ],
      "execution_count": 22,
      "outputs": []
    },
    {
      "cell_type": "code",
      "metadata": {
        "colab": {
          "base_uri": "https://localhost:8080/"
        },
        "id": "3A3RJMeXZ_wg",
        "outputId": "825a8f72-7b0a-4bb3-8b86-25e9cfb27c75"
      },
      "source": [
        "# How long is each sentence on average?\n",
        "sent_lens = [len(sentence.split()) for sentence in train_sentences]\n",
        "avg_sent_len = np.mean(sent_lens)\n",
        "avg_sent_len "
      ],
      "execution_count": 23,
      "outputs": [
        {
          "output_type": "execute_result",
          "data": {
            "text/plain": [
              "19.1663125"
            ]
          },
          "metadata": {},
          "execution_count": 23
        }
      ]
    },
    {
      "cell_type": "code",
      "metadata": {
        "colab": {
          "base_uri": "https://localhost:8080/",
          "height": 265
        },
        "id": "Fcsfv511Z_tx",
        "outputId": "0654c675-632d-418d-a28c-1d4e662fad46"
      },
      "source": [
        "# What's the distribution look like?\n",
        "import matplotlib.pyplot as plt\n",
        "plt.hist(sent_lens, bins=20);"
      ],
      "execution_count": 24,
      "outputs": [
        {
          "output_type": "display_data",
          "data": {
            "image/png": "[encoded data removed]",
            "text/plain": [
              "<Figure size 432x288 with 1 Axes>"
            ]
          },
          "metadata": {
            "needs_background": "light"
          }
        }
      ]
    },
    {
      "cell_type": "markdown",
      "metadata": {
        "id": "B-hRaB7fatoc"
      },
      "source": [
        "Looks like the vast majority of sentences are between 0 and 40 tokens in length.\n",
        "\n",
        "We can use NumPy's [`percentile`](https://numpy.org/doc/stable/reference/generated/numpy.percentile.html) to find the value which covers 95% of the sentence lengths."
      ]
    },
    {
      "cell_type": "code",
      "metadata": {
        "colab": {
          "base_uri": "https://localhost:8080/"
        },
        "id": "NWkPQHLuZ_rQ",
        "outputId": "c56cfc0f-e0b9-4aab-e031-0cf6d7bf2759"
      },
      "source": [
        "# How long of a sentence length covers 95% of examples?\n",
        "output_seq_len = int(np.percentile(sent_lens, 95))\n",
        "output_seq_len"
      ],
      "execution_count": 25,
      "outputs": [
        {
          "output_type": "execute_result",
          "data": {
            "text/plain": [
              "41"
            ]
          },
          "metadata": {},
          "execution_count": 25
        }
      ]
    },
    {
      "cell_type": "markdown",
      "metadata": {
        "id": "9qtnAdWWa53V"
      },
      "source": [
        "It looks like 95% of the sentences in our training set have a length of 41 tokens or less.\n",
        "\n",
        "When we create our tokenization layer, we'll use this value to turn all of our sentences into the same length. Meaning sentences with a length below 41 get padded with zeros and sentences with a length above 41 get truncated (words after 41 get cut off)."
      ]
    },
    {
      "cell_type": "markdown",
      "metadata": {
        "id": "Y3R4KKMwS2L_"
      },
      "source": [
        "## Create text vectorizer layer\n",
        "\n",
        "To do so, we'll use the [`TextVectorization`](https://www.tensorflow.org/api_docs/python/tf/keras/layers/experimental/preprocessing/TextVectorization) layer from TensorFlow.\n",
        "\n",
        "We'll keep all the parameters default except for `max_tokens` (the number of unique words in our dataset) and `output_sequence_length` (our desired output length for each vectorized sentence)."
      ]
    },
    {
      "cell_type": "code",
      "metadata": {
        "colab": {
          "base_uri": "https://localhost:8080/"
        },
        "id": "VALlioGoS2Jd",
        "outputId": "746cb608-8c06-4bf8-9a08-6f47e8f32399"
      },
      "source": [
        "# How many words are in our vocab?\n",
        "from collections import Counter\n",
        "results = Counter()\n",
        "train_df[\"text\"].str.lower().str.split().apply(results.update)\n",
        "len(results)"
      ],
      "execution_count": 26,
      "outputs": [
        {
          "output_type": "execute_result",
          "data": {
            "text/plain": [
              "15212"
            ]
          },
          "metadata": {},
          "execution_count": 26
        }
      ]
    },
    {
      "cell_type": "code",
      "metadata": {
        "id": "LaTJPMY7cT0o"
      },
      "source": [
        "max_tokens = 15200"
      ],
      "execution_count": 27,
      "outputs": []
    },
    {
      "cell_type": "code",
      "metadata": {
        "id": "UWAj-3XVS2G9"
      },
      "source": [
        "# Create text vectorizer\n",
        "from tensorflow.keras.layers.experimental.preprocessing import TextVectorization\n",
        "\n",
        "text_vectorizer = TextVectorization(max_tokens=max_tokens,\n",
        "                                    output_sequence_length=output_seq_len)"
      ],
      "execution_count": 28,
      "outputs": []
    },
    {
      "cell_type": "code",
      "metadata": {
        "id": "gXgPUmTAbbJS"
      },
      "source": [
        "# Adapt text vectorizer to training sentences\n",
        "text_vectorizer.adapt(train_sentences)"
      ],
      "execution_count": 29,
      "outputs": []
    },
    {
      "cell_type": "code",
      "metadata": {
        "colab": {
          "base_uri": "https://localhost:8080/"
        },
        "id": "G8QTDeTFbbG1",
        "outputId": "df814c7d-5d68-4b18-b611-7f013d452703"
      },
      "source": [
        "# Test out text vectorizer on random sentences\n",
        "import random\n",
        "target_sentence = random.choice(train_sentences)\n",
        "print(f\"Text:\\n{target_sentence}\")\n",
        "print(f\"Length of text: {len(target_sentence.split())}\")\n",
        "print(f\"\\nVectorized text:\\n{text_vectorizer([target_sentence])}\")"
      ],
      "execution_count": 30,
      "outputs": [
        {
          "output_type": "stream",
          "name": "stdout",
          "text": [
            "Text:\n",
            "i will feel so glad to go sing me to sleep sing me to sleep i dont want to wake up on my own anymore\n",
            "Length of text: 25\n",
            "\n",
            "Vectorized text:\n",
            "[[   2   59    3   15  343    5  102 1440   18    5  323 1440   18    5\n",
            "   323    2   88   67    5  595   42   30   11  175  423    0    0    0\n",
            "     0    0    0    0    0    0    0    0    0    0    0    0    0]]\n"
          ]
        }
      ]
    },
    {
      "cell_type": "markdown",
      "metadata": {
        "id": "-eqmRvK7o7Xp"
      },
      "source": [
        "Using the [`get_vocabulary()`](https://www.tensorflow.org/api_docs/python/tf/keras/layers/experimental/preprocessing/TextVectorization) method of our `text_vectorizer` we can find out a few different tidbits about our text."
      ]
    },
    {
      "cell_type": "code",
      "metadata": {
        "colab": {
          "base_uri": "https://localhost:8080/"
        },
        "id": "o2sU7vifbbEH",
        "outputId": "aa3829a6-db55-4365-94dc-f8ee9b5272c2"
      },
      "source": [
        "# How many words in our training vocabulary\n",
        "text_vocab = text_vectorizer.get_vocabulary()\n",
        "print(f\"Number of words in vocab: {len(text_vocab)}\")\n",
        "print(f\"Most common words in vocab: {text_vocab[:5]}\")\n",
        "print(f\"Least common words in vocab: {text_vocab[-5:]}\")"
      ],
      "execution_count": 31,
      "outputs": [
        {
          "output_type": "stream",
          "name": "stdout",
          "text": [
            "Number of words in vocab: 15200\n",
            "Most common words in vocab: ['', '[UNK]', 'i', 'feel', 'and']\n",
            "Least common words in vocab: ['abou', 'abortion', 'abominable', 'aboard', 'abnormally']\n"
          ]
        }
      ]
    },
    {
      "cell_type": "code",
      "metadata": {
        "colab": {
          "base_uri": "https://localhost:8080/"
        },
        "id": "Hp4XgoG1bbBf",
        "outputId": "0affdc7f-86dd-43e5-9b98-cde5997c4012"
      },
      "source": [
        "# Get the config of our text_vectorizer\n",
        "text_vectorizer.get_config()"
      ],
      "execution_count": 32,
      "outputs": [
        {
          "output_type": "execute_result",
          "data": {
            "text/plain": [
              "{'batch_input_shape': (None,),\n",
              " 'dtype': 'string',\n",
              " 'max_tokens': 15200,\n",
              " 'name': 'text_vectorization',\n",
              " 'ngrams': None,\n",
              " 'output_mode': 'int',\n",
              " 'output_sequence_length': 41,\n",
              " 'pad_to_max_tokens': False,\n",
              " 'split': 'whitespace',\n",
              " 'standardize': 'lower_and_strip_punctuation',\n",
              " 'trainable': True}"
            ]
          },
          "metadata": {},
          "execution_count": 32
        }
      ]
    },
    {
      "cell_type": "markdown",
      "metadata": {
        "id": "-hCb3HEMpcfd"
      },
      "source": [
        "## Create custom text embedding\n",
        "\n",
        "We can create a trainable embedding layer using TensorFlow's [`Embedding`](https://www.tensorflow.org/tutorials/text/word_embeddings) layer.\n",
        "\n",
        "Once again, the main parameters we're concerned with here are the inputs and outputs of our `Embedding` layer.\n",
        "\n",
        "The `input_dim` parameter defines the size of our vocabulary. And the `output_dim` parameter defines the dimension of the embedding output.\n",
        "\n",
        "Once created, our embedding layer will take the integer outputs of our `text_vectorization` layer as inputs and convert them to feature vectors of size `output_dim`."
      ]
    },
    {
      "cell_type": "code",
      "metadata": {
        "id": "eysbi4Pfd8gy"
      },
      "source": [
        "# Create custom text embedding\n",
        "token_embed = layers.Embedding(input_dim=len(text_vocab),\n",
        "                               output_dim=128,\n",
        "                               mask_zero=True,\n",
        "                               name=\"token_embedding\")"
      ],
      "execution_count": 33,
      "outputs": []
    },
    {
      "cell_type": "code",
      "metadata": {
        "colab": {
          "base_uri": "https://localhost:8080/"
        },
        "id": "vaPljCtTd8et",
        "outputId": "5cb89a9c-e0ed-490f-a14c-497e3c61c4e8"
      },
      "source": [
        "# Show example embedding\n",
        "print(f\"Sentence before vectorization:\\n{target_sentence}\\n\")\n",
        "vectorized_sentence = text_vectorizer([target_sentence])\n",
        "print(f\"Sentece after vectorization (before the embedding):\\n{vectorized_sentence}\\n\")\n",
        "embedded_sentence = token_embed(vectorized_sentence)\n",
        "print(f\"Sentece after embedding: {embedded_sentence}\\n\")\n",
        "print(f\"Embedded sentece shape: {embedded_sentence.shape}\")"
      ],
      "execution_count": 34,
      "outputs": [
        {
          "output_type": "stream",
          "name": "stdout",
          "text": [
            "Sentence before vectorization:\n",
            "i will feel so glad to go sing me to sleep sing me to sleep i dont want to wake up on my own anymore\n",
            "\n",
            "Sentece after vectorization (before the embedding):\n",
            "[[   2   59    3   15  343    5  102 1440   18    5  323 1440   18    5\n",
            "   323    2   88   67    5  595   42   30   11  175  423    0    0    0\n",
            "     0    0    0    0    0    0    0    0    0    0    0    0    0]]\n",
            "\n",
            "Sentece after embedding: [[[ 0.01609279 -0.03502597  0.01344058 ... -0.0316986  -0.02062446\n",
            "   -0.04650501]\n",
            "  [ 0.04378159 -0.04403491  0.0453088  ...  0.01378569  0.04149136\n",
            "   -0.00505948]\n",
            "  [-0.04373011  0.0118931   0.03570186 ...  0.00821564 -0.03400698\n",
            "    0.00429087]\n",
            "  ...\n",
            "  [-0.00346403 -0.03955351 -0.00925003 ... -0.03499495 -0.03031154\n",
            "   -0.01301382]\n",
            "  [-0.00346403 -0.03955351 -0.00925003 ... -0.03499495 -0.03031154\n",
            "   -0.01301382]\n",
            "  [-0.00346403 -0.03955351 -0.00925003 ... -0.03499495 -0.03031154\n",
            "   -0.01301382]]]\n",
            "\n",
            "Embedded sentece shape: (1, 41, 128)\n"
          ]
        }
      ]
    },
    {
      "cell_type": "markdown",
      "metadata": {
        "id": "4ab39VPMeqg-"
      },
      "source": [
        "## Creating datasets (making sure our data loads as fast as possible)\n",
        "\n",
        "The main steps we'll want to use with our data is to turn it into a `PrefetchDataset` of batches.\n",
        "\n",
        "Doing so we'll ensure TensorFlow loads our data onto the GPU as fast as possible, in turn leading to faster training time.\n",
        "\n",
        "To create a batched `PrefetchDataset` we can use the methods [`batch()`](https://www.tensorflow.org/api_docs/python/tf/data/Dataset#batch) and [`prefetch()`](https://www.tensorflow.org/api_docs/python/tf/data/Dataset#prefetch), the parameter [`tf.data.AUTOTUNE`](https://www.tensorflow.org/api_docs/python/tf/data#AUTOTUNE) will also allow TensorFlow to determine the optimal amount of compute to use to prepare datasets."
      ]
    },
    {
      "cell_type": "code",
      "metadata": {
        "colab": {
          "base_uri": "https://localhost:8080/"
        },
        "id": "A2AoIbzXd8cK",
        "outputId": "c70e671e-5e88-454b-8e77-cc4a54d7b819"
      },
      "source": [
        "# Turn our data into TensorFlow Datasets\n",
        "train_dataset = tf.data.Dataset.from_tensor_slices((train_sentences, train_labels_one_hot))\n",
        "val_dataset = tf.data.Dataset.from_tensor_slices((val_sentences, val_labels_one_hot))\n",
        "test_dataset = tf.data.Dataset.from_tensor_slices((test_sentences, test_labels_one_hot))\n",
        "\n",
        "train_dataset"
      ],
      "execution_count": 35,
      "outputs": [
        {
          "output_type": "execute_result",
          "data": {
            "text/plain": [
              "<TensorSliceDataset shapes: ((), (6,)), types: (tf.string, tf.float64)>"
            ]
          },
          "metadata": {},
          "execution_count": 35
        }
      ]
    },
    {
      "cell_type": "code",
      "metadata": {
        "id": "M7V03MEAd8Zi",
        "colab": {
          "base_uri": "https://localhost:8080/"
        },
        "outputId": "152ea2ae-b3a7-4ba4-b158-28ea2661965e"
      },
      "source": [
        "# Take the TensorSliceDataset's and turn them into prefetched datasets\n",
        "train_dataset = train_dataset.batch(32).prefetch(tf.data.AUTOTUNE)\n",
        "val_dataset = val_dataset.batch(32).prefetch(tf.data.AUTOTUNE)\n",
        "test_dataset = test_dataset.batch(32).prefetch(tf.data.AUTOTUNE)\n",
        "\n",
        "train_dataset"
      ],
      "execution_count": 36,
      "outputs": [
        {
          "output_type": "execute_result",
          "data": {
            "text/plain": [
              "<PrefetchDataset shapes: ((None,), (None, 6)), types: (tf.string, tf.float64)>"
            ]
          },
          "metadata": {},
          "execution_count": 36
        }
      ]
    },
    {
      "cell_type": "markdown",
      "metadata": {
        "id": "ERiR2CLWg24P"
      },
      "source": [
        "## Model 1: Conv1D with token embeddings"
      ]
    },
    {
      "cell_type": "code",
      "metadata": {
        "id": "gpmXML28d8XD"
      },
      "source": [
        "# Create 1D conv model to process sequences\n",
        "inputs = layers.Input(shape=(1,), dtype=tf.string)\n",
        "text_vectors = text_vectorizer(inputs) # vectorize text inputs\n",
        "token_embeddings = token_embed(text_vectors) # create embedding\n",
        "x = layers.Conv1D(24, kernel_size=5, padding=\"same\", activation=\"relu\")(token_embeddings)\n",
        "x = layers.MaxPooling1D(pool_size=2, padding=\"valid\")(x)\n",
        "x = layers.GlobalAveragePooling1D()(x)  #condense the output of our vector from conv layer\n",
        "outputs = layers.Dense(num_classes, activation=\"softmax\")(x)\n",
        "model_1 = tf.keras.Model(inputs, outputs)"
      ],
      "execution_count": 37,
      "outputs": []
    },
    {
      "cell_type": "code",
      "metadata": {
        "id": "Y3p3FaJ2qJpN"
      },
      "source": [
        "# Compile the model\n",
        "model_1.compile(loss=\"categorical_crossentropy\",\n",
        "                optimizer=\"Adam\",\n",
        "                metrics=[\"accuracy\"])"
      ],
      "execution_count": 38,
      "outputs": []
    },
    {
      "cell_type": "code",
      "metadata": {
        "colab": {
          "base_uri": "https://localhost:8080/"
        },
        "id": "7CnafsTxd8Ua",
        "outputId": "33c61729-0c11-4794-a6dd-fe4af4ebd4e6"
      },
      "source": [
        "# Get a summary of the model\n",
        "model_1.summary()"
      ],
      "execution_count": 39,
      "outputs": [
        {
          "output_type": "stream",
          "name": "stdout",
          "text": [
            "Model: \"model\"\n",
            "_________________________________________________________________\n",
            "Layer (type)                 Output Shape              Param #   \n",
            "=================================================================\n",
            "input_1 (InputLayer)         [(None, 1)]               0         \n",
            "_________________________________________________________________\n",
            "text_vectorization (TextVect (None, 41)                0         \n",
            "_________________________________________________________________\n",
            "token_embedding (Embedding)  (None, 41, 128)           1945600   \n",
            "_________________________________________________________________\n",
            "conv1d (Conv1D)              (None, 41, 24)            15384     \n",
            "_________________________________________________________________\n",
            "max_pooling1d (MaxPooling1D) (None, 20, 24)            0         \n",
            "_________________________________________________________________\n",
            "global_average_pooling1d (Gl (None, 24)                0         \n",
            "_________________________________________________________________\n",
            "dense (Dense)                (None, 6)                 150       \n",
            "=================================================================\n",
            "Total params: 1,961,134\n",
            "Trainable params: 1,961,134\n",
            "Non-trainable params: 0\n",
            "_________________________________________________________________\n"
          ]
        }
      ]
    },
    {
      "cell_type": "markdown",
      "metadata": {
        "id": "m6cdqsaWrQGy"
      },
      "source": [
        "Checking out the model summary, you'll notice the majority of the trainable parameters are within the embedding layer. If we were to increase the size of the embedding (by increasing the `output_dim` parameter of the `Embedding` layer), the number of trainable parameters would increase dramatically."
      ]
    },
    {
      "cell_type": "code",
      "metadata": {
        "colab": {
          "base_uri": "https://localhost:8080/"
        },
        "id": "rkM8UNwphrPJ",
        "outputId": "2ecebcc2-ef0e-4f56-8ab1-f9a9ab146e3a"
      },
      "source": [
        "# Fit the model\n",
        "history_model_1 = model_1.fit(train_dataset,\n",
        "                              epochs=5,\n",
        "                              validation_data=val_dataset)"
      ],
      "execution_count": 40,
      "outputs": [
        {
          "output_type": "stream",
          "name": "stdout",
          "text": [
            "Epoch 1/5\n",
            "500/500 [==============================] - 35s 11ms/step - loss: 1.2862 - accuracy: 0.5391 - val_loss: 0.7383 - val_accuracy: 0.7825\n",
            "Epoch 2/5\n",
            "500/500 [==============================] - 5s 9ms/step - loss: 0.4179 - accuracy: 0.8760 - val_loss: 0.3949 - val_accuracy: 0.8715\n",
            "Epoch 3/5\n",
            "500/500 [==============================] - 5s 10ms/step - loss: 0.1724 - accuracy: 0.9504 - val_loss: 0.3439 - val_accuracy: 0.8995\n",
            "Epoch 4/5\n",
            "500/500 [==============================] - 5s 10ms/step - loss: 0.0912 - accuracy: 0.9750 - val_loss: 0.3557 - val_accuracy: 0.8940\n",
            "Epoch 5/5\n",
            "500/500 [==============================] - 5s 10ms/step - loss: 0.0572 - accuracy: 0.9843 - val_loss: 0.3873 - val_accuracy: 0.8900\n"
          ]
        }
      ]
    },
    {
      "cell_type": "code",
      "metadata": {
        "colab": {
          "base_uri": "https://localhost:8080/"
        },
        "id": "fRg-nJPJAzEs",
        "outputId": "4eb7487b-e2b3-40d4-f95d-d95d391d8f85"
      },
      "source": [
        "# Evaluate the model on test_dataset\n",
        "model_1.evaluate(test_dataset)"
      ],
      "execution_count": 41,
      "outputs": [
        {
          "output_type": "stream",
          "name": "stdout",
          "text": [
            "63/63 [==============================] - 0s 5ms/step - loss: 0.3903 - accuracy: 0.8845\n"
          ]
        },
        {
          "output_type": "execute_result",
          "data": {
            "text/plain": [
              "[0.3903273046016693, 0.8845000267028809]"
            ]
          },
          "metadata": {},
          "execution_count": 41
        }
      ]
    },
    {
      "cell_type": "code",
      "metadata": {
        "colab": {
          "base_uri": "https://localhost:8080/"
        },
        "id": "cx6PzHZ7C5FD",
        "outputId": "379cdeec-ef92-465c-cc91-57f7d187bf6c"
      },
      "source": [
        "# Make predictions\n",
        "model_1_pred_probs = model_1.predict(test_sentences)\n",
        "model_1_pred_probs"
      ],
      "execution_count": 42,
      "outputs": [
        {
          "output_type": "execute_result",
          "data": {
            "text/plain": [
              "array([[7.0527624e-03, 3.9458432e-04, 3.4663850e-04, 6.1708626e-05,\n",
              "        9.9201715e-01, 1.2715103e-04],\n",
              "       [1.6659827e-03, 1.2871175e-04, 4.7048594e-05, 2.0090297e-06,\n",
              "        9.9814034e-01, 1.5981288e-05],\n",
              "       [7.2514815e-03, 1.0233707e-03, 5.5028247e-03, 2.0962587e-04,\n",
              "        9.8582584e-01, 1.8686449e-04],\n",
              "       ...,\n",
              "       [2.7542073e-05, 6.7739992e-04, 9.9853635e-01, 4.9540075e-04,\n",
              "        1.9530414e-04, 6.7950699e-05],\n",
              "       [1.8944417e-04, 3.9883592e-04, 9.9280351e-01, 1.4697787e-03,\n",
              "        5.0437353e-03, 9.4551913e-05],\n",
              "       [1.4268643e-02, 6.5975839e-01, 9.0131798e-04, 1.3291672e-02,\n",
              "        3.1585103e-05, 3.1174842e-01]], dtype=float32)"
            ]
          },
          "metadata": {},
          "execution_count": 42
        }
      ]
    },
    {
      "cell_type": "code",
      "metadata": {
        "colab": {
          "base_uri": "https://localhost:8080/"
        },
        "id": "B-OOqQa2DHkA",
        "outputId": "80b58abc-e419-484f-cff9-74ba07f30c7a"
      },
      "source": [
        "# Convert pred probs to classes\n",
        "model_1_preds = tf.argmax(model_1_pred_probs, axis=1)\n",
        "model_1_preds"
      ],
      "execution_count": 43,
      "outputs": [
        {
          "output_type": "execute_result",
          "data": {
            "text/plain": [
              "<tf.Tensor: shape=(2000,), dtype=int64, numpy=array([4, 4, 4, ..., 2, 2, 1])>"
            ]
          },
          "metadata": {},
          "execution_count": 43
        }
      ]
    },
    {
      "cell_type": "code",
      "metadata": {
        "colab": {
          "base_uri": "https://localhost:8080/"
        },
        "id": "FGnwq9WRDHhH",
        "outputId": "0c02b4c3-57c9-462b-e9a5-bbab96ffe5f1"
      },
      "source": [
        "# Calculate model_1 results\n",
        "model_1_results = calculate_results(y_true=test_labels_encoded,\n",
        "                                    y_pred=model_1_preds)\n",
        "model_1_results"
      ],
      "execution_count": 44,
      "outputs": [
        {
          "output_type": "execute_result",
          "data": {
            "text/plain": [
              "{'accuracy': 88.44999999999999,\n",
              " 'f1': 0.8835886366733995,\n",
              " 'precision': 0.884982940423745,\n",
              " 'recall': 0.8845}"
            ]
          },
          "metadata": {},
          "execution_count": 44
        }
      ]
    },
    {
      "cell_type": "code",
      "metadata": {
        "colab": {
          "base_uri": "https://localhost:8080/",
          "height": 573
        },
        "id": "XpCynRUaqr7S",
        "outputId": "3b3ee31f-7cdd-4051-f2c1-3e848b654cec"
      },
      "source": [
        "# Plot the loss curves\n",
        "from helper_functions import plot_loss_curves\n",
        "plot_loss_curves(history_model_1)"
      ],
      "execution_count": 45,
      "outputs": [
        {
          "output_type": "display_data",
          "data": {
            "image/png": "[encoded data removed]",
            "text/plain": [
              "<Figure size 432x288 with 1 Axes>"
            ]
          },
          "metadata": {
            "needs_background": "light"
          }
        },
        {
          "output_type": "display_data",
          "data": {
            "image/png": "[encoded data removed]",
            "text/plain": [
              "<Figure size 432x288 with 1 Axes>"
            ]
          },
          "metadata": {
            "needs_background": "light"
          }
        }
      ]
    },
    {
      "cell_type": "markdown",
      "metadata": {
        "id": "Rpwb36MntfFp"
      },
      "source": [
        "## Model 2: LSTM"
      ]
    },
    {
      "cell_type": "code",
      "metadata": {
        "id": "jo3aRRzAJVDz"
      },
      "source": [
        "# Create an embedding layer (new embedding layer for each model)\n",
        "from tensorflow.keras import layers\n",
        "model_2_embedding = layers.Embedding(input_dim=len(text_vocab),\n",
        "                                     output_dim=128,\n",
        "                                     mask_zero=True,\n",
        "                                     name=\"embedding_2\")\n",
        "# Create LSTM model \n",
        "inputs = layers.Input(shape=(1,), dtype=\"string\")\n",
        "x = text_vectorizer(inputs)\n",
        "x = model_2_embedding(x)\n",
        "# x = layers.LSTM(64, return_sequences=True)(x) # when you're stacking RNN cells together, you need to set return_sequences=True\n",
        "x = layers.LSTM(48)(x)\n",
        "#x = layers.Dense(64, activation=\"relu\")(x)\n",
        "outputs = layers.Dense(num_classes, activation=\"softmax\")(x)\n",
        "model_2 = tf.keras.Model(inputs, outputs, name=\"model_2_LSTM\")"
      ],
      "execution_count": 46,
      "outputs": []
    },
    {
      "cell_type": "code",
      "metadata": {
        "colab": {
          "base_uri": "https://localhost:8080/"
        },
        "id": "axumBXaYJVBa",
        "outputId": "f379c597-f110-419d-f233-d8b228e4283f"
      },
      "source": [
        "model_2.summary()"
      ],
      "execution_count": 47,
      "outputs": [
        {
          "output_type": "stream",
          "name": "stdout",
          "text": [
            "Model: \"model_2_LSTM\"\n",
            "_________________________________________________________________\n",
            "Layer (type)                 Output Shape              Param #   \n",
            "=================================================================\n",
            "input_2 (InputLayer)         [(None, 1)]               0         \n",
            "_________________________________________________________________\n",
            "text_vectorization (TextVect (None, 41)                0         \n",
            "_________________________________________________________________\n",
            "embedding_2 (Embedding)      (None, 41, 128)           1945600   \n",
            "_________________________________________________________________\n",
            "lstm (LSTM)                  (None, 48)                33984     \n",
            "_________________________________________________________________\n",
            "dense_1 (Dense)              (None, 6)                 294       \n",
            "=================================================================\n",
            "Total params: 1,979,878\n",
            "Trainable params: 1,979,878\n",
            "Non-trainable params: 0\n",
            "_________________________________________________________________\n"
          ]
        }
      ]
    },
    {
      "cell_type": "code",
      "metadata": {
        "id": "KZG67hCEJU7J"
      },
      "source": [
        "# Compile the model\n",
        "model_2.compile(loss=\"binary_crossentropy\",\n",
        "                optimizer=\"Adam\",\n",
        "                metrics=[\"accuracy\"])"
      ],
      "execution_count": 48,
      "outputs": []
    },
    {
      "cell_type": "code",
      "metadata": {
        "colab": {
          "base_uri": "https://localhost:8080/"
        },
        "id": "DXe8kLfsJ7lv",
        "outputId": "37507c63-8364-4370-f2d9-139c58955af7"
      },
      "source": [
        "# Fit the model\n",
        "history_model_2 = model_2.fit(train_dataset,\n",
        "                              epochs=5,\n",
        "                              validation_data=val_dataset)"
      ],
      "execution_count": 49,
      "outputs": [
        {
          "output_type": "stream",
          "name": "stdout",
          "text": [
            "Epoch 1/5\n",
            "500/500 [==============================] - 18s 25ms/step - loss: 0.3817 - accuracy: 0.4536 - val_loss: 0.2821 - val_accuracy: 0.6600\n",
            "Epoch 2/5\n",
            "500/500 [==============================] - 11s 22ms/step - loss: 0.1674 - accuracy: 0.8186 - val_loss: 0.1173 - val_accuracy: 0.8745\n",
            "Epoch 3/5\n",
            "500/500 [==============================] - 11s 22ms/step - loss: 0.0703 - accuracy: 0.9335 - val_loss: 0.0874 - val_accuracy: 0.9070\n",
            "Epoch 4/5\n",
            "500/500 [==============================] - 11s 22ms/step - loss: 0.0419 - accuracy: 0.9616 - val_loss: 0.0904 - val_accuracy: 0.9115\n",
            "Epoch 5/5\n",
            "500/500 [==============================] - 11s 22ms/step - loss: 0.0285 - accuracy: 0.9753 - val_loss: 0.0947 - val_accuracy: 0.9030\n"
          ]
        }
      ]
    },
    {
      "cell_type": "code",
      "metadata": {
        "colab": {
          "base_uri": "https://localhost:8080/"
        },
        "id": "fntWRgJQJ7jv",
        "outputId": "72022379-cc71-4638-87e1-7d41ab1cf76e"
      },
      "source": [
        "# Evaluate the model on test_data\n",
        "model_2.evaluate(test_dataset)"
      ],
      "execution_count": 50,
      "outputs": [
        {
          "output_type": "stream",
          "name": "stdout",
          "text": [
            "63/63 [==============================] - 1s 8ms/step - loss: 0.1022 - accuracy: 0.9010\n"
          ]
        },
        {
          "output_type": "execute_result",
          "data": {
            "text/plain": [
              "[0.10222334414720535, 0.9010000228881836]"
            ]
          },
          "metadata": {},
          "execution_count": 50
        }
      ]
    },
    {
      "cell_type": "code",
      "metadata": {
        "colab": {
          "base_uri": "https://localhost:8080/"
        },
        "id": "JH1c9g9fJ7et",
        "outputId": "025e7e76-d2fb-4103-ae8f-51d0357d75a5"
      },
      "source": [
        "# Make predictions with LSTM model\n",
        "model_2_pred_probs = model_2.predict(test_sentences)\n",
        "model_2_pred_probs"
      ],
      "execution_count": 51,
      "outputs": [
        {
          "output_type": "execute_result",
          "data": {
            "text/plain": [
              "array([[9.66447806e-06, 2.23645748e-06, 7.77378773e-07, 2.63742868e-06,\n",
              "        9.99983668e-01, 1.07373762e-06],\n",
              "       [3.45119246e-04, 8.55089966e-05, 5.23158851e-05, 1.30520193e-05,\n",
              "        9.99487996e-01, 1.59559604e-05],\n",
              "       [6.47294044e-04, 6.00032872e-05, 4.95217209e-05, 8.70452204e-05,\n",
              "        9.99037385e-01, 1.18793265e-04],\n",
              "       ...,\n",
              "       [6.46984627e-05, 6.63887840e-06, 9.99750912e-01, 1.13726957e-04,\n",
              "        5.48232128e-05, 9.15489090e-06],\n",
              "       [1.11194167e-04, 1.02396971e-05, 9.99742687e-01, 9.05402485e-05,\n",
              "        2.98026407e-05, 1.54728223e-05],\n",
              "       [1.52593348e-04, 2.76097772e-03, 3.10046657e-04, 1.33938552e-03,\n",
              "        2.41462367e-05, 9.95412886e-01]], dtype=float32)"
            ]
          },
          "metadata": {},
          "execution_count": 51
        }
      ]
    },
    {
      "cell_type": "code",
      "metadata": {
        "colab": {
          "base_uri": "https://localhost:8080/"
        },
        "id": "3EVK4GplK4_Q",
        "outputId": "0dde5897-3cf4-48a3-dee9-c01f0bb311ba"
      },
      "source": [
        "# Convert model_2_pred_probs to labels\n",
        "model_2_preds = tf.argmax(model_2_pred_probs, axis=1)\n",
        "model_2_preds"
      ],
      "execution_count": 52,
      "outputs": [
        {
          "output_type": "execute_result",
          "data": {
            "text/plain": [
              "<tf.Tensor: shape=(2000,), dtype=int64, numpy=array([4, 4, 4, ..., 2, 2, 5])>"
            ]
          },
          "metadata": {},
          "execution_count": 52
        }
      ]
    },
    {
      "cell_type": "code",
      "metadata": {
        "colab": {
          "base_uri": "https://localhost:8080/"
        },
        "id": "yrq8xR31K-uc",
        "outputId": "951b24a8-3370-498f-9754-bc9a8d75c114"
      },
      "source": [
        "# Calculate model 2 results\n",
        "model_2_results = calculate_results(y_true=test_labels_encoded,\n",
        "                                    y_pred=model_2_preds)\n",
        "model_2_results"
      ],
      "execution_count": 53,
      "outputs": [
        {
          "output_type": "execute_result",
          "data": {
            "text/plain": [
              "{'accuracy': 90.10000000000001,\n",
              " 'f1': 0.9003423406619896,\n",
              " 'precision': 0.9014106019499734,\n",
              " 'recall': 0.901}"
            ]
          },
          "metadata": {},
          "execution_count": 53
        }
      ]
    },
    {
      "cell_type": "code",
      "metadata": {
        "colab": {
          "base_uri": "https://localhost:8080/",
          "height": 573
        },
        "id": "CInS9P0hyuwp",
        "outputId": "68ce9ca5-6829-47f9-e53b-f5cc16a30c0a"
      },
      "source": [
        "plot_loss_curves(history_model_2)"
      ],
      "execution_count": 54,
      "outputs": [
        {
          "output_type": "display_data",
          "data": {
            "image/png": "[encoded data removed]",
            "text/plain": [
              "<Figure size 432x288 with 1 Axes>"
            ]
          },
          "metadata": {
            "needs_background": "light"
          }
        },
        {
          "output_type": "display_data",
          "data": {
            "image/png": "[encoded data removed]",
            "text/plain": [
              "<Figure size 432x288 with 1 Axes>"
            ]
          },
          "metadata": {
            "needs_background": "light"
          }
        }
      ]
    },
    {
      "cell_type": "code",
      "metadata": {
        "id": "1Ck_1YSLJ7hG"
      },
      "source": [
        "# Create a helper function to compare our results\n",
        "def compare_results(old_model_results, new_model_results):\n",
        "  for key, value in old_model_results.items():\n",
        "    print(f\"Old {key}: {value:.2f}, New {key}: {new_model_results[key]:.2f}, Difference: {new_model_results[key]-value:.2f}\")"
      ],
      "execution_count": 55,
      "outputs": []
    },
    {
      "cell_type": "code",
      "metadata": {
        "colab": {
          "base_uri": "https://localhost:8080/"
        },
        "id": "wq56mLGBizvl",
        "outputId": "78052ac4-967c-4bb6-bf0b-dfeb5731483d"
      },
      "source": [
        "# Compare model_1's results with model_2's results\n",
        "compare_results(old_model_results=model_1_results, \n",
        "                new_model_results=model_2_results)"
      ],
      "execution_count": 56,
      "outputs": [
        {
          "output_type": "stream",
          "name": "stdout",
          "text": [
            "Old accuracy: 88.45, New accuracy: 90.10, Difference: 1.65\n",
            "Old precision: 0.88, New precision: 0.90, Difference: 0.02\n",
            "Old recall: 0.88, New recall: 0.90, Difference: 0.02\n",
            "Old f1: 0.88, New f1: 0.90, Difference: 0.02\n"
          ]
        }
      ]
    },
    {
      "cell_type": "markdown",
      "metadata": {
        "id": "3qTmccVt1mN6"
      },
      "source": [
        "## Model 3: GRU"
      ]
    },
    {
      "cell_type": "code",
      "metadata": {
        "id": "912cv-y61tuL"
      },
      "source": [
        "# Create embedding layer\n",
        "model_3_embedding = layers.Embedding(input_dim=len(text_vocab),\n",
        "                                     output_dim=128,\n",
        "                                     mask_zero=True,\n",
        "                                     name=\"embedding_3\")\n",
        "# Build an RNN using the GRU cell\n",
        "inputs = layers.Input(shape=(1,), dtype=tf.string)\n",
        "x = text_vectorizer(inputs)\n",
        "x = model_3_embedding(x)\n",
        "#x = layers.GRU(64, return_sequences=True)(x) # if you want to stack recurrent layers on top of each other, you need to set return_sequences=True\n",
        "#x = layers.GlobalAveragePooling1D()(x)\n",
        "x = layers.GRU(48)(x)\n",
        "outputs = layers.Dense(num_classes, activation=\"softmax\")(x)\n",
        "model_3 = tf.keras.Model(inputs, outputs, name=\"model_3_GRU\")"
      ],
      "execution_count": 57,
      "outputs": []
    },
    {
      "cell_type": "code",
      "metadata": {
        "colab": {
          "base_uri": "https://localhost:8080/"
        },
        "id": "_IuaoewA2SD6",
        "outputId": "4d88fad3-ba47-4c7f-f22a-cec93c7ed36e"
      },
      "source": [
        "# Get a summary of the model\n",
        "model_3.summary()"
      ],
      "execution_count": 58,
      "outputs": [
        {
          "output_type": "stream",
          "name": "stdout",
          "text": [
            "Model: \"model_3_GRU\"\n",
            "_________________________________________________________________\n",
            "Layer (type)                 Output Shape              Param #   \n",
            "=================================================================\n",
            "input_3 (InputLayer)         [(None, 1)]               0         \n",
            "_________________________________________________________________\n",
            "text_vectorization (TextVect (None, 41)                0         \n",
            "_________________________________________________________________\n",
            "embedding_3 (Embedding)      (None, 41, 128)           1945600   \n",
            "_________________________________________________________________\n",
            "gru (GRU)                    (None, 48)                25632     \n",
            "_________________________________________________________________\n",
            "dense_2 (Dense)              (None, 6)                 294       \n",
            "=================================================================\n",
            "Total params: 1,971,526\n",
            "Trainable params: 1,971,526\n",
            "Non-trainable params: 0\n",
            "_________________________________________________________________\n"
          ]
        }
      ]
    },
    {
      "cell_type": "code",
      "metadata": {
        "id": "i2mR6nTw2OGJ"
      },
      "source": [
        "# Compile the model\n",
        "model_3.compile(loss=\"categorical_crossentropy\",\n",
        "                optimizer=\"Adam\",\n",
        "                metrics=[\"accuracy\"])"
      ],
      "execution_count": 59,
      "outputs": []
    },
    {
      "cell_type": "code",
      "metadata": {
        "colab": {
          "base_uri": "https://localhost:8080/"
        },
        "id": "djceKkhI2vLk",
        "outputId": "0f3be4b7-14be-471c-cf16-9dc1a8af0523"
      },
      "source": [
        "# Fit the model\n",
        "history_model_3 = model_3.fit(train_dataset,\n",
        "                              epochs=5,\n",
        "                              validation_data=val_dataset)"
      ],
      "execution_count": 60,
      "outputs": [
        {
          "output_type": "stream",
          "name": "stdout",
          "text": [
            "Epoch 1/5\n",
            "500/500 [==============================] - 16s 23ms/step - loss: 1.0097 - accuracy: 0.6237 - val_loss: 0.3118 - val_accuracy: 0.9030\n",
            "Epoch 2/5\n",
            "500/500 [==============================] - 10s 20ms/step - loss: 0.2013 - accuracy: 0.9284 - val_loss: 0.2186 - val_accuracy: 0.9200\n",
            "Epoch 3/5\n",
            "500/500 [==============================] - 10s 20ms/step - loss: 0.1086 - accuracy: 0.9571 - val_loss: 0.2094 - val_accuracy: 0.9225\n",
            "Epoch 4/5\n",
            "500/500 [==============================] - 10s 20ms/step - loss: 0.0691 - accuracy: 0.9735 - val_loss: 0.2104 - val_accuracy: 0.9245\n",
            "Epoch 5/5\n",
            "500/500 [==============================] - 10s 20ms/step - loss: 0.0518 - accuracy: 0.9797 - val_loss: 0.2683 - val_accuracy: 0.9215\n"
          ]
        }
      ]
    },
    {
      "cell_type": "code",
      "metadata": {
        "colab": {
          "base_uri": "https://localhost:8080/"
        },
        "id": "vUksnILa3KuT",
        "outputId": "3dd604ba-6bbd-4961-9b3b-e00ba1362eef"
      },
      "source": [
        "# Evaluate the model on the test_dataset\n",
        "model_3.evaluate(test_dataset)"
      ],
      "execution_count": 61,
      "outputs": [
        {
          "output_type": "stream",
          "name": "stdout",
          "text": [
            "63/63 [==============================] - 1s 8ms/step - loss: 0.2924 - accuracy: 0.9045\n"
          ]
        },
        {
          "output_type": "execute_result",
          "data": {
            "text/plain": [
              "[0.2924498915672302, 0.9045000076293945]"
            ]
          },
          "metadata": {},
          "execution_count": 61
        }
      ]
    },
    {
      "cell_type": "code",
      "metadata": {
        "colab": {
          "base_uri": "https://localhost:8080/"
        },
        "id": "W_yICz033d8B",
        "outputId": "70b2ec8b-ac1f-41fb-fd6a-0b5522a2d15d"
      },
      "source": [
        "# Make predictions with GRU model\n",
        "model_3_pred_probs = model_3.predict(test_sentences)\n",
        "model_3_pred_probs"
      ],
      "execution_count": 62,
      "outputs": [
        {
          "output_type": "execute_result",
          "data": {
            "text/plain": [
              "array([[3.5440844e-05, 1.9116515e-05, 4.4053772e-06, 2.5277618e-06,\n",
              "        9.9991584e-01, 2.2678332e-05],\n",
              "       [3.7528426e-04, 1.0022566e-05, 5.2450956e-03, 7.9829706e-06,\n",
              "        9.9433810e-01, 2.3479237e-05],\n",
              "       [1.6531044e-03, 4.1427902e-05, 1.3835880e-01, 3.5981482e-03,\n",
              "        8.5618395e-01, 1.6453433e-04],\n",
              "       ...,\n",
              "       [2.1183792e-05, 4.9623053e-05, 9.9801886e-01, 1.8601993e-03,\n",
              "        3.8454964e-05, 1.1808775e-05],\n",
              "       [3.4327827e-06, 3.2095340e-06, 9.9968982e-01, 1.4760499e-04,\n",
              "        1.5537799e-04, 4.4355835e-07],\n",
              "       [3.6270407e-04, 7.0337409e-01, 1.1119281e-04, 4.6160494e-04,\n",
              "        1.9988916e-03, 2.9369158e-01]], dtype=float32)"
            ]
          },
          "metadata": {},
          "execution_count": 62
        }
      ]
    },
    {
      "cell_type": "code",
      "metadata": {
        "colab": {
          "base_uri": "https://localhost:8080/"
        },
        "id": "KnNadDgY3d5h",
        "outputId": "6d06e3f8-17fa-48c6-dc69-0c84127ba8cc"
      },
      "source": [
        "# Convert model_3_pred_probs to labels\n",
        "model_3_preds = tf.argmax(model_3_pred_probs, axis=1)\n",
        "model_3_preds"
      ],
      "execution_count": 63,
      "outputs": [
        {
          "output_type": "execute_result",
          "data": {
            "text/plain": [
              "<tf.Tensor: shape=(2000,), dtype=int64, numpy=array([4, 4, 4, ..., 2, 2, 1])>"
            ]
          },
          "metadata": {},
          "execution_count": 63
        }
      ]
    },
    {
      "cell_type": "code",
      "metadata": {
        "colab": {
          "base_uri": "https://localhost:8080/"
        },
        "id": "1gkYl5eO3nxI",
        "outputId": "08c5deca-ecf2-4c1f-bbff-ee7699e1d169"
      },
      "source": [
        "# Calculate model 3 results\n",
        "model_3_results = calculate_results(y_true=test_labels_encoded,\n",
        "                                    y_pred=model_3_preds)\n",
        "model_3_results"
      ],
      "execution_count": 64,
      "outputs": [
        {
          "output_type": "execute_result",
          "data": {
            "text/plain": [
              "{'accuracy': 90.45,\n",
              " 'f1': 0.9035762826070801,\n",
              " 'precision': 0.9050595281046367,\n",
              " 'recall': 0.9045}"
            ]
          },
          "metadata": {},
          "execution_count": 64
        }
      ]
    },
    {
      "cell_type": "code",
      "metadata": {
        "colab": {
          "base_uri": "https://localhost:8080/",
          "height": 573
        },
        "id": "WkW2P6NR3nud",
        "outputId": "1dcd5fce-5b84-4d2f-ad5b-2a4238acafee"
      },
      "source": [
        "plot_loss_curves(history_model_3)"
      ],
      "execution_count": 65,
      "outputs": [
        {
          "output_type": "display_data",
          "data": {
            "image/png": "[encoded data removed]",
            "text/plain": [
              "<Figure size 432x288 with 1 Axes>"
            ]
          },
          "metadata": {
            "needs_background": "light"
          }
        },
        {
          "output_type": "display_data",
          "data": {
            "image/png": "[encoded data removed]",
            "text/plain": [
              "<Figure size 432x288 with 1 Axes>"
            ]
          },
          "metadata": {
            "needs_background": "light"
          }
        }
      ]
    },
    {
      "cell_type": "code",
      "metadata": {
        "colab": {
          "base_uri": "https://localhost:8080/"
        },
        "id": "Fs1anMbt6tgj",
        "outputId": "3bebae60-138c-4049-e896-f926ea788a94"
      },
      "source": [
        "# Compare model_2's results with model_3's results\n",
        "compare_results(old_model_results=model_2_results, \n",
        "                new_model_results=model_3_results)"
      ],
      "execution_count": 66,
      "outputs": [
        {
          "output_type": "stream",
          "name": "stdout",
          "text": [
            "Old accuracy: 90.10, New accuracy: 90.45, Difference: 0.35\n",
            "Old precision: 0.90, New precision: 0.91, Difference: 0.00\n",
            "Old recall: 0.90, New recall: 0.90, Difference: 0.00\n",
            "Old f1: 0.90, New f1: 0.90, Difference: 0.00\n"
          ]
        }
      ]
    },
    {
      "cell_type": "markdown",
      "metadata": {
        "id": "pRCIxf017DSe"
      },
      "source": [
        "## Model 4: Bidirectional LSTM"
      ]
    },
    {
      "cell_type": "code",
      "metadata": {
        "id": "Jx4b_Cuh3nr1"
      },
      "source": [
        "# Create embedding layer\n",
        "model_4_embedding = layers.Embedding(input_dim=len(text_vocab),\n",
        "                                     output_dim=128,\n",
        "                                     mask_zero=True,\n",
        "                                     name=\"embedding_4\")\n",
        "\n",
        "# Build a bidirectional RNN\n",
        "from tensorflow.keras import layers\n",
        "inputs = layers.Input(shape=(1,), dtype=\"string\")\n",
        "x = text_vectorizer(inputs)\n",
        "x = model_4_embedding(x)\n",
        "#x = layers.Bidirectional(layers.LSTM(64, return_sequences=True))(x)\n",
        "x = layers.Bidirectional(layers.LSTM(24))(x) # bidirectional goes both ways so has double the parameters of a regular LSTM layer\n",
        "outputs = layers.Dense(num_classes, activation=\"softmax\")(x)\n",
        "model_4 = tf.keras.Model(inputs, outputs, name=\"model_4_bidirectional\")"
      ],
      "execution_count": 67,
      "outputs": []
    },
    {
      "cell_type": "code",
      "metadata": {
        "colab": {
          "base_uri": "https://localhost:8080/"
        },
        "id": "Gnd2j_UnB6ET",
        "outputId": "c5b7685e-927c-42e5-c73c-37e14a9edb7b"
      },
      "source": [
        "# Get a summary\n",
        "model_4.summary()"
      ],
      "execution_count": 68,
      "outputs": [
        {
          "output_type": "stream",
          "name": "stdout",
          "text": [
            "Model: \"model_4_bidirectional\"\n",
            "_________________________________________________________________\n",
            "Layer (type)                 Output Shape              Param #   \n",
            "=================================================================\n",
            "input_4 (InputLayer)         [(None, 1)]               0         \n",
            "_________________________________________________________________\n",
            "text_vectorization (TextVect (None, 41)                0         \n",
            "_________________________________________________________________\n",
            "embedding_4 (Embedding)      (None, 41, 128)           1945600   \n",
            "_________________________________________________________________\n",
            "bidirectional (Bidirectional (None, 48)                29376     \n",
            "_________________________________________________________________\n",
            "dense_3 (Dense)              (None, 6)                 294       \n",
            "=================================================================\n",
            "Total params: 1,975,270\n",
            "Trainable params: 1,975,270\n",
            "Non-trainable params: 0\n",
            "_________________________________________________________________\n"
          ]
        }
      ]
    },
    {
      "cell_type": "code",
      "metadata": {
        "id": "ifrJQTkcB6B6"
      },
      "source": [
        "# Compile the model\n",
        "model_4.compile(loss=\"binary_crossentropy\",\n",
        "                optimizer=\"Adam\",\n",
        "                metrics=[\"accuracy\"])"
      ],
      "execution_count": 69,
      "outputs": []
    },
    {
      "cell_type": "code",
      "metadata": {
        "colab": {
          "base_uri": "https://localhost:8080/"
        },
        "id": "I_4C1EQyB5_q",
        "outputId": "2f0a5558-c130-4e52-d500-8c7ecd70d458"
      },
      "source": [
        "# Fit the model\n",
        "history_model_4 = model_4.fit(train_dataset,\n",
        "                              epochs=5,\n",
        "                              validation_data=val_dataset)"
      ],
      "execution_count": 70,
      "outputs": [
        {
          "output_type": "stream",
          "name": "stdout",
          "text": [
            "Epoch 1/5\n",
            "500/500 [==============================] - 28s 39ms/step - loss: 0.3614 - accuracy: 0.4982 - val_loss: 0.2225 - val_accuracy: 0.7450\n",
            "Epoch 2/5\n",
            "500/500 [==============================] - 17s 33ms/step - loss: 0.1277 - accuracy: 0.8677 - val_loss: 0.1080 - val_accuracy: 0.8795\n",
            "Epoch 3/5\n",
            "500/500 [==============================] - 17s 33ms/step - loss: 0.0557 - accuracy: 0.9470 - val_loss: 0.1049 - val_accuracy: 0.8890\n",
            "Epoch 4/5\n",
            "500/500 [==============================] - 17s 33ms/step - loss: 0.0401 - accuracy: 0.9643 - val_loss: 0.1096 - val_accuracy: 0.8860\n",
            "Epoch 5/5\n",
            "500/500 [==============================] - 17s 33ms/step - loss: 0.0274 - accuracy: 0.9780 - val_loss: 0.1211 - val_accuracy: 0.8820\n"
          ]
        }
      ]
    },
    {
      "cell_type": "code",
      "metadata": {
        "colab": {
          "base_uri": "https://localhost:8080/"
        },
        "id": "OhvEE2CrDx6i",
        "outputId": "39963ce6-0cff-44c6-c2a3-cc23158d87df"
      },
      "source": [
        "# Evaluate the model on the test_dataset\n",
        "model_4.evaluate(test_dataset)"
      ],
      "execution_count": 71,
      "outputs": [
        {
          "output_type": "stream",
          "name": "stdout",
          "text": [
            "63/63 [==============================] - 1s 12ms/step - loss: 0.1312 - accuracy: 0.8665\n"
          ]
        },
        {
          "output_type": "execute_result",
          "data": {
            "text/plain": [
              "[0.13122807443141937, 0.8665000200271606]"
            ]
          },
          "metadata": {},
          "execution_count": 71
        }
      ]
    },
    {
      "cell_type": "code",
      "metadata": {
        "colab": {
          "base_uri": "https://localhost:8080/"
        },
        "id": "BBNJYMmDDxw6",
        "outputId": "812571ba-93f9-4096-beeb-788cbbb9dd7d"
      },
      "source": [
        "# Make predictions with the bidirectional model\n",
        "model_4_pred_probs = model_4.predict(test_sentences)\n",
        "model_4_pred_probs"
      ],
      "execution_count": 72,
      "outputs": [
        {
          "output_type": "execute_result",
          "data": {
            "text/plain": [
              "array([[4.4869623e-05, 6.8620006e-06, 9.6523872e-05, 9.5310122e-07,\n",
              "        9.9984705e-01, 3.7117227e-06],\n",
              "       [7.9937621e-07, 4.4927836e-07, 1.9207673e-07, 1.0373084e-07,\n",
              "        9.9999833e-01, 1.3415716e-07],\n",
              "       [1.8737918e-06, 1.1311225e-05, 8.9393343e-06, 7.8968424e-07,\n",
              "        9.9997640e-01, 7.6009127e-07],\n",
              "       ...,\n",
              "       [1.8833591e-05, 1.4589325e-05, 9.9993229e-01, 2.0887162e-05,\n",
              "        1.3213305e-05, 2.7191302e-07],\n",
              "       [1.0712225e-05, 5.7610059e-06, 9.9991345e-01, 2.2955890e-05,\n",
              "        4.6862897e-05, 2.3771344e-07],\n",
              "       [2.0831655e-04, 4.3726444e-01, 7.4686343e-03, 7.3715900e-03,\n",
              "        3.7873692e-03, 5.4389960e-01]], dtype=float32)"
            ]
          },
          "metadata": {},
          "execution_count": 72
        }
      ]
    },
    {
      "cell_type": "code",
      "metadata": {
        "colab": {
          "base_uri": "https://localhost:8080/"
        },
        "id": "Pwd2P2kxB54m",
        "outputId": "2e0691e9-8bc8-4b88-8c53-0f226147e166"
      },
      "source": [
        "# Convert model_4_pred_probs to labels\n",
        "model_4_preds = tf.argmax(model_4_pred_probs, axis=1)\n",
        "model_4_preds"
      ],
      "execution_count": 73,
      "outputs": [
        {
          "output_type": "execute_result",
          "data": {
            "text/plain": [
              "<tf.Tensor: shape=(2000,), dtype=int64, numpy=array([4, 4, 4, ..., 2, 2, 5])>"
            ]
          },
          "metadata": {},
          "execution_count": 73
        }
      ]
    },
    {
      "cell_type": "code",
      "metadata": {
        "colab": {
          "base_uri": "https://localhost:8080/"
        },
        "id": "BN2lxgSVB51y",
        "outputId": "30572aa3-ab8d-42e0-d9a8-6c349a94eff7"
      },
      "source": [
        "# Calculate model 4 results\n",
        "model_4_results = calculate_results(y_true=test_labels_encoded,\n",
        "                                    y_pred=model_4_preds)\n",
        "model_4_results"
      ],
      "execution_count": 74,
      "outputs": [
        {
          "output_type": "execute_result",
          "data": {
            "text/plain": [
              "{'accuracy': 86.65,\n",
              " 'f1': 0.8649156771989707,\n",
              " 'precision': 0.8722752247298872,\n",
              " 'recall': 0.8665}"
            ]
          },
          "metadata": {},
          "execution_count": 74
        }
      ]
    },
    {
      "cell_type": "code",
      "metadata": {
        "colab": {
          "base_uri": "https://localhost:8080/",
          "height": 573
        },
        "id": "aqDttdLFB5y6",
        "outputId": "1fcd56ed-81cb-4abd-8f4e-824f138a59b2"
      },
      "source": [
        "plot_loss_curves(history_model_4)"
      ],
      "execution_count": 75,
      "outputs": [
        {
          "output_type": "display_data",
          "data": {
            "image/png": "[encoded data removed]",
            "text/plain": [
              "<Figure size 432x288 with 1 Axes>"
            ]
          },
          "metadata": {
            "needs_background": "light"
          }
        },
        {
          "output_type": "display_data",
          "data": {
            "image/png": "[encoded data removed]",
            "text/plain": [
              "<Figure size 432x288 with 1 Axes>"
            ]
          },
          "metadata": {
            "needs_background": "light"
          }
        }
      ]
    },
    {
      "cell_type": "code",
      "metadata": {
        "colab": {
          "base_uri": "https://localhost:8080/"
        },
        "id": "0MKqxfYoE71_",
        "outputId": "9260e188-903a-49b1-bbb6-8e585e7b1dc0"
      },
      "source": [
        "# Compare model_3's results with model_4's results\n",
        "compare_results(old_model_results=model_3_results, \n",
        "                new_model_results=model_4_results)"
      ],
      "execution_count": 76,
      "outputs": [
        {
          "output_type": "stream",
          "name": "stdout",
          "text": [
            "Old accuracy: 90.45, New accuracy: 86.65, Difference: -3.80\n",
            "Old precision: 0.91, New precision: 0.87, Difference: -0.03\n",
            "Old recall: 0.90, New recall: 0.87, Difference: -0.04\n",
            "Old f1: 0.90, New f1: 0.86, Difference: -0.04\n"
          ]
        }
      ]
    },
    {
      "cell_type": "markdown",
      "metadata": {
        "id": "AELTnsW6X9QQ"
      },
      "source": [
        "## Model 5: TensorFlow Hub Pretrained (USE)"
      ]
    },
    {
      "cell_type": "code",
      "metadata": {
        "colab": {
          "base_uri": "https://localhost:8080/"
        },
        "id": "soiZVQPYX9Ni",
        "outputId": "3b64215d-7e4c-4a0a-ebe3-513710205d6c"
      },
      "source": [
        "import tensorflow_hub as hub\n",
        "embed = hub.load(\"https://tfhub.dev/google/universal-sentence-encoder/4\")\n",
        "embed_sample = embed([\"It is a sunny day but it might rain because we're living in England.\"])\n",
        "print(embed_sample[0][:50])"
      ],
      "execution_count": 77,
      "outputs": [
        {
          "output_type": "stream",
          "name": "stdout",
          "text": [
            "tf.Tensor(\n",
            "[ 0.01969089 -0.01172204  0.01516426  0.04604841 -0.01095777  0.0595981\n",
            " -0.05272776 -0.05420119  0.07581246  0.01609087 -0.04979602 -0.06429223\n",
            " -0.03987594  0.08609368  0.01339708 -0.08656326 -0.00131273  0.05613713\n",
            "  0.05545615 -0.04708893  0.04151725 -0.01545368  0.09623946  0.02641499\n",
            "  0.01033184 -0.01502116 -0.00611563 -0.01057371  0.00980237  0.05312831\n",
            "  0.0663548   0.02078064 -0.02402304  0.0310212   0.01798204 -0.05440179\n",
            "  0.05768922 -0.09093192 -0.00769322 -0.00387449  0.04412678 -0.01284575\n",
            "  0.0025021   0.09464798 -0.10412336 -0.02218963 -0.0271006   0.03872307\n",
            " -0.05890216  0.01801249], shape=(50,), dtype=float32)\n"
          ]
        }
      ]
    },
    {
      "cell_type": "code",
      "metadata": {
        "colab": {
          "base_uri": "https://localhost:8080/"
        },
        "id": "UkHbyDAEX9K1",
        "outputId": "dfc3caeb-65c6-433a-cc31-da28849f10a1"
      },
      "source": [
        "embed_sample"
      ],
      "execution_count": 78,
      "outputs": [
        {
          "output_type": "execute_result",
          "data": {
            "text/plain": [
              "<tf.Tensor: shape=(1, 512), dtype=float32, numpy=\n",
              "array([[ 0.01969089, -0.01172204,  0.01516426,  0.04604841, -0.01095777,\n",
              "         0.0595981 , -0.05272776, -0.05420119,  0.07581246,  0.01609087,\n",
              "        -0.04979602, -0.06429223, -0.03987594,  0.08609368,  0.01339708,\n",
              "        -0.08656326, -0.00131273,  0.05613713,  0.05545615, -0.04708893,\n",
              "         0.04151725, -0.01545368,  0.09623946,  0.02641499,  0.01033184,\n",
              "        -0.01502116, -0.00611563, -0.01057371,  0.00980237,  0.05312831,\n",
              "         0.0663548 ,  0.02078064, -0.02402304,  0.0310212 ,  0.01798204,\n",
              "        -0.05440179,  0.05768922, -0.09093192, -0.00769322, -0.00387449,\n",
              "         0.04412678, -0.01284575,  0.0025021 ,  0.09464798, -0.10412336,\n",
              "        -0.02218963, -0.0271006 ,  0.03872307, -0.05890216,  0.01801249,\n",
              "         0.02907106, -0.09269992,  0.04387783,  0.01240254,  0.00549322,\n",
              "        -0.00131068, -0.01430397, -0.10571989, -0.05474945,  0.06855349,\n",
              "        -0.0042415 , -0.04233857,  0.04647706, -0.03684839, -0.02025765,\n",
              "        -0.03191435, -0.05127342, -0.07727215, -0.03750632, -0.01324798,\n",
              "        -0.03934632, -0.03814806,  0.06380349, -0.0351463 ,  0.01156484,\n",
              "        -0.01630802, -0.02339552, -0.06946281, -0.02934786,  0.0921394 ,\n",
              "         0.1084585 ,  0.01469734,  0.01931907, -0.01678113,  0.03645803,\n",
              "        -0.06001812, -0.02371972,  0.05061176,  0.00345166,  0.00919733,\n",
              "         0.02580147, -0.03438188,  0.04815238, -0.0380748 ,  0.03116335,\n",
              "         0.02361997,  0.04839981, -0.02263831,  0.04232658,  0.0073226 ,\n",
              "         0.05924072, -0.0105269 ,  0.00661099,  0.03883497,  0.03139343,\n",
              "         0.00084835,  0.02674005,  0.0805694 , -0.02238053, -0.0188009 ,\n",
              "        -0.031599  ,  0.06645352,  0.02482329, -0.04172102,  0.02740252,\n",
              "        -0.00014394,  0.00586967, -0.07285093,  0.04154758,  0.07581762,\n",
              "         0.07661173,  0.02321748,  0.0547544 , -0.01840446, -0.01075102,\n",
              "        -0.02562177,  0.09903856, -0.0764301 , -0.05083881, -0.00996253,\n",
              "         0.00810493,  0.04108276, -0.01461238, -0.01156402, -0.02437757,\n",
              "         0.01190804,  0.02496083, -0.0583435 , -0.08666419, -0.02684844,\n",
              "        -0.09025136, -0.03185367,  0.00995563, -0.0271285 ,  0.05218952,\n",
              "         0.01272478, -0.05169078, -0.04620059, -0.00177586, -0.04075433,\n",
              "         0.04049261,  0.06148935, -0.05037774,  0.03440168, -0.0659574 ,\n",
              "        -0.00076089,  0.00861251,  0.0606878 , -0.00921712, -0.02496964,\n",
              "        -0.05766535, -0.00601464,  0.00270295, -0.0388784 , -0.05065827,\n",
              "         0.01819773,  0.10470922,  0.01870566,  0.04114585, -0.04194291,\n",
              "         0.00333215, -0.02183346, -0.0005013 ,  0.05827968,  0.05622245,\n",
              "        -0.02496193, -0.0037511 ,  0.02016278, -0.05214338, -0.06691442,\n",
              "        -0.04943359, -0.05229419, -0.00023419,  0.03477309, -0.01367814,\n",
              "        -0.06744047,  0.04871108, -0.01669533,  0.04326191, -0.09826425,\n",
              "        -0.00678038, -0.03064536, -0.02719776, -0.06149517, -0.0312454 ,\n",
              "         0.02734519,  0.05310238,  0.00384944,  0.01217294, -0.00051625,\n",
              "        -0.109846  , -0.01933563,  0.04783811,  0.03803486,  0.00560104,\n",
              "        -0.01335368,  0.05665255,  0.01945682,  0.05008011,  0.00386336,\n",
              "         0.03698268,  0.05527644, -0.04682672, -0.03201757,  0.03622713,\n",
              "        -0.02750919,  0.01418037, -0.0093311 ,  0.09327827, -0.09175003,\n",
              "         0.01274055,  0.10797259, -0.01945484,  0.03693977,  0.01726436,\n",
              "        -0.00170388, -0.06362367, -0.01439237,  0.08274729, -0.02969065,\n",
              "        -0.01804408, -0.0366834 , -0.00735927, -0.02269137, -0.00454801,\n",
              "        -0.01712758, -0.01191888,  0.10191533, -0.01734087, -0.02050847,\n",
              "        -0.00948865,  0.04539982, -0.01286584, -0.02215093, -0.00494563,\n",
              "        -0.06479504, -0.02643041,  0.0371794 , -0.01564624,  0.02433041,\n",
              "         0.07540814, -0.06262176, -0.06442212, -0.02603437, -0.00523149,\n",
              "        -0.02962366,  0.01027564,  0.04345163, -0.00829661, -0.05906193,\n",
              "        -0.0749376 ,  0.05321686,  0.028818  ,  0.00432136,  0.03645169,\n",
              "         0.0305022 ,  0.00014673, -0.04740059,  0.03785398,  0.04670831,\n",
              "         0.03495608, -0.03221802,  0.07747988, -0.01373783, -0.04574938,\n",
              "        -0.03165402,  0.01306404, -0.09264135, -0.00146568,  0.02569191,\n",
              "         0.05251712,  0.02081253,  0.01434939, -0.00538501, -0.02438734,\n",
              "        -0.00193022, -0.0017775 ,  0.02404352,  0.03528326,  0.08666776,\n",
              "         0.03486744,  0.00924196,  0.06239717, -0.05429129, -0.01797102,\n",
              "         0.02978577, -0.02631195, -0.06406511,  0.00850458,  0.01582641,\n",
              "         0.02519333,  0.00121647, -0.00900203, -0.01758695,  0.00657357,\n",
              "         0.00877509,  0.07569455,  0.00352834,  0.01050982,  0.03727757,\n",
              "         0.05334811, -0.00896809,  0.02866517,  0.02444755,  0.07879092,\n",
              "        -0.04563574,  0.04915448,  0.03318421, -0.02712155, -0.05818807,\n",
              "         0.03787705, -0.08079888,  0.02096111,  0.01334947, -0.00222133,\n",
              "         0.02999497,  0.00065634,  0.05400229,  0.0498562 ,  0.0813522 ,\n",
              "        -0.09402297, -0.04304098, -0.03669316, -0.05706134, -0.02057293,\n",
              "        -0.00826075, -0.03710748,  0.04301815, -0.01160254,  0.03463358,\n",
              "        -0.05538393,  0.03547772, -0.02425355,  0.00715574, -0.02753519,\n",
              "         0.04209695,  0.01358605, -0.05482733, -0.0491236 , -0.01519879,\n",
              "        -0.01729734, -0.04645278,  0.02817937, -0.0543547 ,  0.05131953,\n",
              "         0.04490959, -0.101688  , -0.02158979, -0.05244177,  0.03157099,\n",
              "        -0.08529157,  0.06228251,  0.08124117,  0.06774014, -0.03691312,\n",
              "         0.06526643,  0.07496782,  0.0536441 , -0.03279584, -0.00419553,\n",
              "         0.05629203,  0.01686376,  0.0230381 ,  0.00648386, -0.02675031,\n",
              "        -0.06726168,  0.08956625, -0.02985338, -0.01527073, -0.01698973,\n",
              "         0.02312629,  0.03771779, -0.00236348,  0.0601069 , -0.01613966,\n",
              "        -0.03294348, -0.04344236,  0.07753021, -0.08237297, -0.02641731,\n",
              "        -0.02604108,  0.01045074,  0.01544485,  0.09056515,  0.00912897,\n",
              "         0.05090418, -0.03523807, -0.00551604, -0.01969796,  0.0639042 ,\n",
              "         0.01450171, -0.02764391,  0.00803804, -0.00940221,  0.02093237,\n",
              "         0.01258269, -0.07476026, -0.01297508,  0.01976933,  0.04198188,\n",
              "        -0.01581332,  0.0193716 , -0.07764179,  0.08312251, -0.01859377,\n",
              "         0.05821885, -0.06601058,  0.03408475, -0.09112418,  0.03562659,\n",
              "        -0.0553546 ,  0.01438268, -0.00424784, -0.02763073, -0.0374601 ,\n",
              "         0.0583941 , -0.04715566, -0.04648728,  0.02381226, -0.00538816,\n",
              "        -0.01366269, -0.04852876, -0.05501106,  0.08453533,  0.01827825,\n",
              "        -0.01233105, -0.03297964,  0.0103513 ,  0.07386573, -0.02840788,\n",
              "        -0.04673153, -0.08486833,  0.05761565, -0.01807342,  0.01477457,\n",
              "         0.0267595 ,  0.06968307,  0.06404298, -0.06155561, -0.02101274,\n",
              "         0.06304809, -0.01726151,  0.00478434, -0.06199622,  0.04147901,\n",
              "        -0.00293034,  0.02363368, -0.06941029,  0.00749691, -0.07185657,\n",
              "         0.02245461, -0.03628476,  0.03195625, -0.06106883, -0.05830003,\n",
              "         0.01871041,  0.01686902,  0.04557476,  0.03193901, -0.03177094,\n",
              "        -0.01663518,  0.03779281,  0.05074454, -0.02322821, -0.06481008,\n",
              "         0.01455654, -0.08436082,  0.01978644, -0.00301423, -0.05581754,\n",
              "         0.03064923, -0.04538518,  0.04556597,  0.02816395,  0.00616816,\n",
              "        -0.02996981,  0.04124475, -0.05672703, -0.00782257, -0.03480999,\n",
              "        -0.02904338, -0.00285446,  0.03504872, -0.02640549,  0.03201843,\n",
              "         0.03638781, -0.01247424, -0.01491129, -0.04675319, -0.01391964,\n",
              "         0.01404709,  0.06762572,  0.00495934,  0.06566581,  0.03069391,\n",
              "         0.03663669, -0.04874657, -0.03984043, -0.06527793,  0.00428085,\n",
              "         0.00570428,  0.00760763]], dtype=float32)>"
            ]
          },
          "metadata": {},
          "execution_count": 78
        }
      ]
    },
    {
      "cell_type": "markdown",
      "metadata": {
        "id": "FxNG3aaFY6lX"
      },
      "source": [
        "Create a Keras Layer using the USE pretrained layer from tensorflow hub \n",
        "\n",
        "**`We can use this encoding layer in place of our text_vectorizer and embedding layer`**"
      ]
    },
    {
      "cell_type": "code",
      "metadata": {
        "id": "trn9AxsaX9IN"
      },
      "source": [
        "sentence_encoder_layer = hub.KerasLayer(\"https://tfhub.dev/google/universal-sentence-encoder/4\",\n",
        "                                        input_shape=[], # shape of inputs coming to our model \n",
        "                                        dtype=tf.string, # data type of inputs coming to the USE layer\n",
        "                                        trainable=False, # keep the pretrained weights (we'll create a feature extractor)\n",
        "                                        name=\"USE\")"
      ],
      "execution_count": 79,
      "outputs": []
    },
    {
      "cell_type": "code",
      "metadata": {
        "id": "upEQdAlLX9Fs"
      },
      "source": [
        "from tensorflow.keras import layers\n",
        "# Create model using Sequential API\n",
        "model_5 = tf.keras.Sequential([\n",
        "  sentence_encoder_layer,\n",
        "  layers.Dense(128, activation=\"relu\"),\n",
        "  layers.Dense(64, activation=\"relu\"),\n",
        "  layers.Dense(num_classes, activation=\"softmax\")\n",
        "], name=\"model_5_USE\")"
      ],
      "execution_count": 80,
      "outputs": []
    },
    {
      "cell_type": "code",
      "metadata": {
        "colab": {
          "base_uri": "https://localhost:8080/"
        },
        "id": "eSwFSHxYZv9w",
        "outputId": "44949e56-062b-4e03-935b-d43eda1438b8"
      },
      "source": [
        "# Get a summary of the model\n",
        "model_5.summary()"
      ],
      "execution_count": 81,
      "outputs": [
        {
          "output_type": "stream",
          "name": "stdout",
          "text": [
            "Model: \"model_5_USE\"\n",
            "_________________________________________________________________\n",
            "Layer (type)                 Output Shape              Param #   \n",
            "=================================================================\n",
            "USE (KerasLayer)             (None, 512)               256797824 \n",
            "_________________________________________________________________\n",
            "dense_4 (Dense)              (None, 128)               65664     \n",
            "_________________________________________________________________\n",
            "dense_5 (Dense)              (None, 64)                8256      \n",
            "_________________________________________________________________\n",
            "dense_6 (Dense)              (None, 6)                 390       \n",
            "=================================================================\n",
            "Total params: 256,872,134\n",
            "Trainable params: 74,310\n",
            "Non-trainable params: 256,797,824\n",
            "_________________________________________________________________\n"
          ]
        }
      ]
    },
    {
      "cell_type": "markdown",
      "metadata": {
        "id": "a0KFYylVZ82q"
      },
      "source": [
        "The trainable parameters are only in our output layers, in other words, we're keeping the USE weights frozen and using it as a feature-extractor. We could fine-tune these weights by setting `trainable=True` when creating the `hub.KerasLayer` instance."
      ]
    },
    {
      "cell_type": "code",
      "metadata": {
        "id": "3yZcSCIqZyo4"
      },
      "source": [
        "# Compile the model\n",
        "model_5.compile(loss=\"categorical_crossentropy\",\n",
        "                optimizer=\"Adam\",\n",
        "                metrics=[\"accuracy\"])"
      ],
      "execution_count": 82,
      "outputs": []
    },
    {
      "cell_type": "code",
      "metadata": {
        "colab": {
          "base_uri": "https://localhost:8080/"
        },
        "id": "2WHbSKxmZ9yg",
        "outputId": "05871c95-d443-44c4-c8a2-c2b7bce1a019"
      },
      "source": [
        "# Fit the model\n",
        "history_model_5 = model_5.fit(train_dataset,\n",
        "                              epochs=5,\n",
        "                              validation_data=val_dataset)"
      ],
      "execution_count": 83,
      "outputs": [
        {
          "output_type": "stream",
          "name": "stdout",
          "text": [
            "Epoch 1/5\n",
            "500/500 [==============================] - 12s 19ms/step - loss: 1.1093 - accuracy: 0.5909 - val_loss: 0.9511 - val_accuracy: 0.6450\n",
            "Epoch 2/5\n",
            "500/500 [==============================] - 9s 18ms/step - loss: 0.9122 - accuracy: 0.6590 - val_loss: 0.9099 - val_accuracy: 0.6525\n",
            "Epoch 3/5\n",
            "500/500 [==============================] - 9s 18ms/step - loss: 0.8436 - accuracy: 0.6836 - val_loss: 0.8847 - val_accuracy: 0.6570\n",
            "Epoch 4/5\n",
            "500/500 [==============================] - 9s 18ms/step - loss: 0.7711 - accuracy: 0.7127 - val_loss: 0.8688 - val_accuracy: 0.6665\n",
            "Epoch 5/5\n",
            "500/500 [==============================] - 9s 18ms/step - loss: 0.6985 - accuracy: 0.7428 - val_loss: 0.8673 - val_accuracy: 0.6745\n"
          ]
        }
      ]
    },
    {
      "cell_type": "code",
      "metadata": {
        "colab": {
          "base_uri": "https://localhost:8080/"
        },
        "id": "RkNlfJw3craR",
        "outputId": "5b8aba4f-030a-46a3-fdd4-1d3577933478"
      },
      "source": [
        "# Evaluate on test_dataset\n",
        "model_5.evaluate(test_dataset)"
      ],
      "execution_count": 84,
      "outputs": [
        {
          "output_type": "stream",
          "name": "stdout",
          "text": [
            "63/63 [==============================] - 1s 16ms/step - loss: 0.8890 - accuracy: 0.6710\n"
          ]
        },
        {
          "output_type": "execute_result",
          "data": {
            "text/plain": [
              "[0.8889878392219543, 0.6710000038146973]"
            ]
          },
          "metadata": {},
          "execution_count": 84
        }
      ]
    },
    {
      "cell_type": "code",
      "metadata": {
        "colab": {
          "base_uri": "https://localhost:8080/"
        },
        "id": "4nDOSRONaN0J",
        "outputId": "cf70a20f-0c3c-4fcc-ae52-f28b69333a2c"
      },
      "source": [
        "# Make predictions with USE TF Hub Model\n",
        "model_5_pred_probs = model_5.predict(test_sentences)\n",
        "model_5_pred_probs[:10]"
      ],
      "execution_count": 85,
      "outputs": [
        {
          "output_type": "execute_result",
          "data": {
            "text/plain": [
              "array([[1.8992648e-01, 1.9660736e-02, 8.2817547e-02, 1.7257379e-02,\n",
              "        6.8918139e-01, 1.1564140e-03],\n",
              "       [7.2661005e-03, 2.5168271e-03, 5.6276776e-02, 5.8571860e-04,\n",
              "        9.3277991e-01, 5.7461468e-04],\n",
              "       [1.0927879e-02, 5.2318475e-03, 2.1406239e-02, 2.2707121e-02,\n",
              "        9.3873328e-01, 9.9356007e-04],\n",
              "       [1.0208496e-02, 1.1371831e-02, 6.2306947e-01, 3.1574973e-01,\n",
              "        3.8743384e-02, 8.5703062e-04],\n",
              "       [5.8170184e-02, 7.7016260e-03, 8.8639066e-02, 9.1286487e-04,\n",
              "        8.4024394e-01, 4.3323548e-03],\n",
              "       [1.1485292e-01, 6.7636669e-01, 2.5526930e-02, 3.9535016e-03,\n",
              "        1.7430532e-01, 4.9946639e-03],\n",
              "       [8.0176491e-01, 1.2837528e-01, 2.9484455e-03, 5.2133366e-04,\n",
              "        6.5995030e-02, 3.9507629e-04],\n",
              "       [3.7542306e-02, 4.9253248e-02, 5.1859742e-01, 3.1606400e-01,\n",
              "        6.6890664e-02, 1.1652434e-02],\n",
              "       [2.2335498e-02, 2.0020427e-01, 6.8569416e-01, 4.3673746e-02,\n",
              "        1.5636688e-02, 3.2455634e-02],\n",
              "       [2.9752356e-01, 2.6891921e-02, 4.5521405e-01, 4.2934805e-02,\n",
              "        1.6417390e-01, 1.3261755e-02]], dtype=float32)"
            ]
          },
          "metadata": {},
          "execution_count": 85
        }
      ]
    },
    {
      "cell_type": "code",
      "metadata": {
        "colab": {
          "base_uri": "https://localhost:8080/"
        },
        "id": "84JnYTxNcPer",
        "outputId": "b1151b55-7743-4df5-a474-7b4ab1cad731"
      },
      "source": [
        "# Convert model_4_pred_probs to labels\n",
        "model_5_preds = tf.argmax(model_5_pred_probs, axis=1)\n",
        "model_5_preds"
      ],
      "execution_count": 86,
      "outputs": [
        {
          "output_type": "execute_result",
          "data": {
            "text/plain": [
              "<tf.Tensor: shape=(2000,), dtype=int64, numpy=array([4, 4, 4, ..., 2, 1, 1])>"
            ]
          },
          "metadata": {},
          "execution_count": 86
        }
      ]
    },
    {
      "cell_type": "code",
      "metadata": {
        "colab": {
          "base_uri": "https://localhost:8080/"
        },
        "id": "0YktpyUWZ9v9",
        "outputId": "88e733e4-4b0b-49b6-af59-4eea099817c7"
      },
      "source": [
        "# Calculate model 4 results\n",
        "model_5_results = calculate_results(y_true=test_labels_encoded,\n",
        "                                    y_pred=model_5_preds)\n",
        "model_5_results"
      ],
      "execution_count": 87,
      "outputs": [
        {
          "output_type": "execute_result",
          "data": {
            "text/plain": [
              "{'accuracy': 67.10000000000001,\n",
              " 'f1': 0.6648764968698387,\n",
              " 'precision': 0.6688670484021412,\n",
              " 'recall': 0.671}"
            ]
          },
          "metadata": {},
          "execution_count": 87
        }
      ]
    },
    {
      "cell_type": "code",
      "metadata": {
        "colab": {
          "base_uri": "https://localhost:8080/",
          "height": 573
        },
        "id": "nSAnGDqvcPcd",
        "outputId": "a4bf0bcd-e891-4bc1-dcd0-bceaef0056ab"
      },
      "source": [
        "plot_loss_curves(history_model_5)"
      ],
      "execution_count": 88,
      "outputs": [
        {
          "output_type": "display_data",
          "data": {
            "image/png": "[encoded data removed]",
            "text/plain": [
              "<Figure size 432x288 with 1 Axes>"
            ]
          },
          "metadata": {
            "needs_background": "light"
          }
        },
        {
          "output_type": "display_data",
          "data": {
            "image/png": "[encoded data removed]",
            "text/plain": [
              "<Figure size 432x288 with 1 Axes>"
            ]
          },
          "metadata": {
            "needs_background": "light"
          }
        }
      ]
    },
    {
      "cell_type": "code",
      "metadata": {
        "colab": {
          "base_uri": "https://localhost:8080/"
        },
        "id": "0Gbs_saOcxL7",
        "outputId": "6c419894-e15e-470f-e25b-12263fde26c7"
      },
      "source": [
        "# Compare model_4's results with model_5's results\n",
        "compare_results(old_model_results=model_4_results, \n",
        "                new_model_results=model_5_results)"
      ],
      "execution_count": 89,
      "outputs": [
        {
          "output_type": "stream",
          "name": "stdout",
          "text": [
            "Old accuracy: 86.65, New accuracy: 67.10, Difference: -19.55\n",
            "Old precision: 0.87, New precision: 0.67, Difference: -0.20\n",
            "Old recall: 0.87, New recall: 0.67, Difference: -0.20\n",
            "Old f1: 0.86, New f1: 0.66, Difference: -0.20\n"
          ]
        }
      ]
    },
    {
      "cell_type": "markdown",
      "metadata": {
        "id": "DArw74GFdlYU"
      },
      "source": [
        "Comparing the performance of each of our models"
      ]
    },
    {
      "cell_type": "code",
      "metadata": {
        "id": "znaaQZGncPaL"
      },
      "source": [
        "Comparing the performance of each of our models\n",
        "# Combine model results into a DataFrame\n",
        "all_model_results = pd.DataFrame({\"0_baseline\": baseline_results,\n",
        "                                  \"1_conv1d\": model_1_results,\n",
        "                                  \"2_lstm\": model_2_results,\n",
        "                                  \"3_gru\": model_3_results,\n",
        "                                  \"4_bidirectional_lstm\": model_4_results,\n",
        "                                  \"5_tf_hub_use_encoder\": model_5_results})\n",
        "all_model_results = all_model_results.transpose()\n",
        "# Reduce the accuracy to the same scale as other metrics\n",
        "all_model_results[\"accuracy\"] = all_model_results[\"accuracy\"]/100\n",
        "all_model_results\n",
        "# Plot and compare all of the model results\n",
        "all_model_results.plot(kind=\"bar\", figsize=(10,7)).legend(bbox_to_anchor=(1.0, 1.0));\n",
        "# Sort model results by f1-score\n",
        "all_model_results.sort_values(\"f1\", ascending=False)[\"f1\"].plot(kind=\"bar\", figsize=(10,7));"
      ],
      "execution_count": 90,
      "outputs": []
    },
    {
      "cell_type": "code",
      "metadata": {
        "colab": {
          "base_uri": "https://localhost:8080/",
          "height": 234
        },
        "id": "dSSzaTKhcPXr",
        "outputId": "eb26b2fb-c467-4e4b-dce8-e60fa9b03b1e"
      },
      "source": [
        "# Reduce the accuracy to the same scale as other metrics\n",
        "all_model_results[\"accuracy\"] = all_model_results[\"accuracy\"]/100\n",
        "all_model_results"
      ],
      "execution_count": 91,
      "outputs": [
        {
          "output_type": "execute_result",
          "data": {
            "text/html": [
              "<div>\n",
              "<style scoped>\n",
              "    .dataframe tbody tr th:only-of-type {\n",
              "        vertical-align: middle;\n",
              "    }\n",
              "\n",
              "    .dataframe tbody tr th {\n",
              "        vertical-align: top;\n",
              "    }\n",
              "\n",
              "    .dataframe thead th {\n",
              "        text-align: right;\n",
              "    }\n",
              "</style>\n",
              "<table border=\"1\" class=\"dataframe\">\n",
              "  <thead>\n",
              "    <tr style=\"text-align: right;\">\n",
              "      <th></th>\n",
              "      <th>accuracy</th>\n",
              "      <th>precision</th>\n",
              "      <th>recall</th>\n",
              "      <th>f1</th>\n",
              "    </tr>\n",
              "  </thead>\n",
              "  <tbody>\n",
              "    <tr>\n",
              "      <th>0_baseline</th>\n",
              "      <td>0.3315</td>\n",
              "      <td>0.243748</td>\n",
              "      <td>0.3315</td>\n",
              "      <td>0.266659</td>\n",
              "    </tr>\n",
              "    <tr>\n",
              "      <th>1_conv1d</th>\n",
              "      <td>0.8845</td>\n",
              "      <td>0.884983</td>\n",
              "      <td>0.8845</td>\n",
              "      <td>0.883589</td>\n",
              "    </tr>\n",
              "    <tr>\n",
              "      <th>2_lstm</th>\n",
              "      <td>0.9010</td>\n",
              "      <td>0.901411</td>\n",
              "      <td>0.9010</td>\n",
              "      <td>0.900342</td>\n",
              "    </tr>\n",
              "    <tr>\n",
              "      <th>3_gru</th>\n",
              "      <td>0.9045</td>\n",
              "      <td>0.905060</td>\n",
              "      <td>0.9045</td>\n",
              "      <td>0.903576</td>\n",
              "    </tr>\n",
              "    <tr>\n",
              "      <th>4_bidirectional_lstm</th>\n",
              "      <td>0.8665</td>\n",
              "      <td>0.872275</td>\n",
              "      <td>0.8665</td>\n",
              "      <td>0.864916</td>\n",
              "    </tr>\n",
              "    <tr>\n",
              "      <th>5_tf_hub_use_encoder</th>\n",
              "      <td>0.6710</td>\n",
              "      <td>0.668867</td>\n",
              "      <td>0.6710</td>\n",
              "      <td>0.664876</td>\n",
              "    </tr>\n",
              "  </tbody>\n",
              "</table>\n",
              "</div>"
            ],
            "text/plain": [
              "                      accuracy  precision  recall        f1\n",
              "0_baseline              0.3315   0.243748  0.3315  0.266659\n",
              "1_conv1d                0.8845   0.884983  0.8845  0.883589\n",
              "2_lstm                  0.9010   0.901411  0.9010  0.900342\n",
              "3_gru                   0.9045   0.905060  0.9045  0.903576\n",
              "4_bidirectional_lstm    0.8665   0.872275  0.8665  0.864916\n",
              "5_tf_hub_use_encoder    0.6710   0.668867  0.6710  0.664876"
            ]
          },
          "metadata": {},
          "execution_count": 91
        }
      ]
    },
    {
      "cell_type": "code",
      "metadata": {
        "colab": {
          "base_uri": "https://localhost:8080/",
          "height": 530
        },
        "id": "H1pwseYYcPVb",
        "outputId": "204e2584-5a92-4a26-ba32-45da441a5957"
      },
      "source": [
        "# Plot and compare all of the model results\n",
        "all_model_results.plot(kind=\"bar\", figsize=(10,7)).legend(bbox_to_anchor=(1.0, 1.0));"
      ],
      "execution_count": 92,
      "outputs": [
        {
          "output_type": "display_data",
          "data": {
            "image/png": "[encoded data removed]",
            "text/plain": [
              "<Figure size 720x504 with 1 Axes>"
            ]
          },
          "metadata": {
            "needs_background": "light"
          }
        }
      ]
    },
    {
      "cell_type": "code",
      "metadata": {
        "colab": {
          "base_uri": "https://localhost:8080/",
          "height": 530
        },
        "id": "dMnWZvRNeL66",
        "outputId": "809fcc92-aa8f-458c-b76e-0b1f92e7ae92"
      },
      "source": [
        "# Sort model results by f1-score\n",
        "all_model_results.sort_values(\"f1\", ascending=False)[\"f1\"].plot(kind=\"bar\", figsize=(10,7));"
      ],
      "execution_count": 93,
      "outputs": [
        {
          "output_type": "display_data",
          "data": {
            "image/png": "[encoded data removed]",
            "text/plain": [
              "<Figure size 720x504 with 1 Axes>"
            ]
          },
          "metadata": {
            "needs_background": "light"
          }
        }
      ]
    },
    {
      "cell_type": "markdown",
      "metadata": {
        "id": "U6Qn5GCnPRJm"
      },
      "source": [
        "## Model 6: Conv1D with character embeddings"
      ]
    },
    {
      "cell_type": "markdown",
      "metadata": {
        "id": "Jakg3mBCeCDG"
      },
      "source": [
        "### Creating a character-level tokenizer"
      ]
    },
    {
      "cell_type": "markdown",
      "metadata": {
        "id": "f8t6-fnwRhuD"
      },
      "source": [
        "Before we can vectorize our sequences on a character-level we'll need to split them into characters."
      ]
    },
    {
      "cell_type": "code",
      "metadata": {
        "colab": {
          "base_uri": "https://localhost:8080/",
          "height": 35
        },
        "id": "BB2NVMalPRGy",
        "outputId": "e3165382-4543-42a2-ec9b-1546b945dfda"
      },
      "source": [
        "# Make a function to split sentences into characters\n",
        "def split_chars(text):\n",
        "  return \" \".join(list(text))\n",
        "\n",
        "# Test splitting non-character-level-sequence into characters\n",
        "split_chars(train_sentences[0])"
      ],
      "execution_count": 94,
      "outputs": [
        {
          "output_type": "execute_result",
          "data": {
            "application/vnd.google.colaboratory.intrinsic+json": {
              "type": "string"
            },
            "text/plain": [
              "'i   d i d n t   f e e l   h u m i l i a t e d'"
            ]
          },
          "metadata": {},
          "execution_count": 94
        }
      ]
    },
    {
      "cell_type": "markdown",
      "metadata": {
        "id": "VEaM60WBRpJ7"
      },
      "source": [
        "Now, create character-level datasets by splitting our sequence datasets into characters."
      ]
    },
    {
      "cell_type": "code",
      "metadata": {
        "colab": {
          "base_uri": "https://localhost:8080/",
          "height": 69
        },
        "id": "yy6cHOGOPREK",
        "outputId": "464114c5-0d9d-48df-af69-fdb85f8aa367"
      },
      "source": [
        "# Split sequence-level data splits into character-level data splits\n",
        "train_chars = [split_chars(sentence) for sentence in train_sentences]\n",
        "val_chars = [split_chars(sentence) for sentence in val_sentences]\n",
        "test_chars = [split_chars(sentence) for sentence in test_sentences]\n",
        "train_chars[1]"
      ],
      "execution_count": 95,
      "outputs": [
        {
          "output_type": "execute_result",
          "data": {
            "application/vnd.google.colaboratory.intrinsic+json": {
              "type": "string"
            },
            "text/plain": [
              "'i   c a n   g o   f r o m   f e e l i n g   s o   h o p e l e s s   t o   s o   d a m n e d   h o p e f u l   j u s t   f r o m   b e i n g   a r o u n d   s o m e o n e   w h o   c a r e s   a n d   i s   a w a k e'"
            ]
          },
          "metadata": {},
          "execution_count": 95
        }
      ]
    },
    {
      "cell_type": "code",
      "metadata": {
        "colab": {
          "base_uri": "https://localhost:8080/"
        },
        "id": "m1mknOQnPRBb",
        "outputId": "7227c0a7-cfcc-49c5-f4b2-38081526b177"
      },
      "source": [
        "# What's the average character length?\n",
        "char_lens = [len(sentence) for sentence in train_sentences]\n",
        "mean_char_len = np.mean(char_lens)\n",
        "mean_char_len"
      ],
      "execution_count": 96,
      "outputs": [
        {
          "output_type": "execute_result",
          "data": {
            "text/plain": [
              "96.8458125"
            ]
          },
          "metadata": {},
          "execution_count": 96
        }
      ]
    },
    {
      "cell_type": "code",
      "metadata": {
        "colab": {
          "base_uri": "https://localhost:8080/",
          "height": 265
        },
        "id": "4gsrTtRKPQ-i",
        "outputId": "7bee89ee-ed0c-450a-afd6-339e4fab9d57"
      },
      "source": [
        "# Check the distribution of our sequences at character-level\n",
        "import matplotlib.pyplot as plt\n",
        "plt.hist(char_lens, bins=7);"
      ],
      "execution_count": 97,
      "outputs": [
        {
          "output_type": "display_data",
          "data": {
            "image/png": "[encoded data removed]",
            "text/plain": [
              "<Figure size 432x288 with 1 Axes>"
            ]
          },
          "metadata": {
            "needs_background": "light"
          }
        }
      ]
    },
    {
      "cell_type": "markdown",
      "metadata": {
        "id": "kaP0KvIMSZ56"
      },
      "source": [
        "Looks like most of our sequences are between 0 and 210 characters long. Let's use NumPy's percentile to figure out what length covers 95% of our sequences"
      ]
    },
    {
      "cell_type": "code",
      "metadata": {
        "colab": {
          "base_uri": "https://localhost:8080/"
        },
        "id": "3yIyfKG_PQ7b",
        "outputId": "8b52f577-a74b-466a-847d-42af54b764c3"
      },
      "source": [
        "# Find what character length covers 95% of sequences\n",
        "output_seq_char_len = int(np.percentile(char_lens, 95))\n",
        "output_seq_char_len"
      ],
      "execution_count": 98,
      "outputs": [
        {
          "output_type": "execute_result",
          "data": {
            "text/plain": [
              "207"
            ]
          },
          "metadata": {},
          "execution_count": 98
        }
      ]
    },
    {
      "cell_type": "markdown",
      "metadata": {
        "id": "95ijibACSsAg"
      },
      "source": [
        "Now we know the sequence length which covers 95% of sequences, we'll use that in our `TextVectorization` layer as the `output_sequence_length` parameter."
      ]
    },
    {
      "cell_type": "code",
      "metadata": {
        "colab": {
          "base_uri": "https://localhost:8080/",
          "height": 35
        },
        "id": "e8bz3BX5PQ4y",
        "outputId": "1914e809-0414-4974-9c98-6e6e09c3742e"
      },
      "source": [
        "# Get all keyboard characters for char-level embedding\n",
        "import string\n",
        "alphabet = string.ascii_lowercase + string.digits + string.punctuation\n",
        "alphabet"
      ],
      "execution_count": 99,
      "outputs": [
        {
          "output_type": "execute_result",
          "data": {
            "application/vnd.google.colaboratory.intrinsic+json": {
              "type": "string"
            },
            "text/plain": [
              "'abcdefghijklmnopqrstuvwxyz0123456789!\"#$%&\\'()*+,-./:;<=>?@[\\\\]^_`{|}~'"
            ]
          },
          "metadata": {},
          "execution_count": 99
        }
      ]
    },
    {
      "cell_type": "code",
      "metadata": {
        "id": "c8l4I7IPPQ2b"
      },
      "source": [
        "# Create char-level token vectorizer instance\n",
        "NUM_CHAR_TOKENS = len(alphabet) + 2 # num characters in alphabet + space + OOV token\n",
        "char_vectorizer = TextVectorization(max_tokens=NUM_CHAR_TOKENS,\n",
        "                                    output_sequence_length=output_seq_char_len,\n",
        "                                    standardize=\"lower_and_strip_punctuation\",\n",
        "                                    name=\"char_vectorizer\")"
      ],
      "execution_count": 100,
      "outputs": []
    },
    {
      "cell_type": "code",
      "metadata": {
        "id": "eVJbrKjXSZYh"
      },
      "source": [
        "# Adapt character vectorizer to training characters\n",
        "char_vectorizer.adapt(train_chars)"
      ],
      "execution_count": 101,
      "outputs": []
    },
    {
      "cell_type": "markdown",
      "metadata": {
        "id": "vjh8Ao34VeDu"
      },
      "source": [
        "Check some characteristics about it using the [`get_vocabulary()`](https://www.tensorflow.org/api_docs/python/tf/keras/layers/experimental/preprocessing/TextVectorization#get_vocabulary) method."
      ]
    },
    {
      "cell_type": "code",
      "metadata": {
        "colab": {
          "base_uri": "https://localhost:8080/"
        },
        "id": "y_N-6IvWSZIu",
        "outputId": "7dd78fc8-fbf7-44a6-b0b7-4d66ff2a29d0"
      },
      "source": [
        "char_vocab = char_vectorizer.get_vocabulary()\n",
        "char_vocab = char_vectorizer.get_vocabulary()\n",
        "print(f\"Number of different characters in character vocab: {len(char_vocab)}\")\n",
        "print(f\"5 most common characters: {char_vocab[:5]}\")\n",
        "print(f\"5 least common characters: {char_vocab[-5:]}\")"
      ],
      "execution_count": 102,
      "outputs": [
        {
          "output_type": "stream",
          "name": "stdout",
          "text": [
            "Number of different characters in character vocab: 28\n",
            "5 most common characters: ['', '[UNK]', 'e', 't', 'i']\n",
            "5 least common characters: ['k', 'j', 'x', 'z', 'q']\n"
          ]
        }
      ]
    },
    {
      "cell_type": "markdown",
      "metadata": {
        "id": "vweYCDiNSZFs"
      },
      "source": [
        "We can also test it on random sequences of characters to make sure it's working."
      ]
    },
    {
      "cell_type": "code",
      "metadata": {
        "colab": {
          "base_uri": "https://localhost:8080/"
        },
        "id": "464OgfehSY-M",
        "outputId": "d91c74e4-64ac-430f-d2b3-53b441708701"
      },
      "source": [
        "# Test out character vectorizer\n",
        "random_train_chars = random.choice(train_chars)\n",
        "print(f\"Charified text:\\n{random_train_chars}\")\n",
        "print(f\"\\nLength of chars: {len(random_train_chars.split())}\")\n",
        "vectorized_chars = char_vectorizer([random_train_chars])\n",
        "print(f\"\\nVectorized chars:\\n{vectorized_chars}\")\n",
        "print(f\"\\nLength of vectorized chars: {len(vectorized_chars[0])}\")"
      ],
      "execution_count": 103,
      "outputs": [
        {
          "output_type": "stream",
          "name": "stdout",
          "text": [
            "Charified text:\n",
            "i   c a n   t   r e l a x   m y   h e a r t   s k i p s   a   b e a t   n o w   a n d   t h e n   i   f e e l   o t h e r   p e o p l e   s   e m o t i o n s   i   g e t   i r r i t a t e d   w h e n   i   a m   p a c i n g   a r o u n d   n o t   k n o w i n g   w h a t   i   n e e d   t o   d o   t o   f e e l   b e t t e r\n",
            "\n",
            "Length of chars: 129\n",
            "\n",
            "Vectorized chars:\n",
            "[[ 4 18  5  7  3 10  2  9  5 25 14 17 11  2  5 10  3  8 23  4 20  8  5 21\n",
            "   2  5  3  7  6 19  5  7 12  3 11  2  7  4 13  2  2  9  6  3 11  2 10 20\n",
            "   2  6 20  9  2  8  2 14  6  3  4  6  7  8  4 16  2  3  4 10 10  4  3  5\n",
            "   3  2 12 19 11  2  7  4  5 14 20  5 18  4  7 16  5 10  6 15  7 12  7  6\n",
            "   3 23  7  6 19  4  7 16 19 11  5  3  4  7  2  2 12  3  6 12  6  3  6 13\n",
            "   2  2  9 21  2  3  3  2 10  0  0  0  0  0  0  0  0  0  0  0  0  0  0  0\n",
            "   0  0  0  0  0  0  0  0  0  0  0  0  0  0  0  0  0  0  0  0  0  0  0  0\n",
            "   0  0  0  0  0  0  0  0  0  0  0  0  0  0  0  0  0  0  0  0  0  0  0  0\n",
            "   0  0  0  0  0  0  0  0  0  0  0  0  0  0  0]]\n",
            "\n",
            "Length of vectorized chars: 207\n"
          ]
        }
      ]
    },
    {
      "cell_type": "markdown",
      "metadata": {
        "id": "5pcevNBZd7a-"
      },
      "source": [
        "Due to the `standardize` parameter of `TextVectorization` being `\"lower_and_strip_punctuation\"` and the `split` parameter being `\"whitespace\"` by default, symbols (such as `@`) and spaces are removed.\n",
        "\n",
        "> 🔑 **Note:** If you didn't want punctuation to be removed (keep the `@`, `%` etc), you can create a custom standardization callable and pass it as the `standardize` parameter. See the [`TextVectorization`](https://www.tensorflow.org/api_docs/python/tf/keras/layers/experimental/preprocessing/TextVectorization) class documentation for more."
      ]
    },
    {
      "cell_type": "markdown",
      "metadata": {
        "id": "A70bu7MbeITy"
      },
      "source": [
        "### Creating a character-level embedding"
      ]
    },
    {
      "cell_type": "code",
      "metadata": {
        "id": "f-6kdtQASY7U"
      },
      "source": [
        "# Create char embedding layer\n",
        "char_embed = layers.Embedding(input_dim=NUM_CHAR_TOKENS, # number of different characters\n",
        "                              output_dim=25, # embedding dimension of each character\n",
        "                              mask_zero=False,\n",
        "                              name=\"char_embed\")"
      ],
      "execution_count": 104,
      "outputs": []
    },
    {
      "cell_type": "code",
      "metadata": {
        "colab": {
          "base_uri": "https://localhost:8080/"
        },
        "id": "JEP7YJXuWr1Q",
        "outputId": "c68a282b-71db-4512-ba6f-14ccad997f65"
      },
      "source": [
        "# Test out character embedding layer\n",
        "print(f\"Charified text (before vectorization and embedding):\\n{random_train_chars}\\n\")\n",
        "char_embed_example = char_embed(char_vectorizer([random_train_chars]))\n",
        "print(f\"Embedded chars (after vectorization and embedding):\\n{char_embed_example}\\n\")\n",
        "print(f\"Character embedding shape: {char_embed_example.shape}\")"
      ],
      "execution_count": 105,
      "outputs": [
        {
          "output_type": "stream",
          "name": "stdout",
          "text": [
            "Charified text (before vectorization and embedding):\n",
            "i   c a n   t   r e l a x   m y   h e a r t   s k i p s   a   b e a t   n o w   a n d   t h e n   i   f e e l   o t h e r   p e o p l e   s   e m o t i o n s   i   g e t   i r r i t a t e d   w h e n   i   a m   p a c i n g   a r o u n d   n o t   k n o w i n g   w h a t   i   n e e d   t o   d o   t o   f e e l   b e t t e r\n",
            "\n",
            "Embedded chars (after vectorization and embedding):\n",
            "[[[-0.03462023  0.01179066 -0.01661304 ...  0.01142309  0.01347065\n",
            "   -0.0339949 ]\n",
            "  [ 0.01035911  0.0313133  -0.01835301 ...  0.02452252  0.02051863\n",
            "    0.04563619]\n",
            "  [ 0.01207823 -0.04834104  0.02571019 ...  0.01202663  0.03766234\n",
            "   -0.04278498]\n",
            "  ...\n",
            "  [-0.04767168  0.02976504  0.02456168 ...  0.01126567 -0.02963383\n",
            "   -0.03932824]\n",
            "  [-0.04767168  0.02976504  0.02456168 ...  0.01126567 -0.02963383\n",
            "   -0.03932824]\n",
            "  [-0.04767168  0.02976504  0.02456168 ...  0.01126567 -0.02963383\n",
            "   -0.03932824]]]\n",
            "\n",
            "Character embedding shape: (1, 207, 25)\n"
          ]
        }
      ]
    },
    {
      "cell_type": "markdown",
      "metadata": {
        "id": "OryKgD4bi02Q"
      },
      "source": [
        "Each of the characters in our sequences gets turned into a 25 dimension embedding."
      ]
    },
    {
      "cell_type": "markdown",
      "metadata": {
        "id": "qOJP8pIiWrzA"
      },
      "source": [
        "### Building a Conv1D model to fit on character embeddings"
      ]
    },
    {
      "cell_type": "code",
      "metadata": {
        "id": "4ySUmjYuWrrw"
      },
      "source": [
        "# Make Conv1D on chars only\n",
        "inputs = layers.Input(shape=(1,), dtype=\"string\")\n",
        "char_vectors = char_vectorizer(inputs)\n",
        "char_embeddings = char_embed(char_vectors)\n",
        "x = layers.Conv1D(64, kernel_size=3, padding=\"same\", activation=\"relu\")(char_embeddings)\n",
        "x = layers.GlobalMaxPool1D()(x)\n",
        "outputs = layers.Dense(num_classes, activation=\"softmax\")(x)\n",
        "model_6 = tf.keras.Model(inputs, outputs, name=\"model_6_conv1D_char_embedding\")"
      ],
      "execution_count": 106,
      "outputs": []
    },
    {
      "cell_type": "code",
      "metadata": {
        "id": "TIne_32LWro0"
      },
      "source": [
        "# Compile model\n",
        "model_6.compile(loss=\"categorical_crossentropy\",\n",
        "                optimizer=tf.keras.optimizers.Adam(),\n",
        "                metrics=[\"accuracy\"])"
      ],
      "execution_count": 107,
      "outputs": []
    },
    {
      "cell_type": "code",
      "metadata": {
        "colab": {
          "base_uri": "https://localhost:8080/"
        },
        "id": "ROZOb4RHWrmA",
        "outputId": "a3636572-5937-4f61-f468-4965a9fa888e"
      },
      "source": [
        "# Get the summary of the model\n",
        "model_6.summary()"
      ],
      "execution_count": 108,
      "outputs": [
        {
          "output_type": "stream",
          "name": "stdout",
          "text": [
            "Model: \"model_6_conv1D_char_embedding\"\n",
            "_________________________________________________________________\n",
            "Layer (type)                 Output Shape              Param #   \n",
            "=================================================================\n",
            "input_5 (InputLayer)         [(None, 1)]               0         \n",
            "_________________________________________________________________\n",
            "char_vectorizer (TextVectori (None, 207)               0         \n",
            "_________________________________________________________________\n",
            "char_embed (Embedding)       (None, 207, 25)           1750      \n",
            "_________________________________________________________________\n",
            "conv1d_1 (Conv1D)            (None, 207, 64)           4864      \n",
            "_________________________________________________________________\n",
            "global_max_pooling1d (Global (None, 64)                0         \n",
            "_________________________________________________________________\n",
            "dense_7 (Dense)              (None, 6)                 390       \n",
            "=================================================================\n",
            "Total params: 7,004\n",
            "Trainable params: 7,004\n",
            "Non-trainable params: 0\n",
            "_________________________________________________________________\n"
          ]
        }
      ]
    },
    {
      "cell_type": "markdown",
      "metadata": {
        "id": "3COyKKtZkdrm"
      },
      "source": [
        "Before fitting our model on the data, we'll create char-level batched `PrefetchedDataset`'s."
      ]
    },
    {
      "cell_type": "code",
      "metadata": {
        "colab": {
          "base_uri": "https://localhost:8080/"
        },
        "id": "QAs0v1W1j_Ut",
        "outputId": "0b006c47-26ac-42f4-b69a-364a5ea3eea4"
      },
      "source": [
        "# Create char datasets\n",
        "train_char_dataset = tf.data.Dataset.from_tensor_slices((train_chars, train_labels_one_hot)).batch(32).prefetch(tf.data.AUTOTUNE)\n",
        "val_char_dataset = tf.data.Dataset.from_tensor_slices((val_chars, val_labels_one_hot)).batch(32).prefetch(tf.data.AUTOTUNE)\n",
        "test_char_dataset = tf.data.Dataset.from_tensor_slices((test_chars, test_labels_one_hot)).batch(32).prefetch(tf.data.AUTOTUNE)\n",
        "\n",
        "train_char_dataset"
      ],
      "execution_count": 109,
      "outputs": [
        {
          "output_type": "execute_result",
          "data": {
            "text/plain": [
              "<PrefetchDataset shapes: ((None,), (None, 6)), types: (tf.string, tf.float64)>"
            ]
          },
          "metadata": {},
          "execution_count": 109
        }
      ]
    },
    {
      "cell_type": "code",
      "metadata": {
        "colab": {
          "base_uri": "https://localhost:8080/"
        },
        "id": "m5Vdvy3Aj_S0",
        "outputId": "c094fc9d-2817-4d74-db6b-69a750b375fb"
      },
      "source": [
        "# Fit the model\n",
        "history_model_6 = model_6.fit(train_char_dataset,\n",
        "                              epochs=5,\n",
        "                              validation_data=val_char_dataset)"
      ],
      "execution_count": 110,
      "outputs": [
        {
          "output_type": "stream",
          "name": "stdout",
          "text": [
            "Epoch 1/5\n",
            "500/500 [==============================] - 5s 9ms/step - loss: 1.5704 - accuracy: 0.3548 - val_loss: 1.5395 - val_accuracy: 0.3855\n",
            "Epoch 2/5\n",
            "500/500 [==============================] - 4s 8ms/step - loss: 1.5004 - accuracy: 0.4026 - val_loss: 1.4708 - val_accuracy: 0.4285\n",
            "Epoch 3/5\n",
            "500/500 [==============================] - 4s 8ms/step - loss: 1.4104 - accuracy: 0.4448 - val_loss: 1.3968 - val_accuracy: 0.4680\n",
            "Epoch 4/5\n",
            "500/500 [==============================] - 4s 8ms/step - loss: 1.3348 - accuracy: 0.4845 - val_loss: 1.3435 - val_accuracy: 0.4730\n",
            "Epoch 5/5\n",
            "500/500 [==============================] - 4s 8ms/step - loss: 1.2769 - accuracy: 0.5094 - val_loss: 1.3079 - val_accuracy: 0.4945\n"
          ]
        }
      ]
    },
    {
      "cell_type": "code",
      "metadata": {
        "colab": {
          "base_uri": "https://localhost:8080/"
        },
        "id": "H2axaj9wj_FK",
        "outputId": "3999d16c-a436-474d-a5fe-14934e5af757"
      },
      "source": [
        "# Evaluate model on test dataset\n",
        "model_6.evaluate(test_char_dataset)"
      ],
      "execution_count": 111,
      "outputs": [
        {
          "output_type": "stream",
          "name": "stdout",
          "text": [
            "63/63 [==============================] - 0s 5ms/step - loss: 1.2771 - accuracy: 0.5205\n"
          ]
        },
        {
          "output_type": "execute_result",
          "data": {
            "text/plain": [
              "[1.2771209478378296, 0.5205000042915344]"
            ]
          },
          "metadata": {},
          "execution_count": 111
        }
      ]
    },
    {
      "cell_type": "code",
      "metadata": {
        "colab": {
          "base_uri": "https://localhost:8080/"
        },
        "id": "JOlQ2BdJCXdP",
        "outputId": "e023db19-2c7b-4771-b1e1-b18e25052229"
      },
      "source": [
        "# Make predictions \n",
        "model_6_pred_probs = model_6.predict(test_chars)\n",
        "model_6_pred_probs[:10]"
      ],
      "execution_count": 112,
      "outputs": [
        {
          "output_type": "execute_result",
          "data": {
            "text/plain": [
              "array([[0.40537852, 0.19273971, 0.19270565, 0.01638201, 0.18091892,\n",
              "        0.01187519],\n",
              "       [0.20654595, 0.10229464, 0.25688133, 0.08597233, 0.2869927 ,\n",
              "        0.06131302],\n",
              "       [0.17938745, 0.20406167, 0.15760162, 0.10812905, 0.30248988,\n",
              "        0.0483303 ],\n",
              "       [0.1799336 , 0.17633246, 0.33791423, 0.03917155, 0.26091346,\n",
              "        0.00573466],\n",
              "       [0.10543269, 0.2220842 , 0.09802227, 0.06211079, 0.4903992 ,\n",
              "        0.02195078],\n",
              "       [0.06730492, 0.2780503 , 0.36047655, 0.04858135, 0.24343143,\n",
              "        0.00215547],\n",
              "       [0.08430345, 0.10510199, 0.48304456, 0.14138897, 0.16218182,\n",
              "        0.02397925],\n",
              "       [0.07706124, 0.17103979, 0.55282426, 0.04822299, 0.13845222,\n",
              "        0.01239953],\n",
              "       [0.06187042, 0.02251597, 0.33985078, 0.1517408 , 0.4144213 ,\n",
              "        0.00960077],\n",
              "       [0.40221503, 0.10074402, 0.3222362 , 0.01466179, 0.1454479 ,\n",
              "        0.01469505]], dtype=float32)"
            ]
          },
          "metadata": {},
          "execution_count": 112
        }
      ]
    },
    {
      "cell_type": "code",
      "metadata": {
        "colab": {
          "base_uri": "https://localhost:8080/"
        },
        "id": "posBv3gECXai",
        "outputId": "26668296-42d3-4bd0-835c-f5733b9efe25"
      },
      "source": [
        "# Convert model_6_pred_probs to labels\n",
        "model_6_preds = tf.argmax(model_6_pred_probs, axis=1)\n",
        "model_6_preds"
      ],
      "execution_count": 113,
      "outputs": [
        {
          "output_type": "execute_result",
          "data": {
            "text/plain": [
              "<tf.Tensor: shape=(2000,), dtype=int64, numpy=array([0, 4, 4, ..., 2, 2, 4])>"
            ]
          },
          "metadata": {},
          "execution_count": 113
        }
      ]
    },
    {
      "cell_type": "code",
      "metadata": {
        "colab": {
          "base_uri": "https://localhost:8080/"
        },
        "id": "XVnyn1-GC5vE",
        "outputId": "9490efca-5bab-41b3-8d72-ac9fdb74e6fe"
      },
      "source": [
        "# Calculate model 6 results\n",
        "model_6_results = calculate_results(y_true=test_labels_encoded,\n",
        "                                    y_pred=model_6_preds)\n",
        "model_6_results"
      ],
      "execution_count": 114,
      "outputs": [
        {
          "output_type": "execute_result",
          "data": {
            "text/plain": [
              "{'accuracy': 52.05,\n",
              " 'f1': 0.48994340821974175,\n",
              " 'precision': 0.5079782554112794,\n",
              " 'recall': 0.5205}"
            ]
          },
          "metadata": {},
          "execution_count": 114
        }
      ]
    },
    {
      "cell_type": "code",
      "metadata": {
        "colab": {
          "base_uri": "https://localhost:8080/",
          "height": 573
        },
        "id": "StSvDQ7PCXXv",
        "outputId": "a1d4d96e-192a-488c-ab6d-6f4028fe717d"
      },
      "source": [
        "plot_loss_curves(history_model_6)"
      ],
      "execution_count": 115,
      "outputs": [
        {
          "output_type": "display_data",
          "data": {
            "image/png": "[encoded data removed]",
            "text/plain": [
              "<Figure size 432x288 with 1 Axes>"
            ]
          },
          "metadata": {
            "needs_background": "light"
          }
        },
        {
          "output_type": "display_data",
          "data": {
            "image/png": "[encoded data removed]",
            "text/plain": [
              "<Figure size 432x288 with 1 Axes>"
            ]
          },
          "metadata": {
            "needs_background": "light"
          }
        }
      ]
    },
    {
      "cell_type": "code",
      "metadata": {
        "colab": {
          "base_uri": "https://localhost:8080/"
        },
        "id": "x836A-QfCXVG",
        "outputId": "c10a2597-1e7e-4009-e10d-6c250631f0fe"
      },
      "source": [
        "# Compare model_5's results with model_6's results\n",
        "compare_results(old_model_results=model_5_results, \n",
        "                new_model_results=model_6_results)"
      ],
      "execution_count": 116,
      "outputs": [
        {
          "output_type": "stream",
          "name": "stdout",
          "text": [
            "Old accuracy: 67.10, New accuracy: 52.05, Difference: -15.05\n",
            "Old precision: 0.67, New precision: 0.51, Difference: -0.16\n",
            "Old recall: 0.67, New recall: 0.52, Difference: -0.15\n",
            "Old f1: 0.66, New f1: 0.49, Difference: -0.17\n"
          ]
        }
      ]
    },
    {
      "cell_type": "markdown",
      "metadata": {
        "id": "TzdP1g3At0xJ"
      },
      "source": [
        "## Model 7: Combining pretrained token embeddings + character embeddings (hybrid embedding layer)"
      ]
    },
    {
      "cell_type": "code",
      "metadata": {
        "id": "CjK8IfX2j_B-"
      },
      "source": [
        "# 1. Setup token inputs/model\n",
        "token_inputs = layers.Input(shape=[], dtype=\"string\", name=\"token_inputs\")\n",
        "token_embeddings = sentence_encoder_layer(token_inputs)\n",
        "token_outputs = layers.Dense(128, activation=\"relu\")(token_embeddings)\n",
        "token_model = tf.keras.Model(inputs=token_inputs,\n",
        "                             outputs=token_outputs)\n",
        "\n",
        "# 2. Setup char inptus/model\n",
        "## Create a new char embedding layer\n",
        "char_embed_2 = layers.Embedding(input_dim=NUM_CHAR_TOKENS, # number of different characters\n",
        "                              output_dim=25, # embedding dimension of each character\n",
        "                              mask_zero=False,\n",
        "                              name=\"char_embed_2\")\n",
        "\n",
        "char_inputs = layers.Input(shape=(1,), dtype=\"string\", name=\"char_inputs\")\n",
        "char_vectors = char_vectorizer(char_inputs)\n",
        "char_embeddings = char_embed_2(char_vectors)\n",
        "char_bi_lstm = layers.Bidirectional(layers.LSTM(25))(char_embeddings)\n",
        "char_model = tf.keras.Model(inputs=char_inputs,\n",
        "                            outputs=char_bi_lstm)\n",
        "\n",
        "# 3. Concatenate token and char inputs (create hybrid token embedding)\n",
        "token_char_concat = layers.Concatenate(name=\"token_char_hybrid\")([token_model.output,\n",
        "                                                                  char_model.output])\n",
        "\n",
        "# 4. Create output layers\n",
        "combined_dropout = layers.Dropout(0.5)(token_char_concat)\n",
        "combined_dense = layers.Dense(200, activation=\"relu\")(combined_dropout)\n",
        "final_dropout = layers.Dropout(0.5)(combined_dense)\n",
        "output_layer = layers.Dense(num_classes, activation=\"softmax\")(final_dropout)\n",
        "\n",
        "# 5. Construct model with chat and token inputs\n",
        "model_7 = tf.keras.Model(inputs=[token_model.input, char_model.input],\n",
        "                         outputs=output_layer,\n",
        "                         name=\"model_7_token_char_embedding\")"
      ],
      "execution_count": 117,
      "outputs": []
    },
    {
      "cell_type": "code",
      "metadata": {
        "id": "HS6IHxrWj-_E",
        "colab": {
          "base_uri": "https://localhost:8080/"
        },
        "outputId": "39ec5b72-57aa-47aa-ccdf-eeac656a352b"
      },
      "source": [
        "# Get summary of the model\n",
        "model_7.summary()"
      ],
      "execution_count": 118,
      "outputs": [
        {
          "output_type": "stream",
          "name": "stdout",
          "text": [
            "Model: \"model_7_token_char_embedding\"\n",
            "__________________________________________________________________________________________________\n",
            "Layer (type)                    Output Shape         Param #     Connected to                     \n",
            "==================================================================================================\n",
            "char_inputs (InputLayer)        [(None, 1)]          0                                            \n",
            "__________________________________________________________________________________________________\n",
            "token_inputs (InputLayer)       [(None,)]            0                                            \n",
            "__________________________________________________________________________________________________\n",
            "char_vectorizer (TextVectorizat (None, 207)          0           char_inputs[0][0]                \n",
            "__________________________________________________________________________________________________\n",
            "USE (KerasLayer)                (None, 512)          256797824   token_inputs[0][0]               \n",
            "__________________________________________________________________________________________________\n",
            "char_embed_2 (Embedding)        (None, 207, 25)      1750        char_vectorizer[1][0]            \n",
            "__________________________________________________________________________________________________\n",
            "dense_8 (Dense)                 (None, 128)          65664       USE[1][0]                        \n",
            "__________________________________________________________________________________________________\n",
            "bidirectional_1 (Bidirectional) (None, 50)           10200       char_embed_2[0][0]               \n",
            "__________________________________________________________________________________________________\n",
            "token_char_hybrid (Concatenate) (None, 178)          0           dense_8[0][0]                    \n",
            "                                                                 bidirectional_1[0][0]            \n",
            "__________________________________________________________________________________________________\n",
            "dropout (Dropout)               (None, 178)          0           token_char_hybrid[0][0]          \n",
            "__________________________________________________________________________________________________\n",
            "dense_9 (Dense)                 (None, 200)          35800       dropout[0][0]                    \n",
            "__________________________________________________________________________________________________\n",
            "dropout_1 (Dropout)             (None, 200)          0           dense_9[0][0]                    \n",
            "__________________________________________________________________________________________________\n",
            "dense_10 (Dense)                (None, 6)            1206        dropout_1[0][0]                  \n",
            "==================================================================================================\n",
            "Total params: 256,912,444\n",
            "Trainable params: 114,620\n",
            "Non-trainable params: 256,797,824\n",
            "__________________________________________________________________________________________________\n"
          ]
        }
      ]
    },
    {
      "cell_type": "code",
      "metadata": {
        "id": "5BRhvDMbj-8j",
        "colab": {
          "base_uri": "https://localhost:8080/",
          "height": 856
        },
        "outputId": "4d6ea58d-5d9c-4714-8e9b-aa1a8845e82f"
      },
      "source": [
        "# Plot hybrid (token and character) model\n",
        "from tensorflow.keras.utils import plot_model\n",
        "plot_model(model_7)"
      ],
      "execution_count": 119,
      "outputs": [
        {
          "output_type": "execute_result",
          "data": {
            "image/png": "[encoded data removed]",
            "text/plain": [
              "<IPython.core.display.Image object>"
            ]
          },
          "metadata": {},
          "execution_count": 119
        }
      ]
    },
    {
      "cell_type": "code",
      "metadata": {
        "id": "WRVnSHXt6eK-"
      },
      "source": [
        "# Compile token char model\n",
        "model_7.compile(loss=\"categorical_crossentropy\",\n",
        "                optimizer=\"Adam\",\n",
        "                metrics=[\"accuracy\"])"
      ],
      "execution_count": 120,
      "outputs": []
    },
    {
      "cell_type": "markdown",
      "metadata": {
        "id": "8cDbfHSg7GOu"
      },
      "source": [
        "### Combining token and character data into a `tf.data` dataset"
      ]
    },
    {
      "cell_type": "code",
      "metadata": {
        "id": "AFjTiqXf6hPr"
      },
      "source": [
        "# Combine chars and tokens into a dataset\n",
        "train_char_token_data = tf.data.Dataset.from_tensor_slices((train_sentences, train_chars)) # make data\n",
        "train_char_token_labels = tf.data.Dataset.from_tensor_slices((train_labels_one_hot)) # make labels\n",
        "train_char_token_dataset = tf.data.Dataset.zip((train_char_token_data, train_char_token_labels)) # combine data and labels\n",
        "\n",
        "# Prefetch and batch train data\n",
        "train_char_token_dataset = train_char_token_dataset.batch(32).prefetch(tf.data.AUTOTUNE)\n",
        "\n",
        "# Repeat same steps for validation data\n",
        "val_char_token_data = tf.data.Dataset.from_tensor_slices((val_sentences, val_chars))\n",
        "val_char_token_labels = tf.data.Dataset.from_tensor_slices((val_labels_one_hot))\n",
        "val_char_token_dataset = tf.data.Dataset.zip((val_char_token_data, val_char_token_labels))\n",
        "val_char_token_dataset = val_char_token_dataset.batch(32).prefetch(tf.data.AUTOTUNE)\n",
        "\n",
        "# Repeat same steps for test data\n",
        "test_char_token_data = tf.data.Dataset.from_tensor_slices((test_sentences, test_chars))\n",
        "test_char_token_labels = tf.data.Dataset.from_tensor_slices((test_labels_one_hot))\n",
        "test_char_token_dataset = tf.data.Dataset.zip((test_char_token_data, test_char_token_labels))\n",
        "test_char_token_dataset = test_char_token_dataset.batch(32).prefetch(tf.data.AUTOTUNE)"
      ],
      "execution_count": 121,
      "outputs": []
    },
    {
      "cell_type": "code",
      "metadata": {
        "colab": {
          "base_uri": "https://localhost:8080/"
        },
        "id": "1lhW0Poj6hNX",
        "outputId": "9addbefb-cac0-4d13-d711-aa7ee12dffe9"
      },
      "source": [
        "# Check out training char and token embedding dataset\n",
        "train_char_token_dataset, val_char_token_dataset, test_char_token_dataset"
      ],
      "execution_count": 122,
      "outputs": [
        {
          "output_type": "execute_result",
          "data": {
            "text/plain": [
              "(<PrefetchDataset shapes: (((None,), (None,)), (None, 6)), types: ((tf.string, tf.string), tf.float64)>,\n",
              " <PrefetchDataset shapes: (((None,), (None,)), (None, 6)), types: ((tf.string, tf.string), tf.float64)>,\n",
              " <PrefetchDataset shapes: (((None,), (None,)), (None, 6)), types: ((tf.string, tf.string), tf.float64)>)"
            ]
          },
          "metadata": {},
          "execution_count": 122
        }
      ]
    },
    {
      "cell_type": "markdown",
      "metadata": {
        "id": "KQPLBYSL9n6w"
      },
      "source": [
        "### Fitting the model"
      ]
    },
    {
      "cell_type": "code",
      "metadata": {
        "colab": {
          "base_uri": "https://localhost:8080/"
        },
        "id": "hesMrlfS6hK5",
        "outputId": "61633be2-1efd-456f-9e21-21773700312a"
      },
      "source": [
        "# Fit the model\n",
        "history_model_7 = model_7.fit(train_char_token_dataset,\n",
        "                              epochs=5,\n",
        "                              validation_data=val_char_token_dataset)"
      ],
      "execution_count": 123,
      "outputs": [
        {
          "output_type": "stream",
          "name": "stdout",
          "text": [
            "Epoch 1/5\n",
            "500/500 [==============================] - 51s 94ms/step - loss: 1.2280 - accuracy: 0.5479 - val_loss: 1.0038 - val_accuracy: 0.6305\n",
            "Epoch 2/5\n",
            "500/500 [==============================] - 45s 90ms/step - loss: 1.0172 - accuracy: 0.6317 - val_loss: 0.9433 - val_accuracy: 0.6470\n",
            "Epoch 3/5\n",
            "500/500 [==============================] - 45s 90ms/step - loss: 0.9544 - accuracy: 0.6472 - val_loss: 0.9014 - val_accuracy: 0.6640\n",
            "Epoch 4/5\n",
            "500/500 [==============================] - 45s 90ms/step - loss: 0.9113 - accuracy: 0.6624 - val_loss: 0.8850 - val_accuracy: 0.6720\n",
            "Epoch 5/5\n",
            "500/500 [==============================] - 45s 91ms/step - loss: 0.8731 - accuracy: 0.6774 - val_loss: 0.8686 - val_accuracy: 0.6745\n"
          ]
        }
      ]
    },
    {
      "cell_type": "code",
      "metadata": {
        "colab": {
          "base_uri": "https://localhost:8080/"
        },
        "id": "evB3WeJS6hId",
        "outputId": "fb4f1ff3-23af-46e7-c12a-3470ffc72566"
      },
      "source": [
        "# Evaluate the model on test_char_token_dataset\n",
        "model_7.evaluate(test_char_token_dataset)"
      ],
      "execution_count": 124,
      "outputs": [
        {
          "output_type": "stream",
          "name": "stdout",
          "text": [
            "63/63 [==============================] - 3s 42ms/step - loss: 0.8819 - accuracy: 0.6635\n"
          ]
        },
        {
          "output_type": "execute_result",
          "data": {
            "text/plain": [
              "[0.8819177150726318, 0.6635000109672546]"
            ]
          },
          "metadata": {},
          "execution_count": 124
        }
      ]
    },
    {
      "cell_type": "code",
      "metadata": {
        "colab": {
          "base_uri": "https://localhost:8080/"
        },
        "id": "--NK4REw6hF7",
        "outputId": "69e122e6-b95b-49f0-c04d-19efed4f3e8e"
      },
      "source": [
        "# Make predictions \n",
        "model_7_pred_probs = model_7.predict(test_char_token_dataset)\n",
        "model_7_pred_probs[:10]"
      ],
      "execution_count": 125,
      "outputs": [
        {
          "output_type": "execute_result",
          "data": {
            "text/plain": [
              "array([[1.07311137e-01, 1.11110359e-02, 1.12341866e-01, 1.38610071e-02,\n",
              "        7.53175199e-01, 2.19969964e-03],\n",
              "       [2.26528216e-02, 1.89290848e-03, 4.15029749e-02, 1.39150152e-03,\n",
              "        9.32250679e-01, 3.09021038e-04],\n",
              "       [2.53897682e-02, 7.26221316e-03, 2.63525005e-02, 8.69875494e-03,\n",
              "        9.31832016e-01, 4.64743527e-04],\n",
              "       [2.55337469e-02, 1.62652377e-02, 5.78262031e-01, 3.40898931e-01,\n",
              "        3.55385132e-02, 3.50149767e-03],\n",
              "       [2.22032607e-01, 9.11166798e-03, 6.42578825e-02, 5.05096512e-03,\n",
              "        6.94949090e-01, 4.59789718e-03],\n",
              "       [7.65548721e-02, 7.36690819e-01, 1.08628906e-02, 1.61678100e-03,\n",
              "        1.66752830e-01, 7.52183842e-03],\n",
              "       [8.76905978e-01, 8.72107595e-02, 2.52067787e-03, 8.11589940e-04,\n",
              "        3.22900079e-02, 2.60943023e-04],\n",
              "       [4.17600498e-02, 1.51356384e-01, 4.86860305e-01, 2.00907767e-01,\n",
              "        8.72597769e-02, 3.18557322e-02],\n",
              "       [5.63132241e-02, 3.50447416e-01, 4.27825958e-01, 3.79875600e-02,\n",
              "        6.64149523e-02, 6.10108189e-02],\n",
              "       [4.43523377e-01, 4.08381931e-02, 1.80457368e-01, 3.91066447e-02,\n",
              "        2.81939775e-01, 1.41346510e-02]], dtype=float32)"
            ]
          },
          "metadata": {},
          "execution_count": 125
        }
      ]
    },
    {
      "cell_type": "code",
      "metadata": {
        "colab": {
          "base_uri": "https://localhost:8080/"
        },
        "id": "A2Y4NllJCOCx",
        "outputId": "597a65b7-8e40-4652-9388-fd6b575efa91"
      },
      "source": [
        "# Convert model_7_pred_probs to labels\n",
        "model_7_preds = tf.argmax(model_7_pred_probs, axis=1)\n",
        "model_7_preds"
      ],
      "execution_count": 126,
      "outputs": [
        {
          "output_type": "execute_result",
          "data": {
            "text/plain": [
              "<tf.Tensor: shape=(2000,), dtype=int64, numpy=array([4, 4, 4, ..., 2, 2, 1])>"
            ]
          },
          "metadata": {},
          "execution_count": 126
        }
      ]
    },
    {
      "cell_type": "code",
      "metadata": {
        "colab": {
          "base_uri": "https://localhost:8080/"
        },
        "id": "4PAdsL_vCOAt",
        "outputId": "9b1395fd-f6ee-411a-a2e1-7828898d9962"
      },
      "source": [
        "# Turn prediction probabilities into prediction classes\n",
        "model_7_preds = tf.argmax(model_7_pred_probs, axis=1)\n",
        "model_7_preds"
      ],
      "execution_count": 127,
      "outputs": [
        {
          "output_type": "execute_result",
          "data": {
            "text/plain": [
              "<tf.Tensor: shape=(2000,), dtype=int64, numpy=array([4, 4, 4, ..., 2, 2, 1])>"
            ]
          },
          "metadata": {},
          "execution_count": 127
        }
      ]
    },
    {
      "cell_type": "code",
      "metadata": {
        "colab": {
          "base_uri": "https://localhost:8080/"
        },
        "id": "LBFy4LWkCN-D",
        "outputId": "0896c24b-d88e-4dc1-b1d8-afe2beefea58"
      },
      "source": [
        "# Get results of token-char-hybrid model\n",
        "model_7_results = calculate_results(y_true=test_labels_encoded,\n",
        "                                    y_pred=model_7_preds)\n",
        "model_7_results"
      ],
      "execution_count": 128,
      "outputs": [
        {
          "output_type": "execute_result",
          "data": {
            "text/plain": [
              "{'accuracy': 66.35,\n",
              " 'f1': 0.6527585149418818,\n",
              " 'precision': 0.658139870465201,\n",
              " 'recall': 0.6635}"
            ]
          },
          "metadata": {},
          "execution_count": 128
        }
      ]
    },
    {
      "cell_type": "code",
      "metadata": {
        "colab": {
          "base_uri": "https://localhost:8080/",
          "height": 573
        },
        "id": "4J3VpsmOCN7c",
        "outputId": "b185f8a2-6800-4e48-ed8f-dbd8532fc441"
      },
      "source": [
        "plot_loss_curves(history_model_7)"
      ],
      "execution_count": 129,
      "outputs": [
        {
          "output_type": "display_data",
          "data": {
            "image/png": "[encoded data removed]",
            "text/plain": [
              "<Figure size 432x288 with 1 Axes>"
            ]
          },
          "metadata": {
            "needs_background": "light"
          }
        },
        {
          "output_type": "display_data",
          "data": {
            "image/png": "[encoded data removed]",
            "text/plain": [
              "<Figure size 432x288 with 1 Axes>"
            ]
          },
          "metadata": {
            "needs_background": "light"
          }
        }
      ]
    },
    {
      "cell_type": "code",
      "metadata": {
        "colab": {
          "base_uri": "https://localhost:8080/"
        },
        "id": "v0YVNtXICN5G",
        "outputId": "ef9e248e-54ac-441d-a024-9f01395ad02a"
      },
      "source": [
        "# Compare model_6's results with model_7's results\n",
        "compare_results(old_model_results=model_6_results, \n",
        "                new_model_results=model_7_results)"
      ],
      "execution_count": 130,
      "outputs": [
        {
          "output_type": "stream",
          "name": "stdout",
          "text": [
            "Old accuracy: 52.05, New accuracy: 66.35, Difference: 14.30\n",
            "Old precision: 0.51, New precision: 0.66, Difference: 0.15\n",
            "Old recall: 0.52, New recall: 0.66, Difference: 0.14\n",
            "Old f1: 0.49, New f1: 0.65, Difference: 0.16\n"
          ]
        }
      ]
    },
    {
      "cell_type": "markdown",
      "metadata": {
        "id": "LOc_Ydr2EbgQ"
      },
      "source": [
        "## Model 8: Transfer Learning with Fine-tuned token embeddings + character embeddings"
      ]
    },
    {
      "cell_type": "code",
      "metadata": {
        "id": "_300Ox1SESLF"
      },
      "source": [
        "# 1. Token inputs/model\n",
        "## Create a new embedding layer\n",
        "sentence_encoder_layer_trainable = hub.KerasLayer(\"https://tfhub.dev/google/universal-sentence-encoder/4\",\n",
        "                                                  input_shape=[], # shape of inputs coming to our model \n",
        "                                                  dtype=tf.string, # data type of inputs coming to the USE layer\n",
        "                                                  trainable=True, # Fine-tuning\n",
        "                                                  name=\"USE_Trainable\")\n",
        "\n",
        "token_inputs = layers.Input(shape=[], dtype=\"string\", name=\"token_inputs\")\n",
        "token_embeddings = sentence_encoder_layer_trainable(token_inputs)\n",
        "token_outputs = layers.Dense(128, activation=\"relu\")(token_embeddings)\n",
        "token_model = tf.keras.Model(inputs=token_inputs,\n",
        "                             outputs=token_outputs)\n",
        "\n",
        "# 2. Char inputs/model\n",
        "## Create a new char embedding layer\n",
        "char_embed_3 = layers.Embedding(input_dim=NUM_CHAR_TOKENS, # number of different characters\n",
        "                              output_dim=25, # embedding dimension of each character\n",
        "                              mask_zero=False,\n",
        "                              name=\"char_embed_3\")\n",
        "\n",
        "char_inputs = layers.Input(shape=(1,), dtype=\"string\", name=\"char_inputs\")\n",
        "char_vectors = char_vectorizer(char_inputs)\n",
        "char_embeddings = char_embed_3(char_vectors)\n",
        "char_bi_lstm = layers.Bidirectional(layers.LSTM(32))(char_embeddings)\n",
        "char_model = tf.keras.Model(inputs=char_inputs,\n",
        "                            outputs=char_bi_lstm)\n",
        "\n",
        "# 3. Concatenate token and char inputs (chreate hybrid token embedding)\n",
        "token_char_concat = layers.Concatenate(name=\"token_char_hybrid\")([token_model.output,\n",
        "                                                                  char_model.output])\n",
        "\n",
        "# 4. Create output layers\n",
        "combined_dropout = layers.Dropout(0.5)(token_char_concat)\n",
        "combined_dense = layers.Dense(152, activation=\"relu\")(combined_dropout)\n",
        "final_dropout = layers.Dropout(0.5)(combined_dense)\n",
        "output_layer = layers.Dense(num_classes, activation=\"softmax\")(final_dropout)\n",
        "\n",
        "# Construct model with char and token inputs\n",
        "model_8 = tf.keras.Model(inputs=[token_model.input, char_model.input],\n",
        "                         outputs=output_layer,\n",
        "                         name=\"model_8_trained_token_and_char_embeddings\")"
      ],
      "execution_count": 131,
      "outputs": []
    },
    {
      "cell_type": "code",
      "metadata": {
        "colab": {
          "base_uri": "https://localhost:8080/"
        },
        "id": "olkAwvhVESIR",
        "outputId": "486958c2-3029-4853-f64d-2a0635fc25d0"
      },
      "source": [
        "# Get a summary of the model\n",
        "model_8.summary()"
      ],
      "execution_count": 132,
      "outputs": [
        {
          "output_type": "stream",
          "name": "stdout",
          "text": [
            "Model: \"model_8_trained_token_and_char_embeddings\"\n",
            "__________________________________________________________________________________________________\n",
            "Layer (type)                    Output Shape         Param #     Connected to                     \n",
            "==================================================================================================\n",
            "char_inputs (InputLayer)        [(None, 1)]          0                                            \n",
            "__________________________________________________________________________________________________\n",
            "token_inputs (InputLayer)       [(None,)]            0                                            \n",
            "__________________________________________________________________________________________________\n",
            "char_vectorizer (TextVectorizat (None, 207)          0           char_inputs[0][0]                \n",
            "__________________________________________________________________________________________________\n",
            "USE_Trainable (KerasLayer)      (None, 512)          256797824   token_inputs[0][0]               \n",
            "__________________________________________________________________________________________________\n",
            "char_embed_3 (Embedding)        (None, 207, 25)      1750        char_vectorizer[2][0]            \n",
            "__________________________________________________________________________________________________\n",
            "dense_11 (Dense)                (None, 128)          65664       USE_Trainable[0][0]              \n",
            "__________________________________________________________________________________________________\n",
            "bidirectional_2 (Bidirectional) (None, 64)           14848       char_embed_3[0][0]               \n",
            "__________________________________________________________________________________________________\n",
            "token_char_hybrid (Concatenate) (None, 192)          0           dense_11[0][0]                   \n",
            "                                                                 bidirectional_2[0][0]            \n",
            "__________________________________________________________________________________________________\n",
            "dropout_2 (Dropout)             (None, 192)          0           token_char_hybrid[0][0]          \n",
            "__________________________________________________________________________________________________\n",
            "dense_12 (Dense)                (None, 152)          29336       dropout_2[0][0]                  \n",
            "__________________________________________________________________________________________________\n",
            "dropout_3 (Dropout)             (None, 152)          0           dense_12[0][0]                   \n",
            "__________________________________________________________________________________________________\n",
            "dense_13 (Dense)                (None, 6)            918         dropout_3[0][0]                  \n",
            "==================================================================================================\n",
            "Total params: 256,910,340\n",
            "Trainable params: 256,910,340\n",
            "Non-trainable params: 0\n",
            "__________________________________________________________________________________________________\n"
          ]
        }
      ]
    },
    {
      "cell_type": "code",
      "metadata": {
        "colab": {
          "base_uri": "https://localhost:8080/",
          "height": 856
        },
        "id": "HtVyjlUBESFH",
        "outputId": "699f4b9e-493f-4705-f4fb-5e2b3eb48a4a"
      },
      "source": [
        "# Plot hybrid token and character model\n",
        "from tensorflow.keras.utils import plot_model\n",
        "plot_model(model_8)"
      ],
      "execution_count": 133,
      "outputs": [
        {
          "output_type": "execute_result",
          "data": {
            "image/png": "[encoded data removed]",
            "text/plain": [
              "<IPython.core.display.Image object>"
            ]
          },
          "metadata": {},
          "execution_count": 133
        }
      ]
    },
    {
      "cell_type": "code",
      "metadata": {
        "id": "EG9Hsp9-ESCh"
      },
      "source": [
        "# Compile token char model\n",
        "model_8.compile(loss=\"categorical_crossentropy\",\n",
        "                optimizer=\"Adam\",\n",
        "                metrics=[\"accuracy\"])"
      ],
      "execution_count": 134,
      "outputs": []
    },
    {
      "cell_type": "code",
      "metadata": {
        "colab": {
          "base_uri": "https://localhost:8080/"
        },
        "id": "TuPzyzXJER_n",
        "outputId": "760dd7ec-2c03-4775-93b8-f79db018e2cc"
      },
      "source": [
        "# Fit the model\n",
        "history_model_8 = model_8.fit(train_char_token_dataset,\n",
        "                              epochs=5,\n",
        "                              validation_data=val_char_token_dataset)"
      ],
      "execution_count": 135,
      "outputs": [
        {
          "output_type": "stream",
          "name": "stdout",
          "text": [
            "Epoch 1/5\n",
            "500/500 [==============================] - 150s 280ms/step - loss: 1.1233 - accuracy: 0.5916 - val_loss: 0.7416 - val_accuracy: 0.7350\n",
            "Epoch 2/5\n",
            "500/500 [==============================] - 139s 277ms/step - loss: 0.3320 - accuracy: 0.8917 - val_loss: 0.6968 - val_accuracy: 0.8010\n",
            "Epoch 3/5\n",
            "500/500 [==============================] - 139s 277ms/step - loss: 0.0873 - accuracy: 0.9754 - val_loss: 0.8347 - val_accuracy: 0.7835\n",
            "Epoch 4/5\n",
            "500/500 [==============================] - 139s 277ms/step - loss: 0.0375 - accuracy: 0.9903 - val_loss: 0.7847 - val_accuracy: 0.8210\n",
            "Epoch 5/5\n",
            "500/500 [==============================] - 138s 276ms/step - loss: 0.0268 - accuracy: 0.9936 - val_loss: 1.0275 - val_accuracy: 0.8070\n"
          ]
        }
      ]
    },
    {
      "cell_type": "code",
      "metadata": {
        "id": "utc2GgBcER8i",
        "colab": {
          "base_uri": "https://localhost:8080/"
        },
        "outputId": "1366801a-1256-4b76-cc9b-27a2b91bdd08"
      },
      "source": [
        "# Evaluate model on test_char_token_dataset\n",
        "model_8.evaluate(test_char_token_dataset)"
      ],
      "execution_count": 137,
      "outputs": [
        {
          "output_type": "stream",
          "name": "stdout",
          "text": [
            "63/63 [==============================] - 3s 42ms/step - loss: 1.1275 - accuracy: 0.7815\n"
          ]
        },
        {
          "output_type": "execute_result",
          "data": {
            "text/plain": [
              "[1.1275464296340942, 0.781499981880188]"
            ]
          },
          "metadata": {},
          "execution_count": 137
        }
      ]
    },
    {
      "cell_type": "code",
      "metadata": {
        "id": "NMH0IbtIER5y",
        "colab": {
          "base_uri": "https://localhost:8080/"
        },
        "outputId": "3369ca86-6c96-4e4a-98cd-d587309301d3"
      },
      "source": [
        "# Make predictions \n",
        "model_8_pred_probs = model_8.predict(test_char_token_dataset)\n",
        "model_8_pred_probs[:10]"
      ],
      "execution_count": 138,
      "outputs": [
        {
          "output_type": "execute_result",
          "data": {
            "text/plain": [
              "array([[1.6118531e-04, 2.2044637e-06, 5.6179709e-07, 1.6271057e-08,\n",
              "        9.9983597e-01, 3.2870116e-09],\n",
              "       [2.1448624e-05, 1.1425652e-06, 1.4938037e-07, 4.1341361e-09,\n",
              "        9.9997723e-01, 1.3587064e-09],\n",
              "       [1.6664376e-03, 3.8938623e-04, 2.4699528e-05, 1.1347802e-06,\n",
              "        9.9791747e-01, 8.3947191e-07],\n",
              "       [3.8759507e-07, 5.6506190e-07, 9.9531049e-01, 4.6851970e-03,\n",
              "        1.5352873e-06, 1.9361835e-06],\n",
              "       [8.0277996e-06, 2.5844923e-07, 1.2185014e-07, 2.6783764e-09,\n",
              "        9.9999154e-01, 6.8225969e-10],\n",
              "       [1.8833903e-06, 9.9998939e-01, 1.7141547e-06, 4.4669571e-10,\n",
              "        1.4066957e-06, 5.6148501e-06],\n",
              "       [9.9990523e-01, 8.2477272e-05, 1.6967758e-06, 6.7598074e-07,\n",
              "        9.8411347e-06, 1.1112874e-07],\n",
              "       [7.4543583e-05, 1.1477049e-05, 1.9226682e-01, 8.0730474e-01,\n",
              "        1.8388007e-04, 1.5854267e-04],\n",
              "       [3.3137137e-08, 4.4679033e-05, 9.9989629e-01, 4.1489053e-05,\n",
              "        4.2877551e-07, 1.7107626e-05],\n",
              "       [6.3935012e-01, 3.9218910e-04, 1.2480629e-01, 3.4778122e-02,\n",
              "        2.0051783e-01, 1.5542126e-04]], dtype=float32)"
            ]
          },
          "metadata": {},
          "execution_count": 138
        }
      ]
    },
    {
      "cell_type": "code",
      "metadata": {
        "id": "7R9hpDh9ER20",
        "colab": {
          "base_uri": "https://localhost:8080/"
        },
        "outputId": "b669a37b-4e9e-4cd1-94a9-d36861aa32ba"
      },
      "source": [
        "# Convert model_7_pred_probs to labels\n",
        "model_8_preds = tf.argmax(model_8_pred_probs, axis=1)\n",
        "model_8_preds"
      ],
      "execution_count": 139,
      "outputs": [
        {
          "output_type": "execute_result",
          "data": {
            "text/plain": [
              "<tf.Tensor: shape=(2000,), dtype=int64, numpy=array([4, 4, 4, ..., 2, 2, 2])>"
            ]
          },
          "metadata": {},
          "execution_count": 139
        }
      ]
    },
    {
      "cell_type": "code",
      "metadata": {
        "id": "dXwF0KZQER0C",
        "colab": {
          "base_uri": "https://localhost:8080/"
        },
        "outputId": "11491720-e1af-43f6-b848-811b2143b719"
      },
      "source": [
        "# Turn prediction probabilities into prediction classes\n",
        "model_8_preds = tf.argmax(model_8_pred_probs, axis=1)\n",
        "model_8_preds"
      ],
      "execution_count": 140,
      "outputs": [
        {
          "output_type": "execute_result",
          "data": {
            "text/plain": [
              "<tf.Tensor: shape=(2000,), dtype=int64, numpy=array([4, 4, 4, ..., 2, 2, 2])>"
            ]
          },
          "metadata": {},
          "execution_count": 140
        }
      ]
    },
    {
      "cell_type": "code",
      "metadata": {
        "id": "Mt7aj8rvEQ3M",
        "colab": {
          "base_uri": "https://localhost:8080/"
        },
        "outputId": "440887bd-e801-4170-fbdf-d954415d840a"
      },
      "source": [
        "# Get results of token-char-hybrid model\n",
        "model_8_results = calculate_results(y_true=test_labels_encoded,\n",
        "                                    y_pred=model_8_preds)\n",
        "model_8_results"
      ],
      "execution_count": 141,
      "outputs": [
        {
          "output_type": "execute_result",
          "data": {
            "text/plain": [
              "{'accuracy': 78.14999999999999,\n",
              " 'f1': 0.7808274240965976,\n",
              " 'precision': 0.7969150523964565,\n",
              " 'recall': 0.7815}"
            ]
          },
          "metadata": {},
          "execution_count": 141
        }
      ]
    },
    {
      "cell_type": "code",
      "metadata": {
        "colab": {
          "base_uri": "https://localhost:8080/",
          "height": 573
        },
        "id": "0_erjxguXjCu",
        "outputId": "141acf9f-5bd3-4bad-fbff-e2516224e170"
      },
      "source": [
        "plot_loss_curves(history_model_8)"
      ],
      "execution_count": 142,
      "outputs": [
        {
          "output_type": "display_data",
          "data": {
            "image/png": "[encoded data removed]",
            "text/plain": [
              "<Figure size 432x288 with 1 Axes>"
            ]
          },
          "metadata": {
            "needs_background": "light"
          }
        },
        {
          "output_type": "display_data",
          "data": {
            "image/png": "[encoded data removed]",
            "text/plain": [
              "<Figure size 432x288 with 1 Axes>"
            ]
          },
          "metadata": {
            "needs_background": "light"
          }
        }
      ]
    },
    {
      "cell_type": "code",
      "metadata": {
        "colab": {
          "base_uri": "https://localhost:8080/"
        },
        "id": "MQuXga5dXjAE",
        "outputId": "b2ae647b-92a0-4a24-e907-de874392c1b7"
      },
      "source": [
        "# Compare model_7's results with model_8's results\n",
        "compare_results(old_model_results=model_7_results, \n",
        "                new_model_results=model_8_results)"
      ],
      "execution_count": 143,
      "outputs": [
        {
          "output_type": "stream",
          "name": "stdout",
          "text": [
            "Old accuracy: 66.35, New accuracy: 78.15, Difference: 11.80\n",
            "Old precision: 0.66, New precision: 0.80, Difference: 0.14\n",
            "Old recall: 0.66, New recall: 0.78, Difference: 0.12\n",
            "Old f1: 0.65, New f1: 0.78, Difference: 0.13\n"
          ]
        }
      ]
    },
    {
      "cell_type": "markdown",
      "metadata": {
        "id": "sSIPWFhJXi9d"
      },
      "source": [
        "Comparing the performance of each of our models"
      ]
    },
    {
      "cell_type": "code",
      "metadata": {
        "id": "OPcaGTYyXi7K"
      },
      "source": [
        "# Combine model results into a DataFrame\n",
        "all_model_results = pd.DataFrame({\"0_baseline\": baseline_results,\n",
        "                                  \"1_conv1d\": model_1_results,\n",
        "                                  \"2_lstm\": model_2_results,\n",
        "                                  \"3_gru\": model_3_results,\n",
        "                                  \"4_bidirectional_lstm\": model_4_results,\n",
        "                                  \"5_tf_hub_use_encoder\": model_5_results,\n",
        "                                  \"6_conv1D_char_embedding\": model_6_results,\n",
        "                                  \"7_token_char_embedding\": model_7_results,\n",
        "                                  \"8_trained_token_and_char_embeddings\": model_8_results})\n",
        "all_model_results = all_model_results.transpose()"
      ],
      "execution_count": 144,
      "outputs": []
    },
    {
      "cell_type": "code",
      "metadata": {
        "colab": {
          "base_uri": "https://localhost:8080/",
          "height": 326
        },
        "id": "wOjAX6wlXi38",
        "outputId": "5727c10e-e493-4ca7-b36f-c9165305e932"
      },
      "source": [
        "# Reduce the accuracy to the same scale as other metrics\n",
        "all_model_results[\"accuracy\"] = all_model_results[\"accuracy\"]/100\n",
        "all_model_results"
      ],
      "execution_count": 145,
      "outputs": [
        {
          "output_type": "execute_result",
          "data": {
            "text/html": [
              "<div>\n",
              "<style scoped>\n",
              "    .dataframe tbody tr th:only-of-type {\n",
              "        vertical-align: middle;\n",
              "    }\n",
              "\n",
              "    .dataframe tbody tr th {\n",
              "        vertical-align: top;\n",
              "    }\n",
              "\n",
              "    .dataframe thead th {\n",
              "        text-align: right;\n",
              "    }\n",
              "</style>\n",
              "<table border=\"1\" class=\"dataframe\">\n",
              "  <thead>\n",
              "    <tr style=\"text-align: right;\">\n",
              "      <th></th>\n",
              "      <th>accuracy</th>\n",
              "      <th>precision</th>\n",
              "      <th>recall</th>\n",
              "      <th>f1</th>\n",
              "    </tr>\n",
              "  </thead>\n",
              "  <tbody>\n",
              "    <tr>\n",
              "      <th>0_baseline</th>\n",
              "      <td>0.3315</td>\n",
              "      <td>0.243748</td>\n",
              "      <td>0.3315</td>\n",
              "      <td>0.266659</td>\n",
              "    </tr>\n",
              "    <tr>\n",
              "      <th>1_conv1d</th>\n",
              "      <td>0.8845</td>\n",
              "      <td>0.884983</td>\n",
              "      <td>0.8845</td>\n",
              "      <td>0.883589</td>\n",
              "    </tr>\n",
              "    <tr>\n",
              "      <th>2_lstm</th>\n",
              "      <td>0.9010</td>\n",
              "      <td>0.901411</td>\n",
              "      <td>0.9010</td>\n",
              "      <td>0.900342</td>\n",
              "    </tr>\n",
              "    <tr>\n",
              "      <th>3_gru</th>\n",
              "      <td>0.9045</td>\n",
              "      <td>0.905060</td>\n",
              "      <td>0.9045</td>\n",
              "      <td>0.903576</td>\n",
              "    </tr>\n",
              "    <tr>\n",
              "      <th>4_bidirectional_lstm</th>\n",
              "      <td>0.8665</td>\n",
              "      <td>0.872275</td>\n",
              "      <td>0.8665</td>\n",
              "      <td>0.864916</td>\n",
              "    </tr>\n",
              "    <tr>\n",
              "      <th>5_tf_hub_use_encoder</th>\n",
              "      <td>0.6710</td>\n",
              "      <td>0.668867</td>\n",
              "      <td>0.6710</td>\n",
              "      <td>0.664876</td>\n",
              "    </tr>\n",
              "    <tr>\n",
              "      <th>6_conv1D_char_embedding</th>\n",
              "      <td>0.5205</td>\n",
              "      <td>0.507978</td>\n",
              "      <td>0.5205</td>\n",
              "      <td>0.489943</td>\n",
              "    </tr>\n",
              "    <tr>\n",
              "      <th>7_token_char_embedding</th>\n",
              "      <td>0.6635</td>\n",
              "      <td>0.658140</td>\n",
              "      <td>0.6635</td>\n",
              "      <td>0.652759</td>\n",
              "    </tr>\n",
              "    <tr>\n",
              "      <th>8_trained_token_and_char_embeddings</th>\n",
              "      <td>0.7815</td>\n",
              "      <td>0.796915</td>\n",
              "      <td>0.7815</td>\n",
              "      <td>0.780827</td>\n",
              "    </tr>\n",
              "  </tbody>\n",
              "</table>\n",
              "</div>"
            ],
            "text/plain": [
              "                                     accuracy  precision  recall        f1\n",
              "0_baseline                             0.3315   0.243748  0.3315  0.266659\n",
              "1_conv1d                               0.8845   0.884983  0.8845  0.883589\n",
              "2_lstm                                 0.9010   0.901411  0.9010  0.900342\n",
              "3_gru                                  0.9045   0.905060  0.9045  0.903576\n",
              "4_bidirectional_lstm                   0.8665   0.872275  0.8665  0.864916\n",
              "5_tf_hub_use_encoder                   0.6710   0.668867  0.6710  0.664876\n",
              "6_conv1D_char_embedding                0.5205   0.507978  0.5205  0.489943\n",
              "7_token_char_embedding                 0.6635   0.658140  0.6635  0.652759\n",
              "8_trained_token_and_char_embeddings    0.7815   0.796915  0.7815  0.780827"
            ]
          },
          "metadata": {},
          "execution_count": 145
        }
      ]
    },
    {
      "cell_type": "code",
      "metadata": {
        "colab": {
          "base_uri": "https://localhost:8080/",
          "height": 570
        },
        "id": "OI8xZy1nXi1U",
        "outputId": "5ffba2a0-1e63-4b23-e167-ed10f5cc8607"
      },
      "source": [
        "# Plot and compare all of the model results\n",
        "all_model_results.plot(kind=\"bar\", figsize=(10,7)).legend(bbox_to_anchor=(1.0, 1.0));"
      ],
      "execution_count": 146,
      "outputs": [
        {
          "output_type": "display_data",
          "data": {
            "image/png": "[encoded data removed]",
            "text/plain": [
              "<Figure size 720x504 with 1 Axes>"
            ]
          },
          "metadata": {
            "needs_background": "light"
          }
        }
      ]
    },
    {
      "cell_type": "code",
      "metadata": {
        "colab": {
          "base_uri": "https://localhost:8080/",
          "height": 616
        },
        "id": "DHMQbQEYYZk-",
        "outputId": "f5835e10-563e-476c-d32f-04155edd5fad"
      },
      "source": [
        "# Sort model results by f1-score\n",
        "all_model_results.sort_values(\"f1\", ascending=False)[\"f1\"].plot(kind=\"bar\", figsize=(10,7));"
      ],
      "execution_count": 147,
      "outputs": [
        {
          "output_type": "display_data",
          "data": {
            "image/png": "[encoded data removed]",
            "text/plain": [
              "<Figure size 720x504 with 1 Axes>"
            ]
          },
          "metadata": {
            "needs_background": "light"
          }
        }
      ]
    },
    {
      "cell_type": "markdown",
      "metadata": {
        "id": "09MFEWNpZ8N5"
      },
      "source": [
        "# BERT"
      ]
    }
  ]
}