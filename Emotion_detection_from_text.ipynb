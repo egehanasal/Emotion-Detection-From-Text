{
  "nbformat": 4,
  "nbformat_minor": 0,
  "metadata": {
    "colab": {
      "name": "Emotion_detection_from_text.ipynb",
      "provenance": [],
      "collapsed_sections": [
        "gW2pj-CHS2v2"
      ]
    },
    "kernelspec": {
      "name": "python3",
      "display_name": "Python 3"
    },
    "language_info": {
      "name": "python"
    },
    "accelerator": "GPU",
    "widgets": {
      "application/vnd.jupyter.widget-state+json": {
        "d80862a0c68c424394ed0d3c6dcb33cf": {
          "model_module": "@jupyter-widgets/controls",
          "model_name": "HBoxModel",
          "model_module_version": "1.5.0",
          "state": {
            "_view_name": "HBoxView",
            "_dom_classes": [],
            "_model_name": "HBoxModel",
            "_view_module": "@jupyter-widgets/controls",
            "_model_module_version": "1.5.0",
            "_view_count": null,
            "_view_module_version": "1.5.0",
            "box_style": "",
            "layout": "IPY_MODEL_bd3be37ae4d041508bc978adf0237cd9",
            "_model_module": "@jupyter-widgets/controls",
            "children": [
              "IPY_MODEL_c04076178c49414291a5bef76a85c550",
              "IPY_MODEL_e38b37c2fb774829a022cbc165f62a61",
              "IPY_MODEL_a514722748ee4e3db6c9367f85ead323"
            ]
          }
        },
        "bd3be37ae4d041508bc978adf0237cd9": {
          "model_module": "@jupyter-widgets/base",
          "model_name": "LayoutModel",
          "model_module_version": "1.2.0",
          "state": {
            "_view_name": "LayoutView",
            "grid_template_rows": null,
            "right": null,
            "justify_content": null,
            "_view_module": "@jupyter-widgets/base",
            "overflow": null,
            "_model_module_version": "1.2.0",
            "_view_count": null,
            "flex_flow": null,
            "width": null,
            "min_width": null,
            "border": null,
            "align_items": null,
            "bottom": null,
            "_model_module": "@jupyter-widgets/base",
            "top": null,
            "grid_column": null,
            "overflow_y": null,
            "overflow_x": null,
            "grid_auto_flow": null,
            "grid_area": null,
            "grid_template_columns": null,
            "flex": null,
            "_model_name": "LayoutModel",
            "justify_items": null,
            "grid_row": null,
            "max_height": null,
            "align_content": null,
            "visibility": null,
            "align_self": null,
            "height": null,
            "min_height": null,
            "padding": null,
            "grid_auto_rows": null,
            "grid_gap": null,
            "max_width": null,
            "order": null,
            "_view_module_version": "1.2.0",
            "grid_template_areas": null,
            "object_position": null,
            "object_fit": null,
            "grid_auto_columns": null,
            "margin": null,
            "display": null,
            "left": null
          }
        },
        "c04076178c49414291a5bef76a85c550": {
          "model_module": "@jupyter-widgets/controls",
          "model_name": "HTMLModel",
          "model_module_version": "1.5.0",
          "state": {
            "_view_name": "HTMLView",
            "style": "IPY_MODEL_0968c2d2c87348c1811e5054b9424a5d",
            "_dom_classes": [],
            "description": "",
            "_model_name": "HTMLModel",
            "placeholder": "​",
            "_view_module": "@jupyter-widgets/controls",
            "_model_module_version": "1.5.0",
            "value": "Downloading: ",
            "_view_count": null,
            "_view_module_version": "1.5.0",
            "description_tooltip": null,
            "_model_module": "@jupyter-widgets/controls",
            "layout": "IPY_MODEL_1b41e12bda92468583e2d28a888df5f6"
          }
        },
        "e38b37c2fb774829a022cbc165f62a61": {
          "model_module": "@jupyter-widgets/controls",
          "model_name": "FloatProgressModel",
          "model_module_version": "1.5.0",
          "state": {
            "_view_name": "ProgressView",
            "style": "IPY_MODEL_b0c8734595364168adff410db88926fb",
            "_dom_classes": [],
            "description": "",
            "_model_name": "FloatProgressModel",
            "bar_style": "success",
            "max": 1655,
            "_view_module": "@jupyter-widgets/controls",
            "_model_module_version": "1.5.0",
            "value": 1655,
            "_view_count": null,
            "_view_module_version": "1.5.0",
            "orientation": "horizontal",
            "min": 0,
            "description_tooltip": null,
            "_model_module": "@jupyter-widgets/controls",
            "layout": "IPY_MODEL_a75ab5369e5b447abbe4ddd55082d36c"
          }
        },
        "a514722748ee4e3db6c9367f85ead323": {
          "model_module": "@jupyter-widgets/controls",
          "model_name": "HTMLModel",
          "model_module_version": "1.5.0",
          "state": {
            "_view_name": "HTMLView",
            "style": "IPY_MODEL_86e8792b97e84cdcb35d9ce983402322",
            "_dom_classes": [],
            "description": "",
            "_model_name": "HTMLModel",
            "placeholder": "​",
            "_view_module": "@jupyter-widgets/controls",
            "_model_module_version": "1.5.0",
            "value": " 3.62k/? [00:00&lt;00:00, 77.9kB/s]",
            "_view_count": null,
            "_view_module_version": "1.5.0",
            "description_tooltip": null,
            "_model_module": "@jupyter-widgets/controls",
            "layout": "IPY_MODEL_0ccea86a8cd949088cf225f8780f33ba"
          }
        },
        "0968c2d2c87348c1811e5054b9424a5d": {
          "model_module": "@jupyter-widgets/controls",
          "model_name": "DescriptionStyleModel",
          "model_module_version": "1.5.0",
          "state": {
            "_view_name": "StyleView",
            "_model_name": "DescriptionStyleModel",
            "description_width": "",
            "_view_module": "@jupyter-widgets/base",
            "_model_module_version": "1.5.0",
            "_view_count": null,
            "_view_module_version": "1.2.0",
            "_model_module": "@jupyter-widgets/controls"
          }
        },
        "1b41e12bda92468583e2d28a888df5f6": {
          "model_module": "@jupyter-widgets/base",
          "model_name": "LayoutModel",
          "model_module_version": "1.2.0",
          "state": {
            "_view_name": "LayoutView",
            "grid_template_rows": null,
            "right": null,
            "justify_content": null,
            "_view_module": "@jupyter-widgets/base",
            "overflow": null,
            "_model_module_version": "1.2.0",
            "_view_count": null,
            "flex_flow": null,
            "width": null,
            "min_width": null,
            "border": null,
            "align_items": null,
            "bottom": null,
            "_model_module": "@jupyter-widgets/base",
            "top": null,
            "grid_column": null,
            "overflow_y": null,
            "overflow_x": null,
            "grid_auto_flow": null,
            "grid_area": null,
            "grid_template_columns": null,
            "flex": null,
            "_model_name": "LayoutModel",
            "justify_items": null,
            "grid_row": null,
            "max_height": null,
            "align_content": null,
            "visibility": null,
            "align_self": null,
            "height": null,
            "min_height": null,
            "padding": null,
            "grid_auto_rows": null,
            "grid_gap": null,
            "max_width": null,
            "order": null,
            "_view_module_version": "1.2.0",
            "grid_template_areas": null,
            "object_position": null,
            "object_fit": null,
            "grid_auto_columns": null,
            "margin": null,
            "display": null,
            "left": null
          }
        },
        "b0c8734595364168adff410db88926fb": {
          "model_module": "@jupyter-widgets/controls",
          "model_name": "ProgressStyleModel",
          "model_module_version": "1.5.0",
          "state": {
            "_view_name": "StyleView",
            "_model_name": "ProgressStyleModel",
            "description_width": "",
            "_view_module": "@jupyter-widgets/base",
            "_model_module_version": "1.5.0",
            "_view_count": null,
            "_view_module_version": "1.2.0",
            "bar_color": null,
            "_model_module": "@jupyter-widgets/controls"
          }
        },
        "a75ab5369e5b447abbe4ddd55082d36c": {
          "model_module": "@jupyter-widgets/base",
          "model_name": "LayoutModel",
          "model_module_version": "1.2.0",
          "state": {
            "_view_name": "LayoutView",
            "grid_template_rows": null,
            "right": null,
            "justify_content": null,
            "_view_module": "@jupyter-widgets/base",
            "overflow": null,
            "_model_module_version": "1.2.0",
            "_view_count": null,
            "flex_flow": null,
            "width": null,
            "min_width": null,
            "border": null,
            "align_items": null,
            "bottom": null,
            "_model_module": "@jupyter-widgets/base",
            "top": null,
            "grid_column": null,
            "overflow_y": null,
            "overflow_x": null,
            "grid_auto_flow": null,
            "grid_area": null,
            "grid_template_columns": null,
            "flex": null,
            "_model_name": "LayoutModel",
            "justify_items": null,
            "grid_row": null,
            "max_height": null,
            "align_content": null,
            "visibility": null,
            "align_self": null,
            "height": null,
            "min_height": null,
            "padding": null,
            "grid_auto_rows": null,
            "grid_gap": null,
            "max_width": null,
            "order": null,
            "_view_module_version": "1.2.0",
            "grid_template_areas": null,
            "object_position": null,
            "object_fit": null,
            "grid_auto_columns": null,
            "margin": null,
            "display": null,
            "left": null
          }
        },
        "86e8792b97e84cdcb35d9ce983402322": {
          "model_module": "@jupyter-widgets/controls",
          "model_name": "DescriptionStyleModel",
          "model_module_version": "1.5.0",
          "state": {
            "_view_name": "StyleView",
            "_model_name": "DescriptionStyleModel",
            "description_width": "",
            "_view_module": "@jupyter-widgets/base",
            "_model_module_version": "1.5.0",
            "_view_count": null,
            "_view_module_version": "1.2.0",
            "_model_module": "@jupyter-widgets/controls"
          }
        },
        "0ccea86a8cd949088cf225f8780f33ba": {
          "model_module": "@jupyter-widgets/base",
          "model_name": "LayoutModel",
          "model_module_version": "1.2.0",
          "state": {
            "_view_name": "LayoutView",
            "grid_template_rows": null,
            "right": null,
            "justify_content": null,
            "_view_module": "@jupyter-widgets/base",
            "overflow": null,
            "_model_module_version": "1.2.0",
            "_view_count": null,
            "flex_flow": null,
            "width": null,
            "min_width": null,
            "border": null,
            "align_items": null,
            "bottom": null,
            "_model_module": "@jupyter-widgets/base",
            "top": null,
            "grid_column": null,
            "overflow_y": null,
            "overflow_x": null,
            "grid_auto_flow": null,
            "grid_area": null,
            "grid_template_columns": null,
            "flex": null,
            "_model_name": "LayoutModel",
            "justify_items": null,
            "grid_row": null,
            "max_height": null,
            "align_content": null,
            "visibility": null,
            "align_self": null,
            "height": null,
            "min_height": null,
            "padding": null,
            "grid_auto_rows": null,
            "grid_gap": null,
            "max_width": null,
            "order": null,
            "_view_module_version": "1.2.0",
            "grid_template_areas": null,
            "object_position": null,
            "object_fit": null,
            "grid_auto_columns": null,
            "margin": null,
            "display": null,
            "left": null
          }
        },
        "f4799af15db84199bcb8bbb4f824ff89": {
          "model_module": "@jupyter-widgets/controls",
          "model_name": "HBoxModel",
          "model_module_version": "1.5.0",
          "state": {
            "_view_name": "HBoxView",
            "_dom_classes": [],
            "_model_name": "HBoxModel",
            "_view_module": "@jupyter-widgets/controls",
            "_model_module_version": "1.5.0",
            "_view_count": null,
            "_view_module_version": "1.5.0",
            "box_style": "",
            "layout": "IPY_MODEL_15fb28fcfbfe4fb685ca6449496f38ee",
            "_model_module": "@jupyter-widgets/controls",
            "children": [
              "IPY_MODEL_e094d751c63d4e4fb17a7d20abe7cc75",
              "IPY_MODEL_03e363b799864bf9b37d65a31aa42544",
              "IPY_MODEL_02c3e0f0a5f7426e874da40b05509417"
            ]
          }
        },
        "15fb28fcfbfe4fb685ca6449496f38ee": {
          "model_module": "@jupyter-widgets/base",
          "model_name": "LayoutModel",
          "model_module_version": "1.2.0",
          "state": {
            "_view_name": "LayoutView",
            "grid_template_rows": null,
            "right": null,
            "justify_content": null,
            "_view_module": "@jupyter-widgets/base",
            "overflow": null,
            "_model_module_version": "1.2.0",
            "_view_count": null,
            "flex_flow": null,
            "width": null,
            "min_width": null,
            "border": null,
            "align_items": null,
            "bottom": null,
            "_model_module": "@jupyter-widgets/base",
            "top": null,
            "grid_column": null,
            "overflow_y": null,
            "overflow_x": null,
            "grid_auto_flow": null,
            "grid_area": null,
            "grid_template_columns": null,
            "flex": null,
            "_model_name": "LayoutModel",
            "justify_items": null,
            "grid_row": null,
            "max_height": null,
            "align_content": null,
            "visibility": null,
            "align_self": null,
            "height": null,
            "min_height": null,
            "padding": null,
            "grid_auto_rows": null,
            "grid_gap": null,
            "max_width": null,
            "order": null,
            "_view_module_version": "1.2.0",
            "grid_template_areas": null,
            "object_position": null,
            "object_fit": null,
            "grid_auto_columns": null,
            "margin": null,
            "display": null,
            "left": null
          }
        },
        "e094d751c63d4e4fb17a7d20abe7cc75": {
          "model_module": "@jupyter-widgets/controls",
          "model_name": "HTMLModel",
          "model_module_version": "1.5.0",
          "state": {
            "_view_name": "HTMLView",
            "style": "IPY_MODEL_74107dfca76746929b997612dcc92170",
            "_dom_classes": [],
            "description": "",
            "_model_name": "HTMLModel",
            "placeholder": "​",
            "_view_module": "@jupyter-widgets/controls",
            "_model_module_version": "1.5.0",
            "value": "Downloading: ",
            "_view_count": null,
            "_view_module_version": "1.5.0",
            "description_tooltip": null,
            "_model_module": "@jupyter-widgets/controls",
            "layout": "IPY_MODEL_b7a7a202a7ae4753bd0f8a3c1345a9d2"
          }
        },
        "03e363b799864bf9b37d65a31aa42544": {
          "model_module": "@jupyter-widgets/controls",
          "model_name": "FloatProgressModel",
          "model_module_version": "1.5.0",
          "state": {
            "_view_name": "ProgressView",
            "style": "IPY_MODEL_7977ba77d0624f44a443ff7cc64bc728",
            "_dom_classes": [],
            "description": "",
            "_model_name": "FloatProgressModel",
            "bar_style": "success",
            "max": 1611,
            "_view_module": "@jupyter-widgets/controls",
            "_model_module_version": "1.5.0",
            "value": 1611,
            "_view_count": null,
            "_view_module_version": "1.5.0",
            "orientation": "horizontal",
            "min": 0,
            "description_tooltip": null,
            "_model_module": "@jupyter-widgets/controls",
            "layout": "IPY_MODEL_83ea096bac2243bcbf820d6f15cda1e5"
          }
        },
        "02c3e0f0a5f7426e874da40b05509417": {
          "model_module": "@jupyter-widgets/controls",
          "model_name": "HTMLModel",
          "model_module_version": "1.5.0",
          "state": {
            "_view_name": "HTMLView",
            "style": "IPY_MODEL_609c554d535d428d845982bc52c41c39",
            "_dom_classes": [],
            "description": "",
            "_model_name": "HTMLModel",
            "placeholder": "​",
            "_view_module": "@jupyter-widgets/controls",
            "_model_module_version": "1.5.0",
            "value": " 3.28k/? [00:00&lt;00:00, 79.3kB/s]",
            "_view_count": null,
            "_view_module_version": "1.5.0",
            "description_tooltip": null,
            "_model_module": "@jupyter-widgets/controls",
            "layout": "IPY_MODEL_3ac7e7d9a83b4af8916ea6731bb5aa5f"
          }
        },
        "74107dfca76746929b997612dcc92170": {
          "model_module": "@jupyter-widgets/controls",
          "model_name": "DescriptionStyleModel",
          "model_module_version": "1.5.0",
          "state": {
            "_view_name": "StyleView",
            "_model_name": "DescriptionStyleModel",
            "description_width": "",
            "_view_module": "@jupyter-widgets/base",
            "_model_module_version": "1.5.0",
            "_view_count": null,
            "_view_module_version": "1.2.0",
            "_model_module": "@jupyter-widgets/controls"
          }
        },
        "b7a7a202a7ae4753bd0f8a3c1345a9d2": {
          "model_module": "@jupyter-widgets/base",
          "model_name": "LayoutModel",
          "model_module_version": "1.2.0",
          "state": {
            "_view_name": "LayoutView",
            "grid_template_rows": null,
            "right": null,
            "justify_content": null,
            "_view_module": "@jupyter-widgets/base",
            "overflow": null,
            "_model_module_version": "1.2.0",
            "_view_count": null,
            "flex_flow": null,
            "width": null,
            "min_width": null,
            "border": null,
            "align_items": null,
            "bottom": null,
            "_model_module": "@jupyter-widgets/base",
            "top": null,
            "grid_column": null,
            "overflow_y": null,
            "overflow_x": null,
            "grid_auto_flow": null,
            "grid_area": null,
            "grid_template_columns": null,
            "flex": null,
            "_model_name": "LayoutModel",
            "justify_items": null,
            "grid_row": null,
            "max_height": null,
            "align_content": null,
            "visibility": null,
            "align_self": null,
            "height": null,
            "min_height": null,
            "padding": null,
            "grid_auto_rows": null,
            "grid_gap": null,
            "max_width": null,
            "order": null,
            "_view_module_version": "1.2.0",
            "grid_template_areas": null,
            "object_position": null,
            "object_fit": null,
            "grid_auto_columns": null,
            "margin": null,
            "display": null,
            "left": null
          }
        },
        "7977ba77d0624f44a443ff7cc64bc728": {
          "model_module": "@jupyter-widgets/controls",
          "model_name": "ProgressStyleModel",
          "model_module_version": "1.5.0",
          "state": {
            "_view_name": "StyleView",
            "_model_name": "ProgressStyleModel",
            "description_width": "",
            "_view_module": "@jupyter-widgets/base",
            "_model_module_version": "1.5.0",
            "_view_count": null,
            "_view_module_version": "1.2.0",
            "bar_color": null,
            "_model_module": "@jupyter-widgets/controls"
          }
        },
        "83ea096bac2243bcbf820d6f15cda1e5": {
          "model_module": "@jupyter-widgets/base",
          "model_name": "LayoutModel",
          "model_module_version": "1.2.0",
          "state": {
            "_view_name": "LayoutView",
            "grid_template_rows": null,
            "right": null,
            "justify_content": null,
            "_view_module": "@jupyter-widgets/base",
            "overflow": null,
            "_model_module_version": "1.2.0",
            "_view_count": null,
            "flex_flow": null,
            "width": null,
            "min_width": null,
            "border": null,
            "align_items": null,
            "bottom": null,
            "_model_module": "@jupyter-widgets/base",
            "top": null,
            "grid_column": null,
            "overflow_y": null,
            "overflow_x": null,
            "grid_auto_flow": null,
            "grid_area": null,
            "grid_template_columns": null,
            "flex": null,
            "_model_name": "LayoutModel",
            "justify_items": null,
            "grid_row": null,
            "max_height": null,
            "align_content": null,
            "visibility": null,
            "align_self": null,
            "height": null,
            "min_height": null,
            "padding": null,
            "grid_auto_rows": null,
            "grid_gap": null,
            "max_width": null,
            "order": null,
            "_view_module_version": "1.2.0",
            "grid_template_areas": null,
            "object_position": null,
            "object_fit": null,
            "grid_auto_columns": null,
            "margin": null,
            "display": null,
            "left": null
          }
        },
        "609c554d535d428d845982bc52c41c39": {
          "model_module": "@jupyter-widgets/controls",
          "model_name": "DescriptionStyleModel",
          "model_module_version": "1.5.0",
          "state": {
            "_view_name": "StyleView",
            "_model_name": "DescriptionStyleModel",
            "description_width": "",
            "_view_module": "@jupyter-widgets/base",
            "_model_module_version": "1.5.0",
            "_view_count": null,
            "_view_module_version": "1.2.0",
            "_model_module": "@jupyter-widgets/controls"
          }
        },
        "3ac7e7d9a83b4af8916ea6731bb5aa5f": {
          "model_module": "@jupyter-widgets/base",
          "model_name": "LayoutModel",
          "model_module_version": "1.2.0",
          "state": {
            "_view_name": "LayoutView",
            "grid_template_rows": null,
            "right": null,
            "justify_content": null,
            "_view_module": "@jupyter-widgets/base",
            "overflow": null,
            "_model_module_version": "1.2.0",
            "_view_count": null,
            "flex_flow": null,
            "width": null,
            "min_width": null,
            "border": null,
            "align_items": null,
            "bottom": null,
            "_model_module": "@jupyter-widgets/base",
            "top": null,
            "grid_column": null,
            "overflow_y": null,
            "overflow_x": null,
            "grid_auto_flow": null,
            "grid_area": null,
            "grid_template_columns": null,
            "flex": null,
            "_model_name": "LayoutModel",
            "justify_items": null,
            "grid_row": null,
            "max_height": null,
            "align_content": null,
            "visibility": null,
            "align_self": null,
            "height": null,
            "min_height": null,
            "padding": null,
            "grid_auto_rows": null,
            "grid_gap": null,
            "max_width": null,
            "order": null,
            "_view_module_version": "1.2.0",
            "grid_template_areas": null,
            "object_position": null,
            "object_fit": null,
            "grid_auto_columns": null,
            "margin": null,
            "display": null,
            "left": null
          }
        },
        "e3455fb33f83419dae977fb845a78a3a": {
          "model_module": "@jupyter-widgets/controls",
          "model_name": "HBoxModel",
          "model_module_version": "1.5.0",
          "state": {
            "_view_name": "HBoxView",
            "_dom_classes": [],
            "_model_name": "HBoxModel",
            "_view_module": "@jupyter-widgets/controls",
            "_model_module_version": "1.5.0",
            "_view_count": null,
            "_view_module_version": "1.5.0",
            "box_style": "",
            "layout": "IPY_MODEL_2d2f28e9cf8d4ac29a1521082a789184",
            "_model_module": "@jupyter-widgets/controls",
            "children": [
              "IPY_MODEL_009cc3849285473a970a29cc60781a0c",
              "IPY_MODEL_fff392ba0da04b999f7bbb8ecec82b51",
              "IPY_MODEL_cf62bc6b1f504adb9c751054d9b32b73"
            ]
          }
        },
        "2d2f28e9cf8d4ac29a1521082a789184": {
          "model_module": "@jupyter-widgets/base",
          "model_name": "LayoutModel",
          "model_module_version": "1.2.0",
          "state": {
            "_view_name": "LayoutView",
            "grid_template_rows": null,
            "right": null,
            "justify_content": null,
            "_view_module": "@jupyter-widgets/base",
            "overflow": null,
            "_model_module_version": "1.2.0",
            "_view_count": null,
            "flex_flow": null,
            "width": null,
            "min_width": null,
            "border": null,
            "align_items": null,
            "bottom": null,
            "_model_module": "@jupyter-widgets/base",
            "top": null,
            "grid_column": null,
            "overflow_y": null,
            "overflow_x": null,
            "grid_auto_flow": null,
            "grid_area": null,
            "grid_template_columns": null,
            "flex": null,
            "_model_name": "LayoutModel",
            "justify_items": null,
            "grid_row": null,
            "max_height": null,
            "align_content": null,
            "visibility": null,
            "align_self": null,
            "height": null,
            "min_height": null,
            "padding": null,
            "grid_auto_rows": null,
            "grid_gap": null,
            "max_width": null,
            "order": null,
            "_view_module_version": "1.2.0",
            "grid_template_areas": null,
            "object_position": null,
            "object_fit": null,
            "grid_auto_columns": null,
            "margin": null,
            "display": null,
            "left": null
          }
        },
        "009cc3849285473a970a29cc60781a0c": {
          "model_module": "@jupyter-widgets/controls",
          "model_name": "HTMLModel",
          "model_module_version": "1.5.0",
          "state": {
            "_view_name": "HTMLView",
            "style": "IPY_MODEL_d7b82320fbc2487daaed54153bb1cb16",
            "_dom_classes": [],
            "description": "",
            "_model_name": "HTMLModel",
            "placeholder": "​",
            "_view_module": "@jupyter-widgets/controls",
            "_model_module_version": "1.5.0",
            "value": "Downloading: 100%",
            "_view_count": null,
            "_view_module_version": "1.5.0",
            "description_tooltip": null,
            "_model_module": "@jupyter-widgets/controls",
            "layout": "IPY_MODEL_ec5fc5f17ec44bceacbaee9f279c690f"
          }
        },
        "fff392ba0da04b999f7bbb8ecec82b51": {
          "model_module": "@jupyter-widgets/controls",
          "model_name": "FloatProgressModel",
          "model_module_version": "1.5.0",
          "state": {
            "_view_name": "ProgressView",
            "style": "IPY_MODEL_f3cca388acea42b3bb5d4c44dc0710df",
            "_dom_classes": [],
            "description": "",
            "_model_name": "FloatProgressModel",
            "bar_style": "success",
            "max": 1658616,
            "_view_module": "@jupyter-widgets/controls",
            "_model_module_version": "1.5.0",
            "value": 1658616,
            "_view_count": null,
            "_view_module_version": "1.5.0",
            "orientation": "horizontal",
            "min": 0,
            "description_tooltip": null,
            "_model_module": "@jupyter-widgets/controls",
            "layout": "IPY_MODEL_a0b75e1951054598ac89089d2f33d079"
          }
        },
        "cf62bc6b1f504adb9c751054d9b32b73": {
          "model_module": "@jupyter-widgets/controls",
          "model_name": "HTMLModel",
          "model_module_version": "1.5.0",
          "state": {
            "_view_name": "HTMLView",
            "style": "IPY_MODEL_fcd78611584a4ab48ec66747ff1276e3",
            "_dom_classes": [],
            "description": "",
            "_model_name": "HTMLModel",
            "placeholder": "​",
            "_view_module": "@jupyter-widgets/controls",
            "_model_module_version": "1.5.0",
            "value": " 1.66M/1.66M [00:00&lt;00:00, 3.95MB/s]",
            "_view_count": null,
            "_view_module_version": "1.5.0",
            "description_tooltip": null,
            "_model_module": "@jupyter-widgets/controls",
            "layout": "IPY_MODEL_1c69d45dc0004309aec3d0b44d54760d"
          }
        },
        "d7b82320fbc2487daaed54153bb1cb16": {
          "model_module": "@jupyter-widgets/controls",
          "model_name": "DescriptionStyleModel",
          "model_module_version": "1.5.0",
          "state": {
            "_view_name": "StyleView",
            "_model_name": "DescriptionStyleModel",
            "description_width": "",
            "_view_module": "@jupyter-widgets/base",
            "_model_module_version": "1.5.0",
            "_view_count": null,
            "_view_module_version": "1.2.0",
            "_model_module": "@jupyter-widgets/controls"
          }
        },
        "ec5fc5f17ec44bceacbaee9f279c690f": {
          "model_module": "@jupyter-widgets/base",
          "model_name": "LayoutModel",
          "model_module_version": "1.2.0",
          "state": {
            "_view_name": "LayoutView",
            "grid_template_rows": null,
            "right": null,
            "justify_content": null,
            "_view_module": "@jupyter-widgets/base",
            "overflow": null,
            "_model_module_version": "1.2.0",
            "_view_count": null,
            "flex_flow": null,
            "width": null,
            "min_width": null,
            "border": null,
            "align_items": null,
            "bottom": null,
            "_model_module": "@jupyter-widgets/base",
            "top": null,
            "grid_column": null,
            "overflow_y": null,
            "overflow_x": null,
            "grid_auto_flow": null,
            "grid_area": null,
            "grid_template_columns": null,
            "flex": null,
            "_model_name": "LayoutModel",
            "justify_items": null,
            "grid_row": null,
            "max_height": null,
            "align_content": null,
            "visibility": null,
            "align_self": null,
            "height": null,
            "min_height": null,
            "padding": null,
            "grid_auto_rows": null,
            "grid_gap": null,
            "max_width": null,
            "order": null,
            "_view_module_version": "1.2.0",
            "grid_template_areas": null,
            "object_position": null,
            "object_fit": null,
            "grid_auto_columns": null,
            "margin": null,
            "display": null,
            "left": null
          }
        },
        "f3cca388acea42b3bb5d4c44dc0710df": {
          "model_module": "@jupyter-widgets/controls",
          "model_name": "ProgressStyleModel",
          "model_module_version": "1.5.0",
          "state": {
            "_view_name": "StyleView",
            "_model_name": "ProgressStyleModel",
            "description_width": "",
            "_view_module": "@jupyter-widgets/base",
            "_model_module_version": "1.5.0",
            "_view_count": null,
            "_view_module_version": "1.2.0",
            "bar_color": null,
            "_model_module": "@jupyter-widgets/controls"
          }
        },
        "a0b75e1951054598ac89089d2f33d079": {
          "model_module": "@jupyter-widgets/base",
          "model_name": "LayoutModel",
          "model_module_version": "1.2.0",
          "state": {
            "_view_name": "LayoutView",
            "grid_template_rows": null,
            "right": null,
            "justify_content": null,
            "_view_module": "@jupyter-widgets/base",
            "overflow": null,
            "_model_module_version": "1.2.0",
            "_view_count": null,
            "flex_flow": null,
            "width": null,
            "min_width": null,
            "border": null,
            "align_items": null,
            "bottom": null,
            "_model_module": "@jupyter-widgets/base",
            "top": null,
            "grid_column": null,
            "overflow_y": null,
            "overflow_x": null,
            "grid_auto_flow": null,
            "grid_area": null,
            "grid_template_columns": null,
            "flex": null,
            "_model_name": "LayoutModel",
            "justify_items": null,
            "grid_row": null,
            "max_height": null,
            "align_content": null,
            "visibility": null,
            "align_self": null,
            "height": null,
            "min_height": null,
            "padding": null,
            "grid_auto_rows": null,
            "grid_gap": null,
            "max_width": null,
            "order": null,
            "_view_module_version": "1.2.0",
            "grid_template_areas": null,
            "object_position": null,
            "object_fit": null,
            "grid_auto_columns": null,
            "margin": null,
            "display": null,
            "left": null
          }
        },
        "fcd78611584a4ab48ec66747ff1276e3": {
          "model_module": "@jupyter-widgets/controls",
          "model_name": "DescriptionStyleModel",
          "model_module_version": "1.5.0",
          "state": {
            "_view_name": "StyleView",
            "_model_name": "DescriptionStyleModel",
            "description_width": "",
            "_view_module": "@jupyter-widgets/base",
            "_model_module_version": "1.5.0",
            "_view_count": null,
            "_view_module_version": "1.2.0",
            "_model_module": "@jupyter-widgets/controls"
          }
        },
        "1c69d45dc0004309aec3d0b44d54760d": {
          "model_module": "@jupyter-widgets/base",
          "model_name": "LayoutModel",
          "model_module_version": "1.2.0",
          "state": {
            "_view_name": "LayoutView",
            "grid_template_rows": null,
            "right": null,
            "justify_content": null,
            "_view_module": "@jupyter-widgets/base",
            "overflow": null,
            "_model_module_version": "1.2.0",
            "_view_count": null,
            "flex_flow": null,
            "width": null,
            "min_width": null,
            "border": null,
            "align_items": null,
            "bottom": null,
            "_model_module": "@jupyter-widgets/base",
            "top": null,
            "grid_column": null,
            "overflow_y": null,
            "overflow_x": null,
            "grid_auto_flow": null,
            "grid_area": null,
            "grid_template_columns": null,
            "flex": null,
            "_model_name": "LayoutModel",
            "justify_items": null,
            "grid_row": null,
            "max_height": null,
            "align_content": null,
            "visibility": null,
            "align_self": null,
            "height": null,
            "min_height": null,
            "padding": null,
            "grid_auto_rows": null,
            "grid_gap": null,
            "max_width": null,
            "order": null,
            "_view_module_version": "1.2.0",
            "grid_template_areas": null,
            "object_position": null,
            "object_fit": null,
            "grid_auto_columns": null,
            "margin": null,
            "display": null,
            "left": null
          }
        },
        "cbf4293b24b84399aa5bad6a9f142431": {
          "model_module": "@jupyter-widgets/controls",
          "model_name": "HBoxModel",
          "model_module_version": "1.5.0",
          "state": {
            "_view_name": "HBoxView",
            "_dom_classes": [],
            "_model_name": "HBoxModel",
            "_view_module": "@jupyter-widgets/controls",
            "_model_module_version": "1.5.0",
            "_view_count": null,
            "_view_module_version": "1.5.0",
            "box_style": "",
            "layout": "IPY_MODEL_4c8bcef1accd4d5380d1dab4bcd1f649",
            "_model_module": "@jupyter-widgets/controls",
            "children": [
              "IPY_MODEL_aca19e413a704b61a60882c562fc9932",
              "IPY_MODEL_19fe779c505042b6b51cd296ec3519b7",
              "IPY_MODEL_20f7cadbfe334ca8af5693da3bd4ece1"
            ]
          }
        },
        "4c8bcef1accd4d5380d1dab4bcd1f649": {
          "model_module": "@jupyter-widgets/base",
          "model_name": "LayoutModel",
          "model_module_version": "1.2.0",
          "state": {
            "_view_name": "LayoutView",
            "grid_template_rows": null,
            "right": null,
            "justify_content": null,
            "_view_module": "@jupyter-widgets/base",
            "overflow": null,
            "_model_module_version": "1.2.0",
            "_view_count": null,
            "flex_flow": null,
            "width": null,
            "min_width": null,
            "border": null,
            "align_items": null,
            "bottom": null,
            "_model_module": "@jupyter-widgets/base",
            "top": null,
            "grid_column": null,
            "overflow_y": null,
            "overflow_x": null,
            "grid_auto_flow": null,
            "grid_area": null,
            "grid_template_columns": null,
            "flex": null,
            "_model_name": "LayoutModel",
            "justify_items": null,
            "grid_row": null,
            "max_height": null,
            "align_content": null,
            "visibility": null,
            "align_self": null,
            "height": null,
            "min_height": null,
            "padding": null,
            "grid_auto_rows": null,
            "grid_gap": null,
            "max_width": null,
            "order": null,
            "_view_module_version": "1.2.0",
            "grid_template_areas": null,
            "object_position": null,
            "object_fit": null,
            "grid_auto_columns": null,
            "margin": null,
            "display": null,
            "left": null
          }
        },
        "aca19e413a704b61a60882c562fc9932": {
          "model_module": "@jupyter-widgets/controls",
          "model_name": "HTMLModel",
          "model_module_version": "1.5.0",
          "state": {
            "_view_name": "HTMLView",
            "style": "IPY_MODEL_48ca8643d0254aad8214e6cefcf2855b",
            "_dom_classes": [],
            "description": "",
            "_model_name": "HTMLModel",
            "placeholder": "​",
            "_view_module": "@jupyter-widgets/controls",
            "_model_module_version": "1.5.0",
            "value": "Downloading: 100%",
            "_view_count": null,
            "_view_module_version": "1.5.0",
            "description_tooltip": null,
            "_model_module": "@jupyter-widgets/controls",
            "layout": "IPY_MODEL_12e5b3f5f3534ab2b7b6a106c9e604eb"
          }
        },
        "19fe779c505042b6b51cd296ec3519b7": {
          "model_module": "@jupyter-widgets/controls",
          "model_name": "FloatProgressModel",
          "model_module_version": "1.5.0",
          "state": {
            "_view_name": "ProgressView",
            "style": "IPY_MODEL_57dac29877ef49f1a49deed0b45022ab",
            "_dom_classes": [],
            "description": "",
            "_model_name": "FloatProgressModel",
            "bar_style": "success",
            "max": 204240,
            "_view_module": "@jupyter-widgets/controls",
            "_model_module_version": "1.5.0",
            "value": 204240,
            "_view_count": null,
            "_view_module_version": "1.5.0",
            "orientation": "horizontal",
            "min": 0,
            "description_tooltip": null,
            "_model_module": "@jupyter-widgets/controls",
            "layout": "IPY_MODEL_c94e721cae6946f6a2073be5cbe056f7"
          }
        },
        "20f7cadbfe334ca8af5693da3bd4ece1": {
          "model_module": "@jupyter-widgets/controls",
          "model_name": "HTMLModel",
          "model_module_version": "1.5.0",
          "state": {
            "_view_name": "HTMLView",
            "style": "IPY_MODEL_dfc92046cede4b66b77655c475215ba8",
            "_dom_classes": [],
            "description": "",
            "_model_name": "HTMLModel",
            "placeholder": "​",
            "_view_module": "@jupyter-widgets/controls",
            "_model_module_version": "1.5.0",
            "value": " 204k/204k [00:00&lt;00:00, 2.49MB/s]",
            "_view_count": null,
            "_view_module_version": "1.5.0",
            "description_tooltip": null,
            "_model_module": "@jupyter-widgets/controls",
            "layout": "IPY_MODEL_b01836e29a934c9fa5999a2015c46f5a"
          }
        },
        "48ca8643d0254aad8214e6cefcf2855b": {
          "model_module": "@jupyter-widgets/controls",
          "model_name": "DescriptionStyleModel",
          "model_module_version": "1.5.0",
          "state": {
            "_view_name": "StyleView",
            "_model_name": "DescriptionStyleModel",
            "description_width": "",
            "_view_module": "@jupyter-widgets/base",
            "_model_module_version": "1.5.0",
            "_view_count": null,
            "_view_module_version": "1.2.0",
            "_model_module": "@jupyter-widgets/controls"
          }
        },
        "12e5b3f5f3534ab2b7b6a106c9e604eb": {
          "model_module": "@jupyter-widgets/base",
          "model_name": "LayoutModel",
          "model_module_version": "1.2.0",
          "state": {
            "_view_name": "LayoutView",
            "grid_template_rows": null,
            "right": null,
            "justify_content": null,
            "_view_module": "@jupyter-widgets/base",
            "overflow": null,
            "_model_module_version": "1.2.0",
            "_view_count": null,
            "flex_flow": null,
            "width": null,
            "min_width": null,
            "border": null,
            "align_items": null,
            "bottom": null,
            "_model_module": "@jupyter-widgets/base",
            "top": null,
            "grid_column": null,
            "overflow_y": null,
            "overflow_x": null,
            "grid_auto_flow": null,
            "grid_area": null,
            "grid_template_columns": null,
            "flex": null,
            "_model_name": "LayoutModel",
            "justify_items": null,
            "grid_row": null,
            "max_height": null,
            "align_content": null,
            "visibility": null,
            "align_self": null,
            "height": null,
            "min_height": null,
            "padding": null,
            "grid_auto_rows": null,
            "grid_gap": null,
            "max_width": null,
            "order": null,
            "_view_module_version": "1.2.0",
            "grid_template_areas": null,
            "object_position": null,
            "object_fit": null,
            "grid_auto_columns": null,
            "margin": null,
            "display": null,
            "left": null
          }
        },
        "57dac29877ef49f1a49deed0b45022ab": {
          "model_module": "@jupyter-widgets/controls",
          "model_name": "ProgressStyleModel",
          "model_module_version": "1.5.0",
          "state": {
            "_view_name": "StyleView",
            "_model_name": "ProgressStyleModel",
            "description_width": "",
            "_view_module": "@jupyter-widgets/base",
            "_model_module_version": "1.5.0",
            "_view_count": null,
            "_view_module_version": "1.2.0",
            "bar_color": null,
            "_model_module": "@jupyter-widgets/controls"
          }
        },
        "c94e721cae6946f6a2073be5cbe056f7": {
          "model_module": "@jupyter-widgets/base",
          "model_name": "LayoutModel",
          "model_module_version": "1.2.0",
          "state": {
            "_view_name": "LayoutView",
            "grid_template_rows": null,
            "right": null,
            "justify_content": null,
            "_view_module": "@jupyter-widgets/base",
            "overflow": null,
            "_model_module_version": "1.2.0",
            "_view_count": null,
            "flex_flow": null,
            "width": null,
            "min_width": null,
            "border": null,
            "align_items": null,
            "bottom": null,
            "_model_module": "@jupyter-widgets/base",
            "top": null,
            "grid_column": null,
            "overflow_y": null,
            "overflow_x": null,
            "grid_auto_flow": null,
            "grid_area": null,
            "grid_template_columns": null,
            "flex": null,
            "_model_name": "LayoutModel",
            "justify_items": null,
            "grid_row": null,
            "max_height": null,
            "align_content": null,
            "visibility": null,
            "align_self": null,
            "height": null,
            "min_height": null,
            "padding": null,
            "grid_auto_rows": null,
            "grid_gap": null,
            "max_width": null,
            "order": null,
            "_view_module_version": "1.2.0",
            "grid_template_areas": null,
            "object_position": null,
            "object_fit": null,
            "grid_auto_columns": null,
            "margin": null,
            "display": null,
            "left": null
          }
        },
        "dfc92046cede4b66b77655c475215ba8": {
          "model_module": "@jupyter-widgets/controls",
          "model_name": "DescriptionStyleModel",
          "model_module_version": "1.5.0",
          "state": {
            "_view_name": "StyleView",
            "_model_name": "DescriptionStyleModel",
            "description_width": "",
            "_view_module": "@jupyter-widgets/base",
            "_model_module_version": "1.5.0",
            "_view_count": null,
            "_view_module_version": "1.2.0",
            "_model_module": "@jupyter-widgets/controls"
          }
        },
        "b01836e29a934c9fa5999a2015c46f5a": {
          "model_module": "@jupyter-widgets/base",
          "model_name": "LayoutModel",
          "model_module_version": "1.2.0",
          "state": {
            "_view_name": "LayoutView",
            "grid_template_rows": null,
            "right": null,
            "justify_content": null,
            "_view_module": "@jupyter-widgets/base",
            "overflow": null,
            "_model_module_version": "1.2.0",
            "_view_count": null,
            "flex_flow": null,
            "width": null,
            "min_width": null,
            "border": null,
            "align_items": null,
            "bottom": null,
            "_model_module": "@jupyter-widgets/base",
            "top": null,
            "grid_column": null,
            "overflow_y": null,
            "overflow_x": null,
            "grid_auto_flow": null,
            "grid_area": null,
            "grid_template_columns": null,
            "flex": null,
            "_model_name": "LayoutModel",
            "justify_items": null,
            "grid_row": null,
            "max_height": null,
            "align_content": null,
            "visibility": null,
            "align_self": null,
            "height": null,
            "min_height": null,
            "padding": null,
            "grid_auto_rows": null,
            "grid_gap": null,
            "max_width": null,
            "order": null,
            "_view_module_version": "1.2.0",
            "grid_template_areas": null,
            "object_position": null,
            "object_fit": null,
            "grid_auto_columns": null,
            "margin": null,
            "display": null,
            "left": null
          }
        },
        "46287ed1968e45b9b04232f8eb29ab4d": {
          "model_module": "@jupyter-widgets/controls",
          "model_name": "HBoxModel",
          "model_module_version": "1.5.0",
          "state": {
            "_view_name": "HBoxView",
            "_dom_classes": [],
            "_model_name": "HBoxModel",
            "_view_module": "@jupyter-widgets/controls",
            "_model_module_version": "1.5.0",
            "_view_count": null,
            "_view_module_version": "1.5.0",
            "box_style": "",
            "layout": "IPY_MODEL_610fa0484342498b8400cc7b1b45e489",
            "_model_module": "@jupyter-widgets/controls",
            "children": [
              "IPY_MODEL_21593edace074f5092b188c6c542c57d",
              "IPY_MODEL_c466997b6cb64219a593bb88243c711b",
              "IPY_MODEL_c5b864899d4648c4a24a4ccbf05fb0fc"
            ]
          }
        },
        "610fa0484342498b8400cc7b1b45e489": {
          "model_module": "@jupyter-widgets/base",
          "model_name": "LayoutModel",
          "model_module_version": "1.2.0",
          "state": {
            "_view_name": "LayoutView",
            "grid_template_rows": null,
            "right": null,
            "justify_content": null,
            "_view_module": "@jupyter-widgets/base",
            "overflow": null,
            "_model_module_version": "1.2.0",
            "_view_count": null,
            "flex_flow": null,
            "width": null,
            "min_width": null,
            "border": null,
            "align_items": null,
            "bottom": null,
            "_model_module": "@jupyter-widgets/base",
            "top": null,
            "grid_column": null,
            "overflow_y": null,
            "overflow_x": null,
            "grid_auto_flow": null,
            "grid_area": null,
            "grid_template_columns": null,
            "flex": null,
            "_model_name": "LayoutModel",
            "justify_items": null,
            "grid_row": null,
            "max_height": null,
            "align_content": null,
            "visibility": null,
            "align_self": null,
            "height": null,
            "min_height": null,
            "padding": null,
            "grid_auto_rows": null,
            "grid_gap": null,
            "max_width": null,
            "order": null,
            "_view_module_version": "1.2.0",
            "grid_template_areas": null,
            "object_position": null,
            "object_fit": null,
            "grid_auto_columns": null,
            "margin": null,
            "display": null,
            "left": null
          }
        },
        "21593edace074f5092b188c6c542c57d": {
          "model_module": "@jupyter-widgets/controls",
          "model_name": "HTMLModel",
          "model_module_version": "1.5.0",
          "state": {
            "_view_name": "HTMLView",
            "style": "IPY_MODEL_b7870c6529594d3180ed9cbda1d01f34",
            "_dom_classes": [],
            "description": "",
            "_model_name": "HTMLModel",
            "placeholder": "​",
            "_view_module": "@jupyter-widgets/controls",
            "_model_module_version": "1.5.0",
            "value": "Downloading: 100%",
            "_view_count": null,
            "_view_module_version": "1.5.0",
            "description_tooltip": null,
            "_model_module": "@jupyter-widgets/controls",
            "layout": "IPY_MODEL_11c266774d274e0890a51ee6d2ae601e"
          }
        },
        "c466997b6cb64219a593bb88243c711b": {
          "model_module": "@jupyter-widgets/controls",
          "model_name": "FloatProgressModel",
          "model_module_version": "1.5.0",
          "state": {
            "_view_name": "ProgressView",
            "style": "IPY_MODEL_fd88c5f5fa054d2ab6696b3f174dcb66",
            "_dom_classes": [],
            "description": "",
            "_model_name": "FloatProgressModel",
            "bar_style": "success",
            "max": 206760,
            "_view_module": "@jupyter-widgets/controls",
            "_model_module_version": "1.5.0",
            "value": 206760,
            "_view_count": null,
            "_view_module_version": "1.5.0",
            "orientation": "horizontal",
            "min": 0,
            "description_tooltip": null,
            "_model_module": "@jupyter-widgets/controls",
            "layout": "IPY_MODEL_3a99bbb3f10d4c1eb585228d611df919"
          }
        },
        "c5b864899d4648c4a24a4ccbf05fb0fc": {
          "model_module": "@jupyter-widgets/controls",
          "model_name": "HTMLModel",
          "model_module_version": "1.5.0",
          "state": {
            "_view_name": "HTMLView",
            "style": "IPY_MODEL_5b962dbe892341d183895f92dd689087",
            "_dom_classes": [],
            "description": "",
            "_model_name": "HTMLModel",
            "placeholder": "​",
            "_view_module": "@jupyter-widgets/controls",
            "_model_module_version": "1.5.0",
            "value": " 207k/207k [00:00&lt;00:00, 2.21MB/s]",
            "_view_count": null,
            "_view_module_version": "1.5.0",
            "description_tooltip": null,
            "_model_module": "@jupyter-widgets/controls",
            "layout": "IPY_MODEL_1a61edcafbce4e17a29983c4cac3a5ce"
          }
        },
        "b7870c6529594d3180ed9cbda1d01f34": {
          "model_module": "@jupyter-widgets/controls",
          "model_name": "DescriptionStyleModel",
          "model_module_version": "1.5.0",
          "state": {
            "_view_name": "StyleView",
            "_model_name": "DescriptionStyleModel",
            "description_width": "",
            "_view_module": "@jupyter-widgets/base",
            "_model_module_version": "1.5.0",
            "_view_count": null,
            "_view_module_version": "1.2.0",
            "_model_module": "@jupyter-widgets/controls"
          }
        },
        "11c266774d274e0890a51ee6d2ae601e": {
          "model_module": "@jupyter-widgets/base",
          "model_name": "LayoutModel",
          "model_module_version": "1.2.0",
          "state": {
            "_view_name": "LayoutView",
            "grid_template_rows": null,
            "right": null,
            "justify_content": null,
            "_view_module": "@jupyter-widgets/base",
            "overflow": null,
            "_model_module_version": "1.2.0",
            "_view_count": null,
            "flex_flow": null,
            "width": null,
            "min_width": null,
            "border": null,
            "align_items": null,
            "bottom": null,
            "_model_module": "@jupyter-widgets/base",
            "top": null,
            "grid_column": null,
            "overflow_y": null,
            "overflow_x": null,
            "grid_auto_flow": null,
            "grid_area": null,
            "grid_template_columns": null,
            "flex": null,
            "_model_name": "LayoutModel",
            "justify_items": null,
            "grid_row": null,
            "max_height": null,
            "align_content": null,
            "visibility": null,
            "align_self": null,
            "height": null,
            "min_height": null,
            "padding": null,
            "grid_auto_rows": null,
            "grid_gap": null,
            "max_width": null,
            "order": null,
            "_view_module_version": "1.2.0",
            "grid_template_areas": null,
            "object_position": null,
            "object_fit": null,
            "grid_auto_columns": null,
            "margin": null,
            "display": null,
            "left": null
          }
        },
        "fd88c5f5fa054d2ab6696b3f174dcb66": {
          "model_module": "@jupyter-widgets/controls",
          "model_name": "ProgressStyleModel",
          "model_module_version": "1.5.0",
          "state": {
            "_view_name": "StyleView",
            "_model_name": "ProgressStyleModel",
            "description_width": "",
            "_view_module": "@jupyter-widgets/base",
            "_model_module_version": "1.5.0",
            "_view_count": null,
            "_view_module_version": "1.2.0",
            "bar_color": null,
            "_model_module": "@jupyter-widgets/controls"
          }
        },
        "3a99bbb3f10d4c1eb585228d611df919": {
          "model_module": "@jupyter-widgets/base",
          "model_name": "LayoutModel",
          "model_module_version": "1.2.0",
          "state": {
            "_view_name": "LayoutView",
            "grid_template_rows": null,
            "right": null,
            "justify_content": null,
            "_view_module": "@jupyter-widgets/base",
            "overflow": null,
            "_model_module_version": "1.2.0",
            "_view_count": null,
            "flex_flow": null,
            "width": null,
            "min_width": null,
            "border": null,
            "align_items": null,
            "bottom": null,
            "_model_module": "@jupyter-widgets/base",
            "top": null,
            "grid_column": null,
            "overflow_y": null,
            "overflow_x": null,
            "grid_auto_flow": null,
            "grid_area": null,
            "grid_template_columns": null,
            "flex": null,
            "_model_name": "LayoutModel",
            "justify_items": null,
            "grid_row": null,
            "max_height": null,
            "align_content": null,
            "visibility": null,
            "align_self": null,
            "height": null,
            "min_height": null,
            "padding": null,
            "grid_auto_rows": null,
            "grid_gap": null,
            "max_width": null,
            "order": null,
            "_view_module_version": "1.2.0",
            "grid_template_areas": null,
            "object_position": null,
            "object_fit": null,
            "grid_auto_columns": null,
            "margin": null,
            "display": null,
            "left": null
          }
        },
        "5b962dbe892341d183895f92dd689087": {
          "model_module": "@jupyter-widgets/controls",
          "model_name": "DescriptionStyleModel",
          "model_module_version": "1.5.0",
          "state": {
            "_view_name": "StyleView",
            "_model_name": "DescriptionStyleModel",
            "description_width": "",
            "_view_module": "@jupyter-widgets/base",
            "_model_module_version": "1.5.0",
            "_view_count": null,
            "_view_module_version": "1.2.0",
            "_model_module": "@jupyter-widgets/controls"
          }
        },
        "1a61edcafbce4e17a29983c4cac3a5ce": {
          "model_module": "@jupyter-widgets/base",
          "model_name": "LayoutModel",
          "model_module_version": "1.2.0",
          "state": {
            "_view_name": "LayoutView",
            "grid_template_rows": null,
            "right": null,
            "justify_content": null,
            "_view_module": "@jupyter-widgets/base",
            "overflow": null,
            "_model_module_version": "1.2.0",
            "_view_count": null,
            "flex_flow": null,
            "width": null,
            "min_width": null,
            "border": null,
            "align_items": null,
            "bottom": null,
            "_model_module": "@jupyter-widgets/base",
            "top": null,
            "grid_column": null,
            "overflow_y": null,
            "overflow_x": null,
            "grid_auto_flow": null,
            "grid_area": null,
            "grid_template_columns": null,
            "flex": null,
            "_model_name": "LayoutModel",
            "justify_items": null,
            "grid_row": null,
            "max_height": null,
            "align_content": null,
            "visibility": null,
            "align_self": null,
            "height": null,
            "min_height": null,
            "padding": null,
            "grid_auto_rows": null,
            "grid_gap": null,
            "max_width": null,
            "order": null,
            "_view_module_version": "1.2.0",
            "grid_template_areas": null,
            "object_position": null,
            "object_fit": null,
            "grid_auto_columns": null,
            "margin": null,
            "display": null,
            "left": null
          }
        },
        "007eb18573b443399a457e6a51e0c9df": {
          "model_module": "@jupyter-widgets/controls",
          "model_name": "HBoxModel",
          "model_module_version": "1.5.0",
          "state": {
            "_view_name": "HBoxView",
            "_dom_classes": [],
            "_model_name": "HBoxModel",
            "_view_module": "@jupyter-widgets/controls",
            "_model_module_version": "1.5.0",
            "_view_count": null,
            "_view_module_version": "1.5.0",
            "box_style": "",
            "layout": "IPY_MODEL_79200c6576034c2885f2e5ae91e2b572",
            "_model_module": "@jupyter-widgets/controls",
            "children": [
              "IPY_MODEL_2e8cdc02522f41fc8fded70426c73547",
              "IPY_MODEL_a687a37b28754b088245c87d5c6a8b75",
              "IPY_MODEL_eac1fcd75f0b43fd88ea81678df6a05a"
            ]
          }
        },
        "79200c6576034c2885f2e5ae91e2b572": {
          "model_module": "@jupyter-widgets/base",
          "model_name": "LayoutModel",
          "model_module_version": "1.2.0",
          "state": {
            "_view_name": "LayoutView",
            "grid_template_rows": null,
            "right": null,
            "justify_content": null,
            "_view_module": "@jupyter-widgets/base",
            "overflow": null,
            "_model_module_version": "1.2.0",
            "_view_count": null,
            "flex_flow": null,
            "width": null,
            "min_width": null,
            "border": null,
            "align_items": null,
            "bottom": null,
            "_model_module": "@jupyter-widgets/base",
            "top": null,
            "grid_column": null,
            "overflow_y": null,
            "overflow_x": null,
            "grid_auto_flow": null,
            "grid_area": null,
            "grid_template_columns": null,
            "flex": null,
            "_model_name": "LayoutModel",
            "justify_items": null,
            "grid_row": null,
            "max_height": null,
            "align_content": null,
            "visibility": null,
            "align_self": null,
            "height": null,
            "min_height": null,
            "padding": null,
            "grid_auto_rows": null,
            "grid_gap": null,
            "max_width": null,
            "order": null,
            "_view_module_version": "1.2.0",
            "grid_template_areas": null,
            "object_position": null,
            "object_fit": null,
            "grid_auto_columns": null,
            "margin": null,
            "display": null,
            "left": null
          }
        },
        "2e8cdc02522f41fc8fded70426c73547": {
          "model_module": "@jupyter-widgets/controls",
          "model_name": "HTMLModel",
          "model_module_version": "1.5.0",
          "state": {
            "_view_name": "HTMLView",
            "style": "IPY_MODEL_6df9971be6a74d91939a090bb62da53e",
            "_dom_classes": [],
            "description": "",
            "_model_name": "HTMLModel",
            "placeholder": "​",
            "_view_module": "@jupyter-widgets/controls",
            "_model_module_version": "1.5.0",
            "value": "",
            "_view_count": null,
            "_view_module_version": "1.5.0",
            "description_tooltip": null,
            "_model_module": "@jupyter-widgets/controls",
            "layout": "IPY_MODEL_7c3b4c0bf4874d2391dca8e908387a13"
          }
        },
        "a687a37b28754b088245c87d5c6a8b75": {
          "model_module": "@jupyter-widgets/controls",
          "model_name": "FloatProgressModel",
          "model_module_version": "1.5.0",
          "state": {
            "_view_name": "ProgressView",
            "style": "IPY_MODEL_625403e3502a4aafa220b26461737939",
            "_dom_classes": [],
            "description": "",
            "_model_name": "FloatProgressModel",
            "bar_style": "info",
            "max": 1,
            "_view_module": "@jupyter-widgets/controls",
            "_model_module_version": "1.5.0",
            "value": 1,
            "_view_count": null,
            "_view_module_version": "1.5.0",
            "orientation": "horizontal",
            "min": 0,
            "description_tooltip": null,
            "_model_module": "@jupyter-widgets/controls",
            "layout": "IPY_MODEL_3bd7f8fd799446289965f58a42e79359"
          }
        },
        "eac1fcd75f0b43fd88ea81678df6a05a": {
          "model_module": "@jupyter-widgets/controls",
          "model_name": "HTMLModel",
          "model_module_version": "1.5.0",
          "state": {
            "_view_name": "HTMLView",
            "style": "IPY_MODEL_5c0fee01ea73492a8bebd65a86d4f2ec",
            "_dom_classes": [],
            "description": "",
            "_model_name": "HTMLModel",
            "placeholder": "​",
            "_view_module": "@jupyter-widgets/controls",
            "_model_module_version": "1.5.0",
            "value": " 15960/0 [00:00&lt;00:00, 29697.29 examples/s]",
            "_view_count": null,
            "_view_module_version": "1.5.0",
            "description_tooltip": null,
            "_model_module": "@jupyter-widgets/controls",
            "layout": "IPY_MODEL_601aa183230f48e59535cd8348bbdf5f"
          }
        },
        "6df9971be6a74d91939a090bb62da53e": {
          "model_module": "@jupyter-widgets/controls",
          "model_name": "DescriptionStyleModel",
          "model_module_version": "1.5.0",
          "state": {
            "_view_name": "StyleView",
            "_model_name": "DescriptionStyleModel",
            "description_width": "",
            "_view_module": "@jupyter-widgets/base",
            "_model_module_version": "1.5.0",
            "_view_count": null,
            "_view_module_version": "1.2.0",
            "_model_module": "@jupyter-widgets/controls"
          }
        },
        "7c3b4c0bf4874d2391dca8e908387a13": {
          "model_module": "@jupyter-widgets/base",
          "model_name": "LayoutModel",
          "model_module_version": "1.2.0",
          "state": {
            "_view_name": "LayoutView",
            "grid_template_rows": null,
            "right": null,
            "justify_content": null,
            "_view_module": "@jupyter-widgets/base",
            "overflow": null,
            "_model_module_version": "1.2.0",
            "_view_count": null,
            "flex_flow": null,
            "width": null,
            "min_width": null,
            "border": null,
            "align_items": null,
            "bottom": null,
            "_model_module": "@jupyter-widgets/base",
            "top": null,
            "grid_column": null,
            "overflow_y": null,
            "overflow_x": null,
            "grid_auto_flow": null,
            "grid_area": null,
            "grid_template_columns": null,
            "flex": null,
            "_model_name": "LayoutModel",
            "justify_items": null,
            "grid_row": null,
            "max_height": null,
            "align_content": null,
            "visibility": null,
            "align_self": null,
            "height": null,
            "min_height": null,
            "padding": null,
            "grid_auto_rows": null,
            "grid_gap": null,
            "max_width": null,
            "order": null,
            "_view_module_version": "1.2.0",
            "grid_template_areas": null,
            "object_position": null,
            "object_fit": null,
            "grid_auto_columns": null,
            "margin": null,
            "display": null,
            "left": null
          }
        },
        "625403e3502a4aafa220b26461737939": {
          "model_module": "@jupyter-widgets/controls",
          "model_name": "ProgressStyleModel",
          "model_module_version": "1.5.0",
          "state": {
            "_view_name": "StyleView",
            "_model_name": "ProgressStyleModel",
            "description_width": "",
            "_view_module": "@jupyter-widgets/base",
            "_model_module_version": "1.5.0",
            "_view_count": null,
            "_view_module_version": "1.2.0",
            "bar_color": null,
            "_model_module": "@jupyter-widgets/controls"
          }
        },
        "3bd7f8fd799446289965f58a42e79359": {
          "model_module": "@jupyter-widgets/base",
          "model_name": "LayoutModel",
          "model_module_version": "1.2.0",
          "state": {
            "_view_name": "LayoutView",
            "grid_template_rows": null,
            "right": null,
            "justify_content": null,
            "_view_module": "@jupyter-widgets/base",
            "overflow": null,
            "_model_module_version": "1.2.0",
            "_view_count": null,
            "flex_flow": null,
            "width": "20px",
            "min_width": null,
            "border": null,
            "align_items": null,
            "bottom": null,
            "_model_module": "@jupyter-widgets/base",
            "top": null,
            "grid_column": null,
            "overflow_y": null,
            "overflow_x": null,
            "grid_auto_flow": null,
            "grid_area": null,
            "grid_template_columns": null,
            "flex": null,
            "_model_name": "LayoutModel",
            "justify_items": null,
            "grid_row": null,
            "max_height": null,
            "align_content": null,
            "visibility": null,
            "align_self": null,
            "height": null,
            "min_height": null,
            "padding": null,
            "grid_auto_rows": null,
            "grid_gap": null,
            "max_width": null,
            "order": null,
            "_view_module_version": "1.2.0",
            "grid_template_areas": null,
            "object_position": null,
            "object_fit": null,
            "grid_auto_columns": null,
            "margin": null,
            "display": null,
            "left": null
          }
        },
        "5c0fee01ea73492a8bebd65a86d4f2ec": {
          "model_module": "@jupyter-widgets/controls",
          "model_name": "DescriptionStyleModel",
          "model_module_version": "1.5.0",
          "state": {
            "_view_name": "StyleView",
            "_model_name": "DescriptionStyleModel",
            "description_width": "",
            "_view_module": "@jupyter-widgets/base",
            "_model_module_version": "1.5.0",
            "_view_count": null,
            "_view_module_version": "1.2.0",
            "_model_module": "@jupyter-widgets/controls"
          }
        },
        "601aa183230f48e59535cd8348bbdf5f": {
          "model_module": "@jupyter-widgets/base",
          "model_name": "LayoutModel",
          "model_module_version": "1.2.0",
          "state": {
            "_view_name": "LayoutView",
            "grid_template_rows": null,
            "right": null,
            "justify_content": null,
            "_view_module": "@jupyter-widgets/base",
            "overflow": null,
            "_model_module_version": "1.2.0",
            "_view_count": null,
            "flex_flow": null,
            "width": null,
            "min_width": null,
            "border": null,
            "align_items": null,
            "bottom": null,
            "_model_module": "@jupyter-widgets/base",
            "top": null,
            "grid_column": null,
            "overflow_y": null,
            "overflow_x": null,
            "grid_auto_flow": null,
            "grid_area": null,
            "grid_template_columns": null,
            "flex": null,
            "_model_name": "LayoutModel",
            "justify_items": null,
            "grid_row": null,
            "max_height": null,
            "align_content": null,
            "visibility": null,
            "align_self": null,
            "height": null,
            "min_height": null,
            "padding": null,
            "grid_auto_rows": null,
            "grid_gap": null,
            "max_width": null,
            "order": null,
            "_view_module_version": "1.2.0",
            "grid_template_areas": null,
            "object_position": null,
            "object_fit": null,
            "grid_auto_columns": null,
            "margin": null,
            "display": null,
            "left": null
          }
        },
        "45a7ef774c7744e68722699709923a09": {
          "model_module": "@jupyter-widgets/controls",
          "model_name": "HBoxModel",
          "model_module_version": "1.5.0",
          "state": {
            "_view_name": "HBoxView",
            "_dom_classes": [],
            "_model_name": "HBoxModel",
            "_view_module": "@jupyter-widgets/controls",
            "_model_module_version": "1.5.0",
            "_view_count": null,
            "_view_module_version": "1.5.0",
            "box_style": "",
            "layout": "IPY_MODEL_a930338d982c4436bda4f801345baa0b",
            "_model_module": "@jupyter-widgets/controls",
            "children": [
              "IPY_MODEL_212775e952334cb2abcfddddf2c516d4",
              "IPY_MODEL_0d405575b59044a7a7dcc5530752190d",
              "IPY_MODEL_4f3c9402213b401dabaadb8393b58347"
            ]
          }
        },
        "a930338d982c4436bda4f801345baa0b": {
          "model_module": "@jupyter-widgets/base",
          "model_name": "LayoutModel",
          "model_module_version": "1.2.0",
          "state": {
            "_view_name": "LayoutView",
            "grid_template_rows": null,
            "right": null,
            "justify_content": null,
            "_view_module": "@jupyter-widgets/base",
            "overflow": null,
            "_model_module_version": "1.2.0",
            "_view_count": null,
            "flex_flow": null,
            "width": null,
            "min_width": null,
            "border": null,
            "align_items": null,
            "bottom": null,
            "_model_module": "@jupyter-widgets/base",
            "top": null,
            "grid_column": null,
            "overflow_y": null,
            "overflow_x": null,
            "grid_auto_flow": null,
            "grid_area": null,
            "grid_template_columns": null,
            "flex": null,
            "_model_name": "LayoutModel",
            "justify_items": null,
            "grid_row": null,
            "max_height": null,
            "align_content": null,
            "visibility": null,
            "align_self": null,
            "height": null,
            "min_height": null,
            "padding": null,
            "grid_auto_rows": null,
            "grid_gap": null,
            "max_width": null,
            "order": null,
            "_view_module_version": "1.2.0",
            "grid_template_areas": null,
            "object_position": null,
            "object_fit": null,
            "grid_auto_columns": null,
            "margin": null,
            "display": null,
            "left": null
          }
        },
        "212775e952334cb2abcfddddf2c516d4": {
          "model_module": "@jupyter-widgets/controls",
          "model_name": "HTMLModel",
          "model_module_version": "1.5.0",
          "state": {
            "_view_name": "HTMLView",
            "style": "IPY_MODEL_e7874adef6384b578d041fe7e3739c76",
            "_dom_classes": [],
            "description": "",
            "_model_name": "HTMLModel",
            "placeholder": "​",
            "_view_module": "@jupyter-widgets/controls",
            "_model_module_version": "1.5.0",
            "value": "",
            "_view_count": null,
            "_view_module_version": "1.5.0",
            "description_tooltip": null,
            "_model_module": "@jupyter-widgets/controls",
            "layout": "IPY_MODEL_6e20fbce0df24903875ac3955f6553b6"
          }
        },
        "0d405575b59044a7a7dcc5530752190d": {
          "model_module": "@jupyter-widgets/controls",
          "model_name": "FloatProgressModel",
          "model_module_version": "1.5.0",
          "state": {
            "_view_name": "ProgressView",
            "style": "IPY_MODEL_a48c613fd6b140419f634a8be7f6338e",
            "_dom_classes": [],
            "description": "",
            "_model_name": "FloatProgressModel",
            "bar_style": "info",
            "max": 1,
            "_view_module": "@jupyter-widgets/controls",
            "_model_module_version": "1.5.0",
            "value": 1,
            "_view_count": null,
            "_view_module_version": "1.5.0",
            "orientation": "horizontal",
            "min": 0,
            "description_tooltip": null,
            "_model_module": "@jupyter-widgets/controls",
            "layout": "IPY_MODEL_89f25512e0ad41858aff62c18e97ffff"
          }
        },
        "4f3c9402213b401dabaadb8393b58347": {
          "model_module": "@jupyter-widgets/controls",
          "model_name": "HTMLModel",
          "model_module_version": "1.5.0",
          "state": {
            "_view_name": "HTMLView",
            "style": "IPY_MODEL_90b385202ba6405f865ee18e4ec6d67c",
            "_dom_classes": [],
            "description": "",
            "_model_name": "HTMLModel",
            "placeholder": "​",
            "_view_module": "@jupyter-widgets/controls",
            "_model_module_version": "1.5.0",
            "value": " 685/0 [00:00&lt;00:00, 6845.83 examples/s]",
            "_view_count": null,
            "_view_module_version": "1.5.0",
            "description_tooltip": null,
            "_model_module": "@jupyter-widgets/controls",
            "layout": "IPY_MODEL_ba979e00fee740ad85ff907b79165aca"
          }
        },
        "e7874adef6384b578d041fe7e3739c76": {
          "model_module": "@jupyter-widgets/controls",
          "model_name": "DescriptionStyleModel",
          "model_module_version": "1.5.0",
          "state": {
            "_view_name": "StyleView",
            "_model_name": "DescriptionStyleModel",
            "description_width": "",
            "_view_module": "@jupyter-widgets/base",
            "_model_module_version": "1.5.0",
            "_view_count": null,
            "_view_module_version": "1.2.0",
            "_model_module": "@jupyter-widgets/controls"
          }
        },
        "6e20fbce0df24903875ac3955f6553b6": {
          "model_module": "@jupyter-widgets/base",
          "model_name": "LayoutModel",
          "model_module_version": "1.2.0",
          "state": {
            "_view_name": "LayoutView",
            "grid_template_rows": null,
            "right": null,
            "justify_content": null,
            "_view_module": "@jupyter-widgets/base",
            "overflow": null,
            "_model_module_version": "1.2.0",
            "_view_count": null,
            "flex_flow": null,
            "width": null,
            "min_width": null,
            "border": null,
            "align_items": null,
            "bottom": null,
            "_model_module": "@jupyter-widgets/base",
            "top": null,
            "grid_column": null,
            "overflow_y": null,
            "overflow_x": null,
            "grid_auto_flow": null,
            "grid_area": null,
            "grid_template_columns": null,
            "flex": null,
            "_model_name": "LayoutModel",
            "justify_items": null,
            "grid_row": null,
            "max_height": null,
            "align_content": null,
            "visibility": null,
            "align_self": null,
            "height": null,
            "min_height": null,
            "padding": null,
            "grid_auto_rows": null,
            "grid_gap": null,
            "max_width": null,
            "order": null,
            "_view_module_version": "1.2.0",
            "grid_template_areas": null,
            "object_position": null,
            "object_fit": null,
            "grid_auto_columns": null,
            "margin": null,
            "display": null,
            "left": null
          }
        },
        "a48c613fd6b140419f634a8be7f6338e": {
          "model_module": "@jupyter-widgets/controls",
          "model_name": "ProgressStyleModel",
          "model_module_version": "1.5.0",
          "state": {
            "_view_name": "StyleView",
            "_model_name": "ProgressStyleModel",
            "description_width": "",
            "_view_module": "@jupyter-widgets/base",
            "_model_module_version": "1.5.0",
            "_view_count": null,
            "_view_module_version": "1.2.0",
            "bar_color": null,
            "_model_module": "@jupyter-widgets/controls"
          }
        },
        "89f25512e0ad41858aff62c18e97ffff": {
          "model_module": "@jupyter-widgets/base",
          "model_name": "LayoutModel",
          "model_module_version": "1.2.0",
          "state": {
            "_view_name": "LayoutView",
            "grid_template_rows": null,
            "right": null,
            "justify_content": null,
            "_view_module": "@jupyter-widgets/base",
            "overflow": null,
            "_model_module_version": "1.2.0",
            "_view_count": null,
            "flex_flow": null,
            "width": "20px",
            "min_width": null,
            "border": null,
            "align_items": null,
            "bottom": null,
            "_model_module": "@jupyter-widgets/base",
            "top": null,
            "grid_column": null,
            "overflow_y": null,
            "overflow_x": null,
            "grid_auto_flow": null,
            "grid_area": null,
            "grid_template_columns": null,
            "flex": null,
            "_model_name": "LayoutModel",
            "justify_items": null,
            "grid_row": null,
            "max_height": null,
            "align_content": null,
            "visibility": null,
            "align_self": null,
            "height": null,
            "min_height": null,
            "padding": null,
            "grid_auto_rows": null,
            "grid_gap": null,
            "max_width": null,
            "order": null,
            "_view_module_version": "1.2.0",
            "grid_template_areas": null,
            "object_position": null,
            "object_fit": null,
            "grid_auto_columns": null,
            "margin": null,
            "display": null,
            "left": null
          }
        },
        "90b385202ba6405f865ee18e4ec6d67c": {
          "model_module": "@jupyter-widgets/controls",
          "model_name": "DescriptionStyleModel",
          "model_module_version": "1.5.0",
          "state": {
            "_view_name": "StyleView",
            "_model_name": "DescriptionStyleModel",
            "description_width": "",
            "_view_module": "@jupyter-widgets/base",
            "_model_module_version": "1.5.0",
            "_view_count": null,
            "_view_module_version": "1.2.0",
            "_model_module": "@jupyter-widgets/controls"
          }
        },
        "ba979e00fee740ad85ff907b79165aca": {
          "model_module": "@jupyter-widgets/base",
          "model_name": "LayoutModel",
          "model_module_version": "1.2.0",
          "state": {
            "_view_name": "LayoutView",
            "grid_template_rows": null,
            "right": null,
            "justify_content": null,
            "_view_module": "@jupyter-widgets/base",
            "overflow": null,
            "_model_module_version": "1.2.0",
            "_view_count": null,
            "flex_flow": null,
            "width": null,
            "min_width": null,
            "border": null,
            "align_items": null,
            "bottom": null,
            "_model_module": "@jupyter-widgets/base",
            "top": null,
            "grid_column": null,
            "overflow_y": null,
            "overflow_x": null,
            "grid_auto_flow": null,
            "grid_area": null,
            "grid_template_columns": null,
            "flex": null,
            "_model_name": "LayoutModel",
            "justify_items": null,
            "grid_row": null,
            "max_height": null,
            "align_content": null,
            "visibility": null,
            "align_self": null,
            "height": null,
            "min_height": null,
            "padding": null,
            "grid_auto_rows": null,
            "grid_gap": null,
            "max_width": null,
            "order": null,
            "_view_module_version": "1.2.0",
            "grid_template_areas": null,
            "object_position": null,
            "object_fit": null,
            "grid_auto_columns": null,
            "margin": null,
            "display": null,
            "left": null
          }
        },
        "ee463dec9b894014b26fd282522901ac": {
          "model_module": "@jupyter-widgets/controls",
          "model_name": "HBoxModel",
          "model_module_version": "1.5.0",
          "state": {
            "_view_name": "HBoxView",
            "_dom_classes": [],
            "_model_name": "HBoxModel",
            "_view_module": "@jupyter-widgets/controls",
            "_model_module_version": "1.5.0",
            "_view_count": null,
            "_view_module_version": "1.5.0",
            "box_style": "",
            "layout": "IPY_MODEL_acfdf5b5f1be416d921fe2347ccd7f92",
            "_model_module": "@jupyter-widgets/controls",
            "children": [
              "IPY_MODEL_38be6511f8c543d1a884566a06972bd6",
              "IPY_MODEL_da51a37de7ea48f6933be6eb5a21ed15",
              "IPY_MODEL_4e96b1074d9b477796d0f2fe399ef18b"
            ]
          }
        },
        "acfdf5b5f1be416d921fe2347ccd7f92": {
          "model_module": "@jupyter-widgets/base",
          "model_name": "LayoutModel",
          "model_module_version": "1.2.0",
          "state": {
            "_view_name": "LayoutView",
            "grid_template_rows": null,
            "right": null,
            "justify_content": null,
            "_view_module": "@jupyter-widgets/base",
            "overflow": null,
            "_model_module_version": "1.2.0",
            "_view_count": null,
            "flex_flow": null,
            "width": null,
            "min_width": null,
            "border": null,
            "align_items": null,
            "bottom": null,
            "_model_module": "@jupyter-widgets/base",
            "top": null,
            "grid_column": null,
            "overflow_y": null,
            "overflow_x": null,
            "grid_auto_flow": null,
            "grid_area": null,
            "grid_template_columns": null,
            "flex": null,
            "_model_name": "LayoutModel",
            "justify_items": null,
            "grid_row": null,
            "max_height": null,
            "align_content": null,
            "visibility": null,
            "align_self": null,
            "height": null,
            "min_height": null,
            "padding": null,
            "grid_auto_rows": null,
            "grid_gap": null,
            "max_width": null,
            "order": null,
            "_view_module_version": "1.2.0",
            "grid_template_areas": null,
            "object_position": null,
            "object_fit": null,
            "grid_auto_columns": null,
            "margin": null,
            "display": null,
            "left": null
          }
        },
        "38be6511f8c543d1a884566a06972bd6": {
          "model_module": "@jupyter-widgets/controls",
          "model_name": "HTMLModel",
          "model_module_version": "1.5.0",
          "state": {
            "_view_name": "HTMLView",
            "style": "IPY_MODEL_c24044a8e9854b1daf709f212eb58426",
            "_dom_classes": [],
            "description": "",
            "_model_name": "HTMLModel",
            "placeholder": "​",
            "_view_module": "@jupyter-widgets/controls",
            "_model_module_version": "1.5.0",
            "value": "",
            "_view_count": null,
            "_view_module_version": "1.5.0",
            "description_tooltip": null,
            "_model_module": "@jupyter-widgets/controls",
            "layout": "IPY_MODEL_8ae764647ebc4b3ab3bec2bc3a3f5375"
          }
        },
        "da51a37de7ea48f6933be6eb5a21ed15": {
          "model_module": "@jupyter-widgets/controls",
          "model_name": "FloatProgressModel",
          "model_module_version": "1.5.0",
          "state": {
            "_view_name": "ProgressView",
            "style": "IPY_MODEL_bbc273c679ec49ad8229a9737be1e5d1",
            "_dom_classes": [],
            "description": "",
            "_model_name": "FloatProgressModel",
            "bar_style": "info",
            "max": 1,
            "_view_module": "@jupyter-widgets/controls",
            "_model_module_version": "1.5.0",
            "value": 1,
            "_view_count": null,
            "_view_module_version": "1.5.0",
            "orientation": "horizontal",
            "min": 0,
            "description_tooltip": null,
            "_model_module": "@jupyter-widgets/controls",
            "layout": "IPY_MODEL_f5257d686d9b4a03ba3dd61269b0ee84"
          }
        },
        "4e96b1074d9b477796d0f2fe399ef18b": {
          "model_module": "@jupyter-widgets/controls",
          "model_name": "HTMLModel",
          "model_module_version": "1.5.0",
          "state": {
            "_view_name": "HTMLView",
            "style": "IPY_MODEL_2c633bbe872c46a8897d4bb2c3685e2a",
            "_dom_classes": [],
            "description": "",
            "_model_name": "HTMLModel",
            "placeholder": "​",
            "_view_module": "@jupyter-widgets/controls",
            "_model_module_version": "1.5.0",
            "value": " 541/0 [00:00&lt;00:00, 5408.92 examples/s]",
            "_view_count": null,
            "_view_module_version": "1.5.0",
            "description_tooltip": null,
            "_model_module": "@jupyter-widgets/controls",
            "layout": "IPY_MODEL_b4b9f97b576345909391d0041c76fb9d"
          }
        },
        "c24044a8e9854b1daf709f212eb58426": {
          "model_module": "@jupyter-widgets/controls",
          "model_name": "DescriptionStyleModel",
          "model_module_version": "1.5.0",
          "state": {
            "_view_name": "StyleView",
            "_model_name": "DescriptionStyleModel",
            "description_width": "",
            "_view_module": "@jupyter-widgets/base",
            "_model_module_version": "1.5.0",
            "_view_count": null,
            "_view_module_version": "1.2.0",
            "_model_module": "@jupyter-widgets/controls"
          }
        },
        "8ae764647ebc4b3ab3bec2bc3a3f5375": {
          "model_module": "@jupyter-widgets/base",
          "model_name": "LayoutModel",
          "model_module_version": "1.2.0",
          "state": {
            "_view_name": "LayoutView",
            "grid_template_rows": null,
            "right": null,
            "justify_content": null,
            "_view_module": "@jupyter-widgets/base",
            "overflow": null,
            "_model_module_version": "1.2.0",
            "_view_count": null,
            "flex_flow": null,
            "width": null,
            "min_width": null,
            "border": null,
            "align_items": null,
            "bottom": null,
            "_model_module": "@jupyter-widgets/base",
            "top": null,
            "grid_column": null,
            "overflow_y": null,
            "overflow_x": null,
            "grid_auto_flow": null,
            "grid_area": null,
            "grid_template_columns": null,
            "flex": null,
            "_model_name": "LayoutModel",
            "justify_items": null,
            "grid_row": null,
            "max_height": null,
            "align_content": null,
            "visibility": null,
            "align_self": null,
            "height": null,
            "min_height": null,
            "padding": null,
            "grid_auto_rows": null,
            "grid_gap": null,
            "max_width": null,
            "order": null,
            "_view_module_version": "1.2.0",
            "grid_template_areas": null,
            "object_position": null,
            "object_fit": null,
            "grid_auto_columns": null,
            "margin": null,
            "display": null,
            "left": null
          }
        },
        "bbc273c679ec49ad8229a9737be1e5d1": {
          "model_module": "@jupyter-widgets/controls",
          "model_name": "ProgressStyleModel",
          "model_module_version": "1.5.0",
          "state": {
            "_view_name": "StyleView",
            "_model_name": "ProgressStyleModel",
            "description_width": "",
            "_view_module": "@jupyter-widgets/base",
            "_model_module_version": "1.5.0",
            "_view_count": null,
            "_view_module_version": "1.2.0",
            "bar_color": null,
            "_model_module": "@jupyter-widgets/controls"
          }
        },
        "f5257d686d9b4a03ba3dd61269b0ee84": {
          "model_module": "@jupyter-widgets/base",
          "model_name": "LayoutModel",
          "model_module_version": "1.2.0",
          "state": {
            "_view_name": "LayoutView",
            "grid_template_rows": null,
            "right": null,
            "justify_content": null,
            "_view_module": "@jupyter-widgets/base",
            "overflow": null,
            "_model_module_version": "1.2.0",
            "_view_count": null,
            "flex_flow": null,
            "width": "20px",
            "min_width": null,
            "border": null,
            "align_items": null,
            "bottom": null,
            "_model_module": "@jupyter-widgets/base",
            "top": null,
            "grid_column": null,
            "overflow_y": null,
            "overflow_x": null,
            "grid_auto_flow": null,
            "grid_area": null,
            "grid_template_columns": null,
            "flex": null,
            "_model_name": "LayoutModel",
            "justify_items": null,
            "grid_row": null,
            "max_height": null,
            "align_content": null,
            "visibility": null,
            "align_self": null,
            "height": null,
            "min_height": null,
            "padding": null,
            "grid_auto_rows": null,
            "grid_gap": null,
            "max_width": null,
            "order": null,
            "_view_module_version": "1.2.0",
            "grid_template_areas": null,
            "object_position": null,
            "object_fit": null,
            "grid_auto_columns": null,
            "margin": null,
            "display": null,
            "left": null
          }
        },
        "2c633bbe872c46a8897d4bb2c3685e2a": {
          "model_module": "@jupyter-widgets/controls",
          "model_name": "DescriptionStyleModel",
          "model_module_version": "1.5.0",
          "state": {
            "_view_name": "StyleView",
            "_model_name": "DescriptionStyleModel",
            "description_width": "",
            "_view_module": "@jupyter-widgets/base",
            "_model_module_version": "1.5.0",
            "_view_count": null,
            "_view_module_version": "1.2.0",
            "_model_module": "@jupyter-widgets/controls"
          }
        },
        "b4b9f97b576345909391d0041c76fb9d": {
          "model_module": "@jupyter-widgets/base",
          "model_name": "LayoutModel",
          "model_module_version": "1.2.0",
          "state": {
            "_view_name": "LayoutView",
            "grid_template_rows": null,
            "right": null,
            "justify_content": null,
            "_view_module": "@jupyter-widgets/base",
            "overflow": null,
            "_model_module_version": "1.2.0",
            "_view_count": null,
            "flex_flow": null,
            "width": null,
            "min_width": null,
            "border": null,
            "align_items": null,
            "bottom": null,
            "_model_module": "@jupyter-widgets/base",
            "top": null,
            "grid_column": null,
            "overflow_y": null,
            "overflow_x": null,
            "grid_auto_flow": null,
            "grid_area": null,
            "grid_template_columns": null,
            "flex": null,
            "_model_name": "LayoutModel",
            "justify_items": null,
            "grid_row": null,
            "max_height": null,
            "align_content": null,
            "visibility": null,
            "align_self": null,
            "height": null,
            "min_height": null,
            "padding": null,
            "grid_auto_rows": null,
            "grid_gap": null,
            "max_width": null,
            "order": null,
            "_view_module_version": "1.2.0",
            "grid_template_areas": null,
            "object_position": null,
            "object_fit": null,
            "grid_auto_columns": null,
            "margin": null,
            "display": null,
            "left": null
          }
        },
        "4d69242d0fa24db9801708ca5825d2f7": {
          "model_module": "@jupyter-widgets/controls",
          "model_name": "HBoxModel",
          "model_module_version": "1.5.0",
          "state": {
            "_view_name": "HBoxView",
            "_dom_classes": [],
            "_model_name": "HBoxModel",
            "_view_module": "@jupyter-widgets/controls",
            "_model_module_version": "1.5.0",
            "_view_count": null,
            "_view_module_version": "1.5.0",
            "box_style": "",
            "layout": "IPY_MODEL_4c7ac3ff439741edbad552e4aa8892fe",
            "_model_module": "@jupyter-widgets/controls",
            "children": [
              "IPY_MODEL_ed018bc2fac74936b4c8824468bc52bf",
              "IPY_MODEL_fa4ea096ad5d431f917dcb6c0b85e2b2",
              "IPY_MODEL_cc752bf38d364a29b0ab0765c964f8f5"
            ]
          }
        },
        "4c7ac3ff439741edbad552e4aa8892fe": {
          "model_module": "@jupyter-widgets/base",
          "model_name": "LayoutModel",
          "model_module_version": "1.2.0",
          "state": {
            "_view_name": "LayoutView",
            "grid_template_rows": null,
            "right": null,
            "justify_content": null,
            "_view_module": "@jupyter-widgets/base",
            "overflow": null,
            "_model_module_version": "1.2.0",
            "_view_count": null,
            "flex_flow": null,
            "width": null,
            "min_width": null,
            "border": null,
            "align_items": null,
            "bottom": null,
            "_model_module": "@jupyter-widgets/base",
            "top": null,
            "grid_column": null,
            "overflow_y": null,
            "overflow_x": null,
            "grid_auto_flow": null,
            "grid_area": null,
            "grid_template_columns": null,
            "flex": null,
            "_model_name": "LayoutModel",
            "justify_items": null,
            "grid_row": null,
            "max_height": null,
            "align_content": null,
            "visibility": null,
            "align_self": null,
            "height": null,
            "min_height": null,
            "padding": null,
            "grid_auto_rows": null,
            "grid_gap": null,
            "max_width": null,
            "order": null,
            "_view_module_version": "1.2.0",
            "grid_template_areas": null,
            "object_position": null,
            "object_fit": null,
            "grid_auto_columns": null,
            "margin": null,
            "display": null,
            "left": null
          }
        },
        "ed018bc2fac74936b4c8824468bc52bf": {
          "model_module": "@jupyter-widgets/controls",
          "model_name": "HTMLModel",
          "model_module_version": "1.5.0",
          "state": {
            "_view_name": "HTMLView",
            "style": "IPY_MODEL_f4299a37d8fd40e3ae1f966ea7416122",
            "_dom_classes": [],
            "description": "",
            "_model_name": "HTMLModel",
            "placeholder": "​",
            "_view_module": "@jupyter-widgets/controls",
            "_model_module_version": "1.5.0",
            "value": "100%",
            "_view_count": null,
            "_view_module_version": "1.5.0",
            "description_tooltip": null,
            "_model_module": "@jupyter-widgets/controls",
            "layout": "IPY_MODEL_00755315d65840668f93911055f49739"
          }
        },
        "fa4ea096ad5d431f917dcb6c0b85e2b2": {
          "model_module": "@jupyter-widgets/controls",
          "model_name": "FloatProgressModel",
          "model_module_version": "1.5.0",
          "state": {
            "_view_name": "ProgressView",
            "style": "IPY_MODEL_b826d542a74d4eb6b2bcdb7feaa1b311",
            "_dom_classes": [],
            "description": "",
            "_model_name": "FloatProgressModel",
            "bar_style": "success",
            "max": 3,
            "_view_module": "@jupyter-widgets/controls",
            "_model_module_version": "1.5.0",
            "value": 3,
            "_view_count": null,
            "_view_module_version": "1.5.0",
            "orientation": "horizontal",
            "min": 0,
            "description_tooltip": null,
            "_model_module": "@jupyter-widgets/controls",
            "layout": "IPY_MODEL_b2355311388f400c860b78ac1796b039"
          }
        },
        "cc752bf38d364a29b0ab0765c964f8f5": {
          "model_module": "@jupyter-widgets/controls",
          "model_name": "HTMLModel",
          "model_module_version": "1.5.0",
          "state": {
            "_view_name": "HTMLView",
            "style": "IPY_MODEL_02e9e9f0952f491a8426010fc28952e8",
            "_dom_classes": [],
            "description": "",
            "_model_name": "HTMLModel",
            "placeholder": "​",
            "_view_module": "@jupyter-widgets/controls",
            "_model_module_version": "1.5.0",
            "value": " 3/3 [00:00&lt;00:00, 42.78it/s]",
            "_view_count": null,
            "_view_module_version": "1.5.0",
            "description_tooltip": null,
            "_model_module": "@jupyter-widgets/controls",
            "layout": "IPY_MODEL_5e28db3ccfb14c6db7cf2bc960ec7712"
          }
        },
        "f4299a37d8fd40e3ae1f966ea7416122": {
          "model_module": "@jupyter-widgets/controls",
          "model_name": "DescriptionStyleModel",
          "model_module_version": "1.5.0",
          "state": {
            "_view_name": "StyleView",
            "_model_name": "DescriptionStyleModel",
            "description_width": "",
            "_view_module": "@jupyter-widgets/base",
            "_model_module_version": "1.5.0",
            "_view_count": null,
            "_view_module_version": "1.2.0",
            "_model_module": "@jupyter-widgets/controls"
          }
        },
        "00755315d65840668f93911055f49739": {
          "model_module": "@jupyter-widgets/base",
          "model_name": "LayoutModel",
          "model_module_version": "1.2.0",
          "state": {
            "_view_name": "LayoutView",
            "grid_template_rows": null,
            "right": null,
            "justify_content": null,
            "_view_module": "@jupyter-widgets/base",
            "overflow": null,
            "_model_module_version": "1.2.0",
            "_view_count": null,
            "flex_flow": null,
            "width": null,
            "min_width": null,
            "border": null,
            "align_items": null,
            "bottom": null,
            "_model_module": "@jupyter-widgets/base",
            "top": null,
            "grid_column": null,
            "overflow_y": null,
            "overflow_x": null,
            "grid_auto_flow": null,
            "grid_area": null,
            "grid_template_columns": null,
            "flex": null,
            "_model_name": "LayoutModel",
            "justify_items": null,
            "grid_row": null,
            "max_height": null,
            "align_content": null,
            "visibility": null,
            "align_self": null,
            "height": null,
            "min_height": null,
            "padding": null,
            "grid_auto_rows": null,
            "grid_gap": null,
            "max_width": null,
            "order": null,
            "_view_module_version": "1.2.0",
            "grid_template_areas": null,
            "object_position": null,
            "object_fit": null,
            "grid_auto_columns": null,
            "margin": null,
            "display": null,
            "left": null
          }
        },
        "b826d542a74d4eb6b2bcdb7feaa1b311": {
          "model_module": "@jupyter-widgets/controls",
          "model_name": "ProgressStyleModel",
          "model_module_version": "1.5.0",
          "state": {
            "_view_name": "StyleView",
            "_model_name": "ProgressStyleModel",
            "description_width": "",
            "_view_module": "@jupyter-widgets/base",
            "_model_module_version": "1.5.0",
            "_view_count": null,
            "_view_module_version": "1.2.0",
            "bar_color": null,
            "_model_module": "@jupyter-widgets/controls"
          }
        },
        "b2355311388f400c860b78ac1796b039": {
          "model_module": "@jupyter-widgets/base",
          "model_name": "LayoutModel",
          "model_module_version": "1.2.0",
          "state": {
            "_view_name": "LayoutView",
            "grid_template_rows": null,
            "right": null,
            "justify_content": null,
            "_view_module": "@jupyter-widgets/base",
            "overflow": null,
            "_model_module_version": "1.2.0",
            "_view_count": null,
            "flex_flow": null,
            "width": null,
            "min_width": null,
            "border": null,
            "align_items": null,
            "bottom": null,
            "_model_module": "@jupyter-widgets/base",
            "top": null,
            "grid_column": null,
            "overflow_y": null,
            "overflow_x": null,
            "grid_auto_flow": null,
            "grid_area": null,
            "grid_template_columns": null,
            "flex": null,
            "_model_name": "LayoutModel",
            "justify_items": null,
            "grid_row": null,
            "max_height": null,
            "align_content": null,
            "visibility": null,
            "align_self": null,
            "height": null,
            "min_height": null,
            "padding": null,
            "grid_auto_rows": null,
            "grid_gap": null,
            "max_width": null,
            "order": null,
            "_view_module_version": "1.2.0",
            "grid_template_areas": null,
            "object_position": null,
            "object_fit": null,
            "grid_auto_columns": null,
            "margin": null,
            "display": null,
            "left": null
          }
        },
        "02e9e9f0952f491a8426010fc28952e8": {
          "model_module": "@jupyter-widgets/controls",
          "model_name": "DescriptionStyleModel",
          "model_module_version": "1.5.0",
          "state": {
            "_view_name": "StyleView",
            "_model_name": "DescriptionStyleModel",
            "description_width": "",
            "_view_module": "@jupyter-widgets/base",
            "_model_module_version": "1.5.0",
            "_view_count": null,
            "_view_module_version": "1.2.0",
            "_model_module": "@jupyter-widgets/controls"
          }
        },
        "5e28db3ccfb14c6db7cf2bc960ec7712": {
          "model_module": "@jupyter-widgets/base",
          "model_name": "LayoutModel",
          "model_module_version": "1.2.0",
          "state": {
            "_view_name": "LayoutView",
            "grid_template_rows": null,
            "right": null,
            "justify_content": null,
            "_view_module": "@jupyter-widgets/base",
            "overflow": null,
            "_model_module_version": "1.2.0",
            "_view_count": null,
            "flex_flow": null,
            "width": null,
            "min_width": null,
            "border": null,
            "align_items": null,
            "bottom": null,
            "_model_module": "@jupyter-widgets/base",
            "top": null,
            "grid_column": null,
            "overflow_y": null,
            "overflow_x": null,
            "grid_auto_flow": null,
            "grid_area": null,
            "grid_template_columns": null,
            "flex": null,
            "_model_name": "LayoutModel",
            "justify_items": null,
            "grid_row": null,
            "max_height": null,
            "align_content": null,
            "visibility": null,
            "align_self": null,
            "height": null,
            "min_height": null,
            "padding": null,
            "grid_auto_rows": null,
            "grid_gap": null,
            "max_width": null,
            "order": null,
            "_view_module_version": "1.2.0",
            "grid_template_areas": null,
            "object_position": null,
            "object_fit": null,
            "grid_auto_columns": null,
            "margin": null,
            "display": null,
            "left": null
          }
        }
      }
    }
  },
  "cells": [
    {
      "cell_type": "markdown",
      "metadata": {
        "id": "CubYcwcQTSoP"
      },
      "source": [
        "#EmDet\n",
        "\n",
        "Purpose of this project is to build an NLP model to predict the emotion from a given sentence"
      ]
    },
    {
      "cell_type": "markdown",
      "metadata": {
        "id": "hhUAH37gecUX"
      },
      "source": [
        "## Get Data"
      ]
    },
    {
      "cell_type": "code",
      "metadata": {
        "colab": {
          "base_uri": "https://localhost:8080/",
          "height": 1000,
          "referenced_widgets": [
            "d80862a0c68c424394ed0d3c6dcb33cf",
            "bd3be37ae4d041508bc978adf0237cd9",
            "c04076178c49414291a5bef76a85c550",
            "e38b37c2fb774829a022cbc165f62a61",
            "a514722748ee4e3db6c9367f85ead323",
            "0968c2d2c87348c1811e5054b9424a5d",
            "1b41e12bda92468583e2d28a888df5f6",
            "b0c8734595364168adff410db88926fb",
            "a75ab5369e5b447abbe4ddd55082d36c",
            "86e8792b97e84cdcb35d9ce983402322",
            "0ccea86a8cd949088cf225f8780f33ba",
            "f4799af15db84199bcb8bbb4f824ff89",
            "15fb28fcfbfe4fb685ca6449496f38ee",
            "e094d751c63d4e4fb17a7d20abe7cc75",
            "03e363b799864bf9b37d65a31aa42544",
            "02c3e0f0a5f7426e874da40b05509417",
            "74107dfca76746929b997612dcc92170",
            "b7a7a202a7ae4753bd0f8a3c1345a9d2",
            "7977ba77d0624f44a443ff7cc64bc728",
            "83ea096bac2243bcbf820d6f15cda1e5",
            "609c554d535d428d845982bc52c41c39",
            "3ac7e7d9a83b4af8916ea6731bb5aa5f",
            "e3455fb33f83419dae977fb845a78a3a",
            "2d2f28e9cf8d4ac29a1521082a789184",
            "009cc3849285473a970a29cc60781a0c",
            "fff392ba0da04b999f7bbb8ecec82b51",
            "cf62bc6b1f504adb9c751054d9b32b73",
            "d7b82320fbc2487daaed54153bb1cb16",
            "ec5fc5f17ec44bceacbaee9f279c690f",
            "f3cca388acea42b3bb5d4c44dc0710df",
            "a0b75e1951054598ac89089d2f33d079",
            "fcd78611584a4ab48ec66747ff1276e3",
            "1c69d45dc0004309aec3d0b44d54760d",
            "cbf4293b24b84399aa5bad6a9f142431",
            "4c8bcef1accd4d5380d1dab4bcd1f649",
            "aca19e413a704b61a60882c562fc9932",
            "19fe779c505042b6b51cd296ec3519b7",
            "20f7cadbfe334ca8af5693da3bd4ece1",
            "48ca8643d0254aad8214e6cefcf2855b",
            "12e5b3f5f3534ab2b7b6a106c9e604eb",
            "57dac29877ef49f1a49deed0b45022ab",
            "c94e721cae6946f6a2073be5cbe056f7",
            "dfc92046cede4b66b77655c475215ba8",
            "b01836e29a934c9fa5999a2015c46f5a",
            "46287ed1968e45b9b04232f8eb29ab4d",
            "610fa0484342498b8400cc7b1b45e489",
            "21593edace074f5092b188c6c542c57d",
            "c466997b6cb64219a593bb88243c711b",
            "c5b864899d4648c4a24a4ccbf05fb0fc",
            "b7870c6529594d3180ed9cbda1d01f34",
            "11c266774d274e0890a51ee6d2ae601e",
            "fd88c5f5fa054d2ab6696b3f174dcb66",
            "3a99bbb3f10d4c1eb585228d611df919",
            "5b962dbe892341d183895f92dd689087",
            "1a61edcafbce4e17a29983c4cac3a5ce",
            "007eb18573b443399a457e6a51e0c9df",
            "79200c6576034c2885f2e5ae91e2b572",
            "2e8cdc02522f41fc8fded70426c73547",
            "a687a37b28754b088245c87d5c6a8b75",
            "eac1fcd75f0b43fd88ea81678df6a05a",
            "6df9971be6a74d91939a090bb62da53e",
            "7c3b4c0bf4874d2391dca8e908387a13",
            "625403e3502a4aafa220b26461737939",
            "3bd7f8fd799446289965f58a42e79359",
            "5c0fee01ea73492a8bebd65a86d4f2ec",
            "601aa183230f48e59535cd8348bbdf5f",
            "45a7ef774c7744e68722699709923a09",
            "a930338d982c4436bda4f801345baa0b",
            "212775e952334cb2abcfddddf2c516d4",
            "0d405575b59044a7a7dcc5530752190d",
            "4f3c9402213b401dabaadb8393b58347",
            "e7874adef6384b578d041fe7e3739c76",
            "6e20fbce0df24903875ac3955f6553b6",
            "a48c613fd6b140419f634a8be7f6338e",
            "89f25512e0ad41858aff62c18e97ffff",
            "90b385202ba6405f865ee18e4ec6d67c",
            "ba979e00fee740ad85ff907b79165aca",
            "ee463dec9b894014b26fd282522901ac",
            "acfdf5b5f1be416d921fe2347ccd7f92",
            "38be6511f8c543d1a884566a06972bd6",
            "da51a37de7ea48f6933be6eb5a21ed15",
            "4e96b1074d9b477796d0f2fe399ef18b",
            "c24044a8e9854b1daf709f212eb58426",
            "8ae764647ebc4b3ab3bec2bc3a3f5375",
            "bbc273c679ec49ad8229a9737be1e5d1",
            "f5257d686d9b4a03ba3dd61269b0ee84",
            "2c633bbe872c46a8897d4bb2c3685e2a",
            "b4b9f97b576345909391d0041c76fb9d",
            "4d69242d0fa24db9801708ca5825d2f7",
            "4c7ac3ff439741edbad552e4aa8892fe",
            "ed018bc2fac74936b4c8824468bc52bf",
            "fa4ea096ad5d431f917dcb6c0b85e2b2",
            "cc752bf38d364a29b0ab0765c964f8f5",
            "f4299a37d8fd40e3ae1f966ea7416122",
            "00755315d65840668f93911055f49739",
            "b826d542a74d4eb6b2bcdb7feaa1b311",
            "b2355311388f400c860b78ac1796b039",
            "02e9e9f0952f491a8426010fc28952e8",
            "5e28db3ccfb14c6db7cf2bc960ec7712"
          ]
        },
        "id": "yAgekM0Kyuzj",
        "outputId": "738d8f33-2ef5-403e-c9a7-3fb0ae600892"
      },
      "source": [
        "!pip install datasets\n",
        "\n",
        "from datasets import load_dataset\n",
        "\n",
        "dataset = load_dataset(\"emotion\")"
      ],
      "execution_count": 1,
      "outputs": [
        {
          "output_type": "stream",
          "name": "stdout",
          "text": [
            "Collecting datasets\n",
            "  Downloading datasets-1.14.0-py3-none-any.whl (290 kB)\n",
            "\u001b[K     |████████████████████████████████| 290 kB 4.8 MB/s \n",
            "\u001b[?25hRequirement already satisfied: pyarrow!=4.0.0,>=1.0.0 in /usr/local/lib/python3.7/dist-packages (from datasets) (3.0.0)\n",
            "Requirement already satisfied: tqdm>=4.62.1 in /usr/local/lib/python3.7/dist-packages (from datasets) (4.62.3)\n",
            "Collecting fsspec[http]>=2021.05.0\n",
            "  Downloading fsspec-2021.10.1-py3-none-any.whl (125 kB)\n",
            "\u001b[K     |████████████████████████████████| 125 kB 46.7 MB/s \n",
            "\u001b[?25hRequirement already satisfied: pandas in /usr/local/lib/python3.7/dist-packages (from datasets) (1.1.5)\n",
            "Requirement already satisfied: multiprocess in /usr/local/lib/python3.7/dist-packages (from datasets) (0.70.12.2)\n",
            "Requirement already satisfied: numpy>=1.17 in /usr/local/lib/python3.7/dist-packages (from datasets) (1.19.5)\n",
            "Collecting aiohttp\n",
            "  Downloading aiohttp-3.8.0-cp37-cp37m-manylinux_2_5_x86_64.manylinux1_x86_64.manylinux_2_12_x86_64.manylinux2010_x86_64.whl (1.1 MB)\n",
            "\u001b[K     |████████████████████████████████| 1.1 MB 24.0 MB/s \n",
            "\u001b[?25hCollecting huggingface-hub<0.1.0,>=0.0.19\n",
            "  Downloading huggingface_hub-0.0.19-py3-none-any.whl (56 kB)\n",
            "\u001b[K     |████████████████████████████████| 56 kB 4.6 MB/s \n",
            "\u001b[?25hRequirement already satisfied: packaging in /usr/local/lib/python3.7/dist-packages (from datasets) (21.0)\n",
            "Requirement already satisfied: importlib-metadata in /usr/local/lib/python3.7/dist-packages (from datasets) (4.8.1)\n",
            "Requirement already satisfied: dill in /usr/local/lib/python3.7/dist-packages (from datasets) (0.3.4)\n",
            "Collecting xxhash\n",
            "  Downloading xxhash-2.0.2-cp37-cp37m-manylinux2010_x86_64.whl (243 kB)\n",
            "\u001b[K     |████████████████████████████████| 243 kB 42.6 MB/s \n",
            "\u001b[?25hRequirement already satisfied: requests>=2.19.0 in /usr/local/lib/python3.7/dist-packages (from datasets) (2.23.0)\n",
            "Requirement already satisfied: filelock in /usr/local/lib/python3.7/dist-packages (from huggingface-hub<0.1.0,>=0.0.19->datasets) (3.3.0)\n",
            "Requirement already satisfied: pyyaml in /usr/local/lib/python3.7/dist-packages (from huggingface-hub<0.1.0,>=0.0.19->datasets) (3.13)\n",
            "Requirement already satisfied: typing-extensions in /usr/local/lib/python3.7/dist-packages (from huggingface-hub<0.1.0,>=0.0.19->datasets) (3.7.4.3)\n",
            "Requirement already satisfied: pyparsing>=2.0.2 in /usr/local/lib/python3.7/dist-packages (from packaging->datasets) (2.4.7)\n",
            "Requirement already satisfied: certifi>=2017.4.17 in /usr/local/lib/python3.7/dist-packages (from requests>=2.19.0->datasets) (2021.5.30)\n",
            "Requirement already satisfied: idna<3,>=2.5 in /usr/local/lib/python3.7/dist-packages (from requests>=2.19.0->datasets) (2.10)\n",
            "Requirement already satisfied: chardet<4,>=3.0.2 in /usr/local/lib/python3.7/dist-packages (from requests>=2.19.0->datasets) (3.0.4)\n",
            "Requirement already satisfied: urllib3!=1.25.0,!=1.25.1,<1.26,>=1.21.1 in /usr/local/lib/python3.7/dist-packages (from requests>=2.19.0->datasets) (1.24.3)\n",
            "Collecting frozenlist>=1.1.1\n",
            "  Downloading frozenlist-1.2.0-cp37-cp37m-manylinux_2_5_x86_64.manylinux1_x86_64.manylinux_2_12_x86_64.manylinux2010_x86_64.whl (192 kB)\n",
            "\u001b[K     |████████████████████████████████| 192 kB 47.6 MB/s \n",
            "\u001b[?25hCollecting aiosignal>=1.1.2\n",
            "  Downloading aiosignal-1.2.0-py3-none-any.whl (8.2 kB)\n",
            "Collecting asynctest==0.13.0\n",
            "  Downloading asynctest-0.13.0-py3-none-any.whl (26 kB)\n",
            "Collecting yarl<2.0,>=1.0\n",
            "  Downloading yarl-1.7.2-cp37-cp37m-manylinux_2_5_x86_64.manylinux1_x86_64.manylinux_2_12_x86_64.manylinux2010_x86_64.whl (271 kB)\n",
            "\u001b[K     |████████████████████████████████| 271 kB 49.8 MB/s \n",
            "\u001b[?25hRequirement already satisfied: attrs>=17.3.0 in /usr/local/lib/python3.7/dist-packages (from aiohttp->datasets) (21.2.0)\n",
            "Requirement already satisfied: charset-normalizer<3.0,>=2.0 in /usr/local/lib/python3.7/dist-packages (from aiohttp->datasets) (2.0.7)\n",
            "Collecting async-timeout<5.0,>=4.0.0a3\n",
            "  Downloading async_timeout-4.0.0-py3-none-any.whl (6.1 kB)\n",
            "Collecting multidict<7.0,>=4.5\n",
            "  Downloading multidict-5.2.0-cp37-cp37m-manylinux_2_5_x86_64.manylinux1_x86_64.manylinux_2_12_x86_64.manylinux2010_x86_64.whl (160 kB)\n",
            "\u001b[K     |████████████████████████████████| 160 kB 52.4 MB/s \n",
            "\u001b[?25hRequirement already satisfied: zipp>=0.5 in /usr/local/lib/python3.7/dist-packages (from importlib-metadata->datasets) (3.6.0)\n",
            "Requirement already satisfied: pytz>=2017.2 in /usr/local/lib/python3.7/dist-packages (from pandas->datasets) (2018.9)\n",
            "Requirement already satisfied: python-dateutil>=2.7.3 in /usr/local/lib/python3.7/dist-packages (from pandas->datasets) (2.8.2)\n",
            "Requirement already satisfied: six>=1.5 in /usr/local/lib/python3.7/dist-packages (from python-dateutil>=2.7.3->pandas->datasets) (1.15.0)\n",
            "Installing collected packages: multidict, frozenlist, yarl, asynctest, async-timeout, aiosignal, fsspec, aiohttp, xxhash, huggingface-hub, datasets\n",
            "Successfully installed aiohttp-3.8.0 aiosignal-1.2.0 async-timeout-4.0.0 asynctest-0.13.0 datasets-1.14.0 frozenlist-1.2.0 fsspec-2021.10.1 huggingface-hub-0.0.19 multidict-5.2.0 xxhash-2.0.2 yarl-1.7.2\n"
          ]
        },
        {
          "output_type": "display_data",
          "data": {
            "application/vnd.jupyter.widget-view+json": {
              "model_id": "d80862a0c68c424394ed0d3c6dcb33cf",
              "version_minor": 0,
              "version_major": 2
            },
            "text/plain": [
              "Downloading:   0%|          | 0.00/1.66k [00:00<?, ?B/s]"
            ]
          },
          "metadata": {}
        },
        {
          "output_type": "display_data",
          "data": {
            "application/vnd.jupyter.widget-view+json": {
              "model_id": "f4799af15db84199bcb8bbb4f824ff89",
              "version_minor": 0,
              "version_major": 2
            },
            "text/plain": [
              "Downloading:   0%|          | 0.00/1.61k [00:00<?, ?B/s]"
            ]
          },
          "metadata": {}
        },
        {
          "output_type": "stream",
          "name": "stderr",
          "text": [
            "Using custom data configuration default\n"
          ]
        },
        {
          "output_type": "stream",
          "name": "stdout",
          "text": [
            "Downloading and preparing dataset emotion/default (download: 1.97 MiB, generated: 2.07 MiB, post-processed: Unknown size, total: 4.05 MiB) to /root/.cache/huggingface/datasets/emotion/default/0.0.0/348f63ca8e27b3713b6c04d723efe6d824a56fb3d1449794716c0f0296072705...\n"
          ]
        },
        {
          "output_type": "display_data",
          "data": {
            "application/vnd.jupyter.widget-view+json": {
              "model_id": "e3455fb33f83419dae977fb845a78a3a",
              "version_minor": 0,
              "version_major": 2
            },
            "text/plain": [
              "Downloading:   0%|          | 0.00/1.66M [00:00<?, ?B/s]"
            ]
          },
          "metadata": {}
        },
        {
          "output_type": "display_data",
          "data": {
            "application/vnd.jupyter.widget-view+json": {
              "model_id": "cbf4293b24b84399aa5bad6a9f142431",
              "version_minor": 0,
              "version_major": 2
            },
            "text/plain": [
              "Downloading:   0%|          | 0.00/204k [00:00<?, ?B/s]"
            ]
          },
          "metadata": {}
        },
        {
          "output_type": "display_data",
          "data": {
            "application/vnd.jupyter.widget-view+json": {
              "model_id": "46287ed1968e45b9b04232f8eb29ab4d",
              "version_minor": 0,
              "version_major": 2
            },
            "text/plain": [
              "Downloading:   0%|          | 0.00/207k [00:00<?, ?B/s]"
            ]
          },
          "metadata": {}
        },
        {
          "output_type": "display_data",
          "data": {
            "application/vnd.jupyter.widget-view+json": {
              "model_id": "007eb18573b443399a457e6a51e0c9df",
              "version_minor": 0,
              "version_major": 2
            },
            "text/plain": [
              "0 examples [00:00, ? examples/s]"
            ]
          },
          "metadata": {}
        },
        {
          "output_type": "display_data",
          "data": {
            "application/vnd.jupyter.widget-view+json": {
              "model_id": "45a7ef774c7744e68722699709923a09",
              "version_minor": 0,
              "version_major": 2
            },
            "text/plain": [
              "0 examples [00:00, ? examples/s]"
            ]
          },
          "metadata": {}
        },
        {
          "output_type": "display_data",
          "data": {
            "application/vnd.jupyter.widget-view+json": {
              "model_id": "ee463dec9b894014b26fd282522901ac",
              "version_minor": 0,
              "version_major": 2
            },
            "text/plain": [
              "0 examples [00:00, ? examples/s]"
            ]
          },
          "metadata": {}
        },
        {
          "output_type": "stream",
          "name": "stdout",
          "text": [
            "Dataset emotion downloaded and prepared to /root/.cache/huggingface/datasets/emotion/default/0.0.0/348f63ca8e27b3713b6c04d723efe6d824a56fb3d1449794716c0f0296072705. Subsequent calls will reuse this data.\n"
          ]
        },
        {
          "output_type": "display_data",
          "data": {
            "application/vnd.jupyter.widget-view+json": {
              "model_id": "4d69242d0fa24db9801708ca5825d2f7",
              "version_minor": 0,
              "version_major": 2
            },
            "text/plain": [
              "  0%|          | 0/3 [00:00<?, ?it/s]"
            ]
          },
          "metadata": {}
        }
      ]
    },
    {
      "cell_type": "code",
      "metadata": {
        "colab": {
          "base_uri": "https://localhost:8080/"
        },
        "id": "UMqwGpygyuve",
        "outputId": "5ce50ffb-247a-44c0-ff4d-e1b21ec02c8a"
      },
      "source": [
        "# Check the imported dataset\n",
        "dataset"
      ],
      "execution_count": 2,
      "outputs": [
        {
          "output_type": "execute_result",
          "data": {
            "text/plain": [
              "DatasetDict({\n",
              "    train: Dataset({\n",
              "        features: ['text', 'label'],\n",
              "        num_rows: 16000\n",
              "    })\n",
              "    validation: Dataset({\n",
              "        features: ['text', 'label'],\n",
              "        num_rows: 2000\n",
              "    })\n",
              "    test: Dataset({\n",
              "        features: ['text', 'label'],\n",
              "        num_rows: 2000\n",
              "    })\n",
              "})"
            ]
          },
          "metadata": {},
          "execution_count": 2
        }
      ]
    },
    {
      "cell_type": "markdown",
      "metadata": {
        "id": "Du7MpdPpkZe2"
      },
      "source": [
        "## Preprocess data"
      ]
    },
    {
      "cell_type": "code",
      "metadata": {
        "id": "BQg7yAi7yuoH"
      },
      "source": [
        "# Split the dataset into training, validation and test datasets\n",
        "train_data = dataset[\"train\"]\n",
        "val_data = dataset[\"validation\"]\n",
        "test_data = dataset[\"test\"]"
      ],
      "execution_count": 3,
      "outputs": []
    },
    {
      "cell_type": "code",
      "metadata": {
        "colab": {
          "base_uri": "https://localhost:8080/"
        },
        "id": "wH0dqYwI0g4i",
        "outputId": "756246aa-1ce7-4fa1-c9e5-edac7323453d"
      },
      "source": [
        "print(train_data[0])\n",
        "print(train_data.column_names)\n",
        "print(train_data.features)"
      ],
      "execution_count": 4,
      "outputs": [
        {
          "output_type": "stream",
          "name": "stdout",
          "text": [
            "{'label': 0, 'text': 'i didnt feel humiliated'}\n",
            "['text', 'label']\n",
            "{'text': Value(dtype='string', id=None), 'label': ClassLabel(num_classes=6, names=['sadness', 'joy', 'love', 'anger', 'fear', 'surprise'], names_file=None, id=None)}\n"
          ]
        }
      ]
    },
    {
      "cell_type": "code",
      "metadata": {
        "colab": {
          "base_uri": "https://localhost:8080/",
          "height": 203
        },
        "id": "tDHmCQi30Gs2",
        "outputId": "9d9c63d5-6f10-459b-b5e6-385955064b3a"
      },
      "source": [
        "# Turn all the datasets into pd.DataFrame's\n",
        "import pandas as pd\n",
        "train_df = pd.DataFrame(train_data)\n",
        "val_df = pd.DataFrame(val_data)\n",
        "test_df = pd.DataFrame(test_data)\n",
        "train_df.head()"
      ],
      "execution_count": 5,
      "outputs": [
        {
          "output_type": "execute_result",
          "data": {
            "text/html": [
              "<div>\n",
              "<style scoped>\n",
              "    .dataframe tbody tr th:only-of-type {\n",
              "        vertical-align: middle;\n",
              "    }\n",
              "\n",
              "    .dataframe tbody tr th {\n",
              "        vertical-align: top;\n",
              "    }\n",
              "\n",
              "    .dataframe thead th {\n",
              "        text-align: right;\n",
              "    }\n",
              "</style>\n",
              "<table border=\"1\" class=\"dataframe\">\n",
              "  <thead>\n",
              "    <tr style=\"text-align: right;\">\n",
              "      <th></th>\n",
              "      <th>text</th>\n",
              "      <th>label</th>\n",
              "    </tr>\n",
              "  </thead>\n",
              "  <tbody>\n",
              "    <tr>\n",
              "      <th>0</th>\n",
              "      <td>i didnt feel humiliated</td>\n",
              "      <td>0</td>\n",
              "    </tr>\n",
              "    <tr>\n",
              "      <th>1</th>\n",
              "      <td>i can go from feeling so hopeless to so damned...</td>\n",
              "      <td>0</td>\n",
              "    </tr>\n",
              "    <tr>\n",
              "      <th>2</th>\n",
              "      <td>im grabbing a minute to post i feel greedy wrong</td>\n",
              "      <td>3</td>\n",
              "    </tr>\n",
              "    <tr>\n",
              "      <th>3</th>\n",
              "      <td>i am ever feeling nostalgic about the fireplac...</td>\n",
              "      <td>2</td>\n",
              "    </tr>\n",
              "    <tr>\n",
              "      <th>4</th>\n",
              "      <td>i am feeling grouchy</td>\n",
              "      <td>3</td>\n",
              "    </tr>\n",
              "  </tbody>\n",
              "</table>\n",
              "</div>"
            ],
            "text/plain": [
              "                                                text  label\n",
              "0                            i didnt feel humiliated      0\n",
              "1  i can go from feeling so hopeless to so damned...      0\n",
              "2   im grabbing a minute to post i feel greedy wrong      3\n",
              "3  i am ever feeling nostalgic about the fireplac...      2\n",
              "4                               i am feeling grouchy      3"
            ]
          },
          "metadata": {},
          "execution_count": 5
        }
      ]
    },
    {
      "cell_type": "code",
      "metadata": {
        "colab": {
          "base_uri": "https://localhost:8080/",
          "height": 203
        },
        "id": "dgkNASF21hXt",
        "outputId": "9c06c0b2-85ae-47a0-becb-c860f65398c4"
      },
      "source": [
        "# Add a description column\n",
        "labels_dict = {0:'sadness', 1:'joy', 2:'love', 3:'anger', 4:'fear', 5:'surprise'}\n",
        "train_df['description'] = train_df['label'].map(labels_dict )\n",
        "val_df['description'] = val_df['label'].map(labels_dict )\n",
        "test_df['description'] = test_df['label'].map(labels_dict )\n",
        "train_df.head()"
      ],
      "execution_count": 6,
      "outputs": [
        {
          "output_type": "execute_result",
          "data": {
            "text/html": [
              "<div>\n",
              "<style scoped>\n",
              "    .dataframe tbody tr th:only-of-type {\n",
              "        vertical-align: middle;\n",
              "    }\n",
              "\n",
              "    .dataframe tbody tr th {\n",
              "        vertical-align: top;\n",
              "    }\n",
              "\n",
              "    .dataframe thead th {\n",
              "        text-align: right;\n",
              "    }\n",
              "</style>\n",
              "<table border=\"1\" class=\"dataframe\">\n",
              "  <thead>\n",
              "    <tr style=\"text-align: right;\">\n",
              "      <th></th>\n",
              "      <th>text</th>\n",
              "      <th>label</th>\n",
              "      <th>description</th>\n",
              "    </tr>\n",
              "  </thead>\n",
              "  <tbody>\n",
              "    <tr>\n",
              "      <th>0</th>\n",
              "      <td>i didnt feel humiliated</td>\n",
              "      <td>0</td>\n",
              "      <td>sadness</td>\n",
              "    </tr>\n",
              "    <tr>\n",
              "      <th>1</th>\n",
              "      <td>i can go from feeling so hopeless to so damned...</td>\n",
              "      <td>0</td>\n",
              "      <td>sadness</td>\n",
              "    </tr>\n",
              "    <tr>\n",
              "      <th>2</th>\n",
              "      <td>im grabbing a minute to post i feel greedy wrong</td>\n",
              "      <td>3</td>\n",
              "      <td>anger</td>\n",
              "    </tr>\n",
              "    <tr>\n",
              "      <th>3</th>\n",
              "      <td>i am ever feeling nostalgic about the fireplac...</td>\n",
              "      <td>2</td>\n",
              "      <td>love</td>\n",
              "    </tr>\n",
              "    <tr>\n",
              "      <th>4</th>\n",
              "      <td>i am feeling grouchy</td>\n",
              "      <td>3</td>\n",
              "      <td>anger</td>\n",
              "    </tr>\n",
              "  </tbody>\n",
              "</table>\n",
              "</div>"
            ],
            "text/plain": [
              "                                                text  label description\n",
              "0                            i didnt feel humiliated      0     sadness\n",
              "1  i can go from feeling so hopeless to so damned...      0     sadness\n",
              "2   im grabbing a minute to post i feel greedy wrong      3       anger\n",
              "3  i am ever feeling nostalgic about the fireplac...      2        love\n",
              "4                               i am feeling grouchy      3       anger"
            ]
          },
          "metadata": {},
          "execution_count": 6
        }
      ]
    },
    {
      "cell_type": "code",
      "metadata": {
        "colab": {
          "base_uri": "https://localhost:8080/",
          "height": 203
        },
        "id": "TIeYfMPu15EC",
        "outputId": "6ece36ac-bc1b-478b-e53a-48eef63adce2"
      },
      "source": [
        "# Drop the label column\n",
        "train_df.drop([\"label\"], axis=1, inplace=True)\n",
        "val_df.drop([\"label\"], axis=1, inplace=True)\n",
        "test_df.drop([\"label\"], axis=1, inplace=True)\n",
        "train_df.head()"
      ],
      "execution_count": 7,
      "outputs": [
        {
          "output_type": "execute_result",
          "data": {
            "text/html": [
              "<div>\n",
              "<style scoped>\n",
              "    .dataframe tbody tr th:only-of-type {\n",
              "        vertical-align: middle;\n",
              "    }\n",
              "\n",
              "    .dataframe tbody tr th {\n",
              "        vertical-align: top;\n",
              "    }\n",
              "\n",
              "    .dataframe thead th {\n",
              "        text-align: right;\n",
              "    }\n",
              "</style>\n",
              "<table border=\"1\" class=\"dataframe\">\n",
              "  <thead>\n",
              "    <tr style=\"text-align: right;\">\n",
              "      <th></th>\n",
              "      <th>text</th>\n",
              "      <th>description</th>\n",
              "    </tr>\n",
              "  </thead>\n",
              "  <tbody>\n",
              "    <tr>\n",
              "      <th>0</th>\n",
              "      <td>i didnt feel humiliated</td>\n",
              "      <td>sadness</td>\n",
              "    </tr>\n",
              "    <tr>\n",
              "      <th>1</th>\n",
              "      <td>i can go from feeling so hopeless to so damned...</td>\n",
              "      <td>sadness</td>\n",
              "    </tr>\n",
              "    <tr>\n",
              "      <th>2</th>\n",
              "      <td>im grabbing a minute to post i feel greedy wrong</td>\n",
              "      <td>anger</td>\n",
              "    </tr>\n",
              "    <tr>\n",
              "      <th>3</th>\n",
              "      <td>i am ever feeling nostalgic about the fireplac...</td>\n",
              "      <td>love</td>\n",
              "    </tr>\n",
              "    <tr>\n",
              "      <th>4</th>\n",
              "      <td>i am feeling grouchy</td>\n",
              "      <td>anger</td>\n",
              "    </tr>\n",
              "  </tbody>\n",
              "</table>\n",
              "</div>"
            ],
            "text/plain": [
              "                                                text description\n",
              "0                            i didnt feel humiliated     sadness\n",
              "1  i can go from feeling so hopeless to so damned...     sadness\n",
              "2   im grabbing a minute to post i feel greedy wrong       anger\n",
              "3  i am ever feeling nostalgic about the fireplac...        love\n",
              "4                               i am feeling grouchy       anger"
            ]
          },
          "metadata": {},
          "execution_count": 7
        }
      ]
    },
    {
      "cell_type": "code",
      "metadata": {
        "colab": {
          "base_uri": "https://localhost:8080/"
        },
        "id": "gWUJXgbz2Aq6",
        "outputId": "65ff3913-3b96-42e1-df90-167e956b4d5b"
      },
      "source": [
        "train_df.info()"
      ],
      "execution_count": 8,
      "outputs": [
        {
          "output_type": "stream",
          "name": "stdout",
          "text": [
            "<class 'pandas.core.frame.DataFrame'>\n",
            "RangeIndex: 16000 entries, 0 to 15999\n",
            "Data columns (total 2 columns):\n",
            " #   Column       Non-Null Count  Dtype \n",
            "---  ------       --------------  ----- \n",
            " 0   text         16000 non-null  object\n",
            " 1   description  16000 non-null  object\n",
            "dtypes: object(2)\n",
            "memory usage: 250.1+ KB\n"
          ]
        }
      ]
    },
    {
      "cell_type": "code",
      "metadata": {
        "id": "kAWZllPv2JwM"
      },
      "source": [
        "# Convert abstract text lines into numpy arrays\n",
        "train_sentences = train_df[\"text\"].to_numpy()\n",
        "train_labels = train_df[\"description\"].to_numpy()\n",
        "\n",
        "val_sentences = val_df[\"text\"].to_numpy()\n",
        "val_labels = val_df[\"description\"].to_numpy()\n",
        "\n",
        "test_sentences = test_df[\"text\"].to_numpy()\n",
        "test_labels = test_df[\"description\"].to_numpy()"
      ],
      "execution_count": 9,
      "outputs": []
    },
    {
      "cell_type": "code",
      "metadata": {
        "colab": {
          "base_uri": "https://localhost:8080/"
        },
        "id": "y534R70T8wDz",
        "outputId": "b5ad0f18-962c-4c84-9594-6e08fc62e5d8"
      },
      "source": [
        "# View first 10 lines of training sentences and their labels\n",
        "train_sentences[:10], train_labels[:10]"
      ],
      "execution_count": 10,
      "outputs": [
        {
          "output_type": "execute_result",
          "data": {
            "text/plain": [
              "(array(['i didnt feel humiliated',\n",
              "        'i can go from feeling so hopeless to so damned hopeful just from being around someone who cares and is awake',\n",
              "        'im grabbing a minute to post i feel greedy wrong',\n",
              "        'i am ever feeling nostalgic about the fireplace i will know that it is still on the property',\n",
              "        'i am feeling grouchy',\n",
              "        'ive been feeling a little burdened lately wasnt sure why that was',\n",
              "        'ive been taking or milligrams or times recommended amount and ive fallen asleep a lot faster but i also feel like so funny',\n",
              "        'i feel as confused about life as a teenager or as jaded as a year old man',\n",
              "        'i have been with petronas for years i feel that petronas has performed well and made a huge profit',\n",
              "        'i feel romantic too'], dtype=object),\n",
              " array(['sadness', 'sadness', 'anger', 'love', 'anger', 'sadness',\n",
              "        'surprise', 'fear', 'joy', 'love'], dtype=object))"
            ]
          },
          "metadata": {},
          "execution_count": 10
        }
      ]
    },
    {
      "cell_type": "markdown",
      "metadata": {
        "id": "-jaSgqhA8W9_"
      },
      "source": [
        "## Make numeric labels\n",
        "\n",
        "We're going to create one hot and label encoded labels.\n",
        "\n",
        "We could get away with just making label encoded labels, however, TensorFlow's CategoricalCrossentropy loss function likes to have one hot encoded labels \n",
        "\n",
        "To numerically encode labels we'll use Scikit-Learn's [`OneHotEncoder`](https://scikit-learn.org/stable/modules/generated/sklearn.preprocessing.OneHotEncoder.html) and [`LabelEncoder`](http://scikit-learn.org/stable/modules/generated/sklearn.preprocessing.LabelEncoder.html) classes.\n",
        "\n"
      ]
    },
    {
      "cell_type": "markdown",
      "metadata": {
        "id": "rKxsCOxFRECT"
      },
      "source": [
        "### One hot encode labels"
      ]
    },
    {
      "cell_type": "code",
      "metadata": {
        "id": "D_V4Sobi8ZtV"
      },
      "source": [
        "from sklearn.preprocessing import OneHotEncoder\n",
        "one_hot_encoder = OneHotEncoder(sparse=False)\n",
        "train_labels_one_hot = one_hot_encoder.fit_transform(train_labels.reshape(-1,1))\n",
        "val_labels_one_hot = one_hot_encoder.transform(val_labels.reshape(-1,1))\n",
        "test_labels_one_hot = one_hot_encoder.transform(test_labels.reshape(-1,1))"
      ],
      "execution_count": 11,
      "outputs": []
    },
    {
      "cell_type": "code",
      "metadata": {
        "id": "u52Pm0GF8W1e",
        "colab": {
          "base_uri": "https://localhost:8080/"
        },
        "outputId": "4b0d290c-9aa9-4e7b-fe72-9e80fcebe28c"
      },
      "source": [
        "train_labels_one_hot, train_labels_one_hot.shape"
      ],
      "execution_count": 12,
      "outputs": [
        {
          "output_type": "execute_result",
          "data": {
            "text/plain": [
              "(array([[0., 0., 0., 0., 1., 0.],\n",
              "        [0., 0., 0., 0., 1., 0.],\n",
              "        [1., 0., 0., 0., 0., 0.],\n",
              "        ...,\n",
              "        [0., 0., 1., 0., 0., 0.],\n",
              "        [1., 0., 0., 0., 0., 0.],\n",
              "        [0., 0., 0., 0., 1., 0.]]), (16000, 6))"
            ]
          },
          "metadata": {},
          "execution_count": 12
        }
      ]
    },
    {
      "cell_type": "markdown",
      "metadata": {
        "id": "3A3rFuEd8WzX"
      },
      "source": [
        "### Label encode labels"
      ]
    },
    {
      "cell_type": "code",
      "metadata": {
        "id": "7v45G8F88Ww_"
      },
      "source": [
        "from sklearn.preprocessing import LabelEncoder\n",
        "label_encoder = LabelEncoder()\n",
        "train_labels_encoded = label_encoder.fit_transform(train_labels)\n",
        "val_labels_encoded = label_encoder.transform(val_labels)\n",
        "test_labels_encoded = label_encoder.transform(test_labels)"
      ],
      "execution_count": 13,
      "outputs": []
    },
    {
      "cell_type": "code",
      "metadata": {
        "id": "ABKK4hCu8Wuy",
        "colab": {
          "base_uri": "https://localhost:8080/"
        },
        "outputId": "3dc26f6b-2e57-45e8-9bbd-8feaa096a44f"
      },
      "source": [
        "val_labels_encoded, val_labels_encoded.shape"
      ],
      "execution_count": 14,
      "outputs": [
        {
          "output_type": "execute_result",
          "data": {
            "text/plain": [
              "(array([4, 4, 3, ..., 2, 2, 2]), (2000,))"
            ]
          },
          "metadata": {},
          "execution_count": 14
        }
      ]
    },
    {
      "cell_type": "code",
      "metadata": {
        "id": "BGl0621R8WsX",
        "colab": {
          "base_uri": "https://localhost:8080/"
        },
        "outputId": "df592400-2bcd-41b8-b67f-e9e630522228"
      },
      "source": [
        "# Get class names and number of classes from LabelEncoder instance\n",
        "num_classes = len(label_encoder.classes_)\n",
        "class_names = label_encoder.classes_\n",
        "num_classes, class_names"
      ],
      "execution_count": 15,
      "outputs": [
        {
          "output_type": "execute_result",
          "data": {
            "text/plain": [
              "(6, array(['anger', 'fear', 'joy', 'love', 'sadness', 'surprise'],\n",
              "       dtype=object))"
            ]
          },
          "metadata": {},
          "execution_count": 15
        }
      ]
    },
    {
      "cell_type": "markdown",
      "metadata": {
        "id": "gW2pj-CHS2v2"
      },
      "source": [
        "## Starting a Series of Modelling Experiments\n",
        "\n",
        "We've proprocessed our data so now, in true machine learning fashion, it's time to setup a series of modelling experiments."
      ]
    },
    {
      "cell_type": "markdown",
      "metadata": {
        "id": "xUcmO6_6UQxX"
      },
      "source": [
        "## Model 0: Getting a baseline\n",
        "\n",
        "Our first model will be a TF-IDF Multinomial Naive Bayes as recommended by [Scikit-Learn's machine learning map](https://scikit-learn.org/stable/tutorial/machine_learning_map/index.html).\n",
        "\n",
        "To build it, we'll create a Scikit-Learn `Pipeline` which uses the [`TfidfVectorizer`](https://scikit-learn.org/stable/modules/generated/sklearn.feature_extraction.text.TfidfVectorizer.html) class to convert our abstract sentences to numbers using the TF-IDF (term frequency-inverse document frequecy) algorithm and then learns to classify our sentences using the [`MultinomialNB`](https://scikit-learn.org/stable/modules/generated/sklearn.naive_bayes.MultinomialNB.html) aglorithm."
      ]
    },
    {
      "cell_type": "code",
      "metadata": {
        "id": "GmDn3lDh8Wpx",
        "colab": {
          "base_uri": "https://localhost:8080/"
        },
        "outputId": "c5651727-e53c-4893-985a-6859b8353484"
      },
      "source": [
        "from sklearn.feature_extraction.text import TfidfVectorizer\n",
        "from sklearn.naive_bayes import MultinomialNB\n",
        "from sklearn.pipeline import Pipeline\n",
        "\n",
        "# Create a pipeline\n",
        "model_0 = Pipeline([\n",
        "  (\"tf_idf\", TfidfVectorizer()),\n",
        "  (\"clf\", MultinomialNB())\n",
        "])\n",
        "\n",
        "# Fit the pipeline to the training data\n",
        "model_0.fit(X=train_sentences,\n",
        "            y=train_labels_encoded)"
      ],
      "execution_count": 16,
      "outputs": [
        {
          "output_type": "execute_result",
          "data": {
            "text/plain": [
              "Pipeline(memory=None,\n",
              "         steps=[('tf_idf',\n",
              "                 TfidfVectorizer(analyzer='word', binary=False,\n",
              "                                 decode_error='strict',\n",
              "                                 dtype=<class 'numpy.float64'>,\n",
              "                                 encoding='utf-8', input='content',\n",
              "                                 lowercase=True, max_df=1.0, max_features=None,\n",
              "                                 min_df=1, ngram_range=(1, 1), norm='l2',\n",
              "                                 preprocessor=None, smooth_idf=True,\n",
              "                                 stop_words=None, strip_accents=None,\n",
              "                                 sublinear_tf=False,\n",
              "                                 token_pattern='(?u)\\\\b\\\\w\\\\w+\\\\b',\n",
              "                                 tokenizer=None, use_idf=True,\n",
              "                                 vocabulary=None)),\n",
              "                ('clf',\n",
              "                 MultinomialNB(alpha=1.0, class_prior=None, fit_prior=True))],\n",
              "         verbose=False)"
            ]
          },
          "metadata": {},
          "execution_count": 16
        }
      ]
    },
    {
      "cell_type": "code",
      "metadata": {
        "id": "LtIo3-6Q8Wnd",
        "colab": {
          "base_uri": "https://localhost:8080/"
        },
        "outputId": "66b77954-a5a3-488c-b537-da73f1758e4e"
      },
      "source": [
        "# Evaluate baseline model on validation dataset\n",
        "model_0.score(X=val_sentences,\n",
        "              y=val_labels_encoded)"
      ],
      "execution_count": 17,
      "outputs": [
        {
          "output_type": "execute_result",
          "data": {
            "text/plain": [
              "0.641"
            ]
          },
          "metadata": {},
          "execution_count": 17
        }
      ]
    },
    {
      "cell_type": "code",
      "metadata": {
        "colab": {
          "base_uri": "https://localhost:8080/"
        },
        "id": "wspxGK_4X2_3",
        "outputId": "b4460446-12b0-4fef-e328-b76acbdcf3fc"
      },
      "source": [
        "# Make predictions using our baseline model\n",
        "baseline_preds = model_0.predict(test_sentences)\n",
        "baseline_preds"
      ],
      "execution_count": 18,
      "outputs": [
        {
          "output_type": "execute_result",
          "data": {
            "text/plain": [
              "array([4, 4, 4, ..., 2, 2, 2])"
            ]
          },
          "metadata": {},
          "execution_count": 18
        }
      ]
    },
    {
      "cell_type": "markdown",
      "metadata": {
        "id": "Ar9Y6tzGXkmL"
      },
      "source": [
        "### Download helper function script"
      ]
    },
    {
      "cell_type": "code",
      "metadata": {
        "colab": {
          "base_uri": "https://localhost:8080/"
        },
        "id": "XBi2zDElS2UN",
        "outputId": "f9246e13-76a2-428c-afcb-da83ea4f78a3"
      },
      "source": [
        "!wget https://raw.githubusercontent.com/mrdbourke/tensorflow-deep-learning/main/extras/helper_functions.py"
      ],
      "execution_count": 19,
      "outputs": [
        {
          "output_type": "stream",
          "name": "stdout",
          "text": [
            "--2021-11-02 00:26:07--  https://raw.githubusercontent.com/mrdbourke/tensorflow-deep-learning/main/extras/helper_functions.py\n",
            "Resolving raw.githubusercontent.com (raw.githubusercontent.com)... 185.199.108.133, 185.199.109.133, 185.199.110.133, ...\n",
            "Connecting to raw.githubusercontent.com (raw.githubusercontent.com)|185.199.108.133|:443... connected.\n",
            "HTTP request sent, awaiting response... 200 OK\n",
            "Length: 10246 (10K) [text/plain]\n",
            "Saving to: ‘helper_functions.py’\n",
            "\n",
            "\rhelper_functions.py   0%[                    ]       0  --.-KB/s               \rhelper_functions.py 100%[===================>]  10.01K  --.-KB/s    in 0s      \n",
            "\n",
            "2021-11-02 00:26:07 (70.2 MB/s) - ‘helper_functions.py’ saved [10246/10246]\n",
            "\n"
          ]
        }
      ]
    },
    {
      "cell_type": "code",
      "metadata": {
        "id": "oU6zfkUKS2RW"
      },
      "source": [
        "from helper_functions import calculate_results"
      ],
      "execution_count": 20,
      "outputs": []
    },
    {
      "cell_type": "code",
      "metadata": {
        "colab": {
          "base_uri": "https://localhost:8080/"
        },
        "id": "IcDYNlmeS2Ot",
        "outputId": "1c7bf748-9a8b-4bf1-f3cd-92fe208204d0"
      },
      "source": [
        "# Calculate baseline results\n",
        "baseline_results = calculate_results(y_true=val_labels_encoded,\n",
        "                                     y_pred=baseline_preds)\n",
        "baseline_results"
      ],
      "execution_count": 21,
      "outputs": [
        {
          "output_type": "stream",
          "name": "stderr",
          "text": [
            "/usr/local/lib/python3.7/dist-packages/sklearn/metrics/_classification.py:1272: UndefinedMetricWarning: Precision and F-score are ill-defined and being set to 0.0 in labels with no predicted samples. Use `zero_division` parameter to control this behavior.\n",
            "  _warn_prf(average, modifier, msg_start, len(result))\n"
          ]
        },
        {
          "output_type": "execute_result",
          "data": {
            "text/plain": [
              "{'accuracy': 33.15,\n",
              " 'f1': 0.2666592569476614,\n",
              " 'precision': 0.24374814300538186,\n",
              " 'recall': 0.3315}"
            ]
          },
          "metadata": {},
          "execution_count": 21
        }
      ]
    },
    {
      "cell_type": "markdown",
      "metadata": {
        "id": "CxDp0s50Z_-B"
      },
      "source": [
        "## Preparing the data for deep sequence models"
      ]
    },
    {
      "cell_type": "code",
      "metadata": {
        "id": "Xe0DtvtSZ_y3"
      },
      "source": [
        "import numpy as np\n",
        "import tensorflow as tf\n",
        "from tensorflow.keras import layers"
      ],
      "execution_count": 22,
      "outputs": []
    },
    {
      "cell_type": "code",
      "metadata": {
        "colab": {
          "base_uri": "https://localhost:8080/"
        },
        "id": "3A3RJMeXZ_wg",
        "outputId": "83eb37bd-601c-4c40-94f7-a3cbb2d10a24"
      },
      "source": [
        "# How long is each sentence on average?\n",
        "sent_lens = [len(sentence.split()) for sentence in train_sentences]\n",
        "avg_sent_len = np.mean(sent_lens)\n",
        "avg_sent_len "
      ],
      "execution_count": 23,
      "outputs": [
        {
          "output_type": "execute_result",
          "data": {
            "text/plain": [
              "19.1663125"
            ]
          },
          "metadata": {},
          "execution_count": 23
        }
      ]
    },
    {
      "cell_type": "code",
      "metadata": {
        "colab": {
          "base_uri": "https://localhost:8080/",
          "height": 265
        },
        "id": "Fcsfv511Z_tx",
        "outputId": "5cd34fda-11e4-4fe7-c662-eaa4b2645d07"
      },
      "source": [
        "# What's the distribution look like?\n",
        "import matplotlib.pyplot as plt\n",
        "plt.hist(sent_lens, bins=20);"
      ],
      "execution_count": 24,
      "outputs": [
        {
          "output_type": "display_data",
          "data": {
            "image/png": "[encoded data removed]",
            "text/plain": [
              "<Figure size 432x288 with 1 Axes>"
            ]
          },
          "metadata": {
            "needs_background": "light"
          }
        }
      ]
    },
    {
      "cell_type": "markdown",
      "metadata": {
        "id": "B-hRaB7fatoc"
      },
      "source": [
        "Looks like the vast majority of sentences are between 0 and 40 tokens in length.\n",
        "\n",
        "We can use NumPy's [`percentile`](https://numpy.org/doc/stable/reference/generated/numpy.percentile.html) to find the value which covers 95% of the sentence lengths."
      ]
    },
    {
      "cell_type": "code",
      "metadata": {
        "colab": {
          "base_uri": "https://localhost:8080/"
        },
        "id": "NWkPQHLuZ_rQ",
        "outputId": "c67815ee-8d41-4d9a-b013-020f36386669"
      },
      "source": [
        "# How long of a sentence length covers 95% of examples?\n",
        "output_seq_len = int(np.percentile(sent_lens, 95))\n",
        "output_seq_len"
      ],
      "execution_count": 25,
      "outputs": [
        {
          "output_type": "execute_result",
          "data": {
            "text/plain": [
              "41"
            ]
          },
          "metadata": {},
          "execution_count": 25
        }
      ]
    },
    {
      "cell_type": "markdown",
      "metadata": {
        "id": "9qtnAdWWa53V"
      },
      "source": [
        "It looks like 95% of the sentences in our training set have a length of 41 tokens or less.\n",
        "\n",
        "When we create our tokenization layer, we'll use this value to turn all of our sentences into the same length. Meaning sentences with a length below 41 get padded with zeros and sentences with a length above 41 get truncated (words after 41 get cut off)."
      ]
    },
    {
      "cell_type": "markdown",
      "metadata": {
        "id": "Y3R4KKMwS2L_"
      },
      "source": [
        "## Create text vectorizer layer\n",
        "\n",
        "To do so, we'll use the [`TextVectorization`](https://www.tensorflow.org/api_docs/python/tf/keras/layers/experimental/preprocessing/TextVectorization) layer from TensorFlow.\n",
        "\n",
        "We'll keep all the parameters default except for `max_tokens` (the number of unique words in our dataset) and `output_sequence_length` (our desired output length for each vectorized sentence)."
      ]
    },
    {
      "cell_type": "code",
      "metadata": {
        "colab": {
          "base_uri": "https://localhost:8080/"
        },
        "id": "VALlioGoS2Jd",
        "outputId": "fbe874e2-6159-40d0-9dfb-4c5ad9a96877"
      },
      "source": [
        "# How many words are in our vocab?\n",
        "from collections import Counter\n",
        "results = Counter()\n",
        "train_df[\"text\"].str.lower().str.split().apply(results.update)\n",
        "len(results)"
      ],
      "execution_count": 26,
      "outputs": [
        {
          "output_type": "execute_result",
          "data": {
            "text/plain": [
              "15212"
            ]
          },
          "metadata": {},
          "execution_count": 26
        }
      ]
    },
    {
      "cell_type": "code",
      "metadata": {
        "id": "LaTJPMY7cT0o"
      },
      "source": [
        "max_tokens = 15200"
      ],
      "execution_count": 27,
      "outputs": []
    },
    {
      "cell_type": "code",
      "metadata": {
        "id": "UWAj-3XVS2G9"
      },
      "source": [
        "# Create text vectorizer\n",
        "from tensorflow.keras.layers.experimental.preprocessing import TextVectorization\n",
        "\n",
        "text_vectorizer = TextVectorization(max_tokens=max_tokens,\n",
        "                                    output_sequence_length=output_seq_len)"
      ],
      "execution_count": 28,
      "outputs": []
    },
    {
      "cell_type": "code",
      "metadata": {
        "id": "gXgPUmTAbbJS"
      },
      "source": [
        "# Adapt text vectorizer to training sentences\n",
        "text_vectorizer.adapt(train_sentences)"
      ],
      "execution_count": 29,
      "outputs": []
    },
    {
      "cell_type": "code",
      "metadata": {
        "colab": {
          "base_uri": "https://localhost:8080/"
        },
        "id": "G8QTDeTFbbG1",
        "outputId": "1005158e-f877-45a1-b0f0-cad38e203fb0"
      },
      "source": [
        "# Test out text vectorizer on random sentences\n",
        "import random\n",
        "target_sentence = random.choice(train_sentences)\n",
        "print(f\"Text:\\n{target_sentence}\")\n",
        "print(f\"Length of text: {len(target_sentence.split())}\")\n",
        "print(f\"\\nVectorized text:\\n{text_vectorizer([target_sentence])}\")"
      ],
      "execution_count": 30,
      "outputs": [
        {
          "output_type": "stream",
          "name": "stdout",
          "text": [
            "Text:\n",
            "i did feel sympathy for him and liked him more by the end of the story however i dont feel that enough time was spent on his turn around\n",
            "Length of text: 29\n",
            "\n",
            "Vectorized text:\n",
            "[[   2  127    3 1700   16   74    4  412   74   38   45    6  228   10\n",
            "     6  432  560    2   88    3    8  157   52   20  433   30  107  546\n",
            "   128    0    0    0    0    0    0    0    0    0    0    0    0]]\n"
          ]
        }
      ]
    },
    {
      "cell_type": "markdown",
      "metadata": {
        "id": "-eqmRvK7o7Xp"
      },
      "source": [
        "Using the [`get_vocabulary()`](https://www.tensorflow.org/api_docs/python/tf/keras/layers/experimental/preprocessing/TextVectorization) method of our `text_vectorizer` we can find out a few different tidbits about our text."
      ]
    },
    {
      "cell_type": "code",
      "metadata": {
        "colab": {
          "base_uri": "https://localhost:8080/"
        },
        "id": "o2sU7vifbbEH",
        "outputId": "b56b359d-fcdb-4160-fb72-2ea631a6d0d5"
      },
      "source": [
        "# How many words in our training vocabulary\n",
        "text_vocab = text_vectorizer.get_vocabulary()\n",
        "print(f\"Number of words in vocab: {len(text_vocab)}\")\n",
        "print(f\"Most common words in vocab: {text_vocab[:5]}\")\n",
        "print(f\"Least common words in vocab: {text_vocab[-5:]}\")"
      ],
      "execution_count": 31,
      "outputs": [
        {
          "output_type": "stream",
          "name": "stdout",
          "text": [
            "Number of words in vocab: 15200\n",
            "Most common words in vocab: ['', '[UNK]', 'i', 'feel', 'and']\n",
            "Least common words in vocab: ['abou', 'abortion', 'abominable', 'aboard', 'abnormally']\n"
          ]
        }
      ]
    },
    {
      "cell_type": "code",
      "metadata": {
        "colab": {
          "base_uri": "https://localhost:8080/"
        },
        "id": "Hp4XgoG1bbBf",
        "outputId": "5c1a658e-0599-4cf8-88d0-72b62babdebd"
      },
      "source": [
        "# Get the config of our text_vectorizer\n",
        "text_vectorizer.get_config()"
      ],
      "execution_count": 32,
      "outputs": [
        {
          "output_type": "execute_result",
          "data": {
            "text/plain": [
              "{'batch_input_shape': (None,),\n",
              " 'dtype': 'string',\n",
              " 'max_tokens': 15200,\n",
              " 'name': 'text_vectorization',\n",
              " 'ngrams': None,\n",
              " 'output_mode': 'int',\n",
              " 'output_sequence_length': 41,\n",
              " 'pad_to_max_tokens': False,\n",
              " 'split': 'whitespace',\n",
              " 'standardize': 'lower_and_strip_punctuation',\n",
              " 'trainable': True}"
            ]
          },
          "metadata": {},
          "execution_count": 32
        }
      ]
    },
    {
      "cell_type": "markdown",
      "metadata": {
        "id": "-hCb3HEMpcfd"
      },
      "source": [
        "## Create custom text embedding\n",
        "\n",
        "We can create a trainable embedding layer using TensorFlow's [`Embedding`](https://www.tensorflow.org/tutorials/text/word_embeddings) layer.\n",
        "\n",
        "Once again, the main parameters we're concerned with here are the inputs and outputs of our `Embedding` layer.\n",
        "\n",
        "The `input_dim` parameter defines the size of our vocabulary. And the `output_dim` parameter defines the dimension of the embedding output.\n",
        "\n",
        "Once created, our embedding layer will take the integer outputs of our `text_vectorization` layer as inputs and convert them to feature vectors of size `output_dim`."
      ]
    },
    {
      "cell_type": "code",
      "metadata": {
        "id": "eysbi4Pfd8gy"
      },
      "source": [
        "# Create custom text embedding\n",
        "token_embed = layers.Embedding(input_dim=len(text_vocab),\n",
        "                               output_dim=128,\n",
        "                               mask_zero=True,\n",
        "                               name=\"token_embedding\")"
      ],
      "execution_count": 33,
      "outputs": []
    },
    {
      "cell_type": "code",
      "metadata": {
        "colab": {
          "base_uri": "https://localhost:8080/"
        },
        "id": "vaPljCtTd8et",
        "outputId": "f458e078-2233-4258-a4d1-73683f8a23e0"
      },
      "source": [
        "# Show example embedding\n",
        "print(f\"Sentence before vectorization:\\n{target_sentence}\\n\")\n",
        "vectorized_sentence = text_vectorizer([target_sentence])\n",
        "print(f\"Sentece after vectorization (before the embedding):\\n{vectorized_sentence}\\n\")\n",
        "embedded_sentence = token_embed(vectorized_sentence)\n",
        "print(f\"Sentece after embedding: {embedded_sentence}\\n\")\n",
        "print(f\"Embedded sentece shape: {embedded_sentence.shape}\")"
      ],
      "execution_count": 34,
      "outputs": [
        {
          "output_type": "stream",
          "name": "stdout",
          "text": [
            "Sentence before vectorization:\n",
            "i did feel sympathy for him and liked him more by the end of the story however i dont feel that enough time was spent on his turn around\n",
            "\n",
            "Sentece after vectorization (before the embedding):\n",
            "[[   2  127    3 1700   16   74    4  412   74   38   45    6  228   10\n",
            "     6  432  560    2   88    3    8  157   52   20  433   30  107  546\n",
            "   128    0    0    0    0    0    0    0    0    0    0    0    0]]\n",
            "\n",
            "Sentece after embedding: [[[ 0.02303717 -0.03064396 -0.04501771 ... -0.0330989   0.00315498\n",
            "   -0.0085353 ]\n",
            "  [-0.02418698 -0.03070638  0.01412077 ...  0.00935475 -0.00359546\n",
            "   -0.00960674]\n",
            "  [-0.01815663 -0.01630676  0.02280864 ...  0.00445615  0.03391297\n",
            "   -0.04716417]\n",
            "  ...\n",
            "  [ 0.0188677   0.04113846 -0.03066944 ...  0.0392053  -0.03253597\n",
            "   -0.00847684]\n",
            "  [ 0.0188677   0.04113846 -0.03066944 ...  0.0392053  -0.03253597\n",
            "   -0.00847684]\n",
            "  [ 0.0188677   0.04113846 -0.03066944 ...  0.0392053  -0.03253597\n",
            "   -0.00847684]]]\n",
            "\n",
            "Embedded sentece shape: (1, 41, 128)\n"
          ]
        }
      ]
    },
    {
      "cell_type": "markdown",
      "metadata": {
        "id": "4ab39VPMeqg-"
      },
      "source": [
        "## Creating datasets (making sure our data loads as fast as possible)\n",
        "\n",
        "The main steps we'll want to use with our data is to turn it into a `PrefetchDataset` of batches.\n",
        "\n",
        "Doing so we'll ensure TensorFlow loads our data onto the GPU as fast as possible, in turn leading to faster training time.\n",
        "\n",
        "To create a batched `PrefetchDataset` we can use the methods [`batch()`](https://www.tensorflow.org/api_docs/python/tf/data/Dataset#batch) and [`prefetch()`](https://www.tensorflow.org/api_docs/python/tf/data/Dataset#prefetch), the parameter [`tf.data.AUTOTUNE`](https://www.tensorflow.org/api_docs/python/tf/data#AUTOTUNE) will also allow TensorFlow to determine the optimal amount of compute to use to prepare datasets."
      ]
    },
    {
      "cell_type": "code",
      "metadata": {
        "colab": {
          "base_uri": "https://localhost:8080/"
        },
        "id": "A2AoIbzXd8cK",
        "outputId": "5c2ac85f-ce65-4c26-b74e-2724ccc25086"
      },
      "source": [
        "# Turn our data into TensorFlow Datasets\n",
        "train_dataset = tf.data.Dataset.from_tensor_slices((train_sentences, train_labels_one_hot))\n",
        "val_dataset = tf.data.Dataset.from_tensor_slices((val_sentences, val_labels_one_hot))\n",
        "test_dataset = tf.data.Dataset.from_tensor_slices((test_sentences, test_labels_one_hot))\n",
        "\n",
        "train_dataset"
      ],
      "execution_count": 35,
      "outputs": [
        {
          "output_type": "execute_result",
          "data": {
            "text/plain": [
              "<TensorSliceDataset shapes: ((), (6,)), types: (tf.string, tf.float64)>"
            ]
          },
          "metadata": {},
          "execution_count": 35
        }
      ]
    },
    {
      "cell_type": "code",
      "metadata": {
        "id": "M7V03MEAd8Zi",
        "colab": {
          "base_uri": "https://localhost:8080/"
        },
        "outputId": "33aa34d8-71f5-4c40-d2a5-ab6516a72a1b"
      },
      "source": [
        "# Take the TensorSliceDataset's and turn them into prefetched datasets\n",
        "train_dataset = train_dataset.batch(32).prefetch(tf.data.AUTOTUNE)\n",
        "val_dataset = val_dataset.batch(32).prefetch(tf.data.AUTOTUNE)\n",
        "test_dataset = test_dataset.batch(32).prefetch(tf.data.AUTOTUNE)\n",
        "\n",
        "train_dataset"
      ],
      "execution_count": 36,
      "outputs": [
        {
          "output_type": "execute_result",
          "data": {
            "text/plain": [
              "<PrefetchDataset shapes: ((None,), (None, 6)), types: (tf.string, tf.float64)>"
            ]
          },
          "metadata": {},
          "execution_count": 36
        }
      ]
    },
    {
      "cell_type": "markdown",
      "metadata": {
        "id": "ERiR2CLWg24P"
      },
      "source": [
        "## Model 1: Conv1D with token embeddings"
      ]
    },
    {
      "cell_type": "code",
      "metadata": {
        "id": "gpmXML28d8XD"
      },
      "source": [
        "# Create 1D conv model to process sequences\n",
        "inputs = layers.Input(shape=(1,), dtype=tf.string)\n",
        "text_vectors = text_vectorizer(inputs) # vectorize text inputs\n",
        "token_embeddings = token_embed(text_vectors) # create embedding\n",
        "x = layers.Conv1D(24, kernel_size=5, padding=\"same\", activation=\"relu\")(token_embeddings)\n",
        "x = layers.MaxPooling1D(pool_size=2, padding=\"valid\")(x)\n",
        "x = layers.GlobalAveragePooling1D()(x)  #condense the output of our vector from conv layer\n",
        "outputs = layers.Dense(num_classes, activation=\"softmax\")(x)\n",
        "model_1 = tf.keras.Model(inputs, outputs)"
      ],
      "execution_count": 37,
      "outputs": []
    },
    {
      "cell_type": "code",
      "metadata": {
        "id": "Y3p3FaJ2qJpN"
      },
      "source": [
        "# Compile the model\n",
        "model_1.compile(loss=\"categorical_crossentropy\",\n",
        "                optimizer=\"Adam\",\n",
        "                metrics=[\"accuracy\"])"
      ],
      "execution_count": 38,
      "outputs": []
    },
    {
      "cell_type": "code",
      "metadata": {
        "colab": {
          "base_uri": "https://localhost:8080/"
        },
        "id": "7CnafsTxd8Ua",
        "outputId": "123b2676-a143-47b2-a8c2-d14013d1c89c"
      },
      "source": [
        "# Get a summary of the model\n",
        "model_1.summary()"
      ],
      "execution_count": 39,
      "outputs": [
        {
          "output_type": "stream",
          "name": "stdout",
          "text": [
            "Model: \"model\"\n",
            "_________________________________________________________________\n",
            "Layer (type)                 Output Shape              Param #   \n",
            "=================================================================\n",
            "input_1 (InputLayer)         [(None, 1)]               0         \n",
            "_________________________________________________________________\n",
            "text_vectorization (TextVect (None, 41)                0         \n",
            "_________________________________________________________________\n",
            "token_embedding (Embedding)  (None, 41, 128)           1945600   \n",
            "_________________________________________________________________\n",
            "conv1d (Conv1D)              (None, 41, 24)            15384     \n",
            "_________________________________________________________________\n",
            "max_pooling1d (MaxPooling1D) (None, 20, 24)            0         \n",
            "_________________________________________________________________\n",
            "global_average_pooling1d (Gl (None, 24)                0         \n",
            "_________________________________________________________________\n",
            "dense (Dense)                (None, 6)                 150       \n",
            "=================================================================\n",
            "Total params: 1,961,134\n",
            "Trainable params: 1,961,134\n",
            "Non-trainable params: 0\n",
            "_________________________________________________________________\n"
          ]
        }
      ]
    },
    {
      "cell_type": "markdown",
      "metadata": {
        "id": "m6cdqsaWrQGy"
      },
      "source": [
        "Checking out the model summary, you'll notice the majority of the trainable parameters are within the embedding layer. If we were to increase the size of the embedding (by increasing the `output_dim` parameter of the `Embedding` layer), the number of trainable parameters would increase dramatically."
      ]
    },
    {
      "cell_type": "code",
      "metadata": {
        "colab": {
          "base_uri": "https://localhost:8080/"
        },
        "id": "rkM8UNwphrPJ",
        "outputId": "ee62c703-a191-4584-84dc-7a70a485bfaa"
      },
      "source": [
        "# Fit the model\n",
        "history_model_1 = model_1.fit(train_dataset,\n",
        "                              epochs=5,\n",
        "                              validation_data=val_dataset)"
      ],
      "execution_count": 40,
      "outputs": [
        {
          "output_type": "stream",
          "name": "stdout",
          "text": [
            "Epoch 1/5\n",
            "500/500 [==============================] - 35s 11ms/step - loss: 1.2790 - accuracy: 0.5306 - val_loss: 0.6685 - val_accuracy: 0.7915\n",
            "Epoch 2/5\n",
            "500/500 [==============================] - 5s 10ms/step - loss: 0.3651 - accuracy: 0.8875 - val_loss: 0.3572 - val_accuracy: 0.8770\n",
            "Epoch 3/5\n",
            "500/500 [==============================] - 5s 10ms/step - loss: 0.1624 - accuracy: 0.9479 - val_loss: 0.3268 - val_accuracy: 0.8910\n",
            "Epoch 4/5\n",
            "500/500 [==============================] - 5s 10ms/step - loss: 0.0935 - accuracy: 0.9720 - val_loss: 0.3363 - val_accuracy: 0.8980\n",
            "Epoch 5/5\n",
            "500/500 [==============================] - 5s 10ms/step - loss: 0.0618 - accuracy: 0.9823 - val_loss: 0.3624 - val_accuracy: 0.8925\n"
          ]
        }
      ]
    },
    {
      "cell_type": "code",
      "metadata": {
        "colab": {
          "base_uri": "https://localhost:8080/"
        },
        "id": "fRg-nJPJAzEs",
        "outputId": "a3380ed0-af6b-4cdb-ffad-b71c498c6c0b"
      },
      "source": [
        "# Evaluate the model on test_dataset\n",
        "model_1.evaluate(test_dataset)"
      ],
      "execution_count": 41,
      "outputs": [
        {
          "output_type": "stream",
          "name": "stdout",
          "text": [
            "63/63 [==============================] - 0s 6ms/step - loss: 0.3563 - accuracy: 0.8855\n"
          ]
        },
        {
          "output_type": "execute_result",
          "data": {
            "text/plain": [
              "[0.35628923773765564, 0.8855000138282776]"
            ]
          },
          "metadata": {},
          "execution_count": 41
        }
      ]
    },
    {
      "cell_type": "code",
      "metadata": {
        "colab": {
          "base_uri": "https://localhost:8080/"
        },
        "id": "cx6PzHZ7C5FD",
        "outputId": "a8860c65-2178-4642-b7fe-5b3d7a126e95"
      },
      "source": [
        "# Make predictions\n",
        "model_1_pred_probs = model_1.predict(test_sentences)\n",
        "model_1_pred_probs"
      ],
      "execution_count": 42,
      "outputs": [
        {
          "output_type": "execute_result",
          "data": {
            "text/plain": [
              "array([[1.1780504e-02, 4.8851699e-04, 2.8325091e-04, 3.1476946e-05,\n",
              "        9.8739970e-01, 1.6647153e-05],\n",
              "       [4.6660709e-03, 1.7643985e-04, 3.7890099e-05, 4.8263187e-06,\n",
              "        9.9511188e-01, 2.8351851e-06],\n",
              "       [1.6232923e-02, 1.9713391e-03, 3.8830366e-02, 1.3777128e-03,\n",
              "        9.4091338e-01, 6.7423109e-04],\n",
              "       ...,\n",
              "       [7.2443485e-04, 6.7998204e-05, 9.8820078e-01, 9.3373284e-03,\n",
              "        7.6684903e-04, 9.0260612e-04],\n",
              "       [2.5040202e-03, 1.3134556e-04, 8.8879132e-01, 3.0189434e-03,\n",
              "        1.0506022e-01, 4.9426639e-04],\n",
              "       [7.2001404e-04, 4.8374707e-01, 2.7121229e-03, 8.5509913e-03,\n",
              "        1.5476314e-04, 5.0411510e-01]], dtype=float32)"
            ]
          },
          "metadata": {},
          "execution_count": 42
        }
      ]
    },
    {
      "cell_type": "code",
      "metadata": {
        "colab": {
          "base_uri": "https://localhost:8080/"
        },
        "id": "B-OOqQa2DHkA",
        "outputId": "729dc6ad-16d0-4a76-d1ce-33ca1c041f46"
      },
      "source": [
        "# Convert pred probs to classes\n",
        "model_1_preds = tf.argmax(model_1_pred_probs, axis=1)\n",
        "model_1_preds"
      ],
      "execution_count": 43,
      "outputs": [
        {
          "output_type": "execute_result",
          "data": {
            "text/plain": [
              "<tf.Tensor: shape=(2000,), dtype=int64, numpy=array([4, 4, 4, ..., 2, 2, 5])>"
            ]
          },
          "metadata": {},
          "execution_count": 43
        }
      ]
    },
    {
      "cell_type": "code",
      "metadata": {
        "colab": {
          "base_uri": "https://localhost:8080/"
        },
        "id": "FGnwq9WRDHhH",
        "outputId": "27f1d572-7f89-437e-8e22-173d4e6d41bc"
      },
      "source": [
        "# Calculate model_1 results\n",
        "model_1_results = calculate_results(y_true=test_labels_encoded,\n",
        "                                    y_pred=model_1_preds)\n",
        "model_1_results"
      ],
      "execution_count": 44,
      "outputs": [
        {
          "output_type": "execute_result",
          "data": {
            "text/plain": [
              "{'accuracy': 88.55,\n",
              " 'f1': 0.88513237489499,\n",
              " 'precision': 0.8859751334843801,\n",
              " 'recall': 0.8855}"
            ]
          },
          "metadata": {},
          "execution_count": 44
        }
      ]
    },
    {
      "cell_type": "code",
      "metadata": {
        "colab": {
          "base_uri": "https://localhost:8080/",
          "height": 573
        },
        "id": "XpCynRUaqr7S",
        "outputId": "8eeb0192-0dda-4da7-d353-bd995e7b5820"
      },
      "source": [
        "# Plot the loss curves\n",
        "from helper_functions import plot_loss_curves\n",
        "plot_loss_curves(history_model_1)"
      ],
      "execution_count": 45,
      "outputs": [
        {
          "output_type": "display_data",
          "data": {
            "image/png": "[encoded data removed]",
            "text/plain": [
              "<Figure size 432x288 with 1 Axes>"
            ]
          },
          "metadata": {
            "needs_background": "light"
          }
        },
        {
          "output_type": "display_data",
          "data": {
            "image/png": "[encoded data removed]",
            "text/plain": [
              "<Figure size 432x288 with 1 Axes>"
            ]
          },
          "metadata": {
            "needs_background": "light"
          }
        }
      ]
    },
    {
      "cell_type": "markdown",
      "metadata": {
        "id": "Rpwb36MntfFp"
      },
      "source": [
        "## Model 2: LSTM"
      ]
    },
    {
      "cell_type": "code",
      "metadata": {
        "id": "jo3aRRzAJVDz"
      },
      "source": [
        "# Create an embedding layer (new embedding layer for each model)\n",
        "from tensorflow.keras import layers\n",
        "model_2_embedding = layers.Embedding(input_dim=len(text_vocab),\n",
        "                                     output_dim=128,\n",
        "                                     mask_zero=True,\n",
        "                                     name=\"embedding_2\")\n",
        "# Create LSTM model \n",
        "inputs = layers.Input(shape=(1,), dtype=\"string\")\n",
        "x = text_vectorizer(inputs)\n",
        "x = model_2_embedding(x)\n",
        "# x = layers.LSTM(64, return_sequences=True)(x) # when you're stacking RNN cells together, you need to set return_sequences=True\n",
        "x = layers.LSTM(48)(x)\n",
        "#x = layers.Dense(64, activation=\"relu\")(x)\n",
        "outputs = layers.Dense(num_classes, activation=\"softmax\")(x)\n",
        "model_2 = tf.keras.Model(inputs, outputs, name=\"model_2_LSTM\")"
      ],
      "execution_count": 46,
      "outputs": []
    },
    {
      "cell_type": "code",
      "metadata": {
        "colab": {
          "base_uri": "https://localhost:8080/"
        },
        "id": "axumBXaYJVBa",
        "outputId": "a12e83c8-e277-4a7a-e85c-9833e06e62b9"
      },
      "source": [
        "model_2.summary()"
      ],
      "execution_count": 47,
      "outputs": [
        {
          "output_type": "stream",
          "name": "stdout",
          "text": [
            "Model: \"model_2_LSTM\"\n",
            "_________________________________________________________________\n",
            "Layer (type)                 Output Shape              Param #   \n",
            "=================================================================\n",
            "input_2 (InputLayer)         [(None, 1)]               0         \n",
            "_________________________________________________________________\n",
            "text_vectorization (TextVect (None, 41)                0         \n",
            "_________________________________________________________________\n",
            "embedding_2 (Embedding)      (None, 41, 128)           1945600   \n",
            "_________________________________________________________________\n",
            "lstm (LSTM)                  (None, 48)                33984     \n",
            "_________________________________________________________________\n",
            "dense_1 (Dense)              (None, 6)                 294       \n",
            "=================================================================\n",
            "Total params: 1,979,878\n",
            "Trainable params: 1,979,878\n",
            "Non-trainable params: 0\n",
            "_________________________________________________________________\n"
          ]
        }
      ]
    },
    {
      "cell_type": "code",
      "metadata": {
        "id": "KZG67hCEJU7J"
      },
      "source": [
        "# Compile the model\n",
        "model_2.compile(loss=\"categorical_crossentropy\",\n",
        "                optimizer=\"Adam\",\n",
        "                metrics=[\"accuracy\"])"
      ],
      "execution_count": 48,
      "outputs": []
    },
    {
      "cell_type": "code",
      "metadata": {
        "colab": {
          "base_uri": "https://localhost:8080/"
        },
        "id": "DXe8kLfsJ7lv",
        "outputId": "77f46569-ce0d-4458-d7c9-728b28305e3d"
      },
      "source": [
        "# Fit the model\n",
        "history_model_2 = model_2.fit(train_dataset,\n",
        "                              epochs=5,\n",
        "                              validation_data=val_dataset)"
      ],
      "execution_count": 49,
      "outputs": [
        {
          "output_type": "stream",
          "name": "stdout",
          "text": [
            "Epoch 1/5\n",
            "500/500 [==============================] - 17s 25ms/step - loss: 1.0572 - accuracy: 0.6124 - val_loss: 0.4932 - val_accuracy: 0.8260\n",
            "Epoch 2/5\n",
            "500/500 [==============================] - 11s 21ms/step - loss: 0.2695 - accuracy: 0.9112 - val_loss: 0.3246 - val_accuracy: 0.8910\n",
            "Epoch 3/5\n",
            "500/500 [==============================] - 11s 22ms/step - loss: 0.1301 - accuracy: 0.9566 - val_loss: 0.2966 - val_accuracy: 0.9035\n",
            "Epoch 4/5\n",
            "500/500 [==============================] - 11s 22ms/step - loss: 0.0821 - accuracy: 0.9741 - val_loss: 0.3005 - val_accuracy: 0.9090\n",
            "Epoch 5/5\n",
            "500/500 [==============================] - 11s 22ms/step - loss: 0.0549 - accuracy: 0.9814 - val_loss: 0.3538 - val_accuracy: 0.8975\n"
          ]
        }
      ]
    },
    {
      "cell_type": "code",
      "metadata": {
        "colab": {
          "base_uri": "https://localhost:8080/"
        },
        "id": "fntWRgJQJ7jv",
        "outputId": "327f233f-32af-4231-9e8f-b5b20d01a0c1"
      },
      "source": [
        "# Evaluate the model on test_data\n",
        "model_2.evaluate(test_dataset)"
      ],
      "execution_count": 50,
      "outputs": [
        {
          "output_type": "stream",
          "name": "stdout",
          "text": [
            "63/63 [==============================] - 1s 9ms/step - loss: 0.3367 - accuracy: 0.9025\n"
          ]
        },
        {
          "output_type": "execute_result",
          "data": {
            "text/plain": [
              "[0.3366668224334717, 0.9024999737739563]"
            ]
          },
          "metadata": {},
          "execution_count": 50
        }
      ]
    },
    {
      "cell_type": "code",
      "metadata": {
        "colab": {
          "base_uri": "https://localhost:8080/"
        },
        "id": "JH1c9g9fJ7et",
        "outputId": "537788a9-2db7-4666-b7e4-e17560e819c9"
      },
      "source": [
        "# Make predictions with LSTM model\n",
        "model_2_pred_probs = model_2.predict(test_sentences)\n",
        "model_2_pred_probs"
      ],
      "execution_count": 51,
      "outputs": [
        {
          "output_type": "execute_result",
          "data": {
            "text/plain": [
              "array([[3.0399200e-05, 4.7917281e-05, 6.4084065e-06, 6.1214763e-07,\n",
              "        9.9990571e-01, 8.9278747e-06],\n",
              "       [5.5134192e-04, 1.6939969e-04, 5.8333395e-04, 5.9718095e-06,\n",
              "        9.9868375e-01, 6.2469180e-06],\n",
              "       [3.6495709e-04, 2.7951732e-04, 2.2205488e-04, 1.1333814e-05,\n",
              "        9.9908125e-01, 4.0903436e-05],\n",
              "       ...,\n",
              "       [1.1411145e-05, 3.7052981e-05, 9.9973434e-01, 7.3802090e-05,\n",
              "        1.3979434e-04, 3.5642456e-06],\n",
              "       [3.4940935e-05, 6.3937994e-05, 9.9907035e-01, 6.3911901e-04,\n",
              "        1.7021778e-04, 2.1542850e-05],\n",
              "       [8.2433695e-04, 9.6712196e-01, 7.5191637e-03, 1.1399377e-03,\n",
              "        8.8776328e-04, 2.2506876e-02]], dtype=float32)"
            ]
          },
          "metadata": {},
          "execution_count": 51
        }
      ]
    },
    {
      "cell_type": "code",
      "metadata": {
        "colab": {
          "base_uri": "https://localhost:8080/"
        },
        "id": "3EVK4GplK4_Q",
        "outputId": "3b07286c-cf1c-434f-838f-72bbbd2486f5"
      },
      "source": [
        "# Convert model_2_pred_probs to labels\n",
        "model_2_preds = tf.argmax(model_2_pred_probs, axis=1)\n",
        "model_2_preds"
      ],
      "execution_count": 52,
      "outputs": [
        {
          "output_type": "execute_result",
          "data": {
            "text/plain": [
              "<tf.Tensor: shape=(2000,), dtype=int64, numpy=array([4, 4, 4, ..., 2, 2, 1])>"
            ]
          },
          "metadata": {},
          "execution_count": 52
        }
      ]
    },
    {
      "cell_type": "code",
      "metadata": {
        "colab": {
          "base_uri": "https://localhost:8080/"
        },
        "id": "yrq8xR31K-uc",
        "outputId": "5e94c310-3657-41a8-fd0a-486189e1e7bf"
      },
      "source": [
        "# Calculate model 2 results\n",
        "model_2_results = calculate_results(y_true=test_labels_encoded,\n",
        "                                    y_pred=model_2_preds)\n",
        "model_2_results"
      ],
      "execution_count": 53,
      "outputs": [
        {
          "output_type": "execute_result",
          "data": {
            "text/plain": [
              "{'accuracy': 90.25,\n",
              " 'f1': 0.902835321978218,\n",
              " 'precision': 0.9037675254915916,\n",
              " 'recall': 0.9025}"
            ]
          },
          "metadata": {},
          "execution_count": 53
        }
      ]
    },
    {
      "cell_type": "code",
      "metadata": {
        "colab": {
          "base_uri": "https://localhost:8080/",
          "height": 573
        },
        "id": "CInS9P0hyuwp",
        "outputId": "a5820ed1-960c-4bde-f785-3c7f20971b56"
      },
      "source": [
        "plot_loss_curves(history_model_2)"
      ],
      "execution_count": 54,
      "outputs": [
        {
          "output_type": "display_data",
          "data": {
            "image/png": "[encoded data removed]",
            "text/plain": [
              "<Figure size 432x288 with 1 Axes>"
            ]
          },
          "metadata": {
            "needs_background": "light"
          }
        },
        {
          "output_type": "display_data",
          "data": {
            "image/png": "[encoded data removed]",
            "text/plain": [
              "<Figure size 432x288 with 1 Axes>"
            ]
          },
          "metadata": {
            "needs_background": "light"
          }
        }
      ]
    },
    {
      "cell_type": "code",
      "metadata": {
        "id": "1Ck_1YSLJ7hG"
      },
      "source": [
        "# Create a helper function to compare our results\n",
        "def compare_results(old_model_results, new_model_results):\n",
        "  for key, value in old_model_results.items():\n",
        "    print(f\"Old {key}: {value:.2f}, New {key}: {new_model_results[key]:.2f}, Difference: {new_model_results[key]-value:.2f}\")"
      ],
      "execution_count": 55,
      "outputs": []
    },
    {
      "cell_type": "code",
      "metadata": {
        "colab": {
          "base_uri": "https://localhost:8080/"
        },
        "id": "wq56mLGBizvl",
        "outputId": "c8976043-3900-4741-fd4f-2c378fb43bdc"
      },
      "source": [
        "# Compare model_1's results with model_2's results\n",
        "compare_results(old_model_results=model_1_results, \n",
        "                new_model_results=model_2_results)"
      ],
      "execution_count": 56,
      "outputs": [
        {
          "output_type": "stream",
          "name": "stdout",
          "text": [
            "Old accuracy: 88.55, New accuracy: 90.25, Difference: 1.70\n",
            "Old precision: 0.89, New precision: 0.90, Difference: 0.02\n",
            "Old recall: 0.89, New recall: 0.90, Difference: 0.02\n",
            "Old f1: 0.89, New f1: 0.90, Difference: 0.02\n"
          ]
        }
      ]
    },
    {
      "cell_type": "markdown",
      "metadata": {
        "id": "3qTmccVt1mN6"
      },
      "source": [
        "## Model 3: GRU"
      ]
    },
    {
      "cell_type": "code",
      "metadata": {
        "id": "912cv-y61tuL"
      },
      "source": [
        "# Create embedding layer\n",
        "model_3_embedding = layers.Embedding(input_dim=len(text_vocab),\n",
        "                                     output_dim=128,\n",
        "                                     mask_zero=True,\n",
        "                                     name=\"embedding_3\")\n",
        "# Build an RNN using the GRU cell\n",
        "inputs = layers.Input(shape=(1,), dtype=tf.string)\n",
        "x = text_vectorizer(inputs)\n",
        "x = model_3_embedding(x)\n",
        "#x = layers.GRU(64, return_sequences=True)(x) # if you want to stack recurrent layers on top of each other, you need to set return_sequences=True\n",
        "#x = layers.GlobalAveragePooling1D()(x)\n",
        "x = layers.GRU(48)(x)\n",
        "outputs = layers.Dense(num_classes, activation=\"softmax\")(x)\n",
        "model_3 = tf.keras.Model(inputs, outputs, name=\"model_3_GRU\")"
      ],
      "execution_count": 57,
      "outputs": []
    },
    {
      "cell_type": "code",
      "metadata": {
        "colab": {
          "base_uri": "https://localhost:8080/"
        },
        "id": "_IuaoewA2SD6",
        "outputId": "e1216278-cd02-4e91-f75c-51eafba956f6"
      },
      "source": [
        "# Get a summary of the model\n",
        "model_3.summary()"
      ],
      "execution_count": 58,
      "outputs": [
        {
          "output_type": "stream",
          "name": "stdout",
          "text": [
            "Model: \"model_3_GRU\"\n",
            "_________________________________________________________________\n",
            "Layer (type)                 Output Shape              Param #   \n",
            "=================================================================\n",
            "input_3 (InputLayer)         [(None, 1)]               0         \n",
            "_________________________________________________________________\n",
            "text_vectorization (TextVect (None, 41)                0         \n",
            "_________________________________________________________________\n",
            "embedding_3 (Embedding)      (None, 41, 128)           1945600   \n",
            "_________________________________________________________________\n",
            "gru (GRU)                    (None, 48)                25632     \n",
            "_________________________________________________________________\n",
            "dense_2 (Dense)              (None, 6)                 294       \n",
            "=================================================================\n",
            "Total params: 1,971,526\n",
            "Trainable params: 1,971,526\n",
            "Non-trainable params: 0\n",
            "_________________________________________________________________\n"
          ]
        }
      ]
    },
    {
      "cell_type": "code",
      "metadata": {
        "id": "i2mR6nTw2OGJ"
      },
      "source": [
        "# Compile the model\n",
        "model_3.compile(loss=\"categorical_crossentropy\",\n",
        "                optimizer=\"Adam\",\n",
        "                metrics=[\"accuracy\"])"
      ],
      "execution_count": 59,
      "outputs": []
    },
    {
      "cell_type": "code",
      "metadata": {
        "colab": {
          "base_uri": "https://localhost:8080/"
        },
        "id": "djceKkhI2vLk",
        "outputId": "d1a0f187-002b-4617-9c32-4c9a8bc85e97"
      },
      "source": [
        "# Fit the model\n",
        "history_model_3 = model_3.fit(train_dataset,\n",
        "                              epochs=5,\n",
        "                              validation_data=val_dataset)"
      ],
      "execution_count": 60,
      "outputs": [
        {
          "output_type": "stream",
          "name": "stdout",
          "text": [
            "Epoch 1/5\n",
            "500/500 [==============================] - 16s 23ms/step - loss: 0.9835 - accuracy: 0.6389 - val_loss: 0.3084 - val_accuracy: 0.9065\n",
            "Epoch 2/5\n",
            "500/500 [==============================] - 10s 20ms/step - loss: 0.1861 - accuracy: 0.9320 - val_loss: 0.2288 - val_accuracy: 0.9175\n",
            "Epoch 3/5\n",
            "500/500 [==============================] - 10s 20ms/step - loss: 0.1033 - accuracy: 0.9588 - val_loss: 0.2519 - val_accuracy: 0.9235\n",
            "Epoch 4/5\n",
            "500/500 [==============================] - 10s 20ms/step - loss: 0.0698 - accuracy: 0.9743 - val_loss: 0.2217 - val_accuracy: 0.9255\n",
            "Epoch 5/5\n",
            "500/500 [==============================] - 10s 20ms/step - loss: 0.0618 - accuracy: 0.9774 - val_loss: 0.2482 - val_accuracy: 0.9250\n"
          ]
        }
      ]
    },
    {
      "cell_type": "code",
      "metadata": {
        "colab": {
          "base_uri": "https://localhost:8080/"
        },
        "id": "vUksnILa3KuT",
        "outputId": "fe0bc32a-8e43-41d6-97e0-c6e3e07286ba"
      },
      "source": [
        "# Evaluate the model on the test_dataset\n",
        "model_3.evaluate(test_dataset)"
      ],
      "execution_count": 61,
      "outputs": [
        {
          "output_type": "stream",
          "name": "stdout",
          "text": [
            "63/63 [==============================] - 1s 8ms/step - loss: 0.2516 - accuracy: 0.9095\n"
          ]
        },
        {
          "output_type": "execute_result",
          "data": {
            "text/plain": [
              "[0.2515527606010437, 0.909500002861023]"
            ]
          },
          "metadata": {},
          "execution_count": 61
        }
      ]
    },
    {
      "cell_type": "code",
      "metadata": {
        "colab": {
          "base_uri": "https://localhost:8080/"
        },
        "id": "rJ6KM18aF0DK",
        "outputId": "b9ed2bdb-92c4-4a03-e34e-9abb2b84a565"
      },
      "source": [
        "class_names"
      ],
      "execution_count": 68,
      "outputs": [
        {
          "output_type": "execute_result",
          "data": {
            "text/plain": [
              "array(['anger', 'fear', 'joy', 'love', 'sadness', 'surprise'],\n",
              "      dtype=object)"
            ]
          },
          "metadata": {},
          "execution_count": 68
        }
      ]
    },
    {
      "cell_type": "code",
      "metadata": {
        "colab": {
          "base_uri": "https://localhost:8080/"
        },
        "id": "W_yICz033d8B",
        "outputId": "42e9c53f-3b48-4e86-ecc0-ac21580bfcf4"
      },
      "source": [
        "# Make predictions with GRU model\n",
        "model_3_pred_probs = model_3.predict(test_sentences)\n",
        "model_3_pred_probs"
      ],
      "execution_count": 62,
      "outputs": [
        {
          "output_type": "execute_result",
          "data": {
            "text/plain": [
              "array([[1.5912201e-04, 2.1562255e-05, 1.6980639e-05, 1.3606843e-06,\n",
              "        9.9979573e-01, 5.2928840e-06],\n",
              "       [7.8120810e-04, 9.3510804e-05, 3.0800395e-04, 6.0290386e-06,\n",
              "        9.9877793e-01, 3.3322151e-05],\n",
              "       [5.0629285e-04, 1.6335744e-05, 3.2866537e-05, 4.7385324e-06,\n",
              "        9.9943537e-01, 4.4336921e-06],\n",
              "       ...,\n",
              "       [1.8261877e-05, 1.2857366e-05, 9.9719834e-01, 2.6313975e-03,\n",
              "        1.1397336e-04, 2.5092726e-05],\n",
              "       [5.7860987e-05, 4.2623229e-05, 9.9669731e-01, 1.4988475e-03,\n",
              "        1.6638550e-03, 3.9432300e-05],\n",
              "       [1.2508238e-04, 7.3310393e-01, 2.2937317e-04, 8.6697337e-04,\n",
              "        1.8323079e-04, 2.6549137e-01]], dtype=float32)"
            ]
          },
          "metadata": {},
          "execution_count": 62
        }
      ]
    },
    {
      "cell_type": "code",
      "metadata": {
        "colab": {
          "base_uri": "https://localhost:8080/"
        },
        "id": "KnNadDgY3d5h",
        "outputId": "906f2d63-1b96-4ea7-aa07-71d474465436"
      },
      "source": [
        "# Convert model_3_pred_probs to labels\n",
        "model_3_preds = tf.argmax(model_3_pred_probs, axis=1)\n",
        "model_3_preds"
      ],
      "execution_count": 63,
      "outputs": [
        {
          "output_type": "execute_result",
          "data": {
            "text/plain": [
              "<tf.Tensor: shape=(2000,), dtype=int64, numpy=array([4, 4, 4, ..., 2, 2, 1])>"
            ]
          },
          "metadata": {},
          "execution_count": 63
        }
      ]
    },
    {
      "cell_type": "code",
      "metadata": {
        "colab": {
          "base_uri": "https://localhost:8080/"
        },
        "id": "1gkYl5eO3nxI",
        "outputId": "38a195db-03f9-499e-827e-5b5e5c200a5d"
      },
      "source": [
        "# Calculate model 3 results\n",
        "model_3_results = calculate_results(y_true=test_labels_encoded,\n",
        "                                    y_pred=model_3_preds)\n",
        "model_3_results"
      ],
      "execution_count": 64,
      "outputs": [
        {
          "output_type": "execute_result",
          "data": {
            "text/plain": [
              "{'accuracy': 90.95,\n",
              " 'f1': 0.9080646845101592,\n",
              " 'precision': 0.9082732363732066,\n",
              " 'recall': 0.9095}"
            ]
          },
          "metadata": {},
          "execution_count": 64
        }
      ]
    },
    {
      "cell_type": "code",
      "metadata": {
        "colab": {
          "base_uri": "https://localhost:8080/",
          "height": 573
        },
        "id": "WkW2P6NR3nud",
        "outputId": "cf237e89-1b94-4871-8822-f80927207ef2"
      },
      "source": [
        "plot_loss_curves(history_model_3)"
      ],
      "execution_count": 65,
      "outputs": [
        {
          "output_type": "display_data",
          "data": {
            "image/png": "[encoded data removed]",
            "text/plain": [
              "<Figure size 432x288 with 1 Axes>"
            ]
          },
          "metadata": {
            "needs_background": "light"
          }
        },
        {
          "output_type": "display_data",
          "data": {
            "image/png": "[encoded data removed]",
            "text/plain": [
              "<Figure size 432x288 with 1 Axes>"
            ]
          },
          "metadata": {
            "needs_background": "light"
          }
        }
      ]
    },
    {
      "cell_type": "code",
      "metadata": {
        "colab": {
          "base_uri": "https://localhost:8080/"
        },
        "id": "Fs1anMbt6tgj",
        "outputId": "846770bf-839e-4f84-82e0-4dee8f895ff6"
      },
      "source": [
        "# Compare model_2's results with model_3's results\n",
        "compare_results(old_model_results=model_2_results, \n",
        "                new_model_results=model_3_results)"
      ],
      "execution_count": 66,
      "outputs": [
        {
          "output_type": "stream",
          "name": "stdout",
          "text": [
            "Old accuracy: 90.25, New accuracy: 90.95, Difference: 0.70\n",
            "Old precision: 0.90, New precision: 0.91, Difference: 0.00\n",
            "Old recall: 0.90, New recall: 0.91, Difference: 0.01\n",
            "Old f1: 0.90, New f1: 0.91, Difference: 0.01\n"
          ]
        }
      ]
    },
    {
      "cell_type": "markdown",
      "metadata": {
        "id": "pRCIxf017DSe"
      },
      "source": [
        "## Model 4: Bidirectional LSTM"
      ]
    },
    {
      "cell_type": "code",
      "metadata": {
        "id": "Jx4b_Cuh3nr1"
      },
      "source": [
        "# Create embedding layer\n",
        "model_4_embedding = layers.Embedding(input_dim=len(text_vocab),\n",
        "                                     output_dim=128,\n",
        "                                     mask_zero=True,\n",
        "                                     name=\"embedding_4\")\n",
        "\n",
        "# Build a bidirectional RNN\n",
        "from tensorflow.keras import layers\n",
        "inputs = layers.Input(shape=(1,), dtype=\"string\")\n",
        "x = text_vectorizer(inputs)\n",
        "x = model_4_embedding(x)\n",
        "#x = layers.Bidirectional(layers.LSTM(64, return_sequences=True))(x)\n",
        "x = layers.Bidirectional(layers.LSTM(24))(x) # bidirectional goes both ways so has double the parameters of a regular LSTM layer\n",
        "outputs = layers.Dense(num_classes, activation=\"softmax\")(x)\n",
        "model_4 = tf.keras.Model(inputs, outputs, name=\"model_4_bidirectional\")"
      ],
      "execution_count": 73,
      "outputs": []
    },
    {
      "cell_type": "code",
      "metadata": {
        "colab": {
          "base_uri": "https://localhost:8080/"
        },
        "id": "Gnd2j_UnB6ET",
        "outputId": "2bb51a16-edeb-45cd-cb74-fa5046da5cf9"
      },
      "source": [
        "# Get a summary\n",
        "model_4.summary()"
      ],
      "execution_count": 74,
      "outputs": [
        {
          "output_type": "stream",
          "name": "stdout",
          "text": [
            "Model: \"model_4_bidirectional\"\n",
            "_________________________________________________________________\n",
            "Layer (type)                 Output Shape              Param #   \n",
            "=================================================================\n",
            "input_5 (InputLayer)         [(None, 1)]               0         \n",
            "_________________________________________________________________\n",
            "text_vectorization (TextVect (None, 41)                0         \n",
            "_________________________________________________________________\n",
            "embedding_4 (Embedding)      (None, 41, 128)           1945600   \n",
            "_________________________________________________________________\n",
            "bidirectional_1 (Bidirection (None, 48)                29376     \n",
            "_________________________________________________________________\n",
            "dense_4 (Dense)              (None, 6)                 294       \n",
            "=================================================================\n",
            "Total params: 1,975,270\n",
            "Trainable params: 1,975,270\n",
            "Non-trainable params: 0\n",
            "_________________________________________________________________\n"
          ]
        }
      ]
    },
    {
      "cell_type": "code",
      "metadata": {
        "id": "ifrJQTkcB6B6"
      },
      "source": [
        "# Compile the model\n",
        "model_4.compile(loss=\"categorical_crossentropy\",\n",
        "                optimizer=\"Adam\",\n",
        "                metrics=[\"accuracy\"])"
      ],
      "execution_count": 75,
      "outputs": []
    },
    {
      "cell_type": "code",
      "metadata": {
        "colab": {
          "base_uri": "https://localhost:8080/"
        },
        "id": "I_4C1EQyB5_q",
        "outputId": "998033b9-6fc6-4136-9027-e0a197f10299"
      },
      "source": [
        "# Fit the model\n",
        "history_model_4 = model_4.fit(train_dataset,\n",
        "                              epochs=5,\n",
        "                              validation_data=val_dataset)"
      ],
      "execution_count": 76,
      "outputs": [
        {
          "output_type": "stream",
          "name": "stdout",
          "text": [
            "Epoch 1/5\n",
            "500/500 [==============================] - 27s 38ms/step - loss: 0.9994 - accuracy: 0.6381 - val_loss: 0.4312 - val_accuracy: 0.8585\n",
            "Epoch 2/5\n",
            "500/500 [==============================] - 16s 33ms/step - loss: 0.2215 - accuracy: 0.9239 - val_loss: 0.3010 - val_accuracy: 0.8985\n",
            "Epoch 3/5\n",
            "500/500 [==============================] - 16s 33ms/step - loss: 0.1008 - accuracy: 0.9661 - val_loss: 0.3128 - val_accuracy: 0.8995\n",
            "Epoch 4/5\n",
            "500/500 [==============================] - 16s 33ms/step - loss: 0.0667 - accuracy: 0.9770 - val_loss: 0.3810 - val_accuracy: 0.8955\n",
            "Epoch 5/5\n",
            "500/500 [==============================] - 16s 33ms/step - loss: 0.0440 - accuracy: 0.9847 - val_loss: 0.3778 - val_accuracy: 0.8940\n"
          ]
        }
      ]
    },
    {
      "cell_type": "code",
      "metadata": {
        "colab": {
          "base_uri": "https://localhost:8080/"
        },
        "id": "OhvEE2CrDx6i",
        "outputId": "a0239387-959a-4e02-e2fe-017757703988"
      },
      "source": [
        "# Evaluate the model on the test_dataset\n",
        "model_4.evaluate(test_dataset)"
      ],
      "execution_count": 92,
      "outputs": [
        {
          "output_type": "stream",
          "name": "stdout",
          "text": [
            "63/63 [==============================] - 1s 13ms/step - loss: 0.3951 - accuracy: 0.8960\n"
          ]
        },
        {
          "output_type": "execute_result",
          "data": {
            "text/plain": [
              "[0.3950858414173126, 0.8960000276565552]"
            ]
          },
          "metadata": {},
          "execution_count": 92
        }
      ]
    },
    {
      "cell_type": "code",
      "metadata": {
        "colab": {
          "base_uri": "https://localhost:8080/"
        },
        "id": "BBNJYMmDDxw6",
        "outputId": "f15549db-10da-4c8e-8ba0-854bf00cf1d2"
      },
      "source": [
        "# Make predictions with the bidirectional model\n",
        "model_4_pred_probs = model_4.predict(test_sentences)\n",
        "model_4_pred_probs"
      ],
      "execution_count": 93,
      "outputs": [
        {
          "output_type": "execute_result",
          "data": {
            "text/plain": [
              "array([[4.63216893e-05, 2.08300171e-05, 1.67383856e-04, 2.26578686e-05,\n",
              "        9.99742687e-01, 8.42068744e-08],\n",
              "       [2.75176310e-04, 2.28770572e-04, 3.23065266e-04, 4.43651043e-05,\n",
              "        9.99127448e-01, 1.15822900e-06],\n",
              "       [1.20008823e-04, 2.06628043e-04, 4.80046983e-05, 9.48594970e-05,\n",
              "        9.99530196e-01, 3.35539966e-07],\n",
              "       ...,\n",
              "       [3.77890683e-05, 1.95581447e-06, 9.99933243e-01, 2.16411827e-05,\n",
              "        5.31767682e-06, 1.53248276e-08],\n",
              "       [1.27823478e-06, 2.96610239e-07, 9.99985456e-01, 1.01176365e-05,\n",
              "        2.83479039e-06, 1.77806161e-08],\n",
              "       [1.75352802e-03, 8.03656399e-01, 2.83038267e-03, 2.69699679e-03,\n",
              "        3.57260974e-03, 1.85490146e-01]], dtype=float32)"
            ]
          },
          "metadata": {},
          "execution_count": 93
        }
      ]
    },
    {
      "cell_type": "code",
      "metadata": {
        "colab": {
          "base_uri": "https://localhost:8080/"
        },
        "id": "Pwd2P2kxB54m",
        "outputId": "b86d4e18-de33-4161-c427-d1be0e2af8e6"
      },
      "source": [
        "# Convert model_4_pred_probs to labels\n",
        "model_4_preds = tf.argmax(model_4_pred_probs, axis=1)\n",
        "model_4_preds"
      ],
      "execution_count": 94,
      "outputs": [
        {
          "output_type": "execute_result",
          "data": {
            "text/plain": [
              "<tf.Tensor: shape=(2000,), dtype=int64, numpy=array([4, 4, 4, ..., 2, 2, 1])>"
            ]
          },
          "metadata": {},
          "execution_count": 94
        }
      ]
    },
    {
      "cell_type": "code",
      "metadata": {
        "colab": {
          "base_uri": "https://localhost:8080/"
        },
        "id": "BN2lxgSVB51y",
        "outputId": "87824c8f-da37-4f07-fb2d-e6aad1de5b44"
      },
      "source": [
        "# Calculate model 4 results\n",
        "model_4_results = calculate_results(y_true=test_labels_encoded,\n",
        "                                    y_pred=model_4_preds)\n",
        "model_4_results"
      ],
      "execution_count": 95,
      "outputs": [
        {
          "output_type": "execute_result",
          "data": {
            "text/plain": [
              "{'accuracy': 89.60000000000001,\n",
              " 'f1': 0.8943574933441677,\n",
              " 'precision': 0.8950172689114311,\n",
              " 'recall': 0.896}"
            ]
          },
          "metadata": {},
          "execution_count": 95
        }
      ]
    },
    {
      "cell_type": "code",
      "metadata": {
        "colab": {
          "base_uri": "https://localhost:8080/",
          "height": 573
        },
        "id": "aqDttdLFB5y6",
        "outputId": "f6492ed6-7f0d-432b-e0d6-6b76614e6b54"
      },
      "source": [
        "plot_loss_curves(history_model_4)"
      ],
      "execution_count": 96,
      "outputs": [
        {
          "output_type": "display_data",
          "data": {
            "image/png": "[encoded data removed]",
            "text/plain": [
              "<Figure size 432x288 with 1 Axes>"
            ]
          },
          "metadata": {
            "needs_background": "light"
          }
        },
        {
          "output_type": "display_data",
          "data": {
            "image/png": "[encoded data removed]",
            "text/plain": [
              "<Figure size 432x288 with 1 Axes>"
            ]
          },
          "metadata": {
            "needs_background": "light"
          }
        }
      ]
    },
    {
      "cell_type": "code",
      "metadata": {
        "colab": {
          "base_uri": "https://localhost:8080/"
        },
        "id": "0MKqxfYoE71_",
        "outputId": "094cdb0e-7d04-48e4-e25c-d779b5039e24"
      },
      "source": [
        "# Compare model_3's results with model_4's results\n",
        "compare_results(old_model_results=model_3_results, \n",
        "                new_model_results=model_4_results)"
      ],
      "execution_count": 97,
      "outputs": [
        {
          "output_type": "stream",
          "name": "stdout",
          "text": [
            "Old accuracy: 90.95, New accuracy: 89.60, Difference: -1.35\n",
            "Old precision: 0.91, New precision: 0.90, Difference: -0.01\n",
            "Old recall: 0.91, New recall: 0.90, Difference: -0.01\n",
            "Old f1: 0.91, New f1: 0.89, Difference: -0.01\n"
          ]
        }
      ]
    },
    {
      "cell_type": "markdown",
      "metadata": {
        "id": "AELTnsW6X9QQ"
      },
      "source": [
        "## Model 5: TensorFlow Hub Pretrained (USE)"
      ]
    },
    {
      "cell_type": "code",
      "metadata": {
        "colab": {
          "base_uri": "https://localhost:8080/"
        },
        "id": "soiZVQPYX9Ni",
        "outputId": "a6741f6c-77a0-441c-aeaf-95751d047ccf"
      },
      "source": [
        "import tensorflow_hub as hub\n",
        "embed = hub.load(\"https://tfhub.dev/google/universal-sentence-encoder/4\")\n",
        "embed_sample = embed([\"It is a sunny day but it might rain because we're living in England.\"])\n",
        "print(embed_sample[0][:50])"
      ],
      "execution_count": 98,
      "outputs": [
        {
          "output_type": "stream",
          "name": "stdout",
          "text": [
            "tf.Tensor(\n",
            "[ 0.01969089 -0.01172202  0.01516425  0.0460484  -0.01095778  0.0595981\n",
            " -0.05272774 -0.05420118  0.07581246  0.01609086 -0.04979602 -0.06429223\n",
            " -0.03987594  0.08609368  0.01339707 -0.08656326 -0.00131272  0.05613714\n",
            "  0.05545615 -0.04708893  0.04151725 -0.01545368  0.09623946  0.026415\n",
            "  0.01033185 -0.01502116 -0.00611564 -0.01057371  0.00980238  0.05312832\n",
            "  0.06635483  0.02078065 -0.02402303  0.03102121  0.01798203 -0.05440179\n",
            "  0.05768921 -0.09093192 -0.00769321 -0.00387449  0.04412679 -0.01284575\n",
            "  0.00250211  0.09464798 -0.10412336 -0.02218961 -0.02710059  0.03872306\n",
            " -0.05890216  0.01801249], shape=(50,), dtype=float32)\n"
          ]
        }
      ]
    },
    {
      "cell_type": "code",
      "metadata": {
        "colab": {
          "base_uri": "https://localhost:8080/"
        },
        "id": "UkHbyDAEX9K1",
        "outputId": "4a0df454-9aa2-439a-9627-03e85fa54ade"
      },
      "source": [
        "embed_sample"
      ],
      "execution_count": 99,
      "outputs": [
        {
          "output_type": "execute_result",
          "data": {
            "text/plain": [
              "<tf.Tensor: shape=(1, 512), dtype=float32, numpy=\n",
              "array([[ 0.01969089, -0.01172202,  0.01516425,  0.0460484 , -0.01095778,\n",
              "         0.0595981 , -0.05272774, -0.05420118,  0.07581246,  0.01609086,\n",
              "        -0.04979602, -0.06429223, -0.03987594,  0.08609368,  0.01339707,\n",
              "        -0.08656326, -0.00131272,  0.05613714,  0.05545615, -0.04708893,\n",
              "         0.04151725, -0.01545368,  0.09623946,  0.026415  ,  0.01033185,\n",
              "        -0.01502116, -0.00611564, -0.01057371,  0.00980238,  0.05312832,\n",
              "         0.06635483,  0.02078065, -0.02402303,  0.03102121,  0.01798203,\n",
              "        -0.05440179,  0.05768921, -0.09093192, -0.00769321, -0.00387449,\n",
              "         0.04412679, -0.01284575,  0.00250211,  0.09464798, -0.10412336,\n",
              "        -0.02218961, -0.02710059,  0.03872306, -0.05890216,  0.01801249,\n",
              "         0.02907106, -0.09269992,  0.04387782,  0.01240255,  0.00549322,\n",
              "        -0.00131069, -0.01430398, -0.10571989, -0.05474945,  0.06855348,\n",
              "        -0.0042415 , -0.04233857,  0.04647706, -0.03684841, -0.02025765,\n",
              "        -0.03191434, -0.05127342, -0.07727215, -0.0375063 , -0.01324797,\n",
              "        -0.03934632, -0.03814806,  0.06380348, -0.03514628,  0.01156483,\n",
              "        -0.01630802, -0.02339552, -0.06946281, -0.02934785,  0.09213939,\n",
              "         0.1084585 ,  0.01469734,  0.01931907, -0.01678114,  0.03645803,\n",
              "        -0.06001812, -0.02371971,  0.05061176,  0.00345166,  0.00919732,\n",
              "         0.02580147, -0.03438188,  0.04815238, -0.03807481,  0.03116335,\n",
              "         0.02361997,  0.04839981, -0.02263832,  0.04232657,  0.00732261,\n",
              "         0.05924072, -0.0105269 ,  0.00661099,  0.03883498,  0.03139344,\n",
              "         0.00084836,  0.02674005,  0.08056941, -0.02238053, -0.0188009 ,\n",
              "        -0.031599  ,  0.06645351,  0.02482328, -0.04172102,  0.02740251,\n",
              "        -0.00014394,  0.00586966, -0.07285093,  0.04154759,  0.07581763,\n",
              "         0.07661173,  0.02321747,  0.0547544 , -0.01840447, -0.01075102,\n",
              "        -0.02562178,  0.09903856, -0.0764301 , -0.0508388 , -0.00996253,\n",
              "         0.00810493,  0.04108275, -0.01461238, -0.01156402, -0.02437758,\n",
              "         0.01190804,  0.02496083, -0.0583435 , -0.08666419, -0.02684844,\n",
              "        -0.09025136, -0.03185367,  0.00995561, -0.0271285 ,  0.05218953,\n",
              "         0.01272477, -0.05169078, -0.04620058, -0.00177586, -0.04075434,\n",
              "         0.04049259,  0.06148935, -0.05037774,  0.03440167, -0.0659574 ,\n",
              "        -0.00076089,  0.00861251,  0.0606878 , -0.00921713, -0.02496965,\n",
              "        -0.05766534, -0.00601463,  0.00270293, -0.0388784 , -0.05065827,\n",
              "         0.01819773,  0.10470923,  0.01870566,  0.04114585, -0.04194293,\n",
              "         0.00333215, -0.02183346, -0.0005013 ,  0.05827969,  0.05622248,\n",
              "        -0.02496192, -0.00375109,  0.02016278, -0.05214338, -0.06691442,\n",
              "        -0.04943359, -0.05229419, -0.00023419,  0.03477309, -0.01367813,\n",
              "        -0.06744048,  0.04871108, -0.01669533,  0.04326191, -0.09826425,\n",
              "        -0.00678039, -0.03064537, -0.02719778, -0.06149516, -0.0312454 ,\n",
              "         0.02734519,  0.05310237,  0.00384942,  0.01217293, -0.00051626,\n",
              "        -0.109846  , -0.01933564,  0.04783814,  0.03803485,  0.00560105,\n",
              "        -0.01335366,  0.05665254,  0.01945682,  0.05008011,  0.00386338,\n",
              "         0.03698268,  0.05527644, -0.04682673, -0.03201757,  0.03622713,\n",
              "        -0.02750919,  0.01418037, -0.0093311 ,  0.09327826, -0.09175003,\n",
              "         0.01274054,  0.10797259, -0.01945485,  0.03693979,  0.01726436,\n",
              "        -0.00170389, -0.06362368, -0.01439236,  0.08274729, -0.02969063,\n",
              "        -0.0180441 , -0.0366834 , -0.00735928, -0.02269138, -0.00454801,\n",
              "        -0.01712756, -0.01191888,  0.10191531, -0.01734087, -0.02050848,\n",
              "        -0.00948865,  0.04539982, -0.01286584, -0.02215093, -0.00494563,\n",
              "        -0.06479502, -0.02643042,  0.0371794 , -0.01564625,  0.0243304 ,\n",
              "         0.07540814, -0.06262176, -0.06442211, -0.02603437, -0.00523149,\n",
              "        -0.02962365,  0.01027564,  0.04345163, -0.00829661, -0.05906193,\n",
              "        -0.0749376 ,  0.05321686,  0.02881799,  0.00432136,  0.03645169,\n",
              "         0.0305022 ,  0.00014674, -0.04740059,  0.03785399,  0.04670833,\n",
              "         0.03495607, -0.03221805,  0.07747988, -0.01373784, -0.04574936,\n",
              "        -0.03165403,  0.01306404, -0.09264135, -0.00146567,  0.0256919 ,\n",
              "         0.05251711,  0.02081254,  0.01434939, -0.00538502, -0.02438735,\n",
              "        -0.00193021, -0.00177751,  0.02404352,  0.03528326,  0.08666776,\n",
              "         0.03486745,  0.00924197,  0.06239717, -0.05429129, -0.01797103,\n",
              "         0.02978578, -0.02631195, -0.06406511,  0.00850456,  0.01582641,\n",
              "         0.02519331,  0.00121647, -0.00900204, -0.01758695,  0.00657356,\n",
              "         0.00877507,  0.07569456,  0.00352834,  0.01050984,  0.03727756,\n",
              "         0.05334811, -0.0089681 ,  0.02866517,  0.02444755,  0.07879092,\n",
              "        -0.04563575,  0.0491545 ,  0.03318422, -0.02712155, -0.05818809,\n",
              "         0.03787705, -0.08079887,  0.0209611 ,  0.01334949, -0.00222133,\n",
              "         0.02999498,  0.00065633,  0.05400228,  0.04985619,  0.0813522 ,\n",
              "        -0.09402295, -0.04304098, -0.03669317, -0.05706133, -0.02057294,\n",
              "        -0.00826072, -0.03710748,  0.04301816, -0.01160254,  0.03463358,\n",
              "        -0.05538394,  0.03547772, -0.02425357,  0.00715574, -0.02753519,\n",
              "         0.04209699,  0.01358604, -0.05482732, -0.0491236 , -0.01519879,\n",
              "        -0.01729734, -0.04645279,  0.02817935, -0.0543547 ,  0.05131954,\n",
              "         0.04490959, -0.101688  , -0.02158979, -0.05244179,  0.03157098,\n",
              "        -0.08529157,  0.06228253,  0.08124117,  0.06774014, -0.03691312,\n",
              "         0.06526645,  0.07496782,  0.0536441 , -0.03279585, -0.00419554,\n",
              "         0.05629204,  0.01686377,  0.02303812,  0.00648386, -0.0267503 ,\n",
              "        -0.06726168,  0.08956625, -0.02985338, -0.01527073, -0.01698974,\n",
              "         0.0231263 ,  0.0377178 , -0.00236348,  0.0601069 , -0.01613967,\n",
              "        -0.03294348, -0.04344234,  0.07753021, -0.08237299, -0.02641731,\n",
              "        -0.02604108,  0.01045073,  0.01544486,  0.09056515,  0.00912898,\n",
              "         0.05090418, -0.03523808, -0.00551605, -0.01969798,  0.0639042 ,\n",
              "         0.01450171, -0.02764393,  0.00803804, -0.00940222,  0.02093236,\n",
              "         0.01258269, -0.07476027, -0.01297507,  0.01976934,  0.0419819 ,\n",
              "        -0.01581332,  0.01937161, -0.07764179,  0.08312251, -0.01859375,\n",
              "         0.05821886, -0.06601059,  0.03408474, -0.09112419,  0.03562659,\n",
              "        -0.05535461,  0.01438268, -0.00424784, -0.02763073, -0.0374601 ,\n",
              "         0.0583941 , -0.04715564, -0.04648729,  0.02381227, -0.00538816,\n",
              "        -0.01366268, -0.04852876, -0.05501106,  0.08453533,  0.01827824,\n",
              "        -0.01233104, -0.03297964,  0.0103513 ,  0.07386573, -0.02840789,\n",
              "        -0.04673153, -0.08486833,  0.05761565, -0.01807341,  0.01477457,\n",
              "         0.02675949,  0.06968307,  0.06404298, -0.06155561, -0.02101273,\n",
              "         0.06304809, -0.01726151,  0.00478435, -0.0619962 ,  0.04147901,\n",
              "        -0.00293034,  0.02363368, -0.06941029,  0.00749691, -0.07185657,\n",
              "         0.02245461, -0.03628478,  0.03195626, -0.06106884, -0.05830001,\n",
              "         0.01871041,  0.01686901,  0.04557477,  0.031939  , -0.03177094,\n",
              "        -0.01663517,  0.03779281,  0.05074453, -0.02322821, -0.06481008,\n",
              "         0.01455656, -0.08436082,  0.01978642, -0.00301423, -0.05581754,\n",
              "         0.03064924, -0.04538518,  0.04556598,  0.02816395,  0.00616817,\n",
              "        -0.0299698 ,  0.04124475, -0.05672703, -0.00782257, -0.03481   ,\n",
              "        -0.02904337, -0.00285445,  0.03504872, -0.0264055 ,  0.03201844,\n",
              "         0.03638781, -0.01247425, -0.01491128, -0.04675319, -0.01391965,\n",
              "         0.01404709,  0.06762572,  0.00495934,  0.0656658 ,  0.03069391,\n",
              "         0.03663669, -0.04874657, -0.03984043, -0.06527794,  0.00428086,\n",
              "         0.00570428,  0.00760763]], dtype=float32)>"
            ]
          },
          "metadata": {},
          "execution_count": 99
        }
      ]
    },
    {
      "cell_type": "markdown",
      "metadata": {
        "id": "FxNG3aaFY6lX"
      },
      "source": [
        "Create a Keras Layer using the USE pretrained layer from tensorflow hub \n",
        "\n",
        "**`We can use this encoding layer in place of our text_vectorizer and embedding layer`**"
      ]
    },
    {
      "cell_type": "code",
      "metadata": {
        "id": "trn9AxsaX9IN"
      },
      "source": [
        "sentence_encoder_layer = hub.KerasLayer(\"https://tfhub.dev/google/universal-sentence-encoder/4\",\n",
        "                                        input_shape=[], # shape of inputs coming to our model \n",
        "                                        dtype=tf.string, # data type of inputs coming to the USE layer\n",
        "                                        trainable=False, # keep the pretrained weights (we'll create a feature extractor)\n",
        "                                        name=\"USE\")"
      ],
      "execution_count": 100,
      "outputs": []
    },
    {
      "cell_type": "code",
      "metadata": {
        "id": "upEQdAlLX9Fs"
      },
      "source": [
        "from tensorflow.keras import layers\n",
        "# Create model using Sequential API\n",
        "model_5 = tf.keras.Sequential([\n",
        "  sentence_encoder_layer,\n",
        "  layers.Dense(128, activation=\"relu\"),\n",
        "  layers.Dense(64, activation=\"relu\"),\n",
        "  layers.Dense(num_classes, activation=\"softmax\")\n",
        "], name=\"model_5_USE\")"
      ],
      "execution_count": 101,
      "outputs": []
    },
    {
      "cell_type": "code",
      "metadata": {
        "colab": {
          "base_uri": "https://localhost:8080/"
        },
        "id": "eSwFSHxYZv9w",
        "outputId": "2d98d111-62d7-4249-d567-f171b1b71a9f"
      },
      "source": [
        "# Get a summary of the model\n",
        "model_5.summary()"
      ],
      "execution_count": 102,
      "outputs": [
        {
          "output_type": "stream",
          "name": "stdout",
          "text": [
            "Model: \"model_5_USE\"\n",
            "_________________________________________________________________\n",
            "Layer (type)                 Output Shape              Param #   \n",
            "=================================================================\n",
            "USE (KerasLayer)             (None, 512)               256797824 \n",
            "_________________________________________________________________\n",
            "dense_6 (Dense)              (None, 128)               65664     \n",
            "_________________________________________________________________\n",
            "dense_7 (Dense)              (None, 64)                8256      \n",
            "_________________________________________________________________\n",
            "dense_8 (Dense)              (None, 6)                 390       \n",
            "=================================================================\n",
            "Total params: 256,872,134\n",
            "Trainable params: 74,310\n",
            "Non-trainable params: 256,797,824\n",
            "_________________________________________________________________\n"
          ]
        }
      ]
    },
    {
      "cell_type": "markdown",
      "metadata": {
        "id": "a0KFYylVZ82q"
      },
      "source": [
        "The trainable parameters are only in our output layers, in other words, we're keeping the USE weights frozen and using it as a feature-extractor. We could fine-tune these weights by setting `trainable=True` when creating the `hub.KerasLayer` instance."
      ]
    },
    {
      "cell_type": "code",
      "metadata": {
        "id": "3yZcSCIqZyo4"
      },
      "source": [
        "# Compile the model\n",
        "model_5.compile(loss=\"categorical_crossentropy\",\n",
        "                optimizer=\"Adam\",\n",
        "                metrics=[\"accuracy\"])"
      ],
      "execution_count": 103,
      "outputs": []
    },
    {
      "cell_type": "code",
      "metadata": {
        "colab": {
          "base_uri": "https://localhost:8080/"
        },
        "id": "2WHbSKxmZ9yg",
        "outputId": "a50c1453-11f4-4c84-e5c9-6ba101d3ed01"
      },
      "source": [
        "# Fit the model\n",
        "history_model_5 = model_5.fit(train_dataset,\n",
        "                              epochs=5,\n",
        "                              validation_data=val_dataset)"
      ],
      "execution_count": 104,
      "outputs": [
        {
          "output_type": "stream",
          "name": "stdout",
          "text": [
            "Epoch 1/5\n",
            "500/500 [==============================] - 13s 21ms/step - loss: 1.1183 - accuracy: 0.5845 - val_loss: 0.9570 - val_accuracy: 0.6385\n",
            "Epoch 2/5\n",
            "500/500 [==============================] - 10s 20ms/step - loss: 0.9171 - accuracy: 0.6593 - val_loss: 0.9183 - val_accuracy: 0.6550\n",
            "Epoch 3/5\n",
            "500/500 [==============================] - 10s 19ms/step - loss: 0.8559 - accuracy: 0.6811 - val_loss: 0.8956 - val_accuracy: 0.6585\n",
            "Epoch 4/5\n",
            "500/500 [==============================] - 10s 20ms/step - loss: 0.7954 - accuracy: 0.7069 - val_loss: 0.8788 - val_accuracy: 0.6625\n",
            "Epoch 5/5\n",
            "500/500 [==============================] - 10s 20ms/step - loss: 0.7328 - accuracy: 0.7304 - val_loss: 0.8709 - val_accuracy: 0.6700\n"
          ]
        }
      ]
    },
    {
      "cell_type": "code",
      "metadata": {
        "colab": {
          "base_uri": "https://localhost:8080/"
        },
        "id": "RkNlfJw3craR",
        "outputId": "3e11b0b0-2d31-4a14-bb2a-0a016e29fa70"
      },
      "source": [
        "# Evaluate on test_dataset\n",
        "model_5.evaluate(test_dataset)"
      ],
      "execution_count": 105,
      "outputs": [
        {
          "output_type": "stream",
          "name": "stdout",
          "text": [
            "63/63 [==============================] - 1s 17ms/step - loss: 0.8838 - accuracy: 0.6710\n"
          ]
        },
        {
          "output_type": "execute_result",
          "data": {
            "text/plain": [
              "[0.8838154673576355, 0.6710000038146973]"
            ]
          },
          "metadata": {},
          "execution_count": 105
        }
      ]
    },
    {
      "cell_type": "code",
      "metadata": {
        "colab": {
          "base_uri": "https://localhost:8080/"
        },
        "id": "4nDOSRONaN0J",
        "outputId": "40ed77fb-f6de-46f5-9ef4-8e1acfef9d0c"
      },
      "source": [
        "# Make predictions with USE TF Hub Model\n",
        "model_5_pred_probs = model_5.predict(test_sentences)\n",
        "model_5_pred_probs[:10]"
      ],
      "execution_count": 106,
      "outputs": [
        {
          "output_type": "execute_result",
          "data": {
            "text/plain": [
              "array([[1.4542536e-01, 1.8345891e-02, 1.0713314e-01, 1.8387916e-02,\n",
              "        7.1029818e-01, 4.0944511e-04],\n",
              "       [1.0829894e-02, 4.0669600e-03, 7.9041369e-02, 2.1130161e-03,\n",
              "        9.0329075e-01, 6.5800734e-04],\n",
              "       [2.0978667e-02, 1.3307853e-02, 1.3694916e-02, 2.0116644e-02,\n",
              "        9.3104333e-01, 8.5857493e-04],\n",
              "       [1.6807012e-02, 1.8546347e-02, 6.4985603e-01, 2.5162625e-01,\n",
              "        6.2135980e-02, 1.0283677e-03],\n",
              "       [6.1467160e-02, 2.2512856e-03, 4.0033631e-02, 6.4509333e-04,\n",
              "        8.9271003e-01, 2.8928481e-03],\n",
              "       [8.1413232e-02, 6.4063019e-01, 2.0458525e-02, 2.0599957e-03,\n",
              "        2.4825342e-01, 7.1846121e-03],\n",
              "       [8.9995265e-01, 6.7543276e-02, 2.8614961e-03, 5.7618413e-04,\n",
              "        2.8107144e-02, 9.5931429e-04],\n",
              "       [2.7114954e-02, 2.3331194e-01, 3.6139140e-01, 3.2115358e-01,\n",
              "        3.4759078e-02, 2.2269094e-02],\n",
              "       [1.0752680e-02, 2.3547384e-01, 6.9856548e-01, 3.2877076e-02,\n",
              "        8.3211912e-03, 1.4009707e-02],\n",
              "       [3.2267341e-01, 8.7688342e-02, 2.4019803e-01, 2.2703344e-02,\n",
              "        3.1914109e-01, 7.5957561e-03]], dtype=float32)"
            ]
          },
          "metadata": {},
          "execution_count": 106
        }
      ]
    },
    {
      "cell_type": "code",
      "metadata": {
        "colab": {
          "base_uri": "https://localhost:8080/"
        },
        "id": "84JnYTxNcPer",
        "outputId": "98d7c660-edff-4112-a042-7d40e8642787"
      },
      "source": [
        "# Convert model_5_pred_probs to labels\n",
        "model_5_preds = tf.argmax(model_5_pred_probs, axis=1)\n",
        "model_5_preds"
      ],
      "execution_count": 107,
      "outputs": [
        {
          "output_type": "execute_result",
          "data": {
            "text/plain": [
              "<tf.Tensor: shape=(2000,), dtype=int64, numpy=array([4, 4, 4, ..., 2, 2, 4])>"
            ]
          },
          "metadata": {},
          "execution_count": 107
        }
      ]
    },
    {
      "cell_type": "code",
      "metadata": {
        "colab": {
          "base_uri": "https://localhost:8080/"
        },
        "id": "0YktpyUWZ9v9",
        "outputId": "7c73f14b-83eb-4f8a-aec9-4f0b1da2b38a"
      },
      "source": [
        "# Calculate model 5 results\n",
        "model_5_results = calculate_results(y_true=test_labels_encoded,\n",
        "                                    y_pred=model_5_preds)\n",
        "model_5_results"
      ],
      "execution_count": 108,
      "outputs": [
        {
          "output_type": "execute_result",
          "data": {
            "text/plain": [
              "{'accuracy': 67.10000000000001,\n",
              " 'f1': 0.6638127236471107,\n",
              " 'precision': 0.6658472942560016,\n",
              " 'recall': 0.671}"
            ]
          },
          "metadata": {},
          "execution_count": 108
        }
      ]
    },
    {
      "cell_type": "code",
      "metadata": {
        "colab": {
          "base_uri": "https://localhost:8080/",
          "height": 573
        },
        "id": "nSAnGDqvcPcd",
        "outputId": "cf352698-cdf5-4ff8-ab49-d4246f94a539"
      },
      "source": [
        "plot_loss_curves(history_model_5)"
      ],
      "execution_count": 109,
      "outputs": [
        {
          "output_type": "display_data",
          "data": {
            "image/png": "[encoded data removed]",
            "text/plain": [
              "<Figure size 432x288 with 1 Axes>"
            ]
          },
          "metadata": {
            "needs_background": "light"
          }
        },
        {
          "output_type": "display_data",
          "data": {
            "image/png": "[encoded data removed]",
            "text/plain": [
              "<Figure size 432x288 with 1 Axes>"
            ]
          },
          "metadata": {
            "needs_background": "light"
          }
        }
      ]
    },
    {
      "cell_type": "code",
      "metadata": {
        "colab": {
          "base_uri": "https://localhost:8080/"
        },
        "id": "0Gbs_saOcxL7",
        "outputId": "491ca4b3-4569-4d67-f941-4b0dde9cd1e5"
      },
      "source": [
        "# Compare model_4's results with model_5's results\n",
        "compare_results(old_model_results=model_4_results, \n",
        "                new_model_results=model_5_results)"
      ],
      "execution_count": 110,
      "outputs": [
        {
          "output_type": "stream",
          "name": "stdout",
          "text": [
            "Old accuracy: 89.60, New accuracy: 67.10, Difference: -22.50\n",
            "Old precision: 0.90, New precision: 0.67, Difference: -0.23\n",
            "Old recall: 0.90, New recall: 0.67, Difference: -0.22\n",
            "Old f1: 0.89, New f1: 0.66, Difference: -0.23\n"
          ]
        }
      ]
    },
    {
      "cell_type": "markdown",
      "metadata": {
        "id": "DArw74GFdlYU"
      },
      "source": [
        "Comparing the performance of each of our models"
      ]
    },
    {
      "cell_type": "code",
      "metadata": {
        "id": "znaaQZGncPaL"
      },
      "source": [
        "# Combine model results into a DataFrame\n",
        "all_model_results = pd.DataFrame({\"0_baseline\": baseline_results,\n",
        "                                  \"1_conv1d\": model_1_results,\n",
        "                                  \"2_lstm\": model_2_results,\n",
        "                                  \"3_gru\": model_3_results,\n",
        "                                  \"4_bidirectional_lstm\": model_4_results,\n",
        "                                  \"5_tf_hub_use_encoder\": model_5_results})\n",
        "all_model_results = all_model_results.transpose()"
      ],
      "execution_count": 115,
      "outputs": []
    },
    {
      "cell_type": "code",
      "metadata": {
        "colab": {
          "base_uri": "https://localhost:8080/",
          "height": 234
        },
        "id": "dSSzaTKhcPXr",
        "outputId": "223e3101-a250-44ce-87dd-9c59438e2b4f"
      },
      "source": [
        "# Reduce the accuracy to the same scale as other metrics\n",
        "all_model_results[\"accuracy\"] = all_model_results[\"accuracy\"]/100\n",
        "all_model_results"
      ],
      "execution_count": 112,
      "outputs": [
        {
          "output_type": "execute_result",
          "data": {
            "text/html": [
              "<div>\n",
              "<style scoped>\n",
              "    .dataframe tbody tr th:only-of-type {\n",
              "        vertical-align: middle;\n",
              "    }\n",
              "\n",
              "    .dataframe tbody tr th {\n",
              "        vertical-align: top;\n",
              "    }\n",
              "\n",
              "    .dataframe thead th {\n",
              "        text-align: right;\n",
              "    }\n",
              "</style>\n",
              "<table border=\"1\" class=\"dataframe\">\n",
              "  <thead>\n",
              "    <tr style=\"text-align: right;\">\n",
              "      <th></th>\n",
              "      <th>accuracy</th>\n",
              "      <th>precision</th>\n",
              "      <th>recall</th>\n",
              "      <th>f1</th>\n",
              "    </tr>\n",
              "  </thead>\n",
              "  <tbody>\n",
              "    <tr>\n",
              "      <th>0_baseline</th>\n",
              "      <td>0.003315</td>\n",
              "      <td>0.243748</td>\n",
              "      <td>0.3315</td>\n",
              "      <td>0.266659</td>\n",
              "    </tr>\n",
              "    <tr>\n",
              "      <th>1_conv1d</th>\n",
              "      <td>0.008855</td>\n",
              "      <td>0.885975</td>\n",
              "      <td>0.8855</td>\n",
              "      <td>0.885132</td>\n",
              "    </tr>\n",
              "    <tr>\n",
              "      <th>2_lstm</th>\n",
              "      <td>0.009025</td>\n",
              "      <td>0.903768</td>\n",
              "      <td>0.9025</td>\n",
              "      <td>0.902835</td>\n",
              "    </tr>\n",
              "    <tr>\n",
              "      <th>3_gru</th>\n",
              "      <td>0.009095</td>\n",
              "      <td>0.908273</td>\n",
              "      <td>0.9095</td>\n",
              "      <td>0.908065</td>\n",
              "    </tr>\n",
              "    <tr>\n",
              "      <th>4_bidirectional_lstm</th>\n",
              "      <td>0.008960</td>\n",
              "      <td>0.895017</td>\n",
              "      <td>0.8960</td>\n",
              "      <td>0.894357</td>\n",
              "    </tr>\n",
              "    <tr>\n",
              "      <th>5_tf_hub_use_encoder</th>\n",
              "      <td>0.006710</td>\n",
              "      <td>0.665847</td>\n",
              "      <td>0.6710</td>\n",
              "      <td>0.663813</td>\n",
              "    </tr>\n",
              "  </tbody>\n",
              "</table>\n",
              "</div>"
            ],
            "text/plain": [
              "                      accuracy  precision  recall        f1\n",
              "0_baseline            0.003315   0.243748  0.3315  0.266659\n",
              "1_conv1d              0.008855   0.885975  0.8855  0.885132\n",
              "2_lstm                0.009025   0.903768  0.9025  0.902835\n",
              "3_gru                 0.009095   0.908273  0.9095  0.908065\n",
              "4_bidirectional_lstm  0.008960   0.895017  0.8960  0.894357\n",
              "5_tf_hub_use_encoder  0.006710   0.665847  0.6710  0.663813"
            ]
          },
          "metadata": {},
          "execution_count": 112
        }
      ]
    },
    {
      "cell_type": "code",
      "metadata": {
        "colab": {
          "base_uri": "https://localhost:8080/",
          "height": 530
        },
        "id": "H1pwseYYcPVb",
        "outputId": "cff375ab-b678-4227-804f-74a80e3cbd4f"
      },
      "source": [
        "# Plot and compare all of the model results\n",
        "all_model_results.plot(kind=\"bar\", figsize=(10,7)).legend(bbox_to_anchor=(1.0, 1.0));"
      ],
      "execution_count": 113,
      "outputs": [
        {
          "output_type": "display_data",
          "data": {
            "image/png": "[encoded data removed]",
            "text/plain": [
              "<Figure size 720x504 with 1 Axes>"
            ]
          },
          "metadata": {
            "needs_background": "light"
          }
        }
      ]
    },
    {
      "cell_type": "code",
      "metadata": {
        "colab": {
          "base_uri": "https://localhost:8080/",
          "height": 530
        },
        "id": "dMnWZvRNeL66",
        "outputId": "d1f6d2d8-fa1f-4279-b947-3c49bcee7e79"
      },
      "source": [
        "# Sort model results by f1-score\n",
        "all_model_results.sort_values(\"f1\", ascending=False)[\"f1\"].plot(kind=\"bar\", figsize=(10,7));"
      ],
      "execution_count": 114,
      "outputs": [
        {
          "output_type": "display_data",
          "data": {
            "image/png": "[encoded data removed]",
            "text/plain": [
              "<Figure size 720x504 with 1 Axes>"
            ]
          },
          "metadata": {
            "needs_background": "light"
          }
        }
      ]
    },
    {
      "cell_type": "markdown",
      "metadata": {
        "id": "U6Qn5GCnPRJm"
      },
      "source": [
        "## Model 6: Conv1D with character embeddings"
      ]
    },
    {
      "cell_type": "markdown",
      "metadata": {
        "id": "Jakg3mBCeCDG"
      },
      "source": [
        "### Creating a character-level tokenizer"
      ]
    },
    {
      "cell_type": "markdown",
      "metadata": {
        "id": "f8t6-fnwRhuD"
      },
      "source": [
        "Before we can vectorize our sequences on a character-level we'll need to split them into characters."
      ]
    },
    {
      "cell_type": "code",
      "metadata": {
        "colab": {
          "base_uri": "https://localhost:8080/",
          "height": 35
        },
        "id": "BB2NVMalPRGy",
        "outputId": "d81ec200-71aa-452e-8e4b-1029fca86cc1"
      },
      "source": [
        "# Make a function to split sentences into characters\n",
        "def split_chars(text):\n",
        "  return \" \".join(list(text))\n",
        "\n",
        "# Test splitting non-character-level-sequence into characters\n",
        "split_chars(train_sentences[0])"
      ],
      "execution_count": 116,
      "outputs": [
        {
          "output_type": "execute_result",
          "data": {
            "application/vnd.google.colaboratory.intrinsic+json": {
              "type": "string"
            },
            "text/plain": [
              "'i   d i d n t   f e e l   h u m i l i a t e d'"
            ]
          },
          "metadata": {},
          "execution_count": 116
        }
      ]
    },
    {
      "cell_type": "markdown",
      "metadata": {
        "id": "VEaM60WBRpJ7"
      },
      "source": [
        "Now, create character-level datasets by splitting our sequence datasets into characters."
      ]
    },
    {
      "cell_type": "code",
      "metadata": {
        "colab": {
          "base_uri": "https://localhost:8080/",
          "height": 52
        },
        "id": "yy6cHOGOPREK",
        "outputId": "cb2448b3-44da-46ea-d2f8-0b2ef2f2c9fd"
      },
      "source": [
        "# Split sequence-level data splits into character-level data splits\n",
        "train_chars = [split_chars(sentence) for sentence in train_sentences]\n",
        "val_chars = [split_chars(sentence) for sentence in val_sentences]\n",
        "test_chars = [split_chars(sentence) for sentence in test_sentences]\n",
        "train_chars[1]"
      ],
      "execution_count": 117,
      "outputs": [
        {
          "output_type": "execute_result",
          "data": {
            "application/vnd.google.colaboratory.intrinsic+json": {
              "type": "string"
            },
            "text/plain": [
              "'i   c a n   g o   f r o m   f e e l i n g   s o   h o p e l e s s   t o   s o   d a m n e d   h o p e f u l   j u s t   f r o m   b e i n g   a r o u n d   s o m e o n e   w h o   c a r e s   a n d   i s   a w a k e'"
            ]
          },
          "metadata": {},
          "execution_count": 117
        }
      ]
    },
    {
      "cell_type": "code",
      "metadata": {
        "colab": {
          "base_uri": "https://localhost:8080/"
        },
        "id": "m1mknOQnPRBb",
        "outputId": "d3fb70fb-ce23-4efd-a054-fe3c6a5db0e0"
      },
      "source": [
        "# What's the average character length?\n",
        "char_lens = [len(sentence) for sentence in train_sentences]\n",
        "mean_char_len = np.mean(char_lens)\n",
        "mean_char_len"
      ],
      "execution_count": 118,
      "outputs": [
        {
          "output_type": "execute_result",
          "data": {
            "text/plain": [
              "96.8458125"
            ]
          },
          "metadata": {},
          "execution_count": 118
        }
      ]
    },
    {
      "cell_type": "code",
      "metadata": {
        "colab": {
          "base_uri": "https://localhost:8080/",
          "height": 265
        },
        "id": "4gsrTtRKPQ-i",
        "outputId": "34b8d33f-1ec3-46a7-f35b-50c96256253d"
      },
      "source": [
        "# Check the distribution of our sequences at character-level\n",
        "import matplotlib.pyplot as plt\n",
        "plt.hist(char_lens, bins=7);"
      ],
      "execution_count": 119,
      "outputs": [
        {
          "output_type": "display_data",
          "data": {
            "image/png": "[encoded data removed]",
            "text/plain": [
              "<Figure size 432x288 with 1 Axes>"
            ]
          },
          "metadata": {
            "needs_background": "light"
          }
        }
      ]
    },
    {
      "cell_type": "markdown",
      "metadata": {
        "id": "kaP0KvIMSZ56"
      },
      "source": [
        "Looks like most of our sequences are between 0 and 210 characters long. Let's use NumPy's percentile to figure out what length covers 95% of our sequences"
      ]
    },
    {
      "cell_type": "code",
      "metadata": {
        "colab": {
          "base_uri": "https://localhost:8080/"
        },
        "id": "3yIyfKG_PQ7b",
        "outputId": "354c375f-6c57-4bb2-cd87-20d0de67daa6"
      },
      "source": [
        "# Find what character length covers 95% of sequences\n",
        "output_seq_char_len = int(np.percentile(char_lens, 95))\n",
        "output_seq_char_len"
      ],
      "execution_count": 120,
      "outputs": [
        {
          "output_type": "execute_result",
          "data": {
            "text/plain": [
              "207"
            ]
          },
          "metadata": {},
          "execution_count": 120
        }
      ]
    },
    {
      "cell_type": "markdown",
      "metadata": {
        "id": "95ijibACSsAg"
      },
      "source": [
        "Now we know the sequence length which covers 95% of sequences, we'll use that in our `TextVectorization` layer as the `output_sequence_length` parameter."
      ]
    },
    {
      "cell_type": "code",
      "metadata": {
        "colab": {
          "base_uri": "https://localhost:8080/",
          "height": 35
        },
        "id": "e8bz3BX5PQ4y",
        "outputId": "1e0b7876-5c28-43d2-aeff-e37131d01137"
      },
      "source": [
        "# Get all keyboard characters for char-level embedding\n",
        "import string\n",
        "alphabet = string.ascii_lowercase + string.digits + string.punctuation\n",
        "alphabet"
      ],
      "execution_count": 121,
      "outputs": [
        {
          "output_type": "execute_result",
          "data": {
            "application/vnd.google.colaboratory.intrinsic+json": {
              "type": "string"
            },
            "text/plain": [
              "'abcdefghijklmnopqrstuvwxyz0123456789!\"#$%&\\'()*+,-./:;<=>?@[\\\\]^_`{|}~'"
            ]
          },
          "metadata": {},
          "execution_count": 121
        }
      ]
    },
    {
      "cell_type": "code",
      "metadata": {
        "id": "c8l4I7IPPQ2b"
      },
      "source": [
        "# Create char-level token vectorizer instance\n",
        "NUM_CHAR_TOKENS = len(alphabet) + 2 # num characters in alphabet + space + OOV token\n",
        "char_vectorizer = TextVectorization(max_tokens=NUM_CHAR_TOKENS,\n",
        "                                    output_sequence_length=output_seq_char_len,\n",
        "                                    standardize=\"lower_and_strip_punctuation\",\n",
        "                                    name=\"char_vectorizer\")"
      ],
      "execution_count": 122,
      "outputs": []
    },
    {
      "cell_type": "code",
      "metadata": {
        "id": "eVJbrKjXSZYh"
      },
      "source": [
        "# Adapt character vectorizer to training characters\n",
        "char_vectorizer.adapt(train_chars)"
      ],
      "execution_count": 123,
      "outputs": []
    },
    {
      "cell_type": "markdown",
      "metadata": {
        "id": "vjh8Ao34VeDu"
      },
      "source": [
        "Check some characteristics about it using the [`get_vocabulary()`](https://www.tensorflow.org/api_docs/python/tf/keras/layers/experimental/preprocessing/TextVectorization#get_vocabulary) method."
      ]
    },
    {
      "cell_type": "code",
      "metadata": {
        "colab": {
          "base_uri": "https://localhost:8080/"
        },
        "id": "y_N-6IvWSZIu",
        "outputId": "7c711dcf-8df9-4059-edc9-0b903f165ba5"
      },
      "source": [
        "char_vocab = char_vectorizer.get_vocabulary()\n",
        "char_vocab = char_vectorizer.get_vocabulary()\n",
        "print(f\"Number of different characters in character vocab: {len(char_vocab)}\")\n",
        "print(f\"5 most common characters: {char_vocab[:5]}\")\n",
        "print(f\"5 least common characters: {char_vocab[-5:]}\")"
      ],
      "execution_count": 124,
      "outputs": [
        {
          "output_type": "stream",
          "name": "stdout",
          "text": [
            "Number of different characters in character vocab: 28\n",
            "5 most common characters: ['', '[UNK]', 'e', 't', 'i']\n",
            "5 least common characters: ['k', 'j', 'x', 'z', 'q']\n"
          ]
        }
      ]
    },
    {
      "cell_type": "markdown",
      "metadata": {
        "id": "vweYCDiNSZFs"
      },
      "source": [
        "We can also test it on random sequences of characters to make sure it's working."
      ]
    },
    {
      "cell_type": "code",
      "metadata": {
        "colab": {
          "base_uri": "https://localhost:8080/"
        },
        "id": "464OgfehSY-M",
        "outputId": "d5337669-abc7-41e7-c9fc-5c2e750f4fa2"
      },
      "source": [
        "# Test out character vectorizer\n",
        "random_train_chars = random.choice(train_chars)\n",
        "print(f\"Charified text:\\n{random_train_chars}\")\n",
        "print(f\"\\nLength of chars: {len(random_train_chars.split())}\")\n",
        "vectorized_chars = char_vectorizer([random_train_chars])\n",
        "print(f\"\\nVectorized chars:\\n{vectorized_chars}\")\n",
        "print(f\"\\nLength of vectorized chars: {len(vectorized_chars[0])}\")"
      ],
      "execution_count": 125,
      "outputs": [
        {
          "output_type": "stream",
          "name": "stdout",
          "text": [
            "Charified text:\n",
            "i   f e e l   g l a m o r o u s   r i c h   e n o u g h   f o r   e n r i c h i n g   m y   p e r f u m e   c o l l e c t i o n   e v e n   m o r e   h a h a\n",
            "\n",
            "Length of chars: 67\n",
            "\n",
            "Vectorized chars:\n",
            "[[ 4 13  2  2  9 16  9  5 14  6 10  6 15  8 10  4 18 11  2  7  6 15 16 11\n",
            "  13  6 10  2  7 10  4 18 11  4  7 16 14 17 20  2 10 13 15 14  2 18  6  9\n",
            "   9  2 18  3  4  6  7  2 22  2  7 14  6 10  2 11  5 11  5  0  0  0  0  0\n",
            "   0  0  0  0  0  0  0  0  0  0  0  0  0  0  0  0  0  0  0  0  0  0  0  0\n",
            "   0  0  0  0  0  0  0  0  0  0  0  0  0  0  0  0  0  0  0  0  0  0  0  0\n",
            "   0  0  0  0  0  0  0  0  0  0  0  0  0  0  0  0  0  0  0  0  0  0  0  0\n",
            "   0  0  0  0  0  0  0  0  0  0  0  0  0  0  0  0  0  0  0  0  0  0  0  0\n",
            "   0  0  0  0  0  0  0  0  0  0  0  0  0  0  0  0  0  0  0  0  0  0  0  0\n",
            "   0  0  0  0  0  0  0  0  0  0  0  0  0  0  0]]\n",
            "\n",
            "Length of vectorized chars: 207\n"
          ]
        }
      ]
    },
    {
      "cell_type": "markdown",
      "metadata": {
        "id": "5pcevNBZd7a-"
      },
      "source": [
        "Due to the `standardize` parameter of `TextVectorization` being `\"lower_and_strip_punctuation\"` and the `split` parameter being `\"whitespace\"` by default, symbols (such as `@`) and spaces are removed.\n",
        "\n",
        "> 🔑 **Note:** If you didn't want punctuation to be removed (keep the `@`, `%` etc), you can create a custom standardization callable and pass it as the `standardize` parameter. See the [`TextVectorization`](https://www.tensorflow.org/api_docs/python/tf/keras/layers/experimental/preprocessing/TextVectorization) class documentation for more."
      ]
    },
    {
      "cell_type": "markdown",
      "metadata": {
        "id": "A70bu7MbeITy"
      },
      "source": [
        "### Creating a character-level embedding"
      ]
    },
    {
      "cell_type": "code",
      "metadata": {
        "id": "f-6kdtQASY7U"
      },
      "source": [
        "# Create char embedding layer\n",
        "char_embed = layers.Embedding(input_dim=NUM_CHAR_TOKENS, # number of different characters\n",
        "                              output_dim=25, # embedding dimension of each character\n",
        "                              mask_zero=False,\n",
        "                              name=\"char_embed\")"
      ],
      "execution_count": 126,
      "outputs": []
    },
    {
      "cell_type": "code",
      "metadata": {
        "colab": {
          "base_uri": "https://localhost:8080/"
        },
        "id": "JEP7YJXuWr1Q",
        "outputId": "8600bc82-d7f1-4673-d7a5-d73cc55a34dc"
      },
      "source": [
        "# Test out character embedding layer\n",
        "print(f\"Charified text (before vectorization and embedding):\\n{random_train_chars}\\n\")\n",
        "char_embed_example = char_embed(char_vectorizer([random_train_chars]))\n",
        "print(f\"Embedded chars (after vectorization and embedding):\\n{char_embed_example}\\n\")\n",
        "print(f\"Character embedding shape: {char_embed_example.shape}\")"
      ],
      "execution_count": 127,
      "outputs": [
        {
          "output_type": "stream",
          "name": "stdout",
          "text": [
            "Charified text (before vectorization and embedding):\n",
            "i   f e e l   g l a m o r o u s   r i c h   e n o u g h   f o r   e n r i c h i n g   m y   p e r f u m e   c o l l e c t i o n   e v e n   m o r e   h a h a\n",
            "\n",
            "Embedded chars (after vectorization and embedding):\n",
            "[[[-0.00246572 -0.01185737 -0.03568826 ...  0.04514149 -0.03539934\n",
            "    0.02453456]\n",
            "  [-0.02171373  0.01677047 -0.02935927 ...  0.02351118  0.03879222\n",
            "    0.04945655]\n",
            "  [-0.01395111 -0.04053432  0.00692967 ...  0.01307771 -0.04246066\n",
            "    0.00520875]\n",
            "  ...\n",
            "  [-0.02845599 -0.02267873 -0.01093053 ... -0.04270983 -0.00319219\n",
            "    0.02535116]\n",
            "  [-0.02845599 -0.02267873 -0.01093053 ... -0.04270983 -0.00319219\n",
            "    0.02535116]\n",
            "  [-0.02845599 -0.02267873 -0.01093053 ... -0.04270983 -0.00319219\n",
            "    0.02535116]]]\n",
            "\n",
            "Character embedding shape: (1, 207, 25)\n"
          ]
        }
      ]
    },
    {
      "cell_type": "markdown",
      "metadata": {
        "id": "OryKgD4bi02Q"
      },
      "source": [
        "Each of the characters in our sequences gets turned into a 25 dimension embedding."
      ]
    },
    {
      "cell_type": "markdown",
      "metadata": {
        "id": "qOJP8pIiWrzA"
      },
      "source": [
        "### Building a Conv1D model to fit on character embeddings"
      ]
    },
    {
      "cell_type": "code",
      "metadata": {
        "id": "4ySUmjYuWrrw"
      },
      "source": [
        "# Make Conv1D on chars only\n",
        "inputs = layers.Input(shape=(1,), dtype=\"string\")\n",
        "char_vectors = char_vectorizer(inputs)\n",
        "char_embeddings = char_embed(char_vectors)\n",
        "x = layers.Conv1D(64, kernel_size=3, padding=\"same\", activation=\"relu\")(char_embeddings)\n",
        "x = layers.GlobalMaxPool1D()(x)\n",
        "outputs = layers.Dense(num_classes, activation=\"softmax\")(x)\n",
        "model_6 = tf.keras.Model(inputs, outputs, name=\"model_6_conv1D_char_embedding\")"
      ],
      "execution_count": 128,
      "outputs": []
    },
    {
      "cell_type": "code",
      "metadata": {
        "id": "TIne_32LWro0"
      },
      "source": [
        "# Compile model\n",
        "model_6.compile(loss=\"categorical_crossentropy\",\n",
        "                optimizer=tf.keras.optimizers.Adam(),\n",
        "                metrics=[\"accuracy\"])"
      ],
      "execution_count": 129,
      "outputs": []
    },
    {
      "cell_type": "code",
      "metadata": {
        "colab": {
          "base_uri": "https://localhost:8080/"
        },
        "id": "ROZOb4RHWrmA",
        "outputId": "efd9b25a-b0b5-4507-b239-898f0019afb8"
      },
      "source": [
        "# Get the summary of the model\n",
        "model_6.summary()"
      ],
      "execution_count": 130,
      "outputs": [
        {
          "output_type": "stream",
          "name": "stdout",
          "text": [
            "Model: \"model_6_conv1D_char_embedding\"\n",
            "_________________________________________________________________\n",
            "Layer (type)                 Output Shape              Param #   \n",
            "=================================================================\n",
            "input_7 (InputLayer)         [(None, 1)]               0         \n",
            "_________________________________________________________________\n",
            "char_vectorizer (TextVectori (None, 207)               0         \n",
            "_________________________________________________________________\n",
            "char_embed (Embedding)       (None, 207, 25)           1750      \n",
            "_________________________________________________________________\n",
            "conv1d_1 (Conv1D)            (None, 207, 64)           4864      \n",
            "_________________________________________________________________\n",
            "global_max_pooling1d (Global (None, 64)                0         \n",
            "_________________________________________________________________\n",
            "dense_9 (Dense)              (None, 6)                 390       \n",
            "=================================================================\n",
            "Total params: 7,004\n",
            "Trainable params: 7,004\n",
            "Non-trainable params: 0\n",
            "_________________________________________________________________\n"
          ]
        }
      ]
    },
    {
      "cell_type": "markdown",
      "metadata": {
        "id": "3COyKKtZkdrm"
      },
      "source": [
        "Before fitting our model on the data, we'll create char-level batched `PrefetchedDataset`'s."
      ]
    },
    {
      "cell_type": "code",
      "metadata": {
        "colab": {
          "base_uri": "https://localhost:8080/"
        },
        "id": "QAs0v1W1j_Ut",
        "outputId": "951e6240-d242-4ada-bcbb-c5f38f2ce92b"
      },
      "source": [
        "# Create char datasets\n",
        "train_char_dataset = tf.data.Dataset.from_tensor_slices((train_chars, train_labels_one_hot)).batch(32).prefetch(tf.data.AUTOTUNE)\n",
        "val_char_dataset = tf.data.Dataset.from_tensor_slices((val_chars, val_labels_one_hot)).batch(32).prefetch(tf.data.AUTOTUNE)\n",
        "test_char_dataset = tf.data.Dataset.from_tensor_slices((test_chars, test_labels_one_hot)).batch(32).prefetch(tf.data.AUTOTUNE)\n",
        "\n",
        "train_char_dataset"
      ],
      "execution_count": 131,
      "outputs": [
        {
          "output_type": "execute_result",
          "data": {
            "text/plain": [
              "<PrefetchDataset shapes: ((None,), (None, 6)), types: (tf.string, tf.float64)>"
            ]
          },
          "metadata": {},
          "execution_count": 131
        }
      ]
    },
    {
      "cell_type": "code",
      "metadata": {
        "colab": {
          "base_uri": "https://localhost:8080/"
        },
        "id": "m5Vdvy3Aj_S0",
        "outputId": "54712365-091e-4c9d-d913-70290aed8780"
      },
      "source": [
        "# Fit the model\n",
        "history_model_6 = model_6.fit(train_char_dataset,\n",
        "                              epochs=5,\n",
        "                              validation_data=val_char_dataset)"
      ],
      "execution_count": 132,
      "outputs": [
        {
          "output_type": "stream",
          "name": "stdout",
          "text": [
            "Epoch 1/5\n",
            "500/500 [==============================] - 5s 9ms/step - loss: 1.5704 - accuracy: 0.3533 - val_loss: 1.5467 - val_accuracy: 0.3805\n",
            "Epoch 2/5\n",
            "500/500 [==============================] - 4s 9ms/step - loss: 1.4966 - accuracy: 0.4026 - val_loss: 1.4608 - val_accuracy: 0.4445\n",
            "Epoch 3/5\n",
            "500/500 [==============================] - 4s 9ms/step - loss: 1.4005 - accuracy: 0.4505 - val_loss: 1.3697 - val_accuracy: 0.4810\n",
            "Epoch 4/5\n",
            "500/500 [==============================] - 4s 9ms/step - loss: 1.3231 - accuracy: 0.4886 - val_loss: 1.3107 - val_accuracy: 0.5060\n",
            "Epoch 5/5\n",
            "500/500 [==============================] - 4s 9ms/step - loss: 1.2664 - accuracy: 0.5151 - val_loss: 1.2702 - val_accuracy: 0.5245\n"
          ]
        }
      ]
    },
    {
      "cell_type": "code",
      "metadata": {
        "colab": {
          "base_uri": "https://localhost:8080/"
        },
        "id": "H2axaj9wj_FK",
        "outputId": "92abcad1-3e99-4363-c6f4-520616eb1fac"
      },
      "source": [
        "# Evaluate model on test dataset\n",
        "model_6.evaluate(test_char_dataset)"
      ],
      "execution_count": 133,
      "outputs": [
        {
          "output_type": "stream",
          "name": "stdout",
          "text": [
            "63/63 [==============================] - 0s 5ms/step - loss: 1.2684 - accuracy: 0.5225\n"
          ]
        },
        {
          "output_type": "execute_result",
          "data": {
            "text/plain": [
              "[1.2683758735656738, 0.5224999785423279]"
            ]
          },
          "metadata": {},
          "execution_count": 133
        }
      ]
    },
    {
      "cell_type": "code",
      "metadata": {
        "colab": {
          "base_uri": "https://localhost:8080/"
        },
        "id": "JOlQ2BdJCXdP",
        "outputId": "e5e2633e-6b48-4ff8-f628-66bd827107ca"
      },
      "source": [
        "# Make predictions \n",
        "model_6_pred_probs = model_6.predict(test_chars)\n",
        "model_6_pred_probs[:10]"
      ],
      "execution_count": 134,
      "outputs": [
        {
          "output_type": "execute_result",
          "data": {
            "text/plain": [
              "array([[0.24247655, 0.33057597, 0.10786345, 0.08071306, 0.22794592,\n",
              "        0.01042505],\n",
              "       [0.04392489, 0.06138986, 0.34510335, 0.07713275, 0.45674947,\n",
              "        0.01569957],\n",
              "       [0.06108215, 0.24933931, 0.26219836, 0.04053583, 0.35497713,\n",
              "        0.03186729],\n",
              "       [0.15266766, 0.06472691, 0.50306475, 0.04722549, 0.22414736,\n",
              "        0.00816785],\n",
              "       [0.03798876, 0.09314442, 0.15511626, 0.02954783, 0.67423177,\n",
              "        0.00997092],\n",
              "       [0.02873454, 0.5946907 , 0.13455799, 0.05106261, 0.18784295,\n",
              "        0.00311126],\n",
              "       [0.32598117, 0.16517764, 0.13353235, 0.17180152, 0.15046322,\n",
              "        0.05304409],\n",
              "       [0.05394742, 0.12014763, 0.59285563, 0.07517202, 0.15259813,\n",
              "        0.00527922],\n",
              "       [0.13096604, 0.09422838, 0.31241792, 0.05665783, 0.36845654,\n",
              "        0.03727328],\n",
              "       [0.1669926 , 0.08802048, 0.50115603, 0.03448864, 0.18951473,\n",
              "        0.01982746]], dtype=float32)"
            ]
          },
          "metadata": {},
          "execution_count": 134
        }
      ]
    },
    {
      "cell_type": "code",
      "metadata": {
        "colab": {
          "base_uri": "https://localhost:8080/"
        },
        "id": "posBv3gECXai",
        "outputId": "a2496209-73c4-4c5a-b0e2-2476377c0508"
      },
      "source": [
        "# Convert model_6_pred_probs to labels\n",
        "model_6_preds = tf.argmax(model_6_pred_probs, axis=1)\n",
        "model_6_preds"
      ],
      "execution_count": 135,
      "outputs": [
        {
          "output_type": "execute_result",
          "data": {
            "text/plain": [
              "<tf.Tensor: shape=(2000,), dtype=int64, numpy=array([1, 4, 4, ..., 2, 4, 2])>"
            ]
          },
          "metadata": {},
          "execution_count": 135
        }
      ]
    },
    {
      "cell_type": "code",
      "metadata": {
        "colab": {
          "base_uri": "https://localhost:8080/"
        },
        "id": "XVnyn1-GC5vE",
        "outputId": "3e39c18b-75e2-441d-e967-b853c8981df3"
      },
      "source": [
        "# Calculate model 6 results\n",
        "model_6_results = calculate_results(y_true=test_labels_encoded,\n",
        "                                    y_pred=model_6_preds)\n",
        "model_6_results"
      ],
      "execution_count": 136,
      "outputs": [
        {
          "output_type": "execute_result",
          "data": {
            "text/plain": [
              "{'accuracy': 52.25,\n",
              " 'f1': 0.49265482623444246,\n",
              " 'precision': 0.5100395031197945,\n",
              " 'recall': 0.5225}"
            ]
          },
          "metadata": {},
          "execution_count": 136
        }
      ]
    },
    {
      "cell_type": "code",
      "metadata": {
        "colab": {
          "base_uri": "https://localhost:8080/",
          "height": 573
        },
        "id": "StSvDQ7PCXXv",
        "outputId": "ecefa1fe-3b43-4a24-9293-f7c410f1999b"
      },
      "source": [
        "plot_loss_curves(history_model_6)"
      ],
      "execution_count": 137,
      "outputs": [
        {
          "output_type": "display_data",
          "data": {
            "image/png": "[encoded data removed]",
            "text/plain": [
              "<Figure size 432x288 with 1 Axes>"
            ]
          },
          "metadata": {
            "needs_background": "light"
          }
        },
        {
          "output_type": "display_data",
          "data": {
            "image/png": "[encoded data removed]",
            "text/plain": [
              "<Figure size 432x288 with 1 Axes>"
            ]
          },
          "metadata": {
            "needs_background": "light"
          }
        }
      ]
    },
    {
      "cell_type": "code",
      "metadata": {
        "colab": {
          "base_uri": "https://localhost:8080/"
        },
        "id": "x836A-QfCXVG",
        "outputId": "62d8df58-e098-42b7-f72f-5b302b2e9e74"
      },
      "source": [
        "# Compare model_5's results with model_6's results\n",
        "compare_results(old_model_results=model_5_results, \n",
        "                new_model_results=model_6_results)"
      ],
      "execution_count": 138,
      "outputs": [
        {
          "output_type": "stream",
          "name": "stdout",
          "text": [
            "Old accuracy: 67.10, New accuracy: 52.25, Difference: -14.85\n",
            "Old precision: 0.67, New precision: 0.51, Difference: -0.16\n",
            "Old recall: 0.67, New recall: 0.52, Difference: -0.15\n",
            "Old f1: 0.66, New f1: 0.49, Difference: -0.17\n"
          ]
        }
      ]
    },
    {
      "cell_type": "markdown",
      "metadata": {
        "id": "TzdP1g3At0xJ"
      },
      "source": [
        "## Model 7: Combining pretrained token embeddings + character embeddings (hybrid embedding layer)"
      ]
    },
    {
      "cell_type": "code",
      "metadata": {
        "id": "CjK8IfX2j_B-"
      },
      "source": [
        "# 1. Setup token inputs/model\n",
        "token_inputs = layers.Input(shape=[], dtype=\"string\", name=\"token_inputs\")\n",
        "token_embeddings = sentence_encoder_layer(token_inputs)\n",
        "token_outputs = layers.Dense(128, activation=\"relu\")(token_embeddings)\n",
        "token_model = tf.keras.Model(inputs=token_inputs,\n",
        "                             outputs=token_outputs)\n",
        "\n",
        "# 2. Setup char inptus/model\n",
        "## Create a new char embedding layer\n",
        "char_embed_2 = layers.Embedding(input_dim=NUM_CHAR_TOKENS, # number of different characters\n",
        "                              output_dim=25, # embedding dimension of each character\n",
        "                              mask_zero=False,\n",
        "                              name=\"char_embed_2\")\n",
        "\n",
        "char_inputs = layers.Input(shape=(1,), dtype=\"string\", name=\"char_inputs\")\n",
        "char_vectors = char_vectorizer(char_inputs)\n",
        "char_embeddings = char_embed_2(char_vectors)\n",
        "char_bi_lstm = layers.Bidirectional(layers.LSTM(25))(char_embeddings)\n",
        "char_model = tf.keras.Model(inputs=char_inputs,\n",
        "                            outputs=char_bi_lstm)\n",
        "\n",
        "# 3. Concatenate token and char inputs (create hybrid token embedding)\n",
        "token_char_concat = layers.Concatenate(name=\"token_char_hybrid\")([token_model.output,\n",
        "                                                                  char_model.output])\n",
        "\n",
        "# 4. Create output layers\n",
        "combined_dropout = layers.Dropout(0.5)(token_char_concat)\n",
        "combined_dense = layers.Dense(200, activation=\"relu\")(combined_dropout)\n",
        "final_dropout = layers.Dropout(0.5)(combined_dense)\n",
        "output_layer = layers.Dense(num_classes, activation=\"softmax\")(final_dropout)\n",
        "\n",
        "# 5. Construct model with chat and token inputs\n",
        "model_7 = tf.keras.Model(inputs=[token_model.input, char_model.input],\n",
        "                         outputs=output_layer,\n",
        "                         name=\"model_7_token_char_embedding\")"
      ],
      "execution_count": 139,
      "outputs": []
    },
    {
      "cell_type": "code",
      "metadata": {
        "id": "HS6IHxrWj-_E",
        "colab": {
          "base_uri": "https://localhost:8080/"
        },
        "outputId": "97ae3643-cb6b-4c08-d542-a0eca33d7d76"
      },
      "source": [
        "# Get summary of the model\n",
        "model_7.summary()"
      ],
      "execution_count": 140,
      "outputs": [
        {
          "output_type": "stream",
          "name": "stdout",
          "text": [
            "Model: \"model_7_token_char_embedding\"\n",
            "__________________________________________________________________________________________________\n",
            "Layer (type)                    Output Shape         Param #     Connected to                     \n",
            "==================================================================================================\n",
            "char_inputs (InputLayer)        [(None, 1)]          0                                            \n",
            "__________________________________________________________________________________________________\n",
            "token_inputs (InputLayer)       [(None,)]            0                                            \n",
            "__________________________________________________________________________________________________\n",
            "char_vectorizer (TextVectorizat (None, 207)          0           char_inputs[0][0]                \n",
            "__________________________________________________________________________________________________\n",
            "USE (KerasLayer)                (None, 512)          256797824   token_inputs[0][0]               \n",
            "__________________________________________________________________________________________________\n",
            "char_embed_2 (Embedding)        (None, 207, 25)      1750        char_vectorizer[1][0]            \n",
            "__________________________________________________________________________________________________\n",
            "dense_10 (Dense)                (None, 128)          65664       USE[1][0]                        \n",
            "__________________________________________________________________________________________________\n",
            "bidirectional_2 (Bidirectional) (None, 50)           10200       char_embed_2[0][0]               \n",
            "__________________________________________________________________________________________________\n",
            "token_char_hybrid (Concatenate) (None, 178)          0           dense_10[0][0]                   \n",
            "                                                                 bidirectional_2[0][0]            \n",
            "__________________________________________________________________________________________________\n",
            "dropout (Dropout)               (None, 178)          0           token_char_hybrid[0][0]          \n",
            "__________________________________________________________________________________________________\n",
            "dense_11 (Dense)                (None, 200)          35800       dropout[0][0]                    \n",
            "__________________________________________________________________________________________________\n",
            "dropout_1 (Dropout)             (None, 200)          0           dense_11[0][0]                   \n",
            "__________________________________________________________________________________________________\n",
            "dense_12 (Dense)                (None, 6)            1206        dropout_1[0][0]                  \n",
            "==================================================================================================\n",
            "Total params: 256,912,444\n",
            "Trainable params: 114,620\n",
            "Non-trainable params: 256,797,824\n",
            "__________________________________________________________________________________________________\n"
          ]
        }
      ]
    },
    {
      "cell_type": "code",
      "metadata": {
        "id": "5BRhvDMbj-8j",
        "colab": {
          "base_uri": "https://localhost:8080/",
          "height": 856
        },
        "outputId": "dac48149-fad8-4ae1-aa74-94d93b0da14f"
      },
      "source": [
        "# Plot hybrid (token and character) model\n",
        "from tensorflow.keras.utils import plot_model\n",
        "plot_model(model_7)"
      ],
      "execution_count": 141,
      "outputs": [
        {
          "output_type": "execute_result",
          "data": {
            "image/png": "[encoded data removed]",
            "text/plain": [
              "<IPython.core.display.Image object>"
            ]
          },
          "metadata": {},
          "execution_count": 141
        }
      ]
    },
    {
      "cell_type": "code",
      "metadata": {
        "id": "WRVnSHXt6eK-"
      },
      "source": [
        "# Compile token char model\n",
        "model_7.compile(loss=\"categorical_crossentropy\",\n",
        "                optimizer=\"Adam\",\n",
        "                metrics=[\"accuracy\"])"
      ],
      "execution_count": 142,
      "outputs": []
    },
    {
      "cell_type": "markdown",
      "metadata": {
        "id": "8cDbfHSg7GOu"
      },
      "source": [
        "### Combining token and character data into a `tf.data` dataset"
      ]
    },
    {
      "cell_type": "code",
      "metadata": {
        "id": "AFjTiqXf6hPr"
      },
      "source": [
        "# Combine chars and tokens into a dataset\n",
        "train_char_token_data = tf.data.Dataset.from_tensor_slices((train_sentences, train_chars)) # make data\n",
        "train_char_token_labels = tf.data.Dataset.from_tensor_slices((train_labels_one_hot)) # make labels\n",
        "train_char_token_dataset = tf.data.Dataset.zip((train_char_token_data, train_char_token_labels)) # combine data and labels\n",
        "\n",
        "# Prefetch and batch train data\n",
        "train_char_token_dataset = train_char_token_dataset.batch(32).prefetch(tf.data.AUTOTUNE)\n",
        "\n",
        "# Repeat same steps for validation data\n",
        "val_char_token_data = tf.data.Dataset.from_tensor_slices((val_sentences, val_chars))\n",
        "val_char_token_labels = tf.data.Dataset.from_tensor_slices((val_labels_one_hot))\n",
        "val_char_token_dataset = tf.data.Dataset.zip((val_char_token_data, val_char_token_labels))\n",
        "val_char_token_dataset = val_char_token_dataset.batch(32).prefetch(tf.data.AUTOTUNE)\n",
        "\n",
        "# Repeat same steps for test data\n",
        "test_char_token_data = tf.data.Dataset.from_tensor_slices((test_sentences, test_chars))\n",
        "test_char_token_labels = tf.data.Dataset.from_tensor_slices((test_labels_one_hot))\n",
        "test_char_token_dataset = tf.data.Dataset.zip((test_char_token_data, test_char_token_labels))\n",
        "test_char_token_dataset = test_char_token_dataset.batch(32).prefetch(tf.data.AUTOTUNE)"
      ],
      "execution_count": 143,
      "outputs": []
    },
    {
      "cell_type": "code",
      "metadata": {
        "colab": {
          "base_uri": "https://localhost:8080/"
        },
        "id": "1lhW0Poj6hNX",
        "outputId": "257e033f-4c7c-4757-b6ec-0ce05b880c7e"
      },
      "source": [
        "# Check out training char and token embedding dataset\n",
        "train_char_token_dataset, val_char_token_dataset, test_char_token_dataset"
      ],
      "execution_count": 144,
      "outputs": [
        {
          "output_type": "execute_result",
          "data": {
            "text/plain": [
              "(<PrefetchDataset shapes: (((None,), (None,)), (None, 6)), types: ((tf.string, tf.string), tf.float64)>,\n",
              " <PrefetchDataset shapes: (((None,), (None,)), (None, 6)), types: ((tf.string, tf.string), tf.float64)>,\n",
              " <PrefetchDataset shapes: (((None,), (None,)), (None, 6)), types: ((tf.string, tf.string), tf.float64)>)"
            ]
          },
          "metadata": {},
          "execution_count": 144
        }
      ]
    },
    {
      "cell_type": "markdown",
      "metadata": {
        "id": "KQPLBYSL9n6w"
      },
      "source": [
        "### Fitting the model"
      ]
    },
    {
      "cell_type": "code",
      "metadata": {
        "colab": {
          "base_uri": "https://localhost:8080/"
        },
        "id": "hesMrlfS6hK5",
        "outputId": "6b63d5e1-2ed2-481e-c22a-a99667e31154"
      },
      "source": [
        "# Fit the model\n",
        "history_model_7 = model_7.fit(train_char_token_dataset,\n",
        "                              epochs=5,\n",
        "                              validation_data=val_char_token_dataset)"
      ],
      "execution_count": 145,
      "outputs": [
        {
          "output_type": "stream",
          "name": "stdout",
          "text": [
            "Epoch 1/5\n",
            "500/500 [==============================] - 50s 91ms/step - loss: 1.2284 - accuracy: 0.5436 - val_loss: 1.0030 - val_accuracy: 0.6285\n",
            "Epoch 2/5\n",
            "500/500 [==============================] - 44s 88ms/step - loss: 1.0190 - accuracy: 0.6239 - val_loss: 0.9452 - val_accuracy: 0.6465\n",
            "Epoch 3/5\n",
            "500/500 [==============================] - 44s 88ms/step - loss: 0.9566 - accuracy: 0.6446 - val_loss: 0.9162 - val_accuracy: 0.6515\n",
            "Epoch 4/5\n",
            "500/500 [==============================] - 44s 88ms/step - loss: 0.9091 - accuracy: 0.6628 - val_loss: 0.8870 - val_accuracy: 0.6610\n",
            "Epoch 5/5\n",
            "500/500 [==============================] - 44s 88ms/step - loss: 0.8729 - accuracy: 0.6769 - val_loss: 0.8780 - val_accuracy: 0.6695\n"
          ]
        }
      ]
    },
    {
      "cell_type": "code",
      "metadata": {
        "id": "evB3WeJS6hId",
        "colab": {
          "base_uri": "https://localhost:8080/"
        },
        "outputId": "79a8d06b-a3a9-4281-c203-d963300b13ba"
      },
      "source": [
        "# Evaluate the model on test_char_token_dataset\n",
        "model_7.evaluate(test_char_token_dataset)"
      ],
      "execution_count": 146,
      "outputs": [
        {
          "output_type": "stream",
          "name": "stdout",
          "text": [
            "63/63 [==============================] - 3s 41ms/step - loss: 0.8883 - accuracy: 0.6605\n"
          ]
        },
        {
          "output_type": "execute_result",
          "data": {
            "text/plain": [
              "[0.888264536857605, 0.6604999899864197]"
            ]
          },
          "metadata": {},
          "execution_count": 146
        }
      ]
    },
    {
      "cell_type": "code",
      "metadata": {
        "id": "--NK4REw6hF7",
        "colab": {
          "base_uri": "https://localhost:8080/"
        },
        "outputId": "c8d9476a-f673-4a32-d399-ecb5b7a358fb"
      },
      "source": [
        "# Make predictions \n",
        "model_7_pred_probs = model_7.predict(test_char_token_dataset)\n",
        "model_7_pred_probs[:10]"
      ],
      "execution_count": 147,
      "outputs": [
        {
          "output_type": "execute_result",
          "data": {
            "text/plain": [
              "array([[1.4668833e-01, 1.8367790e-02, 1.1796282e-01, 1.4625819e-02,\n",
              "        6.9885719e-01, 3.4980550e-03],\n",
              "       [1.9728910e-02, 3.9834478e-03, 8.2506903e-02, 8.3891576e-04,\n",
              "        8.9183611e-01, 1.1056825e-03],\n",
              "       [2.1813689e-02, 1.8541029e-02, 1.6596304e-02, 1.1954417e-02,\n",
              "        9.3038034e-01, 7.1411167e-04],\n",
              "       [3.4500100e-02, 2.4773516e-02, 4.6293950e-01, 3.6326873e-01,\n",
              "        9.2953362e-02, 2.1564759e-02],\n",
              "       [1.2081483e-01, 9.5149511e-03, 8.0689371e-02, 1.3487916e-03,\n",
              "        7.7389139e-01, 1.3740640e-02],\n",
              "       [6.6259325e-02, 7.6454264e-01, 1.4058652e-02, 2.1158785e-03,\n",
              "        1.4489420e-01, 8.1293257e-03],\n",
              "       [7.9002696e-01, 1.4185871e-01, 2.2035378e-03, 7.0231676e-04,\n",
              "        6.4737827e-02, 4.7066517e-04],\n",
              "       [7.2543390e-02, 1.5771699e-01, 4.0120107e-01, 1.8307585e-01,\n",
              "        1.4387360e-01, 4.1589085e-02],\n",
              "       [4.7879748e-02, 2.4853779e-01, 5.1903236e-01, 5.8988683e-02,\n",
              "        6.5767527e-02, 5.9793867e-02],\n",
              "       [4.0540811e-01, 7.7871449e-02, 1.6181280e-01, 2.2270033e-02,\n",
              "        3.1052855e-01, 2.2109097e-02]], dtype=float32)"
            ]
          },
          "metadata": {},
          "execution_count": 147
        }
      ]
    },
    {
      "cell_type": "code",
      "metadata": {
        "id": "A2Y4NllJCOCx",
        "colab": {
          "base_uri": "https://localhost:8080/"
        },
        "outputId": "6151a407-fde7-416f-fcad-d8f1964d8f7f"
      },
      "source": [
        "# Convert model_7_pred_probs to labels\n",
        "model_7_preds = tf.argmax(model_7_pred_probs, axis=1)\n",
        "model_7_preds"
      ],
      "execution_count": 148,
      "outputs": [
        {
          "output_type": "execute_result",
          "data": {
            "text/plain": [
              "<tf.Tensor: shape=(2000,), dtype=int64, numpy=array([4, 4, 4, ..., 2, 2, 1])>"
            ]
          },
          "metadata": {},
          "execution_count": 148
        }
      ]
    },
    {
      "cell_type": "code",
      "metadata": {
        "id": "4PAdsL_vCOAt",
        "colab": {
          "base_uri": "https://localhost:8080/"
        },
        "outputId": "b4bad19a-715b-40f8-e92a-296db7b573c7"
      },
      "source": [
        "# Turn prediction probabilities into prediction classes\n",
        "model_7_preds = tf.argmax(model_7_pred_probs, axis=1)\n",
        "model_7_preds"
      ],
      "execution_count": 149,
      "outputs": [
        {
          "output_type": "execute_result",
          "data": {
            "text/plain": [
              "<tf.Tensor: shape=(2000,), dtype=int64, numpy=array([4, 4, 4, ..., 2, 2, 1])>"
            ]
          },
          "metadata": {},
          "execution_count": 149
        }
      ]
    },
    {
      "cell_type": "code",
      "metadata": {
        "id": "LBFy4LWkCN-D",
        "colab": {
          "base_uri": "https://localhost:8080/"
        },
        "outputId": "d4502a78-b24e-4158-ae88-daa69901aa69"
      },
      "source": [
        "# Get results of token-char-hybrid model\n",
        "model_7_results = calculate_results(y_true=test_labels_encoded,\n",
        "                                    y_pred=model_7_preds)\n",
        "model_7_results"
      ],
      "execution_count": 150,
      "outputs": [
        {
          "output_type": "execute_result",
          "data": {
            "text/plain": [
              "{'accuracy': 66.05,\n",
              " 'f1': 0.6514465258558072,\n",
              " 'precision': 0.6553436750654223,\n",
              " 'recall': 0.6605}"
            ]
          },
          "metadata": {},
          "execution_count": 150
        }
      ]
    },
    {
      "cell_type": "code",
      "metadata": {
        "id": "4J3VpsmOCN7c",
        "colab": {
          "base_uri": "https://localhost:8080/",
          "height": 573
        },
        "outputId": "5f590f12-06e9-4571-e31c-a6ebfa5623bd"
      },
      "source": [
        "plot_loss_curves(history_model_7)"
      ],
      "execution_count": 151,
      "outputs": [
        {
          "output_type": "display_data",
          "data": {
            "image/png": "[encoded data removed]",
            "text/plain": [
              "<Figure size 432x288 with 1 Axes>"
            ]
          },
          "metadata": {
            "needs_background": "light"
          }
        },
        {
          "output_type": "display_data",
          "data": {
            "image/png": "[encoded data removed]",
            "text/plain": [
              "<Figure size 432x288 with 1 Axes>"
            ]
          },
          "metadata": {
            "needs_background": "light"
          }
        }
      ]
    },
    {
      "cell_type": "code",
      "metadata": {
        "id": "v0YVNtXICN5G",
        "colab": {
          "base_uri": "https://localhost:8080/"
        },
        "outputId": "e07d2e4a-8cc5-465b-b5a8-dfd8856ea906"
      },
      "source": [
        "# Compare model_6's results with model_7's results\n",
        "compare_results(old_model_results=model_6_results, \n",
        "                new_model_results=model_7_results)"
      ],
      "execution_count": 152,
      "outputs": [
        {
          "output_type": "stream",
          "name": "stdout",
          "text": [
            "Old accuracy: 52.25, New accuracy: 66.05, Difference: 13.80\n",
            "Old precision: 0.51, New precision: 0.66, Difference: 0.15\n",
            "Old recall: 0.52, New recall: 0.66, Difference: 0.14\n",
            "Old f1: 0.49, New f1: 0.65, Difference: 0.16\n"
          ]
        }
      ]
    },
    {
      "cell_type": "markdown",
      "metadata": {
        "id": "LOc_Ydr2EbgQ"
      },
      "source": [
        "## Model 8: Transfer Learning with Fine-tuned token embeddings + character embeddings"
      ]
    },
    {
      "cell_type": "code",
      "metadata": {
        "id": "_300Ox1SESLF"
      },
      "source": [
        "# 1. Token inputs/model\n",
        "## Create a new embedding layer\n",
        "sentence_encoder_layer_trainable = hub.KerasLayer(\"https://tfhub.dev/google/universal-sentence-encoder/4\",\n",
        "                                                  input_shape=[], # shape of inputs coming to our model \n",
        "                                                  dtype=tf.string, # data type of inputs coming to the USE layer\n",
        "                                                  trainable=True, # Fine-tuning\n",
        "                                                  name=\"USE_Trainable\")\n",
        "\n",
        "token_inputs = layers.Input(shape=[], dtype=\"string\", name=\"token_inputs\")\n",
        "token_embeddings = sentence_encoder_layer_trainable(token_inputs)\n",
        "token_outputs = layers.Dense(128, activation=\"relu\")(token_embeddings)\n",
        "token_model = tf.keras.Model(inputs=token_inputs,\n",
        "                             outputs=token_outputs)\n",
        "\n",
        "# 2. Char inputs/model\n",
        "## Create a new char embedding layer\n",
        "char_embed_3 = layers.Embedding(input_dim=NUM_CHAR_TOKENS, # number of different characters\n",
        "                              output_dim=25, # embedding dimension of each character\n",
        "                              mask_zero=False,\n",
        "                              name=\"char_embed_3\")\n",
        "\n",
        "char_inputs = layers.Input(shape=(1,), dtype=\"string\", name=\"char_inputs\")\n",
        "char_vectors = char_vectorizer(char_inputs)\n",
        "char_embeddings = char_embed_3(char_vectors)\n",
        "char_bi_lstm = layers.Bidirectional(layers.LSTM(32))(char_embeddings)\n",
        "char_model = tf.keras.Model(inputs=char_inputs,\n",
        "                            outputs=char_bi_lstm)\n",
        "\n",
        "# 3. Concatenate token and char inputs (chreate hybrid token embedding)\n",
        "token_char_concat = layers.Concatenate(name=\"token_char_hybrid\")([token_model.output,\n",
        "                                                                  char_model.output])\n",
        "\n",
        "# 4. Create output layers\n",
        "combined_dropout = layers.Dropout(0.5)(token_char_concat)\n",
        "combined_dense = layers.Dense(152, activation=\"relu\")(combined_dropout)\n",
        "final_dropout = layers.Dropout(0.5)(combined_dense)\n",
        "output_layer = layers.Dense(num_classes, activation=\"softmax\")(final_dropout)\n",
        "\n",
        "# Construct model with char and token inputs\n",
        "model_8 = tf.keras.Model(inputs=[token_model.input, char_model.input],\n",
        "                         outputs=output_layer,\n",
        "                         name=\"model_8_trained_token_and_char_embeddings\")"
      ],
      "execution_count": 153,
      "outputs": []
    },
    {
      "cell_type": "code",
      "metadata": {
        "id": "olkAwvhVESIR",
        "colab": {
          "base_uri": "https://localhost:8080/"
        },
        "outputId": "78918171-b92e-4bb3-e6ff-093ae2235a22"
      },
      "source": [
        "# Get a summary of the model\n",
        "model_8.summary()"
      ],
      "execution_count": 154,
      "outputs": [
        {
          "output_type": "stream",
          "name": "stdout",
          "text": [
            "Model: \"model_8_trained_token_and_char_embeddings\"\n",
            "__________________________________________________________________________________________________\n",
            "Layer (type)                    Output Shape         Param #     Connected to                     \n",
            "==================================================================================================\n",
            "char_inputs (InputLayer)        [(None, 1)]          0                                            \n",
            "__________________________________________________________________________________________________\n",
            "token_inputs (InputLayer)       [(None,)]            0                                            \n",
            "__________________________________________________________________________________________________\n",
            "char_vectorizer (TextVectorizat (None, 207)          0           char_inputs[0][0]                \n",
            "__________________________________________________________________________________________________\n",
            "USE_Trainable (KerasLayer)      (None, 512)          256797824   token_inputs[0][0]               \n",
            "__________________________________________________________________________________________________\n",
            "char_embed_3 (Embedding)        (None, 207, 25)      1750        char_vectorizer[2][0]            \n",
            "__________________________________________________________________________________________________\n",
            "dense_13 (Dense)                (None, 128)          65664       USE_Trainable[0][0]              \n",
            "__________________________________________________________________________________________________\n",
            "bidirectional_3 (Bidirectional) (None, 64)           14848       char_embed_3[0][0]               \n",
            "__________________________________________________________________________________________________\n",
            "token_char_hybrid (Concatenate) (None, 192)          0           dense_13[0][0]                   \n",
            "                                                                 bidirectional_3[0][0]            \n",
            "__________________________________________________________________________________________________\n",
            "dropout_2 (Dropout)             (None, 192)          0           token_char_hybrid[0][0]          \n",
            "__________________________________________________________________________________________________\n",
            "dense_14 (Dense)                (None, 152)          29336       dropout_2[0][0]                  \n",
            "__________________________________________________________________________________________________\n",
            "dropout_3 (Dropout)             (None, 152)          0           dense_14[0][0]                   \n",
            "__________________________________________________________________________________________________\n",
            "dense_15 (Dense)                (None, 6)            918         dropout_3[0][0]                  \n",
            "==================================================================================================\n",
            "Total params: 256,910,340\n",
            "Trainable params: 256,910,340\n",
            "Non-trainable params: 0\n",
            "__________________________________________________________________________________________________\n"
          ]
        }
      ]
    },
    {
      "cell_type": "code",
      "metadata": {
        "id": "HtVyjlUBESFH",
        "colab": {
          "base_uri": "https://localhost:8080/",
          "height": 856
        },
        "outputId": "b7c6845f-b5ce-4c9f-e6cb-fdb587a2d079"
      },
      "source": [
        "# Plot hybrid token and character model\n",
        "from tensorflow.keras.utils import plot_model\n",
        "plot_model(model_8)"
      ],
      "execution_count": 155,
      "outputs": [
        {
          "output_type": "execute_result",
          "data": {
            "image/png": "[encoded data removed]",
            "text/plain": [
              "<IPython.core.display.Image object>"
            ]
          },
          "metadata": {},
          "execution_count": 155
        }
      ]
    },
    {
      "cell_type": "code",
      "metadata": {
        "id": "EG9Hsp9-ESCh"
      },
      "source": [
        "# Compile token char model\n",
        "model_8.compile(loss=\"categorical_crossentropy\",\n",
        "                optimizer=\"Adam\",\n",
        "                metrics=[\"accuracy\"])"
      ],
      "execution_count": 156,
      "outputs": []
    },
    {
      "cell_type": "code",
      "metadata": {
        "id": "TuPzyzXJER_n",
        "colab": {
          "base_uri": "https://localhost:8080/"
        },
        "outputId": "612cf2ff-553a-4760-ccaa-9659c6d91271"
      },
      "source": [
        "# Fit the model\n",
        "history_model_8 = model_8.fit(train_char_token_dataset,\n",
        "                              epochs=5,\n",
        "                              validation_data=val_char_token_dataset)"
      ],
      "execution_count": 157,
      "outputs": [
        {
          "output_type": "stream",
          "name": "stdout",
          "text": [
            "Epoch 1/5\n",
            "500/500 [==============================] - 149s 279ms/step - loss: 1.1188 - accuracy: 0.5913 - val_loss: 0.7112 - val_accuracy: 0.7495\n",
            "Epoch 2/5\n",
            "500/500 [==============================] - 138s 276ms/step - loss: 0.3314 - accuracy: 0.8896 - val_loss: 0.6707 - val_accuracy: 0.7870\n",
            "Epoch 3/5\n",
            "500/500 [==============================] - 138s 276ms/step - loss: 0.0884 - accuracy: 0.9746 - val_loss: 0.8422 - val_accuracy: 0.8005\n",
            "Epoch 4/5\n",
            "500/500 [==============================] - 138s 276ms/step - loss: 0.0387 - accuracy: 0.9907 - val_loss: 0.8583 - val_accuracy: 0.8000\n",
            "Epoch 5/5\n",
            "500/500 [==============================] - 138s 276ms/step - loss: 0.0240 - accuracy: 0.9951 - val_loss: 0.8683 - val_accuracy: 0.8055\n"
          ]
        }
      ]
    },
    {
      "cell_type": "code",
      "metadata": {
        "id": "utc2GgBcER8i",
        "colab": {
          "base_uri": "https://localhost:8080/"
        },
        "outputId": "945c9521-0e0f-4239-f382-0c7c1b0da192"
      },
      "source": [
        "# Evaluate model on test_char_token_dataset\n",
        "model_8.evaluate(test_char_token_dataset)"
      ],
      "execution_count": 158,
      "outputs": [
        {
          "output_type": "stream",
          "name": "stdout",
          "text": [
            "63/63 [==============================] - 2s 39ms/step - loss: 0.9570 - accuracy: 0.7855\n"
          ]
        },
        {
          "output_type": "execute_result",
          "data": {
            "text/plain": [
              "[0.9569905996322632, 0.7854999899864197]"
            ]
          },
          "metadata": {},
          "execution_count": 158
        }
      ]
    },
    {
      "cell_type": "code",
      "metadata": {
        "id": "NMH0IbtIER5y",
        "colab": {
          "base_uri": "https://localhost:8080/"
        },
        "outputId": "fc096f62-52e8-49ce-bc3c-84e443e37ba8"
      },
      "source": [
        "# Make predictions \n",
        "model_8_pred_probs = model_8.predict(test_char_token_dataset)\n",
        "model_8_pred_probs[:10]"
      ],
      "execution_count": 159,
      "outputs": [
        {
          "output_type": "execute_result",
          "data": {
            "text/plain": [
              "array([[4.63627948e-05, 6.06688664e-05, 1.13488655e-04, 2.70008883e-07,\n",
              "        9.99779046e-01, 1.32420453e-07],\n",
              "       [1.34293236e-06, 2.88507266e-07, 5.82535733e-07, 5.53314949e-09,\n",
              "        9.99997735e-01, 2.09337969e-09],\n",
              "       [8.61979861e-05, 1.20385539e-05, 1.66007703e-05, 1.17180969e-06,\n",
              "        9.99883771e-01, 2.47412771e-07],\n",
              "       [6.18249430e-07, 7.63727428e-07, 9.44153011e-01, 5.58232479e-02,\n",
              "        2.09311420e-05, 1.42599549e-06],\n",
              "       [7.89353908e-06, 4.03598960e-07, 1.24134669e-06, 4.75000306e-08,\n",
              "        9.99990463e-01, 1.02690763e-08],\n",
              "       [2.16121243e-05, 9.99879003e-01, 4.27492196e-05, 5.44456107e-08,\n",
              "        2.10938524e-05, 3.55272823e-05],\n",
              "       [9.98032749e-01, 4.95516986e-04, 3.27029375e-05, 4.84182165e-05,\n",
              "        1.37891131e-03, 1.16756355e-05],\n",
              "       [4.43536992e-05, 2.19150206e-05, 3.61394495e-01, 6.38373017e-01,\n",
              "        7.09402375e-05, 9.53147901e-05],\n",
              "       [1.89278420e-04, 3.35298210e-01, 6.51308954e-01, 1.22884766e-03,\n",
              "        4.10440000e-04, 1.15642790e-02],\n",
              "       [1.34825818e-02, 5.75630344e-04, 4.23605978e-01, 1.63342670e-01,\n",
              "        3.98449272e-01, 5.43828763e-04]], dtype=float32)"
            ]
          },
          "metadata": {},
          "execution_count": 159
        }
      ]
    },
    {
      "cell_type": "code",
      "metadata": {
        "id": "7R9hpDh9ER20",
        "colab": {
          "base_uri": "https://localhost:8080/"
        },
        "outputId": "a4f3aa7f-dced-492e-af65-1111fd08af62"
      },
      "source": [
        "# Convert model_7_pred_probs to labels\n",
        "model_8_preds = tf.argmax(model_8_pred_probs, axis=1)\n",
        "model_8_preds"
      ],
      "execution_count": 160,
      "outputs": [
        {
          "output_type": "execute_result",
          "data": {
            "text/plain": [
              "<tf.Tensor: shape=(2000,), dtype=int64, numpy=array([4, 4, 4, ..., 2, 2, 5])>"
            ]
          },
          "metadata": {},
          "execution_count": 160
        }
      ]
    },
    {
      "cell_type": "code",
      "metadata": {
        "id": "dXwF0KZQER0C",
        "colab": {
          "base_uri": "https://localhost:8080/"
        },
        "outputId": "5ba7d2a8-89a5-4934-92de-adacbb3976d4"
      },
      "source": [
        "# Turn prediction probabilities into prediction classes\n",
        "model_8_preds = tf.argmax(model_8_pred_probs, axis=1)\n",
        "model_8_preds"
      ],
      "execution_count": 161,
      "outputs": [
        {
          "output_type": "execute_result",
          "data": {
            "text/plain": [
              "<tf.Tensor: shape=(2000,), dtype=int64, numpy=array([4, 4, 4, ..., 2, 2, 5])>"
            ]
          },
          "metadata": {},
          "execution_count": 161
        }
      ]
    },
    {
      "cell_type": "code",
      "metadata": {
        "id": "Mt7aj8rvEQ3M",
        "colab": {
          "base_uri": "https://localhost:8080/"
        },
        "outputId": "aefd39a6-ec1c-4829-ca18-642c312322dc"
      },
      "source": [
        "# Get results of token-char-hybrid model\n",
        "model_8_results = calculate_results(y_true=test_labels_encoded,\n",
        "                                    y_pred=model_8_preds)\n",
        "model_8_results"
      ],
      "execution_count": 164,
      "outputs": [
        {
          "output_type": "execute_result",
          "data": {
            "text/plain": [
              "{'accuracy': 78.55,\n",
              " 'f1': 0.7904587047755123,\n",
              " 'precision': 0.805523201171371,\n",
              " 'recall': 0.7855}"
            ]
          },
          "metadata": {},
          "execution_count": 164
        }
      ]
    },
    {
      "cell_type": "code",
      "metadata": {
        "id": "0_erjxguXjCu",
        "colab": {
          "base_uri": "https://localhost:8080/",
          "height": 573
        },
        "outputId": "45471b97-4430-4c84-c6c0-12f342b6099f"
      },
      "source": [
        "plot_loss_curves(history_model_8)"
      ],
      "execution_count": 163,
      "outputs": [
        {
          "output_type": "display_data",
          "data": {
            "image/png": "[encoded data removed]",
            "text/plain": [
              "<Figure size 432x288 with 1 Axes>"
            ]
          },
          "metadata": {
            "needs_background": "light"
          }
        },
        {
          "output_type": "display_data",
          "data": {
            "image/png": "[encoded data removed]",
            "text/plain": [
              "<Figure size 432x288 with 1 Axes>"
            ]
          },
          "metadata": {
            "needs_background": "light"
          }
        }
      ]
    },
    {
      "cell_type": "code",
      "metadata": {
        "id": "MQuXga5dXjAE",
        "colab": {
          "base_uri": "https://localhost:8080/"
        },
        "outputId": "2c090139-9afc-4e82-d0a7-3f29cfff1536"
      },
      "source": [
        "# Compare model_7's results with model_8's results\n",
        "compare_results(old_model_results=model_7_results, \n",
        "                new_model_results=model_8_results)"
      ],
      "execution_count": 165,
      "outputs": [
        {
          "output_type": "stream",
          "name": "stdout",
          "text": [
            "Old accuracy: 66.05, New accuracy: 78.55, Difference: 12.50\n",
            "Old precision: 0.66, New precision: 0.81, Difference: 0.15\n",
            "Old recall: 0.66, New recall: 0.79, Difference: 0.12\n",
            "Old f1: 0.65, New f1: 0.79, Difference: 0.14\n"
          ]
        }
      ]
    },
    {
      "cell_type": "markdown",
      "metadata": {
        "id": "sSIPWFhJXi9d"
      },
      "source": [
        "Comparing the performance of each of our models"
      ]
    },
    {
      "cell_type": "code",
      "metadata": {
        "id": "OPcaGTYyXi7K"
      },
      "source": [
        "# Combine model results into a DataFrame\n",
        "all_model_results = pd.DataFrame({\"0_baseline\": baseline_results,\n",
        "                                  \"1_conv1d\": model_1_results,\n",
        "                                  \"2_lstm\": model_2_results,\n",
        "                                  \"3_gru\": model_3_results,\n",
        "                                  \"4_bidirectional_lstm\": model_4_results,\n",
        "                                  \"5_tf_hub_use_encoder\": model_5_results,\n",
        "                                  \"6_conv1D_char_embedding\": model_6_results,\n",
        "                                  \"7_token_char_embedding\": model_7_results,\n",
        "                                  \"8_trained_token_and_char_embeddings\": model_8_results})\n",
        "all_model_results = all_model_results.transpose()"
      ],
      "execution_count": 166,
      "outputs": []
    },
    {
      "cell_type": "code",
      "metadata": {
        "id": "wOjAX6wlXi38",
        "colab": {
          "base_uri": "https://localhost:8080/",
          "height": 326
        },
        "outputId": "36997e13-c7de-414a-8ba1-29606be3166d"
      },
      "source": [
        "# Reduce the accuracy to the same scale as other metrics\n",
        "all_model_results[\"accuracy\"] = all_model_results[\"accuracy\"]/100\n",
        "all_model_results"
      ],
      "execution_count": 167,
      "outputs": [
        {
          "output_type": "execute_result",
          "data": {
            "text/html": [
              "<div>\n",
              "<style scoped>\n",
              "    .dataframe tbody tr th:only-of-type {\n",
              "        vertical-align: middle;\n",
              "    }\n",
              "\n",
              "    .dataframe tbody tr th {\n",
              "        vertical-align: top;\n",
              "    }\n",
              "\n",
              "    .dataframe thead th {\n",
              "        text-align: right;\n",
              "    }\n",
              "</style>\n",
              "<table border=\"1\" class=\"dataframe\">\n",
              "  <thead>\n",
              "    <tr style=\"text-align: right;\">\n",
              "      <th></th>\n",
              "      <th>accuracy</th>\n",
              "      <th>precision</th>\n",
              "      <th>recall</th>\n",
              "      <th>f1</th>\n",
              "    </tr>\n",
              "  </thead>\n",
              "  <tbody>\n",
              "    <tr>\n",
              "      <th>0_baseline</th>\n",
              "      <td>0.3315</td>\n",
              "      <td>0.243748</td>\n",
              "      <td>0.3315</td>\n",
              "      <td>0.266659</td>\n",
              "    </tr>\n",
              "    <tr>\n",
              "      <th>1_conv1d</th>\n",
              "      <td>0.8855</td>\n",
              "      <td>0.885975</td>\n",
              "      <td>0.8855</td>\n",
              "      <td>0.885132</td>\n",
              "    </tr>\n",
              "    <tr>\n",
              "      <th>2_lstm</th>\n",
              "      <td>0.9025</td>\n",
              "      <td>0.903768</td>\n",
              "      <td>0.9025</td>\n",
              "      <td>0.902835</td>\n",
              "    </tr>\n",
              "    <tr>\n",
              "      <th>3_gru</th>\n",
              "      <td>0.9095</td>\n",
              "      <td>0.908273</td>\n",
              "      <td>0.9095</td>\n",
              "      <td>0.908065</td>\n",
              "    </tr>\n",
              "    <tr>\n",
              "      <th>4_bidirectional_lstm</th>\n",
              "      <td>0.8960</td>\n",
              "      <td>0.895017</td>\n",
              "      <td>0.8960</td>\n",
              "      <td>0.894357</td>\n",
              "    </tr>\n",
              "    <tr>\n",
              "      <th>5_tf_hub_use_encoder</th>\n",
              "      <td>0.6710</td>\n",
              "      <td>0.665847</td>\n",
              "      <td>0.6710</td>\n",
              "      <td>0.663813</td>\n",
              "    </tr>\n",
              "    <tr>\n",
              "      <th>6_conv1D_char_embedding</th>\n",
              "      <td>0.5225</td>\n",
              "      <td>0.510040</td>\n",
              "      <td>0.5225</td>\n",
              "      <td>0.492655</td>\n",
              "    </tr>\n",
              "    <tr>\n",
              "      <th>7_token_char_embedding</th>\n",
              "      <td>0.6605</td>\n",
              "      <td>0.655344</td>\n",
              "      <td>0.6605</td>\n",
              "      <td>0.651447</td>\n",
              "    </tr>\n",
              "    <tr>\n",
              "      <th>8_trained_token_and_char_embeddings</th>\n",
              "      <td>0.7855</td>\n",
              "      <td>0.805523</td>\n",
              "      <td>0.7855</td>\n",
              "      <td>0.790459</td>\n",
              "    </tr>\n",
              "  </tbody>\n",
              "</table>\n",
              "</div>"
            ],
            "text/plain": [
              "                                     accuracy  precision  recall        f1\n",
              "0_baseline                             0.3315   0.243748  0.3315  0.266659\n",
              "1_conv1d                               0.8855   0.885975  0.8855  0.885132\n",
              "2_lstm                                 0.9025   0.903768  0.9025  0.902835\n",
              "3_gru                                  0.9095   0.908273  0.9095  0.908065\n",
              "4_bidirectional_lstm                   0.8960   0.895017  0.8960  0.894357\n",
              "5_tf_hub_use_encoder                   0.6710   0.665847  0.6710  0.663813\n",
              "6_conv1D_char_embedding                0.5225   0.510040  0.5225  0.492655\n",
              "7_token_char_embedding                 0.6605   0.655344  0.6605  0.651447\n",
              "8_trained_token_and_char_embeddings    0.7855   0.805523  0.7855  0.790459"
            ]
          },
          "metadata": {},
          "execution_count": 167
        }
      ]
    },
    {
      "cell_type": "code",
      "metadata": {
        "id": "OI8xZy1nXi1U",
        "colab": {
          "base_uri": "https://localhost:8080/",
          "height": 616
        },
        "outputId": "a6f6bf05-0211-4261-f0ef-5813bd0cea1c"
      },
      "source": [
        "# Plot and compare all of the model results\n",
        "all_model_results.plot(kind=\"bar\", figsize=(10,7)).legend(bbox_to_anchor=(1.0, 1.0));"
      ],
      "execution_count": 168,
      "outputs": [
        {
          "output_type": "display_data",
          "data": {
            "image/png": "[encoded data removed]",
            "text/plain": [
              "<Figure size 720x504 with 1 Axes>"
            ]
          },
          "metadata": {
            "needs_background": "light"
          }
        }
      ]
    },
    {
      "cell_type": "code",
      "metadata": {
        "id": "DHMQbQEYYZk-",
        "colab": {
          "base_uri": "https://localhost:8080/",
          "height": 616
        },
        "outputId": "ca80f598-f082-417d-96fd-7969ceefa639"
      },
      "source": [
        "# Sort model results by f1-score\n",
        "all_model_results.sort_values(\"f1\", ascending=False)[\"f1\"].plot(kind=\"bar\", figsize=(10,7));"
      ],
      "execution_count": 169,
      "outputs": [
        {
          "output_type": "display_data",
          "data": {
            "image/png": "[encoded data removed]",
            "text/plain": [
              "<Figure size 720x504 with 1 Axes>"
            ]
          },
          "metadata": {
            "needs_background": "light"
          }
        }
      ]
    },
    {
      "cell_type": "markdown",
      "metadata": {
        "id": "09MFEWNpZ8N5"
      },
      "source": [
        "# BERT"
      ]
    },
    {
      "cell_type": "markdown",
      "metadata": {
        "id": "c8gszYbwBDzd"
      },
      "source": [
        "## Model 9: Using Bert as a Tokenizer"
      ]
    },
    {
      "cell_type": "code",
      "metadata": {
        "id": "qb3wdds2A95B",
        "colab": {
          "base_uri": "https://localhost:8080/"
        },
        "outputId": "6d294b9b-9b06-456f-c0e3-7d587061b30c"
      },
      "source": [
        "# Import dependencies\n",
        "!pip install bert-for-tf2\n",
        "import tensorflow_hub as hub"
      ],
      "execution_count": 170,
      "outputs": [
        {
          "output_type": "stream",
          "name": "stdout",
          "text": [
            "Collecting bert-for-tf2\n",
            "  Downloading bert-for-tf2-0.14.9.tar.gz (41 kB)\n",
            "\u001b[?25l\r\u001b[K     |████████                        | 10 kB 28.3 MB/s eta 0:00:01\r\u001b[K     |████████████████                | 20 kB 24.3 MB/s eta 0:00:01\r\u001b[K     |███████████████████████▉        | 30 kB 11.8 MB/s eta 0:00:01\r\u001b[K     |███████████████████████████████▉| 40 kB 9.4 MB/s eta 0:00:01\r\u001b[K     |████████████████████████████████| 41 kB 119 kB/s \n",
            "\u001b[?25hCollecting py-params>=0.9.6\n",
            "  Downloading py-params-0.10.2.tar.gz (7.4 kB)\n",
            "Collecting params-flow>=0.8.0\n",
            "  Downloading params-flow-0.8.2.tar.gz (22 kB)\n",
            "Requirement already satisfied: numpy in /usr/local/lib/python3.7/dist-packages (from params-flow>=0.8.0->bert-for-tf2) (1.19.5)\n",
            "Requirement already satisfied: tqdm in /usr/local/lib/python3.7/dist-packages (from params-flow>=0.8.0->bert-for-tf2) (4.62.3)\n",
            "Building wheels for collected packages: bert-for-tf2, params-flow, py-params\n",
            "  Building wheel for bert-for-tf2 (setup.py) ... \u001b[?25l\u001b[?25hdone\n",
            "  Created wheel for bert-for-tf2: filename=bert_for_tf2-0.14.9-py3-none-any.whl size=30534 sha256=ef173653bc2afa622b210f3f73b5ad303459447d88af9f1501250c059da948c5\n",
            "  Stored in directory: /root/.cache/pip/wheels/47/b6/e5/8c76ec779f54bc5c2f1b57d2200bb9c77616da83873e8acb53\n",
            "  Building wheel for params-flow (setup.py) ... \u001b[?25l\u001b[?25hdone\n",
            "  Created wheel for params-flow: filename=params_flow-0.8.2-py3-none-any.whl size=19473 sha256=b2ded535cea3ec98565923342e2fe791e9e18e6e6f5b3c48613f7fdee0dc3b4f\n",
            "  Stored in directory: /root/.cache/pip/wheels/0e/fc/d2/a44fff33af0f233d7def6e7de413006d57c10e10ad736fe8f5\n",
            "  Building wheel for py-params (setup.py) ... \u001b[?25l\u001b[?25hdone\n",
            "  Created wheel for py-params: filename=py_params-0.10.2-py3-none-any.whl size=7912 sha256=990c7efd3692ba53d290773d009dfe4427b544e7df8a59a75dc34a6843d92d3c\n",
            "  Stored in directory: /root/.cache/pip/wheels/e1/11/67/33cc51bbee127cb8fb2ba549cd29109b2f22da43ddf9969716\n",
            "Successfully built bert-for-tf2 params-flow py-params\n",
            "Installing collected packages: py-params, params-flow, bert-for-tf2\n",
            "Successfully installed bert-for-tf2-0.14.9 params-flow-0.8.2 py-params-0.10.2\n"
          ]
        }
      ]
    },
    {
      "cell_type": "code",
      "metadata": {
        "id": "Ikv-cm4SDhIp"
      },
      "source": [
        "import bert"
      ],
      "execution_count": 171,
      "outputs": []
    },
    {
      "cell_type": "code",
      "metadata": {
        "id": "LH3XZB0zA92p"
      },
      "source": [
        "full_tokenizer = bert.bert_tokenization.FullTokenizer\n",
        "bert_layer = hub.KerasLayer(\"https://tfhub.dev/tensorflow/bert_en_uncased_L-12_H-768_A-12/1\",\n",
        "                            trainable=False)\n",
        "vocab_file = bert_layer.resolved_object.vocab_file.asset_path.numpy()\n",
        "do_lower_case = bert_layer.resolved_object.do_lower_case.numpy()\n",
        "tokenizer = full_tokenizer(vocab_file, do_lower_case)"
      ],
      "execution_count": 172,
      "outputs": []
    },
    {
      "cell_type": "code",
      "metadata": {
        "id": "5J1NgMzJA90F",
        "colab": {
          "base_uri": "https://localhost:8080/"
        },
        "outputId": "e6d4f64c-fc46-484a-af54-7e06fcc84bf4"
      },
      "source": [
        "tokenizer.tokenize(\"my dog loves strawberries.\")"
      ],
      "execution_count": 173,
      "outputs": [
        {
          "output_type": "execute_result",
          "data": {
            "text/plain": [
              "['my', 'dog', 'loves', 'straw', '##berries', '.']"
            ]
          },
          "metadata": {},
          "execution_count": 173
        }
      ]
    },
    {
      "cell_type": "code",
      "metadata": {
        "id": "MRSwQnS3Dwrz",
        "colab": {
          "base_uri": "https://localhost:8080/"
        },
        "outputId": "ce84c5e0-750d-4d07-e5f4-6c83f66f04b0"
      },
      "source": [
        "tokenizer.convert_tokens_to_ids(tokenizer.tokenize(\"my dog loves strawberries.\"))"
      ],
      "execution_count": 174,
      "outputs": [
        {
          "output_type": "execute_result",
          "data": {
            "text/plain": [
              "[2026, 3899, 7459, 13137, 20968, 1012]"
            ]
          },
          "metadata": {},
          "execution_count": 174
        }
      ]
    },
    {
      "cell_type": "code",
      "metadata": {
        "id": "yadb8W__DwpN"
      },
      "source": [
        "def encode_sentence(sentence):\n",
        "  return tokenizer.convert_tokens_to_ids(tokenizer.tokenize(sentence))"
      ],
      "execution_count": 175,
      "outputs": []
    },
    {
      "cell_type": "code",
      "metadata": {
        "id": "S567suMuDwmx"
      },
      "source": [
        "bert_train_sentences = [encode_sentence(sentence) for sentence in train_sentences]\n",
        "bert_val_sentences = [encode_sentence(sentence) for sentence in val_sentences]\n",
        "bert_test_sentences = [encode_sentence(sentence) for sentence in test_sentences]"
      ],
      "execution_count": 176,
      "outputs": []
    },
    {
      "cell_type": "code",
      "metadata": {
        "id": "c_B7cmIiPUFq",
        "colab": {
          "base_uri": "https://localhost:8080/"
        },
        "outputId": "4e7fa728-32ef-44a1-813a-9ebd3bb981f9"
      },
      "source": [
        "bert_train_sentences[0]"
      ],
      "execution_count": 177,
      "outputs": [
        {
          "output_type": "execute_result",
          "data": {
            "text/plain": [
              "[1045, 2134, 2102, 2514, 26608]"
            ]
          },
          "metadata": {},
          "execution_count": 177
        }
      ]
    },
    {
      "cell_type": "code",
      "metadata": {
        "id": "YbDhDp8hS_iq"
      },
      "source": [
        "def set_sequence_length(my_list, max_seq_len):\n",
        "  for i in range(len(my_list)):\n",
        "    if len(my_list[i]) < max_seq_len:\n",
        "      my_list[i].extend([0] * (max_seq_len - len(my_list[i])))\n",
        "    elif len(my_list[i]) > max_seq_len:\n",
        "      my_list[i] = my_list[i][:max_seq_len]\n",
        "  return my_list"
      ],
      "execution_count": 178,
      "outputs": []
    },
    {
      "cell_type": "code",
      "metadata": {
        "id": "Cvn_fDMyS_gQ",
        "colab": {
          "base_uri": "https://localhost:8080/"
        },
        "outputId": "47bb914e-f381-40c4-f1d2-20eef85457ef"
      },
      "source": [
        "a = [[1,2,3,4,5], [7,8], [9,10,11], [12,13,14]]\n",
        "a = set_sequence_length(a, 3)\n",
        "print(a)"
      ],
      "execution_count": 179,
      "outputs": [
        {
          "output_type": "stream",
          "name": "stdout",
          "text": [
            "[[1, 2, 3], [7, 8, 0], [9, 10, 11], [12, 13, 14]]\n"
          ]
        }
      ]
    },
    {
      "cell_type": "code",
      "metadata": {
        "id": "YJlOIjQgS_dn"
      },
      "source": [
        "bert_train_sentences_len_equaled = set_sequence_length(bert_train_sentences, output_seq_len)\n",
        "bert_val_sentences_len_equaled = set_sequence_length(bert_val_sentences, output_seq_len)\n",
        "bert_test_sentences_len_equaled = set_sequence_length(bert_test_sentences, output_seq_len)"
      ],
      "execution_count": 180,
      "outputs": []
    },
    {
      "cell_type": "code",
      "metadata": {
        "id": "KdxJvPmTKyEf"
      },
      "source": [
        "# Turn our data into TensorFlow Datasets\n",
        "bert_train_dataset = tf.data.Dataset.from_tensor_slices((bert_train_sentences_len_equaled, train_labels_one_hot))\n",
        "bert_val_dataset = tf.data.Dataset.from_tensor_slices((bert_val_sentences_len_equaled, val_labels_one_hot))\n",
        "bert_test_dataset = tf.data.Dataset.from_tensor_slices((bert_test_sentences_len_equaled, test_labels_one_hot))"
      ],
      "execution_count": 181,
      "outputs": []
    },
    {
      "cell_type": "code",
      "metadata": {
        "id": "u_q5Rx2il_ex",
        "colab": {
          "base_uri": "https://localhost:8080/"
        },
        "outputId": "4ae53219-e009-4e6b-c772-d6392f43cfab"
      },
      "source": [
        "bert_train_dataset"
      ],
      "execution_count": 182,
      "outputs": [
        {
          "output_type": "execute_result",
          "data": {
            "text/plain": [
              "<TensorSliceDataset shapes: ((41,), (6,)), types: (tf.int32, tf.float64)>"
            ]
          },
          "metadata": {},
          "execution_count": 182
        }
      ]
    },
    {
      "cell_type": "code",
      "metadata": {
        "id": "lZqgP-sDKyAi",
        "colab": {
          "base_uri": "https://localhost:8080/"
        },
        "outputId": "5032eac9-dc94-4495-d2c0-5830cfcffced"
      },
      "source": [
        "# Take the TensorSliceDataset's and turn them into prefetched datasets\n",
        "bert_train_dataset = bert_train_dataset.batch(32).prefetch(tf.data.AUTOTUNE)\n",
        "bert_val_dataset = bert_val_dataset.batch(32).prefetch(tf.data.AUTOTUNE)\n",
        "bert_test_dataset = bert_test_dataset.batch(32).prefetch(tf.data.AUTOTUNE)\n",
        "\n",
        "bert_train_dataset"
      ],
      "execution_count": 183,
      "outputs": [
        {
          "output_type": "execute_result",
          "data": {
            "text/plain": [
              "<PrefetchDataset shapes: ((None, 41), (None, 6)), types: (tf.int32, tf.float64)>"
            ]
          },
          "metadata": {},
          "execution_count": 183
        }
      ]
    },
    {
      "cell_type": "code",
      "metadata": {
        "id": "CN0cbq57Kx8_"
      },
      "source": [
        "# Create an embedding layer (new embedding layer for each model)\n",
        "from tensorflow.keras import layers\n",
        "model_9_embedding = layers.Embedding(input_dim=len(text_vocab),\n",
        "                                     output_dim=128,\n",
        "                                     mask_zero=True,\n",
        "                                     name=\"embedding_9\")\n",
        "# Create the model \n",
        "inputs = layers.Input(shape=(1,), dtype=tf.int32)\n",
        "x = model_9_embedding(inputs)\n",
        "#x = layers.Conv1D(16, kernel_size=1, padding=\"valid\", activation=\"relu\")(x)\n",
        "x = layers.LSTM(24)(x)\n",
        "x = layers.Dropout(0.5)(x)\n",
        "x = layers.Dense(16, activation=\"relu\")(x)\n",
        "outputs = layers.Dense(num_classes, activation=\"softmax\")(x)\n",
        "model_9 = tf.keras.Model(inputs, outputs, name=\"model_9_BERT_Tokenizer\")"
      ],
      "execution_count": 184,
      "outputs": []
    },
    {
      "cell_type": "code",
      "metadata": {
        "id": "lbFiYPDYKx3z",
        "colab": {
          "base_uri": "https://localhost:8080/"
        },
        "outputId": "5c21c60f-68d7-4184-8fce-ae3edb97da83"
      },
      "source": [
        "model_9.summary()"
      ],
      "execution_count": 185,
      "outputs": [
        {
          "output_type": "stream",
          "name": "stdout",
          "text": [
            "Model: \"model_9_BERT_Tokenizer\"\n",
            "_________________________________________________________________\n",
            "Layer (type)                 Output Shape              Param #   \n",
            "=================================================================\n",
            "input_8 (InputLayer)         [(None, 1)]               0         \n",
            "_________________________________________________________________\n",
            "embedding_9 (Embedding)      (None, 1, 128)            1945600   \n",
            "_________________________________________________________________\n",
            "lstm_5 (LSTM)                (None, 24)                14688     \n",
            "_________________________________________________________________\n",
            "dropout_4 (Dropout)          (None, 24)                0         \n",
            "_________________________________________________________________\n",
            "dense_16 (Dense)             (None, 16)                400       \n",
            "_________________________________________________________________\n",
            "dense_17 (Dense)             (None, 6)                 102       \n",
            "=================================================================\n",
            "Total params: 1,960,790\n",
            "Trainable params: 1,960,790\n",
            "Non-trainable params: 0\n",
            "_________________________________________________________________\n"
          ]
        }
      ]
    },
    {
      "cell_type": "code",
      "metadata": {
        "id": "Z_5oCvh-Kx0U"
      },
      "source": [
        "# Compile the model\n",
        "model_9.compile(loss=\"categorical_crossentropy\",\n",
        "                optimizer=\"Adam\",\n",
        "                metrics=[\"accuracy\"])"
      ],
      "execution_count": 186,
      "outputs": []
    },
    {
      "cell_type": "code",
      "metadata": {
        "id": "akGjBF5209Sg"
      },
      "source": [
        "tf.config.run_functions_eagerly(True)"
      ],
      "execution_count": 187,
      "outputs": []
    },
    {
      "cell_type": "code",
      "metadata": {
        "id": "eDwXAzhJA9t7",
        "colab": {
          "base_uri": "https://localhost:8080/"
        },
        "outputId": "ed43ec1c-6058-4745-a9ad-22d17cc173bd"
      },
      "source": [
        "# Fit the model\n",
        "history_model_9 = model_9.fit(bert_train_dataset,\n",
        "                              epochs=5,\n",
        "                              validation_data=bert_val_dataset)"
      ],
      "execution_count": 188,
      "outputs": [
        {
          "output_type": "stream",
          "name": "stdout",
          "text": [
            "Epoch 1/5\n",
            "500/500 [==============================] - 21s 43ms/step - loss: 1.4124 - accuracy: 0.4287 - val_loss: 1.1380 - val_accuracy: 0.5905\n",
            "Epoch 2/5\n",
            "500/500 [==============================] - 21s 43ms/step - loss: 0.9640 - accuracy: 0.6553 - val_loss: 0.9651 - val_accuracy: 0.6510\n",
            "Epoch 3/5\n",
            "500/500 [==============================] - 21s 43ms/step - loss: 0.7308 - accuracy: 0.7359 - val_loss: 0.8766 - val_accuracy: 0.6965\n",
            "Epoch 4/5\n",
            "500/500 [==============================] - 22s 43ms/step - loss: 0.5533 - accuracy: 0.8122 - val_loss: 0.8980 - val_accuracy: 0.7330\n",
            "Epoch 5/5\n",
            "500/500 [==============================] - 22s 43ms/step - loss: 0.4340 - accuracy: 0.8580 - val_loss: 0.9504 - val_accuracy: 0.7435\n"
          ]
        }
      ]
    }
  ]
}